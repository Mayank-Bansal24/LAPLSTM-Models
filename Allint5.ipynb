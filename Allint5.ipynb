{
  "nbformat": 4,
  "nbformat_minor": 0,
  "metadata": {
    "colab": {
      "provenance": [],
      "include_colab_link": true
    },
    "kernelspec": {
      "name": "python3",
      "display_name": "Python 3"
    },
    "language_info": {
      "name": "python"
    },
    "accelerator": "GPU",
    "gpuClass": "standard"
  },
  "cells": [
    {
      "cell_type": "markdown",
      "metadata": {
        "id": "view-in-github",
        "colab_type": "text"
      },
      "source": [
        "<a href=\"https://colab.research.google.com/github/Mayank-Bansal24/LAPLSTM-Models/blob/main/Allint5.ipynb\" target=\"_parent\"><img src=\"https://colab.research.google.com/assets/colab-badge.svg\" alt=\"Open In Colab\"/></a>"
      ]
    },
    {
      "cell_type": "code",
      "source": [
        "import numpy as np\n",
        "import tensorflow as tf\n",
        "from tensorflow.keras import losses as lo_ss\n",
        "from tensorflow.keras.models import Sequential\n",
        "from tensorflow.keras.layers import LSTM\n",
        "from tensorflow.keras.layers import Dense, Dropout\n",
        "import string\n",
        "import pandas as pd\n",
        "from matplotlib import pyplot as plt\n",
        "from sklearn.preprocessing import StandardScaler\n",
        "import seaborn as sns\n",
        "from sklearn import model_selection\n",
        "from sklearn.datasets import make_classification\n",
        "from sklearn.utils import class_weight\n",
        "from sklearn.metrics import classification_report , roc_auc_score\n",
        "import keras \n",
        "import keras.backend as K\n",
        "from google.colab import drive\n",
        "from numpy import savetxt"
      ],
      "metadata": {
        "id": "V1kLUX7gJ3N_"
      },
      "execution_count": 185,
      "outputs": []
    },
    {
      "cell_type": "code",
      "source": [
        "drive.mount('/content/gdrive')\n"
      ],
      "metadata": {
        "colab": {
          "base_uri": "https://localhost:8080/"
        },
        "id": "HXmXAIAJArT2",
        "outputId": "c7529d63-7a33-4eb9-9e79-d6448be4cdb2"
      },
      "execution_count": 186,
      "outputs": [
        {
          "output_type": "stream",
          "name": "stdout",
          "text": [
            "Drive already mounted at /content/gdrive; to attempt to forcibly remount, call drive.mount(\"/content/gdrive\", force_remount=True).\n"
          ]
        }
      ]
    },
    {
      "cell_type": "code",
      "source": [
        "t=5"
      ],
      "metadata": {
        "id": "uLTug-YJDW8D"
      },
      "execution_count": 187,
      "outputs": []
    },
    {
      "cell_type": "code",
      "source": [
        "os.chdir('/content/gdrive/MyDrive/laplstm/allin/t'+str(t))"
      ],
      "metadata": {
        "id": "ubPkwGQnA8Wx"
      },
      "execution_count": 188,
      "outputs": []
    },
    {
      "cell_type": "code",
      "source": [
        "import os\n",
        "github_raw_link=\"https://raw.githubusercontent.com/Aryansh085/LAP/main/858417d1-7d54-4115-a01b-fdda5e03ada3_testing_combined_rows4035_disc_1_0p9_MULTIPLY_preproces_155cols.csv\"\n",
        "df1=pd.read_csv((github_raw_link),header = None)\n",
        "dftemp=np.array(df1)\n",
        "dftemp.shape\n",
        "dftemp2=dftemp[:,5:]\n",
        "dftemp2=np.array(dftemp2)\n",
        "print(dftemp2.shape)"
      ],
      "metadata": {
        "id": "3UWvhrydJ8hA",
        "colab": {
          "base_uri": "https://localhost:8080/"
        },
        "outputId": "bb7d60ab-b729-4b94-ee72-2e951ef9ce9c"
      },
      "execution_count": 189,
      "outputs": [
        {
          "output_type": "stream",
          "name": "stdout",
          "text": [
            "(4035, 150)\n"
          ]
        }
      ]
    },
    {
      "cell_type": "code",
      "source": [
        "# dftemp2\n",
        "dftemp2.shape\n",
        "# dftemp2=pd.DataFrame(dftemp2)\n",
        "# dftemp2.head()"
      ],
      "metadata": {
        "colab": {
          "base_uri": "https://localhost:8080/"
        },
        "id": "h00YSxPn8rUk",
        "outputId": "4c562e32-41e3-44df-8f1e-65315e44f96a"
      },
      "execution_count": 190,
      "outputs": [
        {
          "output_type": "execute_result",
          "data": {
            "text/plain": [
              "(4035, 150)"
            ]
          },
          "metadata": {},
          "execution_count": 190
        }
      ]
    },
    {
      "cell_type": "markdown",
      "source": [
        "--> muliply the reward of that instance into the loss of that instance to give weight"
      ],
      "metadata": {
        "id": "pPfqIsthYP2X"
      }
    },
    {
      "cell_type": "code",
      "source": [
        "from sklearn.preprocessing import StandardScaler\n",
        "\n",
        "slr=StandardScaler()\n",
        "slr.fit(dftemp2)\n",
        "dftemp2 = slr.transform(dftemp2)"
      ],
      "metadata": {
        "id": "kWYAqDfnO_1i"
      },
      "execution_count": 191,
      "outputs": []
    },
    {
      "cell_type": "code",
      "source": [
        "# f1-score function\n",
        "def get_f1(y_true, y_pred): #taken from old keras source code\n",
        "    true_positives = K.sum(K.round(K.clip(y_true * y_pred, 0, 1)))\n",
        "    possible_positives = K.sum(K.round(K.clip(y_true, 0, 1)))\n",
        "    predicted_positives = K.sum(K.round(K.clip(y_pred, 0, 1)))\n",
        "    precision = true_positives / (predicted_positives + K.epsilon())\n",
        "    recall = true_positives / (possible_positives + K.epsilon())\n",
        "    f1_val = 2*(precision*recall)/(precision+recall+K.epsilon())\n",
        "    return f1_val\n",
        "    "
      ],
      "metadata": {
        "id": "4i-6LDL58GyW"
      },
      "execution_count": 192,
      "outputs": []
    },
    {
      "cell_type": "code",
      "source": [],
      "metadata": {
        "id": "83zizsyvKHzh"
      },
      "execution_count": 192,
      "outputs": []
    },
    {
      "cell_type": "code",
      "source": [
        "y=np.array(dftemp[:,0])\n",
        "print(y)\n",
        "y_new=y[t:]\n",
        "y_new.shape\n"
      ],
      "metadata": {
        "colab": {
          "base_uri": "https://localhost:8080/"
        },
        "id": "XmXnkjOiKIGQ",
        "outputId": "22f00d8c-8b4d-4623-d6dd-56669d1d36d1"
      },
      "execution_count": 193,
      "outputs": [
        {
          "output_type": "stream",
          "name": "stdout",
          "text": [
            "[2. 0. 0. ... 0. 2. 2.]\n"
          ]
        },
        {
          "output_type": "execute_result",
          "data": {
            "text/plain": [
              "(4030,)"
            ]
          },
          "metadata": {},
          "execution_count": 193
        }
      ]
    },
    {
      "cell_type": "code",
      "source": [
        "x=np.array(dftemp2)\n",
        "# print(x)\n",
        "# print(x.shape)\n",
        "x.shape,y_new.shape"
      ],
      "metadata": {
        "colab": {
          "base_uri": "https://localhost:8080/"
        },
        "id": "3JPzLQQmKhZk",
        "outputId": "cfe65580-47d3-4c64-85bf-a943db6160d6"
      },
      "execution_count": 194,
      "outputs": [
        {
          "output_type": "execute_result",
          "data": {
            "text/plain": [
              "((4035, 150), (4030,))"
            ]
          },
          "metadata": {},
          "execution_count": 194
        }
      ]
    },
    {
      "cell_type": "code",
      "source": [
        "x_3d=[]\n",
        "for i in range(4035-t):\n",
        "  tmp=[]\n",
        "  for j in range(t):\n",
        "    tmp.append(x[j+i])\n",
        "  x_3d.append(tmp)\n",
        "x_3d= np.array(x_3d)\n",
        "x_3d.shape"
      ],
      "metadata": {
        "colab": {
          "base_uri": "https://localhost:8080/"
        },
        "id": "hdDY6fhENZ2-",
        "outputId": "47bbd033-bf22-4e20-919f-537d94bc805d"
      },
      "execution_count": 195,
      "outputs": [
        {
          "output_type": "execute_result",
          "data": {
            "text/plain": [
              "(4030, 5, 150)"
            ]
          },
          "metadata": {},
          "execution_count": 195
        }
      ]
    },
    {
      "cell_type": "code",
      "source": [
        "train_test_ratio=0.8\n",
        "print(x_3d.shape[0])\n",
        "x_train=[]\n",
        "y_train=[]\n",
        "x_test=[]\n",
        "y_test=[]\n",
        "for i in range(x_3d.shape[0]):\n",
        "  l=[]\n",
        "  ly=[]\n",
        "  no=np.random.randint(100)\n",
        "  if(no<80):\n",
        "    l=x_3d[i]\n",
        "    ly=y_new[i]\n",
        "    x_train.append(l)\n",
        "    y_train.append(ly)\n",
        "  else:\n",
        "    l=x_3d[i]\n",
        "    ly=y_new[i]\n",
        "    x_test.append(l)\n",
        "    y_test.append(ly)\n",
        "\n",
        "\n",
        "x_train=np.array(x_train)\n",
        "y_train=np.array(y_train)\n",
        "x_test=np.array(x_test)\n",
        "y_test=np.array(y_test)\n",
        "x_train.shape,y_train.shape,x_test.shape,y_test.shape"
      ],
      "metadata": {
        "colab": {
          "base_uri": "https://localhost:8080/"
        },
        "id": "AwnZ3Mh1Khi8",
        "outputId": "f9635fa9-949a-4f5b-aaf5-6c26a3eee2a1"
      },
      "execution_count": 196,
      "outputs": [
        {
          "output_type": "stream",
          "name": "stdout",
          "text": [
            "4030\n"
          ]
        },
        {
          "output_type": "execute_result",
          "data": {
            "text/plain": [
              "((3221, 5, 150), (3221,), (809, 5, 150), (809,))"
            ]
          },
          "metadata": {},
          "execution_count": 196
        }
      ]
    },
    {
      "cell_type": "code",
      "source": [
        "cnt0=0\n",
        "cnt1=0\n",
        "cnt2=0\n",
        "for i in range(x_train.shape[0]):\n",
        "  if(y_train[i]==0):\n",
        "    cnt0+=1\n",
        "  elif(y_train[i]==1):\n",
        "    cnt1+=1\n",
        "  elif(y_train[i]==2):\n",
        "    cnt2+=1\n",
        "print(cnt0)\n",
        "print(cnt1)\n",
        "print(cnt2)  "
      ],
      "metadata": {
        "colab": {
          "base_uri": "https://localhost:8080/"
        },
        "id": "xlijLVYecmcq",
        "outputId": "adc463a7-858b-4b54-ebf2-279a6946e9e4"
      },
      "execution_count": 197,
      "outputs": [
        {
          "output_type": "stream",
          "name": "stdout",
          "text": [
            "1449\n",
            "851\n",
            "921\n"
          ]
        }
      ]
    },
    {
      "cell_type": "code",
      "source": [
        "x_train_1=[]\n",
        "y_train_1=[]\n",
        "c1=0\n",
        "c2=0\n",
        "c3=0\n",
        "for i in range(x_train.shape[0]):\n",
        "  if(y_train[i]==0):\n",
        "    x_train_1.append(x_train[i])\n",
        "    y_train_1.append(0)\n",
        "    c1+=1\n",
        "  elif(y_train[i]==1):\n",
        "    x_train_1.append(x_train[i])\n",
        "    y_train_1.append(1)\n",
        "    c2+=1\n",
        "  elif(y_train[i]==2 ):\n",
        "    x_train_1.append(x_train[i])\n",
        "    y_train_1.append(2)\n",
        "    c3=c3+1\n",
        "for i in range(x_train.shape[0]):\n",
        "  if(y_train[i]==1):\n",
        "    no=np.random.randint(100)\n",
        "    if(no>=30):\n",
        "      x_train_1.append(x_train[i])\n",
        "      y_train_1.append(1)\n",
        "      c2+=1\n",
        "  elif(y_train[i]==2 ):\n",
        "    no=np.random.randint(100)\n",
        "    if(no>=27):\n",
        "      x_train_1.append(x_train[i])\n",
        "      y_train_1.append(2)\n",
        "      c3+=1\n",
        "\n",
        "y_train=[]\n",
        "y_train=y_train_1\n",
        "x_train=[]\n",
        "x_train=x_train_1\n",
        "x_train=np.array(x_train)\n",
        "y_train=np.array(y_train)\n",
        "print(c1)\n",
        "print(c2)\n",
        "print(c3)"
      ],
      "metadata": {
        "id": "PqOHcbhQcuo8",
        "colab": {
          "base_uri": "https://localhost:8080/"
        },
        "outputId": "a93b80d4-e24f-4f84-9f3e-8cd28303cf09"
      },
      "execution_count": 198,
      "outputs": [
        {
          "output_type": "stream",
          "name": "stdout",
          "text": [
            "1449\n",
            "1454\n",
            "1585\n"
          ]
        }
      ]
    },
    {
      "cell_type": "code",
      "source": [
        "sklearn_weights=class_weight.compute_class_weight(class_weight='balanced',classes=np.unique(y_train),y=y_train)\n",
        "sklearn_weights=dict(zip(np.unique(y_train),sklearn_weights))\n",
        "sklearn_weights"
      ],
      "metadata": {
        "colab": {
          "base_uri": "https://localhost:8080/"
        },
        "id": "EYzwuCcAbDKT",
        "outputId": "350b3e41-e4c8-4644-82f7-c2bd17c20926"
      },
      "execution_count": 199,
      "outputs": [
        {
          "output_type": "execute_result",
          "data": {
            "text/plain": [
              "{0: 1.0324361628709455, 1: 1.0288858321870702, 2: 0.9438485804416403}"
            ]
          },
          "metadata": {},
          "execution_count": 199
        }
      ]
    },
    {
      "cell_type": "code",
      "source": [
        "\n",
        "# model = Sequential()\n",
        "# model.add(LSTM(200, activation='relu', return_sequences=True, input_shape=( t,150,)))\n",
        "# model.add(LSTM(100, activation='relu', return_sequences=True))\n",
        "# model.add(LSTM(50, activation='relu', return_sequences=True))\n",
        "# model.add(LSTM(25, activation='relu'))\n",
        "# model.add(Dense(20, activation='relu'))\n",
        "# model.add(Dense(10, activation='relu'))\n",
        "# model.add(Dense(3))\n",
        "# model.compile(optimizer='SGD', loss='sparse_categorical_crossentropy',metrics=['accuracy'])\n",
        "# history = model.fit(x_train, y_train, epochs=10, validation_split=0.2, verbose=1)\n",
        "# test_output = model.predict(x_test, verbose=1)\n",
        "# # history = model.fit(X, Y, epochs=1000, validation_split=0.2, verbose=1)\n",
        "# # test_output = model.predict(x=, verbose=0)\n",
        "# # print(test_output)"
      ],
      "metadata": {
        "id": "rhgsSos1KIbA"
      },
      "execution_count": 200,
      "outputs": []
    },
    {
      "cell_type": "code",
      "source": [
        "# sklearn_weights={0:1738,1:2348,2:2362}\n",
        "model = Sequential()\n",
        "model.add(LSTM(200, activation='relu', return_sequences=True, input_shape=( t,150,)))\n",
        "model.add(LSTM(400, activation='relu', return_sequences=True))\n",
        "model.add(LSTM(800, activation='relu', return_sequences=True))\n",
        "model.add(LSTM(150, activation='relu'))\n",
        "model.add(Dense(100, activation='relu'))\n",
        "model.add(Dense(64, activation='relu'))\n",
        "model.add(Dense(10, activation='relu'))\n",
        "model.add(Dense(3,activation='sigmoid'))\n",
        "optimi=keras.optimizers.Adam()\n",
        "model.compile(optimizer=optimi, loss='sparse_categorical_crossentropy',metrics=['accuracy',get_f1])\n",
        "\n",
        "# history = model.fit(x_train, y_train, epochs=30, validation_split=0.2, verbose=1)\n",
        "history = model.fit(x_train, y_train, epochs=25, validation_split=0.2, verbose=1,class_weight=sklearn_weights)\n",
        "test_output = model.predict(x_test, verbose=1)\n"
      ],
      "metadata": {
        "colab": {
          "base_uri": "https://localhost:8080/"
        },
        "id": "lwHPGS2iXMXc",
        "outputId": "e1d1476a-7fbb-4ced-ee10-bff897283711"
      },
      "execution_count": 201,
      "outputs": [
        {
          "output_type": "stream",
          "name": "stderr",
          "text": [
            "WARNING:tensorflow:Layer lstm_28 will not use cuDNN kernels since it doesn't meet the criteria. It will use a generic GPU kernel as fallback when running on GPU.\n",
            "WARNING:tensorflow:Layer lstm_29 will not use cuDNN kernels since it doesn't meet the criteria. It will use a generic GPU kernel as fallback when running on GPU.\n",
            "WARNING:tensorflow:Layer lstm_30 will not use cuDNN kernels since it doesn't meet the criteria. It will use a generic GPU kernel as fallback when running on GPU.\n",
            "WARNING:tensorflow:Layer lstm_31 will not use cuDNN kernels since it doesn't meet the criteria. It will use a generic GPU kernel as fallback when running on GPU.\n"
          ]
        },
        {
          "output_type": "stream",
          "name": "stdout",
          "text": [
            "Epoch 1/25\n",
            "113/113 [==============================] - 12s 65ms/step - loss: 1.0837 - accuracy: 0.4036 - get_f1: 1.4784 - val_loss: 1.2032 - val_accuracy: 0.0000e+00 - val_get_f1: 2.1067\n",
            "Epoch 2/25\n",
            "113/113 [==============================] - 6s 50ms/step - loss: 0.9877 - accuracy: 0.4900 - get_f1: 1.4378 - val_loss: 1.1138 - val_accuracy: 0.4454 - val_get_f1: 2.0863\n",
            "Epoch 3/25\n",
            "113/113 [==============================] - 6s 49ms/step - loss: 0.8684 - accuracy: 0.5852 - get_f1: 1.3426 - val_loss: 1.1225 - val_accuracy: 0.4187 - val_get_f1: 1.7104\n",
            "Epoch 4/25\n",
            "113/113 [==============================] - 6s 49ms/step - loss: 0.7863 - accuracy: 0.6242 - get_f1: 1.2096 - val_loss: 0.9884 - val_accuracy: 0.5078 - val_get_f1: 1.6797\n",
            "Epoch 5/25\n",
            "113/113 [==============================] - 6s 50ms/step - loss: 0.7124 - accuracy: 0.7017 - get_f1: 1.1088 - val_loss: 0.8566 - val_accuracy: 0.6615 - val_get_f1: 1.6502\n",
            "Epoch 6/25\n",
            "113/113 [==============================] - 6s 49ms/step - loss: 0.5224 - accuracy: 0.8058 - get_f1: 1.0463 - val_loss: 0.4944 - val_accuracy: 0.8597 - val_get_f1: 1.4822\n",
            "Epoch 7/25\n",
            "113/113 [==============================] - 6s 50ms/step - loss: 0.3817 - accuracy: 0.8632 - get_f1: 0.9352 - val_loss: 0.4994 - val_accuracy: 0.8363 - val_get_f1: 1.5092\n",
            "Epoch 8/25\n",
            "113/113 [==============================] - 6s 50ms/step - loss: 0.2822 - accuracy: 0.8986 - get_f1: 0.8480 - val_loss: 0.1826 - val_accuracy: 0.9521 - val_get_f1: 1.2580\n",
            "Epoch 9/25\n",
            "113/113 [==============================] - 6s 50ms/step - loss: 0.2180 - accuracy: 0.9228 - get_f1: 0.8885 - val_loss: 0.1359 - val_accuracy: 0.9733 - val_get_f1: 1.3099\n",
            "Epoch 10/25\n",
            "113/113 [==============================] - 8s 67ms/step - loss: 0.1787 - accuracy: 0.9429 - get_f1: 0.9719 - val_loss: 0.0902 - val_accuracy: 0.9878 - val_get_f1: 1.2479\n",
            "Epoch 11/25\n",
            "113/113 [==============================] - 6s 49ms/step - loss: 0.1551 - accuracy: 0.9479 - get_f1: 1.0035 - val_loss: 0.1525 - val_accuracy: 0.9566 - val_get_f1: 1.3485\n",
            "Epoch 12/25\n",
            "113/113 [==============================] - 6s 50ms/step - loss: 0.1355 - accuracy: 0.9485 - get_f1: 1.0640 - val_loss: 0.1090 - val_accuracy: 0.9800 - val_get_f1: 1.3379\n",
            "Epoch 13/25\n",
            "113/113 [==============================] - 6s 50ms/step - loss: 0.1146 - accuracy: 0.9607 - get_f1: 1.0527 - val_loss: 0.0599 - val_accuracy: 0.9777 - val_get_f1: 1.3446\n",
            "Epoch 14/25\n",
            "113/113 [==============================] - 6s 50ms/step - loss: 0.1073 - accuracy: 0.9627 - get_f1: 1.0622 - val_loss: 0.1927 - val_accuracy: 0.9610 - val_get_f1: 1.3551\n",
            "Epoch 15/25\n",
            "113/113 [==============================] - 6s 50ms/step - loss: 0.1168 - accuracy: 0.9630 - get_f1: 1.0485 - val_loss: 0.1496 - val_accuracy: 0.9599 - val_get_f1: 1.3367\n",
            "Epoch 16/25\n",
            "113/113 [==============================] - 8s 67ms/step - loss: 0.1236 - accuracy: 0.9674 - get_f1: 1.0573 - val_loss: 0.0241 - val_accuracy: 0.9822 - val_get_f1: 1.3331\n",
            "Epoch 17/25\n",
            "113/113 [==============================] - 6s 52ms/step - loss: 0.0654 - accuracy: 0.9666 - get_f1: 1.0578 - val_loss: 0.0750 - val_accuracy: 0.9833 - val_get_f1: 1.3343\n",
            "Epoch 18/25\n",
            "113/113 [==============================] - 6s 51ms/step - loss: 0.0498 - accuracy: 0.9836 - get_f1: 1.0214 - val_loss: 0.0573 - val_accuracy: 0.9811 - val_get_f1: 1.3357\n",
            "Epoch 19/25\n",
            "113/113 [==============================] - 7s 58ms/step - loss: 0.0435 - accuracy: 0.9802 - get_f1: 1.0760 - val_loss: 0.0277 - val_accuracy: 0.9822 - val_get_f1: 1.3331\n",
            "Epoch 20/25\n",
            "113/113 [==============================] - 7s 59ms/step - loss: 0.0471 - accuracy: 0.9819 - get_f1: 1.0736 - val_loss: 0.0194 - val_accuracy: 0.9744 - val_get_f1: 1.3336\n",
            "Epoch 21/25\n",
            "113/113 [==============================] - 5s 48ms/step - loss: 0.0363 - accuracy: 0.9772 - get_f1: 1.0775 - val_loss: 0.0461 - val_accuracy: 0.9855 - val_get_f1: 1.3326\n",
            "Epoch 22/25\n",
            "113/113 [==============================] - 5s 48ms/step - loss: 0.1145 - accuracy: 0.9635 - get_f1: 1.0366 - val_loss: 0.0441 - val_accuracy: 0.9599 - val_get_f1: 1.3376\n",
            "Epoch 23/25\n",
            "113/113 [==============================] - 5s 48ms/step - loss: 0.0910 - accuracy: 0.9630 - get_f1: 1.0537 - val_loss: 0.0172 - val_accuracy: 0.9666 - val_get_f1: 1.3336\n",
            "Epoch 24/25\n",
            "113/113 [==============================] - 5s 48ms/step - loss: 0.0248 - accuracy: 0.9474 - get_f1: 1.0766 - val_loss: 0.0174 - val_accuracy: 0.9454 - val_get_f1: 1.3362\n",
            "Epoch 25/25\n",
            "113/113 [==============================] - 6s 49ms/step - loss: 0.0853 - accuracy: 0.9783 - get_f1: 1.0764 - val_loss: 0.0340 - val_accuracy: 0.9688 - val_get_f1: 1.3360\n",
            "26/26 [==============================] - 1s 6ms/step\n"
          ]
        }
      ]
    },
    {
      "cell_type": "code",
      "source": [
        "test_output_1=np.array([np.argmax(i)  for i in test_output])\n",
        "from sklearn.metrics import confusion_matrix,accuracy_score\n",
        "print(confusion_matrix(y_test,test_output_1))\n",
        "test_output=pd.DataFrame(test_output)\n",
        "print(accuracy_score(y_test,test_output_1))\n"
      ],
      "metadata": {
        "id": "Q_hmR6MK_Bq5",
        "colab": {
          "base_uri": "https://localhost:8080/"
        },
        "outputId": "c126331d-f4c1-4b30-9966-e1fc8d525e3d"
      },
      "execution_count": 202,
      "outputs": [
        {
          "output_type": "stream",
          "name": "stdout",
          "text": [
            "[[271  43  60]\n",
            " [ 63 134   7]\n",
            " [ 79   8 144]]\n",
            "0.6786155747836835\n"
          ]
        }
      ]
    },
    {
      "cell_type": "code",
      "source": [
        "print(get_f1(y_test.astype('float32'), test_output_1.astype('float32')))"
      ],
      "metadata": {
        "colab": {
          "base_uri": "https://localhost:8080/"
        },
        "id": "ZsHojwC3G8gQ",
        "outputId": "b9d6decd-bc64-4f6a-8ecf-cd1cb81ccac2"
      },
      "execution_count": 203,
      "outputs": [
        {
          "output_type": "stream",
          "name": "stdout",
          "text": [
            "tf.Tensor(0.7051745, shape=(), dtype=float32)\n"
          ]
        }
      ]
    },
    {
      "cell_type": "code",
      "source": [
        "x_train_reshaped = x_train.reshape(x_train.shape[0], -1)\n",
        "x_test_reshaped = x_test.reshape(x_test.shape[0], -1)\n",
        "savetxt('arrxtrain.csv', x_train_reshaped, delimiter=',')\n",
        "savetxt('arrytrain.csv', y_train, delimiter=',')\n",
        "savetxt('arrxtest.csv', x_test_reshaped, delimiter=',')\n",
        "savetxt('arrytest.csv', y_test, delimiter=',')"
      ],
      "metadata": {
        "id": "oxhtZHtkBWOe"
      },
      "execution_count": 204,
      "outputs": []
    }
  ]
}