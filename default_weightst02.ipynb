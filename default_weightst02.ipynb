{
  "nbformat": 4,
  "nbformat_minor": 0,
  "metadata": {
    "colab": {
      "provenance": [],
      "include_colab_link": true
    },
    "kernelspec": {
      "name": "python3",
      "display_name": "Python 3"
    },
    "language_info": {
      "name": "python"
    },
    "accelerator": "GPU",
    "gpuClass": "standard"
  },
  "cells": [
    {
      "cell_type": "markdown",
      "metadata": {
        "id": "view-in-github",
        "colab_type": "text"
      },
      "source": [
        "<a href=\"https://colab.research.google.com/github/Mayank-Bansal24/LAPLSTM-Models/blob/main/default_weightst02.ipynb\" target=\"_parent\"><img src=\"https://colab.research.google.com/assets/colab-badge.svg\" alt=\"Open In Colab\"/></a>"
      ]
    },
    {
      "cell_type": "code",
      "source": [
        "import numpy as np\n",
        "import tensorflow as tf\n",
        "from tensorflow.keras import losses as lo_ss\n",
        "from tensorflow.keras.models import Sequential\n",
        "from tensorflow.keras.layers import LSTM\n",
        "from tensorflow.keras.layers import Dense, Dropout\n",
        "import string\n",
        "import pandas as pd\n",
        "from matplotlib import pyplot as plt\n",
        "from sklearn.preprocessing import StandardScaler\n",
        "import seaborn as sns\n",
        "from sklearn import model_selection\n",
        "from sklearn.datasets import make_classification\n",
        "from sklearn.utils import class_weight\n",
        "from sklearn.metrics import classification_report , roc_auc_score\n",
        "import keras \n",
        "import keras.backend as K\n",
        "from google.colab import drive\n",
        "from numpy import savetxt"
      ],
      "metadata": {
        "id": "V1kLUX7gJ3N_"
      },
      "execution_count": 26,
      "outputs": []
    },
    {
      "cell_type": "code",
      "source": [
        "drive.mount('/content/gdrive')\n"
      ],
      "metadata": {
        "colab": {
          "base_uri": "https://localhost:8080/"
        },
        "id": "HXmXAIAJArT2",
        "outputId": "45151f44-a7a8-4459-a936-92bc043a7506"
      },
      "execution_count": 27,
      "outputs": [
        {
          "output_type": "stream",
          "name": "stdout",
          "text": [
            "Drive already mounted at /content/gdrive; to attempt to forcibly remount, call drive.mount(\"/content/gdrive\", force_remount=True).\n"
          ]
        }
      ]
    },
    {
      "cell_type": "code",
      "source": [
        "t=2"
      ],
      "metadata": {
        "id": "uLTug-YJDW8D"
      },
      "execution_count": 28,
      "outputs": []
    },
    {
      "cell_type": "code",
      "source": [
        "import os\n",
        "os.chdir('/content/gdrive/MyDrive/laplstm/default class weights/t'+str(t))"
      ],
      "metadata": {
        "id": "ubPkwGQnA8Wx"
      },
      "execution_count": 29,
      "outputs": []
    },
    {
      "cell_type": "code",
      "source": [
        "\n",
        "github_raw_link=\"https://raw.githubusercontent.com/Aryansh085/LAP/main/858417d1-7d54-4115-a01b-fdda5e03ada3_testing_combined_rows4035_disc_1_0p9_MULTIPLY_preproces_155cols.csv\"\n",
        "df1=pd.read_csv((github_raw_link),header = None)\n",
        "dftemp=np.array(df1)\n",
        "dftemp.shape\n",
        "dftemp2=dftemp[:,5:]\n",
        "dftemp2=np.array(dftemp2)\n",
        "print(dftemp2.shape)"
      ],
      "metadata": {
        "id": "3UWvhrydJ8hA",
        "colab": {
          "base_uri": "https://localhost:8080/"
        },
        "outputId": "6c9d0b67-c5d3-409e-d590-8455fd384176"
      },
      "execution_count": 30,
      "outputs": [
        {
          "output_type": "stream",
          "name": "stdout",
          "text": [
            "(4035, 150)\n"
          ]
        }
      ]
    },
    {
      "cell_type": "code",
      "source": [
        "# dftemp2\n",
        "dftemp2.shape\n",
        "# dftemp2=pd.DataFrame(dftemp2)\n",
        "# dftemp2.head()"
      ],
      "metadata": {
        "colab": {
          "base_uri": "https://localhost:8080/"
        },
        "id": "h00YSxPn8rUk",
        "outputId": "d07894dd-5d2c-4b67-ca18-ab26fc499794"
      },
      "execution_count": 31,
      "outputs": [
        {
          "output_type": "execute_result",
          "data": {
            "text/plain": [
              "(4035, 150)"
            ]
          },
          "metadata": {},
          "execution_count": 31
        }
      ]
    },
    {
      "cell_type": "markdown",
      "source": [
        "--> muliply the reward of that instance into the loss of that instance to give weight"
      ],
      "metadata": {
        "id": "pPfqIsthYP2X"
      }
    },
    {
      "cell_type": "code",
      "source": [
        "from sklearn.preprocessing import StandardScaler\n",
        "\n",
        "slr=StandardScaler()\n",
        "slr.fit(dftemp2)\n",
        "dftemp2 = slr.transform(dftemp2)"
      ],
      "metadata": {
        "id": "kWYAqDfnO_1i"
      },
      "execution_count": 32,
      "outputs": []
    },
    {
      "cell_type": "code",
      "source": [
        "# f1-score function\n",
        "def get_f1(y_true, y_pred): #taken from old keras source code\n",
        "    true_positives = K.sum(K.round(K.clip(y_true * y_pred, 0, 1)))\n",
        "    possible_positives = K.sum(K.round(K.clip(y_true, 0, 1)))\n",
        "    predicted_positives = K.sum(K.round(K.clip(y_pred, 0, 1)))\n",
        "    precision = true_positives / (predicted_positives + K.epsilon())\n",
        "    recall = true_positives / (possible_positives + K.epsilon())\n",
        "    f1_val = 2*(precision*recall)/(precision+recall+K.epsilon())\n",
        "    return f1_val\n",
        "    "
      ],
      "metadata": {
        "id": "4i-6LDL58GyW"
      },
      "execution_count": 33,
      "outputs": []
    },
    {
      "cell_type": "code",
      "source": [],
      "metadata": {
        "id": "83zizsyvKHzh"
      },
      "execution_count": 33,
      "outputs": []
    },
    {
      "cell_type": "code",
      "source": [
        "y=np.array(dftemp[:,0])\n",
        "print(y)\n",
        "y_new=y[t:]\n",
        "y_new.shape\n"
      ],
      "metadata": {
        "colab": {
          "base_uri": "https://localhost:8080/"
        },
        "id": "XmXnkjOiKIGQ",
        "outputId": "f69d4059-cc08-46c3-be42-2121bc21454d"
      },
      "execution_count": 34,
      "outputs": [
        {
          "output_type": "stream",
          "name": "stdout",
          "text": [
            "[2. 0. 0. ... 0. 2. 2.]\n"
          ]
        },
        {
          "output_type": "execute_result",
          "data": {
            "text/plain": [
              "(4033,)"
            ]
          },
          "metadata": {},
          "execution_count": 34
        }
      ]
    },
    {
      "cell_type": "code",
      "source": [
        "x=np.array(dftemp2)\n",
        "# print(x)\n",
        "# print(x.shape)\n",
        "x.shape,y_new.shape"
      ],
      "metadata": {
        "colab": {
          "base_uri": "https://localhost:8080/"
        },
        "id": "3JPzLQQmKhZk",
        "outputId": "badb5de4-7316-4e5e-cd34-566828db3370"
      },
      "execution_count": 35,
      "outputs": [
        {
          "output_type": "execute_result",
          "data": {
            "text/plain": [
              "((4035, 150), (4033,))"
            ]
          },
          "metadata": {},
          "execution_count": 35
        }
      ]
    },
    {
      "cell_type": "code",
      "source": [
        "x_3d=[]\n",
        "for i in range(4035-t):\n",
        "  tmp=[]\n",
        "  for j in range(t):\n",
        "    tmp.append(x[j+i])\n",
        "  x_3d.append(tmp)\n",
        "x_3d= np.array(x_3d)\n",
        "x_3d.shape"
      ],
      "metadata": {
        "colab": {
          "base_uri": "https://localhost:8080/"
        },
        "id": "hdDY6fhENZ2-",
        "outputId": "d17131f4-760e-43f0-e6a0-130214403a6b"
      },
      "execution_count": 36,
      "outputs": [
        {
          "output_type": "execute_result",
          "data": {
            "text/plain": [
              "(4033, 2, 150)"
            ]
          },
          "metadata": {},
          "execution_count": 36
        }
      ]
    },
    {
      "cell_type": "code",
      "source": [
        "train_test_ratio=0.8\n",
        "print(x_3d.shape[0])\n",
        "x_train=[]\n",
        "y_train=[]\n",
        "x_test=[]\n",
        "y_test=[]\n",
        "for i in range(x_3d.shape[0]):\n",
        "  l=[]\n",
        "  ly=[]\n",
        "  no=np.random.randint(100)\n",
        "  if(no<80):\n",
        "    l=x_3d[i]\n",
        "    ly=y_new[i]\n",
        "    x_train.append(l)\n",
        "    y_train.append(ly)\n",
        "  else:\n",
        "    l=x_3d[i]\n",
        "    ly=y_new[i]\n",
        "    x_test.append(l)\n",
        "    y_test.append(ly)\n",
        "\n",
        "\n",
        "x_train=np.array(x_train)\n",
        "y_train=np.array(y_train)\n",
        "x_test=np.array(x_test)\n",
        "y_test=np.array(y_test)\n",
        "x_train.shape,y_train.shape,x_test.shape,y_test.shape"
      ],
      "metadata": {
        "colab": {
          "base_uri": "https://localhost:8080/"
        },
        "id": "AwnZ3Mh1Khi8",
        "outputId": "350951fd-0e42-45ad-f1ae-4acaff091b8d"
      },
      "execution_count": 37,
      "outputs": [
        {
          "output_type": "stream",
          "name": "stdout",
          "text": [
            "4033\n"
          ]
        },
        {
          "output_type": "execute_result",
          "data": {
            "text/plain": [
              "((3284, 2, 150), (3284,), (749, 2, 150), (749,))"
            ]
          },
          "metadata": {},
          "execution_count": 37
        }
      ]
    },
    {
      "cell_type": "code",
      "source": [
        "cnt0=0\n",
        "cnt1=0\n",
        "cnt2=0\n",
        "for i in range(x_train.shape[0]):\n",
        "  if(y_train[i]==0):\n",
        "    cnt0+=1\n",
        "  elif(y_train[i]==1):\n",
        "    cnt1+=1\n",
        "  elif(y_train[i]==2):\n",
        "    cnt2+=1\n",
        "print(cnt0)\n",
        "print(cnt1)\n",
        "print(cnt2)  "
      ],
      "metadata": {
        "colab": {
          "base_uri": "https://localhost:8080/"
        },
        "id": "xlijLVYecmcq",
        "outputId": "62e3a2a9-4e30-4ebf-f9a6-0255d3414cb9"
      },
      "execution_count": 38,
      "outputs": [
        {
          "output_type": "stream",
          "name": "stdout",
          "text": [
            "1509\n",
            "854\n",
            "921\n"
          ]
        }
      ]
    },
    {
      "cell_type": "code",
      "source": [
        "sklearn_weights=class_weight.compute_class_weight(class_weight='balanced',classes=np.unique(y_train),y=y_train)\n",
        "sklearn_weights=dict(zip(np.unique(y_train),sklearn_weights))\n",
        "sklearn_weights"
      ],
      "metadata": {
        "colab": {
          "base_uri": "https://localhost:8080/"
        },
        "id": "EYzwuCcAbDKT",
        "outputId": "67421a8e-95e5-407e-c744-f0d2c0e85a0e"
      },
      "execution_count": 39,
      "outputs": [
        {
          "output_type": "execute_result",
          "data": {
            "text/plain": [
              "{0.0: 0.7254252264192622, 1.0: 1.2818110850897737, 2.0: 1.1885631559898662}"
            ]
          },
          "metadata": {},
          "execution_count": 39
        }
      ]
    },
    {
      "cell_type": "code",
      "source": [
        "\n",
        "# model = Sequential()\n",
        "# model.add(LSTM(200, activation='relu', return_sequences=True, input_shape=( t,150,)))\n",
        "# model.add(LSTM(100, activation='relu', return_sequences=True))\n",
        "# model.add(LSTM(50, activation='relu', return_sequences=True))\n",
        "# model.add(LSTM(25, activation='relu'))\n",
        "# model.add(Dense(20, activation='relu'))\n",
        "# model.add(Dense(10, activation='relu'))\n",
        "# model.add(Dense(3))\n",
        "# model.compile(optimizer='SGD', loss='sparse_categorical_crossentropy',metrics=['accuracy'])\n",
        "# history = model.fit(x_train, y_train, epochs=10, validation_split=0.2, verbose=1)\n",
        "# test_output = model.predict(x_test, verbose=1)\n",
        "# # history = model.fit(X, Y, epochs=1000, validation_split=0.2, verbose=1)\n",
        "# # test_output = model.predict(x=, verbose=0)\n",
        "# # print(test_output)"
      ],
      "metadata": {
        "id": "rhgsSos1KIbA"
      },
      "execution_count": 40,
      "outputs": []
    },
    {
      "cell_type": "code",
      "source": [
        "# sklearn_weights={0:1738,1:2348,2:2362}\n",
        "model = Sequential()\n",
        "model.add(LSTM(200, activation='relu', return_sequences=True, input_shape=( t,150,)))\n",
        "model.add(LSTM(400, activation='relu', return_sequences=True))\n",
        "model.add(LSTM(800, activation='relu', return_sequences=True))\n",
        "model.add(LSTM(150, activation='relu'))\n",
        "model.add(Dense(100, activation='relu'))\n",
        "model.add(Dense(64, activation='relu'))\n",
        "model.add(Dense(10, activation='relu'))\n",
        "model.add(Dense(3,activation='sigmoid'))\n",
        "optimi=keras.optimizers.Adam()\n",
        "model.compile(optimizer=optimi, loss='sparse_categorical_crossentropy',metrics=['accuracy',get_f1])\n",
        "\n",
        "# history = model.fit(x_train, y_train, epochs=30, validation_split=0.2, verbose=1)\n",
        "history = model.fit(x_train, y_train, epochs=25, validation_split=0.2, verbose=1,class_weight=sklearn_weights)\n",
        "test_output = model.predict(x_test, verbose=1)\n"
      ],
      "metadata": {
        "colab": {
          "base_uri": "https://localhost:8080/"
        },
        "id": "lwHPGS2iXMXc",
        "outputId": "6003bb27-59e2-4f14-c70b-17a8b26e9ab2"
      },
      "execution_count": 41,
      "outputs": [
        {
          "output_type": "stream",
          "name": "stderr",
          "text": [
            "WARNING:tensorflow:Layer lstm_4 will not use cuDNN kernels since it doesn't meet the criteria. It will use a generic GPU kernel as fallback when running on GPU.\n",
            "WARNING:tensorflow:Layer lstm_5 will not use cuDNN kernels since it doesn't meet the criteria. It will use a generic GPU kernel as fallback when running on GPU.\n",
            "WARNING:tensorflow:Layer lstm_6 will not use cuDNN kernels since it doesn't meet the criteria. It will use a generic GPU kernel as fallback when running on GPU.\n",
            "WARNING:tensorflow:Layer lstm_7 will not use cuDNN kernels since it doesn't meet the criteria. It will use a generic GPU kernel as fallback when running on GPU.\n"
          ]
        },
        {
          "output_type": "stream",
          "name": "stdout",
          "text": [
            "Epoch 1/25\n",
            "83/83 [==============================] - 7s 33ms/step - loss: 1.0938 - accuracy: 0.2691 - get_f1: 1.1990 - val_loss: 1.1277 - val_accuracy: 0.2192 - val_get_f1: 1.1618\n",
            "Epoch 2/25\n",
            "83/83 [==============================] - 2s 25ms/step - loss: 1.0521 - accuracy: 0.3989 - get_f1: 1.0441 - val_loss: 1.2049 - val_accuracy: 0.2968 - val_get_f1: 1.1624\n",
            "Epoch 3/25\n",
            "83/83 [==============================] - 2s 26ms/step - loss: 0.9043 - accuracy: 0.5135 - get_f1: 1.0047 - val_loss: 1.3426 - val_accuracy: 0.3059 - val_get_f1: 1.1242\n",
            "Epoch 4/25\n",
            "83/83 [==============================] - 2s 26ms/step - loss: 0.6779 - accuracy: 0.6228 - get_f1: 0.9085 - val_loss: 1.8378 - val_accuracy: 0.3470 - val_get_f1: 0.9969\n",
            "Epoch 5/25\n",
            "83/83 [==============================] - 2s 25ms/step - loss: 0.4615 - accuracy: 0.7530 - get_f1: 0.8631 - val_loss: 2.2070 - val_accuracy: 0.3820 - val_get_f1: 0.9475\n",
            "Epoch 6/25\n",
            "83/83 [==============================] - 4s 44ms/step - loss: 0.4022 - accuracy: 0.8165 - get_f1: 0.8773 - val_loss: 2.0537 - val_accuracy: 0.3836 - val_get_f1: 0.9464\n",
            "Epoch 7/25\n",
            "83/83 [==============================] - 3s 31ms/step - loss: 0.2122 - accuracy: 0.9064 - get_f1: 0.9117 - val_loss: 3.1956 - val_accuracy: 0.3836 - val_get_f1: 0.9276\n",
            "Epoch 8/25\n",
            "83/83 [==============================] - 2s 26ms/step - loss: 0.1910 - accuracy: 0.9197 - get_f1: 0.9290 - val_loss: 3.2853 - val_accuracy: 0.3866 - val_get_f1: 0.9319\n",
            "Epoch 9/25\n",
            "83/83 [==============================] - 2s 25ms/step - loss: 0.0992 - accuracy: 0.9638 - get_f1: 0.9487 - val_loss: 4.5708 - val_accuracy: 0.3988 - val_get_f1: 0.9047\n",
            "Epoch 10/25\n",
            "83/83 [==============================] - 2s 25ms/step - loss: 0.0924 - accuracy: 0.9642 - get_f1: 0.9591 - val_loss: 4.0512 - val_accuracy: 0.3820 - val_get_f1: 0.8961\n",
            "Epoch 11/25\n",
            "83/83 [==============================] - 2s 25ms/step - loss: 0.0801 - accuracy: 0.9741 - get_f1: 0.9729 - val_loss: 4.6148 - val_accuracy: 0.4003 - val_get_f1: 0.9007\n",
            "Epoch 12/25\n",
            "83/83 [==============================] - 2s 26ms/step - loss: 0.0439 - accuracy: 0.9833 - get_f1: 0.9923 - val_loss: 4.7138 - val_accuracy: 0.3973 - val_get_f1: 0.8874\n",
            "Epoch 13/25\n",
            "83/83 [==============================] - 2s 26ms/step - loss: 0.0486 - accuracy: 0.9802 - get_f1: 0.9882 - val_loss: 4.5976 - val_accuracy: 0.3866 - val_get_f1: 0.8882\n",
            "Epoch 14/25\n",
            "83/83 [==============================] - 2s 25ms/step - loss: 0.0427 - accuracy: 0.9840 - get_f1: 0.9962 - val_loss: 4.4821 - val_accuracy: 0.4003 - val_get_f1: 0.8907\n",
            "Epoch 15/25\n",
            "83/83 [==============================] - 2s 26ms/step - loss: 0.0494 - accuracy: 0.9806 - get_f1: 0.9850 - val_loss: 3.9687 - val_accuracy: 0.3866 - val_get_f1: 0.8856\n",
            "Epoch 16/25\n",
            "83/83 [==============================] - 2s 26ms/step - loss: 0.0417 - accuracy: 0.9836 - get_f1: 0.9991 - val_loss: 5.2974 - val_accuracy: 0.3760 - val_get_f1: 0.8540\n",
            "Epoch 17/25\n",
            "83/83 [==============================] - 2s 25ms/step - loss: 0.0317 - accuracy: 0.9855 - get_f1: 1.0011 - val_loss: 4.4890 - val_accuracy: 0.3866 - val_get_f1: 0.8882\n",
            "Epoch 18/25\n",
            "83/83 [==============================] - 2s 26ms/step - loss: 0.0330 - accuracy: 0.9897 - get_f1: 0.9956 - val_loss: 4.2235 - val_accuracy: 0.3896 - val_get_f1: 0.8998\n",
            "Epoch 19/25\n",
            "83/83 [==============================] - 2s 26ms/step - loss: 0.0322 - accuracy: 0.9897 - get_f1: 0.9780 - val_loss: 4.6693 - val_accuracy: 0.3988 - val_get_f1: 0.9019\n",
            "Epoch 20/25\n",
            "83/83 [==============================] - 2s 26ms/step - loss: 0.0329 - accuracy: 0.9931 - get_f1: 0.9902 - val_loss: 5.0304 - val_accuracy: 0.3942 - val_get_f1: 0.9000\n",
            "Epoch 21/25\n",
            "83/83 [==============================] - 2s 27ms/step - loss: 0.0784 - accuracy: 0.9745 - get_f1: 0.9707 - val_loss: 4.4129 - val_accuracy: 0.4064 - val_get_f1: 0.8699\n",
            "Epoch 22/25\n",
            "83/83 [==============================] - 2s 27ms/step - loss: 0.0917 - accuracy: 0.9657 - get_f1: 0.9908 - val_loss: 4.4877 - val_accuracy: 0.4003 - val_get_f1: 0.8542\n",
            "Epoch 23/25\n",
            "83/83 [==============================] - 2s 26ms/step - loss: 0.0594 - accuracy: 0.9794 - get_f1: 1.0009 - val_loss: 3.9118 - val_accuracy: 0.4064 - val_get_f1: 0.8720\n",
            "Epoch 24/25\n",
            "83/83 [==============================] - 2s 27ms/step - loss: 0.0810 - accuracy: 0.9680 - get_f1: 0.9994 - val_loss: 3.9363 - val_accuracy: 0.3973 - val_get_f1: 0.8738\n",
            "Epoch 25/25\n",
            "83/83 [==============================] - 2s 26ms/step - loss: 0.0367 - accuracy: 0.9897 - get_f1: 1.0018 - val_loss: 4.9152 - val_accuracy: 0.3927 - val_get_f1: 0.8514\n",
            "24/24 [==============================] - 1s 4ms/step\n"
          ]
        }
      ]
    },
    {
      "cell_type": "code",
      "source": [
        "test_output_1=np.array([np.argmax(i)  for i in test_output])\n",
        "from sklearn.metrics import confusion_matrix,accuracy_score\n",
        "print(confusion_matrix(y_test,test_output_1))\n",
        "test_output=pd.DataFrame(test_output)\n",
        "print(accuracy_score(y_test,test_output_1))\n"
      ],
      "metadata": {
        "id": "Q_hmR6MK_Bq5",
        "colab": {
          "base_uri": "https://localhost:8080/"
        },
        "outputId": "98669599-cd93-46c9-ffad-b709d26ee05c"
      },
      "execution_count": 42,
      "outputs": [
        {
          "output_type": "stream",
          "name": "stdout",
          "text": [
            "[[245  29  43]\n",
            " [131  60  10]\n",
            " [149  12  70]]\n",
            "0.5006675567423231\n"
          ]
        }
      ]
    },
    {
      "cell_type": "code",
      "source": [
        "print(get_f1(y_test.astype('float32'), test_output_1.astype('float32')))"
      ],
      "metadata": {
        "colab": {
          "base_uri": "https://localhost:8080/"
        },
        "id": "ZsHojwC3G8gQ",
        "outputId": "0495dbad-e37d-4313-b928-786855f7df15"
      },
      "execution_count": 43,
      "outputs": [
        {
          "output_type": "stream",
          "name": "stdout",
          "text": [
            "tf.Tensor(0.46341455, shape=(), dtype=float32)\n"
          ]
        }
      ]
    },
    {
      "cell_type": "code",
      "source": [
        "x_train_reshaped = x_train.reshape(x_train.shape[0], -1)\n",
        "x_test_reshaped = x_test.reshape(x_test.shape[0], -1)\n",
        "savetxt('arrxtrain.csv', x_train_reshaped, delimiter=',')\n",
        "savetxt('arrytrain.csv', y_train, delimiter=',')\n",
        "savetxt('arrxtest.csv', x_test_reshaped, delimiter=',')\n",
        "savetxt('arrytest.csv', y_test, delimiter=',')"
      ],
      "metadata": {
        "id": "oxhtZHtkBWOe"
      },
      "execution_count": 44,
      "outputs": []
    }
  ]
}