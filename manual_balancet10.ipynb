{
  "nbformat": 4,
  "nbformat_minor": 0,
  "metadata": {
    "colab": {
      "provenance": [],
      "include_colab_link": true
    },
    "kernelspec": {
      "name": "python3",
      "display_name": "Python 3"
    },
    "language_info": {
      "name": "python"
    },
    "accelerator": "GPU",
    "gpuClass": "standard"
  },
  "cells": [
    {
      "cell_type": "markdown",
      "metadata": {
        "id": "view-in-github",
        "colab_type": "text"
      },
      "source": [
        "<a href=\"https://colab.research.google.com/github/Mayank-Bansal24/LAPLSTM-Models/blob/main/manual_balancet10.ipynb\" target=\"_parent\"><img src=\"https://colab.research.google.com/assets/colab-badge.svg\" alt=\"Open In Colab\"/></a>"
      ]
    },
    {
      "cell_type": "code",
      "source": [
        "import numpy as np\n",
        "import tensorflow as tf\n",
        "from tensorflow.keras import losses as lo_ss\n",
        "from tensorflow.keras.models import Sequential\n",
        "from tensorflow.keras.layers import LSTM\n",
        "from tensorflow.keras.layers import Dense, Dropout\n",
        "import string\n",
        "import pandas as pd\n",
        "from matplotlib import pyplot as plt\n",
        "from sklearn.preprocessing import StandardScaler\n",
        "import seaborn as sns\n",
        "from sklearn import model_selection\n",
        "from sklearn.datasets import make_classification\n",
        "from sklearn.utils import class_weight\n",
        "from sklearn.metrics import classification_report , roc_auc_score\n",
        "import keras \n",
        "import keras.backend as K\n",
        "from google.colab import drive\n",
        "from numpy import savetxt\n",
        "import os"
      ],
      "metadata": {
        "id": "V1kLUX7gJ3N_"
      },
      "execution_count": 154,
      "outputs": []
    },
    {
      "cell_type": "code",
      "source": [
        "drive.mount('/content/gdrive')\n"
      ],
      "metadata": {
        "colab": {
          "base_uri": "https://localhost:8080/"
        },
        "id": "HXmXAIAJArT2",
        "outputId": "c86f08de-8456-4b69-d804-7044906f133e"
      },
      "execution_count": 155,
      "outputs": [
        {
          "output_type": "stream",
          "name": "stdout",
          "text": [
            "Drive already mounted at /content/gdrive; to attempt to forcibly remount, call drive.mount(\"/content/gdrive\", force_remount=True).\n"
          ]
        }
      ]
    },
    {
      "cell_type": "code",
      "source": [
        "t=10"
      ],
      "metadata": {
        "id": "uLTug-YJDW8D"
      },
      "execution_count": 156,
      "outputs": []
    },
    {
      "cell_type": "code",
      "source": [
        "os.chdir('/content/gdrive/MyDrive/laplstm/manual_balance/t'+str(t))"
      ],
      "metadata": {
        "id": "ubPkwGQnA8Wx"
      },
      "execution_count": 157,
      "outputs": []
    },
    {
      "cell_type": "code",
      "source": [
        "import os\n",
        "github_raw_link=\"https://raw.githubusercontent.com/Aryansh085/LAP/main/858417d1-7d54-4115-a01b-fdda5e03ada3_testing_combined_rows4035_disc_1_0p9_MULTIPLY_preproces_155cols.csv\"\n",
        "df1=pd.read_csv((github_raw_link),header = None)\n",
        "dftemp=np.array(df1)\n",
        "dftemp.shape\n",
        "dftemp2=dftemp[:,5:]\n",
        "dftemp2=np.array(dftemp2)\n",
        "print(dftemp2.shape)"
      ],
      "metadata": {
        "id": "3UWvhrydJ8hA",
        "colab": {
          "base_uri": "https://localhost:8080/"
        },
        "outputId": "9b1ba49b-27b2-4c89-fe64-c379c52ce268"
      },
      "execution_count": 158,
      "outputs": [
        {
          "output_type": "stream",
          "name": "stdout",
          "text": [
            "(4035, 150)\n"
          ]
        }
      ]
    },
    {
      "cell_type": "code",
      "source": [
        "# dftemp2\n",
        "dftemp2.shape\n",
        "# dftemp2=pd.DataFrame(dftemp2)\n",
        "# dftemp2.head()"
      ],
      "metadata": {
        "colab": {
          "base_uri": "https://localhost:8080/"
        },
        "id": "h00YSxPn8rUk",
        "outputId": "c07ea4dd-5726-46f6-e540-b1c2e52e7ede"
      },
      "execution_count": 159,
      "outputs": [
        {
          "output_type": "execute_result",
          "data": {
            "text/plain": [
              "(4035, 150)"
            ]
          },
          "metadata": {},
          "execution_count": 159
        }
      ]
    },
    {
      "cell_type": "markdown",
      "source": [
        "--> muliply the reward of that instance into the loss of that instance to give weight"
      ],
      "metadata": {
        "id": "pPfqIsthYP2X"
      }
    },
    {
      "cell_type": "code",
      "source": [
        "from sklearn.preprocessing import StandardScaler\n",
        "\n",
        "slr=StandardScaler()\n",
        "slr.fit(dftemp2)\n",
        "dftemp2 = slr.transform(dftemp2)"
      ],
      "metadata": {
        "id": "kWYAqDfnO_1i"
      },
      "execution_count": 160,
      "outputs": []
    },
    {
      "cell_type": "code",
      "source": [
        "# f1-score function\n",
        "def get_f1(y_true, y_pred): #taken from old keras source code\n",
        "    true_positives = K.sum(K.round(K.clip(y_true * y_pred, 0, 1)))\n",
        "    possible_positives = K.sum(K.round(K.clip(y_true, 0, 1)))\n",
        "    predicted_positives = K.sum(K.round(K.clip(y_pred, 0, 1)))\n",
        "    precision = true_positives / (predicted_positives + K.epsilon())\n",
        "    recall = true_positives / (possible_positives + K.epsilon())\n",
        "    f1_val = 2*(precision*recall)/(precision+recall+K.epsilon())\n",
        "    return f1_val\n",
        "    "
      ],
      "metadata": {
        "id": "4i-6LDL58GyW"
      },
      "execution_count": 161,
      "outputs": []
    },
    {
      "cell_type": "code",
      "source": [],
      "metadata": {
        "id": "83zizsyvKHzh"
      },
      "execution_count": 161,
      "outputs": []
    },
    {
      "cell_type": "code",
      "source": [
        "y=np.array(dftemp[:,0])\n",
        "print(y)\n",
        "y_new=y[t:]\n",
        "y_new.shape\n"
      ],
      "metadata": {
        "colab": {
          "base_uri": "https://localhost:8080/"
        },
        "id": "XmXnkjOiKIGQ",
        "outputId": "f80af848-f0b0-4afa-928a-77659ff73956"
      },
      "execution_count": 162,
      "outputs": [
        {
          "output_type": "stream",
          "name": "stdout",
          "text": [
            "[2. 0. 0. ... 0. 2. 2.]\n"
          ]
        },
        {
          "output_type": "execute_result",
          "data": {
            "text/plain": [
              "(4025,)"
            ]
          },
          "metadata": {},
          "execution_count": 162
        }
      ]
    },
    {
      "cell_type": "code",
      "source": [
        "x=np.array(dftemp2)\n",
        "# print(x)\n",
        "# print(x.shape)\n",
        "x.shape,y_new.shape"
      ],
      "metadata": {
        "colab": {
          "base_uri": "https://localhost:8080/"
        },
        "id": "3JPzLQQmKhZk",
        "outputId": "a800e6a5-c2e4-4242-9fc1-7ddd2936fcd1"
      },
      "execution_count": 163,
      "outputs": [
        {
          "output_type": "execute_result",
          "data": {
            "text/plain": [
              "((4035, 150), (4025,))"
            ]
          },
          "metadata": {},
          "execution_count": 163
        }
      ]
    },
    {
      "cell_type": "code",
      "source": [
        "x_3d=[]\n",
        "for i in range(4035-t):\n",
        "  tmp=[]\n",
        "  for j in range(t):\n",
        "    tmp.append(x[j+i])\n",
        "  x_3d.append(tmp)\n",
        "x_3d= np.array(x_3d)\n",
        "x_3d.shape"
      ],
      "metadata": {
        "colab": {
          "base_uri": "https://localhost:8080/"
        },
        "id": "hdDY6fhENZ2-",
        "outputId": "6f113e83-6fc8-47ab-ef1a-c8969a120c95"
      },
      "execution_count": 164,
      "outputs": [
        {
          "output_type": "execute_result",
          "data": {
            "text/plain": [
              "(4025, 10, 150)"
            ]
          },
          "metadata": {},
          "execution_count": 164
        }
      ]
    },
    {
      "cell_type": "code",
      "source": [
        "train_test_ratio=0.8\n",
        "print(x_3d.shape[0])\n",
        "x_train=[]\n",
        "y_train=[]\n",
        "x_test=[]\n",
        "y_test=[]\n",
        "for i in range(x_3d.shape[0]):\n",
        "  l=[]\n",
        "  ly=[]\n",
        "  no=np.random.randint(100)\n",
        "  if(no<80):\n",
        "    l=x_3d[i]\n",
        "    ly=y_new[i]\n",
        "    x_train.append(l)\n",
        "    y_train.append(ly)\n",
        "  else:\n",
        "    l=x_3d[i]\n",
        "    ly=y_new[i]\n",
        "    x_test.append(l)\n",
        "    y_test.append(ly)\n",
        "\n",
        "\n",
        "x_train=np.array(x_train)\n",
        "y_train=np.array(y_train)\n",
        "x_test=np.array(x_test)\n",
        "y_test=np.array(y_test)\n",
        "x_train.shape,y_train.shape,x_test.shape,y_test.shape"
      ],
      "metadata": {
        "colab": {
          "base_uri": "https://localhost:8080/"
        },
        "id": "AwnZ3Mh1Khi8",
        "outputId": "3a62ea16-0253-4541-d468-869d0109f322"
      },
      "execution_count": 165,
      "outputs": [
        {
          "output_type": "stream",
          "name": "stdout",
          "text": [
            "4025\n"
          ]
        },
        {
          "output_type": "execute_result",
          "data": {
            "text/plain": [
              "((3222, 10, 150), (3222,), (803, 10, 150), (803,))"
            ]
          },
          "metadata": {},
          "execution_count": 165
        }
      ]
    },
    {
      "cell_type": "code",
      "source": [
        "cnt0=0\n",
        "cnt1=0\n",
        "cnt2=0\n",
        "for i in range(x_train.shape[0]):\n",
        "  if(y_train[i]==0):\n",
        "    cnt0+=1\n",
        "  elif(y_train[i]==1):\n",
        "    cnt1+=1\n",
        "  elif(y_train[i]==2):\n",
        "    cnt2+=1\n",
        "print(cnt0)\n",
        "print(cnt1)\n",
        "print(cnt2)  "
      ],
      "metadata": {
        "colab": {
          "base_uri": "https://localhost:8080/"
        },
        "id": "xlijLVYecmcq",
        "outputId": "f5d40353-728c-4b61-85de-523b0592fa8e"
      },
      "execution_count": 166,
      "outputs": [
        {
          "output_type": "stream",
          "name": "stdout",
          "text": [
            "1459\n",
            "843\n",
            "920\n"
          ]
        }
      ]
    },
    {
      "cell_type": "code",
      "source": [
        "x_train_1=[]\n",
        "y_train_1=[]\n",
        "c1=0\n",
        "c2=0\n",
        "c3=0\n",
        "for i in range(x_train.shape[0]):\n",
        "  if(y_train[i]==0):\n",
        "    x_train_1.append(x_train[i])\n",
        "    y_train_1.append(0)\n",
        "    c1+=1\n",
        "  elif(y_train[i]==1):\n",
        "    x_train_1.append(x_train[i])\n",
        "    y_train_1.append(1)\n",
        "    c2+=1\n",
        "  elif(y_train[i]==2 ):\n",
        "    x_train_1.append(x_train[i])\n",
        "    y_train_1.append(2)\n",
        "    c3=c3+1\n",
        "for i in range(x_train.shape[0]):\n",
        "  if(y_train[i]==1):\n",
        "    no=np.random.randint(100)\n",
        "    if(no>=30):\n",
        "      x_train_1.append(x_train[i])\n",
        "      y_train_1.append(1)\n",
        "      c2+=1\n",
        "  elif(y_train[i]==2 ):\n",
        "    no=np.random.randint(100)\n",
        "    if(no>=27):\n",
        "      x_train_1.append(x_train[i])\n",
        "      y_train_1.append(2)\n",
        "      c3+=1\n",
        "\n",
        "y_train=[]\n",
        "y_train=y_train_1\n",
        "x_train=[]\n",
        "x_train=x_train_1\n",
        "x_train=np.array(x_train)\n",
        "y_train=np.array(y_train)\n",
        "print(c1)\n",
        "print(c2)\n",
        "print(c3)"
      ],
      "metadata": {
        "id": "PqOHcbhQcuo8",
        "colab": {
          "base_uri": "https://localhost:8080/"
        },
        "outputId": "5584e9ce-4fe8-41c4-da12-0ae3df12f06e"
      },
      "execution_count": 167,
      "outputs": [
        {
          "output_type": "stream",
          "name": "stdout",
          "text": [
            "1459\n",
            "1457\n",
            "1604\n"
          ]
        }
      ]
    },
    {
      "cell_type": "code",
      "source": [
        "\n",
        "# model = Sequential()\n",
        "# model.add(LSTM(200, activation='relu', return_sequences=True, input_shape=( t,150,)))\n",
        "# model.add(LSTM(100, activation='relu', return_sequences=True))\n",
        "# model.add(LSTM(50, activation='relu', return_sequences=True))\n",
        "# model.add(LSTM(25, activation='relu'))\n",
        "# model.add(Dense(20, activation='relu'))\n",
        "# model.add(Dense(10, activation='relu'))\n",
        "# model.add(Dense(3))\n",
        "# model.compile(optimizer='SGD', loss='sparse_categorical_crossentropy',metrics=['accuracy'])\n",
        "# history = model.fit(x_train, y_train, epochs=10, validation_split=0.2, verbose=1)\n",
        "# test_output = model.predict(x_test, verbose=1)\n",
        "# # history = model.fit(X, Y, epochs=1000, validation_split=0.2, verbose=1)\n",
        "# # test_output = model.predict(x=, verbose=0)\n",
        "# # print(test_output)"
      ],
      "metadata": {
        "id": "rhgsSos1KIbA"
      },
      "execution_count": 168,
      "outputs": []
    },
    {
      "cell_type": "code",
      "source": [
        "# sklearn_weights={0:1738,1:2348,2:2362}\n",
        "model = Sequential()\n",
        "model.add(LSTM(200, activation='relu', return_sequences=True, input_shape=( t,150,)))\n",
        "model.add(LSTM(400, activation='relu', return_sequences=True))\n",
        "model.add(LSTM(800, activation='relu', return_sequences=True))\n",
        "model.add(LSTM(150, activation='relu'))\n",
        "model.add(Dense(100, activation='relu'))\n",
        "model.add(Dense(64, activation='relu'))\n",
        "model.add(Dense(10, activation='relu'))\n",
        "model.add(Dense(3,activation='sigmoid'))\n",
        "optimi=keras.optimizers.Adam()\n",
        "model.compile(optimizer=optimi, loss='sparse_categorical_crossentropy',metrics=['accuracy',get_f1])\n",
        "\n",
        "history = model.fit(x_train, y_train, epochs=25, validation_split=0.2, verbose=1)\n",
        "# history = model.fit(x_train, y_train, epochs=25, validation_split=0.2, verbose=1,class_weight=sklearn_weights)\n",
        "test_output = model.predict(x_test, verbose=1)\n"
      ],
      "metadata": {
        "colab": {
          "base_uri": "https://localhost:8080/"
        },
        "id": "lwHPGS2iXMXc",
        "outputId": "d5cf864f-46ff-452d-f1d7-00a064206b77"
      },
      "execution_count": 169,
      "outputs": [
        {
          "output_type": "stream",
          "name": "stderr",
          "text": [
            "WARNING:tensorflow:Layer lstm_28 will not use cuDNN kernels since it doesn't meet the criteria. It will use a generic GPU kernel as fallback when running on GPU.\n",
            "WARNING:tensorflow:Layer lstm_29 will not use cuDNN kernels since it doesn't meet the criteria. It will use a generic GPU kernel as fallback when running on GPU.\n",
            "WARNING:tensorflow:Layer lstm_30 will not use cuDNN kernels since it doesn't meet the criteria. It will use a generic GPU kernel as fallback when running on GPU.\n",
            "WARNING:tensorflow:Layer lstm_31 will not use cuDNN kernels since it doesn't meet the criteria. It will use a generic GPU kernel as fallback when running on GPU.\n"
          ]
        },
        {
          "output_type": "stream",
          "name": "stdout",
          "text": [
            "Epoch 1/25\n",
            "113/113 [==============================] - 9s 48ms/step - loss: 1.0957 - accuracy: 0.3927 - get_f1: 1.3487 - val_loss: 1.1733 - val_accuracy: 0.0000e+00 - val_get_f1: 2.1315\n",
            "Epoch 2/25\n",
            "113/113 [==============================] - 5s 41ms/step - loss: 1.0212 - accuracy: 0.4712 - get_f1: 1.9220 - val_loss: 0.9221 - val_accuracy: 0.3197 - val_get_f1: 2.3429\n",
            "Epoch 3/25\n",
            "113/113 [==============================] - 5s 41ms/step - loss: 0.7497 - accuracy: 0.6449 - get_f1: 1.6163 - val_loss: 0.4799 - val_accuracy: 0.7577 - val_get_f1: 1.5888\n",
            "Epoch 4/25\n",
            "113/113 [==============================] - 5s 41ms/step - loss: 0.5656 - accuracy: 0.7627 - get_f1: 1.1182 - val_loss: 0.3771 - val_accuracy: 0.8507 - val_get_f1: 1.2893\n",
            "Epoch 5/25\n",
            "113/113 [==============================] - 6s 55ms/step - loss: 0.4360 - accuracy: 0.8327 - get_f1: 1.1817 - val_loss: 0.3386 - val_accuracy: 0.8728 - val_get_f1: 1.4619\n",
            "Epoch 6/25\n",
            "113/113 [==============================] - 6s 50ms/step - loss: 0.3267 - accuracy: 0.8725 - get_f1: 1.1418 - val_loss: 0.2215 - val_accuracy: 0.9281 - val_get_f1: 1.2467\n",
            "Epoch 7/25\n",
            "113/113 [==============================] - 5s 41ms/step - loss: 0.2540 - accuracy: 0.9021 - get_f1: 1.0540 - val_loss: 0.2502 - val_accuracy: 0.9181 - val_get_f1: 1.0446\n",
            "Epoch 8/25\n",
            "113/113 [==============================] - 5s 41ms/step - loss: 0.1873 - accuracy: 0.9311 - get_f1: 1.0680 - val_loss: 0.1046 - val_accuracy: 0.9768 - val_get_f1: 1.0206\n",
            "Epoch 9/25\n",
            "113/113 [==============================] - 5s 40ms/step - loss: 0.1249 - accuracy: 0.9605 - get_f1: 1.0146 - val_loss: 0.1552 - val_accuracy: 0.9491 - val_get_f1: 1.2778\n",
            "Epoch 10/25\n",
            "113/113 [==============================] - 5s 41ms/step - loss: 0.1254 - accuracy: 0.9616 - get_f1: 1.0312 - val_loss: 0.0654 - val_accuracy: 0.9845 - val_get_f1: 1.0097\n",
            "Epoch 11/25\n",
            "113/113 [==============================] - 5s 41ms/step - loss: 0.0974 - accuracy: 0.9726 - get_f1: 1.0198 - val_loss: 0.2204 - val_accuracy: 0.9248 - val_get_f1: 1.0042\n",
            "Epoch 12/25\n",
            "113/113 [==============================] - 5s 40ms/step - loss: 0.1307 - accuracy: 0.9621 - get_f1: 0.9858 - val_loss: 0.0414 - val_accuracy: 0.9956 - val_get_f1: 0.9972\n",
            "Epoch 13/25\n",
            "113/113 [==============================] - 5s 41ms/step - loss: 0.0739 - accuracy: 0.9798 - get_f1: 0.9976 - val_loss: 0.1117 - val_accuracy: 0.9635 - val_get_f1: 1.0029\n",
            "Epoch 14/25\n",
            "113/113 [==============================] - 5s 41ms/step - loss: 0.1174 - accuracy: 0.9690 - get_f1: 1.0001 - val_loss: 0.0558 - val_accuracy: 0.9878 - val_get_f1: 1.0393\n",
            "Epoch 15/25\n",
            "113/113 [==============================] - 5s 41ms/step - loss: 0.0610 - accuracy: 0.9851 - get_f1: 1.3882 - val_loss: 0.0312 - val_accuracy: 0.9934 - val_get_f1: 1.4370\n",
            "Epoch 16/25\n",
            "113/113 [==============================] - 5s 41ms/step - loss: 0.2377 - accuracy: 0.9422 - get_f1: 1.2812 - val_loss: 0.0888 - val_accuracy: 0.9690 - val_get_f1: 1.4273\n",
            "Epoch 17/25\n",
            "113/113 [==============================] - 5s 41ms/step - loss: 0.2633 - accuracy: 0.9732 - get_f1: 1.1707 - val_loss: 0.0574 - val_accuracy: 0.9812 - val_get_f1: 1.4722\n",
            "Epoch 18/25\n",
            "113/113 [==============================] - 6s 52ms/step - loss: 0.0939 - accuracy: 0.9710 - get_f1: 1.2332 - val_loss: 0.1074 - val_accuracy: 0.9790 - val_get_f1: 1.5564\n",
            "Epoch 19/25\n",
            "113/113 [==============================] - 5s 41ms/step - loss: 0.0734 - accuracy: 0.9834 - get_f1: 1.4204 - val_loss: 0.0174 - val_accuracy: 0.9956 - val_get_f1: 1.5537\n",
            "Epoch 20/25\n",
            "113/113 [==============================] - 5s 41ms/step - loss: 0.6892 - accuracy: 0.9060 - get_f1: 1.1307 - val_loss: 0.2868 - val_accuracy: 0.8905 - val_get_f1: 1.5238\n",
            "Epoch 21/25\n",
            "113/113 [==============================] - 5s 42ms/step - loss: 0.1570 - accuracy: 0.9726 - get_f1: 1.0201 - val_loss: 0.0545 - val_accuracy: 0.9801 - val_get_f1: 1.1868\n",
            "Epoch 22/25\n",
            "113/113 [==============================] - 5s 41ms/step - loss: 0.0505 - accuracy: 0.9845 - get_f1: 0.8251 - val_loss: 0.0278 - val_accuracy: 0.9900 - val_get_f1: 1.0736\n",
            "Epoch 23/25\n",
            "113/113 [==============================] - 5s 41ms/step - loss: 0.0550 - accuracy: 0.9895 - get_f1: 0.8519 - val_loss: 0.0165 - val_accuracy: 0.9934 - val_get_f1: 1.0404\n",
            "Epoch 24/25\n",
            "113/113 [==============================] - 5s 41ms/step - loss: 0.0196 - accuracy: 0.9936 - get_f1: 0.8100 - val_loss: 0.0166 - val_accuracy: 0.9956 - val_get_f1: 1.0145\n",
            "Epoch 25/25\n",
            "113/113 [==============================] - 5s 41ms/step - loss: 0.0250 - accuracy: 0.9942 - get_f1: 0.8049 - val_loss: 0.0242 - val_accuracy: 0.9912 - val_get_f1: 1.1894\n",
            "26/26 [==============================] - 1s 8ms/step\n"
          ]
        }
      ]
    },
    {
      "cell_type": "code",
      "source": [
        "test_output_1=np.array([np.argmax(i)  for i in test_output])\n",
        "from sklearn.metrics import confusion_matrix,accuracy_score\n",
        "print(confusion_matrix(y_test,test_output_1))\n",
        "test_output=pd.DataFrame(test_output)\n",
        "print(accuracy_score(y_test,test_output_1))\n"
      ],
      "metadata": {
        "id": "Q_hmR6MK_Bq5",
        "colab": {
          "base_uri": "https://localhost:8080/"
        },
        "outputId": "6eafe895-d214-4693-cbca-677346b45b49"
      },
      "execution_count": 170,
      "outputs": [
        {
          "output_type": "stream",
          "name": "stdout",
          "text": [
            "[[292  34  38]\n",
            " [ 64 145   3]\n",
            " [ 80   6 141]]\n",
            "0.7198007471980075\n"
          ]
        }
      ]
    },
    {
      "cell_type": "code",
      "source": [
        "print(get_f1(y_test.astype('float32'), test_output_1.astype('float32')))"
      ],
      "metadata": {
        "colab": {
          "base_uri": "https://localhost:8080/"
        },
        "id": "ZsHojwC3G8gQ",
        "outputId": "56aa3bf4-c256-420b-a673-8fe650fe6639"
      },
      "execution_count": 171,
      "outputs": [
        {
          "output_type": "stream",
          "name": "stdout",
          "text": [
            "tf.Tensor(0.7320098, shape=(), dtype=float32)\n"
          ]
        }
      ]
    },
    {
      "cell_type": "code",
      "source": [
        "x_train_reshaped = x_train.reshape(x_train.shape[0], -1)\n",
        "x_test_reshaped = x_test.reshape(x_test.shape[0], -1)\n",
        "savetxt('arrxtrain.csv', x_train_reshaped, delimiter=',')\n",
        "savetxt('arrytrain.csv', y_train, delimiter=',')\n",
        "savetxt('arrxtest.csv', x_test_reshaped, delimiter=',')\n",
        "savetxt('arrytest.csv', y_test, delimiter=',')"
      ],
      "metadata": {
        "id": "oxhtZHtkBWOe"
      },
      "execution_count": 172,
      "outputs": []
    },
    {
      "cell_type": "code",
      "source": [
        "t"
      ],
      "metadata": {
        "colab": {
          "base_uri": "https://localhost:8080/"
        },
        "id": "xWbsHW9BQp4w",
        "outputId": "5b89acfd-dcb3-4fd5-d656-515b0328e3b3"
      },
      "execution_count": 173,
      "outputs": [
        {
          "output_type": "execute_result",
          "data": {
            "text/plain": [
              "10"
            ]
          },
          "metadata": {},
          "execution_count": 173
        }
      ]
    }
  ]
}