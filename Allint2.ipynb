{
  "nbformat": 4,
  "nbformat_minor": 0,
  "metadata": {
    "colab": {
      "provenance": [],
      "include_colab_link": true
    },
    "kernelspec": {
      "name": "python3",
      "display_name": "Python 3"
    },
    "language_info": {
      "name": "python"
    },
    "accelerator": "GPU",
    "gpuClass": "standard"
  },
  "cells": [
    {
      "cell_type": "markdown",
      "metadata": {
        "id": "view-in-github",
        "colab_type": "text"
      },
      "source": [
        "<a href=\"https://colab.research.google.com/github/Mayank-Bansal24/LAPLSTM-Models/blob/main/Allint2.ipynb\" target=\"_parent\"><img src=\"https://colab.research.google.com/assets/colab-badge.svg\" alt=\"Open In Colab\"/></a>"
      ]
    },
    {
      "cell_type": "code",
      "source": [
        "import numpy as np\n",
        "import tensorflow as tf\n",
        "from tensorflow.keras import losses as lo_ss\n",
        "from tensorflow.keras.models import Sequential\n",
        "from tensorflow.keras.layers import LSTM\n",
        "from tensorflow.keras.layers import Dense, Dropout\n",
        "import string\n",
        "import pandas as pd\n",
        "from matplotlib import pyplot as plt\n",
        "from sklearn.preprocessing import StandardScaler\n",
        "import seaborn as sns\n",
        "from sklearn import model_selection\n",
        "from sklearn.datasets import make_classification\n",
        "from sklearn.utils import class_weight\n",
        "from sklearn.metrics import classification_report , roc_auc_score\n",
        "import keras \n",
        "import keras.backend as K\n",
        "from google.colab import drive\n",
        "from numpy import savetxt\n",
        "import os"
      ],
      "metadata": {
        "id": "V1kLUX7gJ3N_"
      },
      "execution_count": 1,
      "outputs": []
    },
    {
      "cell_type": "code",
      "source": [
        "drive.mount('/content/gdrive')\n"
      ],
      "metadata": {
        "colab": {
          "base_uri": "https://localhost:8080/"
        },
        "id": "HXmXAIAJArT2",
        "outputId": "e2f2a8ba-0000-41e8-9a5d-e7f814427081"
      },
      "execution_count": 2,
      "outputs": [
        {
          "output_type": "stream",
          "name": "stdout",
          "text": [
            "Mounted at /content/gdrive\n"
          ]
        }
      ]
    },
    {
      "cell_type": "code",
      "source": [
        "t=2"
      ],
      "metadata": {
        "id": "uLTug-YJDW8D"
      },
      "execution_count": 21,
      "outputs": []
    },
    {
      "cell_type": "code",
      "source": [
        "os.chdir('/content/gdrive/MyDrive/laplstm/allin/t'+str(t))"
      ],
      "metadata": {
        "id": "ubPkwGQnA8Wx"
      },
      "execution_count": 22,
      "outputs": []
    },
    {
      "cell_type": "code",
      "source": [
        "import os\n",
        "github_raw_link=\"https://raw.githubusercontent.com/Aryansh085/LAP/main/858417d1-7d54-4115-a01b-fdda5e03ada3_testing_combined_rows4035_disc_1_0p9_MULTIPLY_preproces_155cols.csv\"\n",
        "df1=pd.read_csv((github_raw_link),header = None)\n",
        "dftemp=np.array(df1)\n",
        "dftemp.shape\n",
        "dftemp2=dftemp[:,5:]\n",
        "dftemp2=np.array(dftemp2)\n",
        "print(dftemp2.shape)"
      ],
      "metadata": {
        "id": "3UWvhrydJ8hA",
        "colab": {
          "base_uri": "https://localhost:8080/"
        },
        "outputId": "9a89ba44-4713-4e95-8160-9af4167d778f"
      },
      "execution_count": 23,
      "outputs": [
        {
          "output_type": "stream",
          "name": "stdout",
          "text": [
            "(4035, 150)\n"
          ]
        }
      ]
    },
    {
      "cell_type": "code",
      "source": [
        "# dftemp2\n",
        "dftemp2.shape\n",
        "# dftemp2=pd.DataFrame(dftemp2)\n",
        "# dftemp2.head()"
      ],
      "metadata": {
        "colab": {
          "base_uri": "https://localhost:8080/"
        },
        "id": "h00YSxPn8rUk",
        "outputId": "9d3d0cbc-edc1-4156-a973-aff44f6133ba"
      },
      "execution_count": 24,
      "outputs": [
        {
          "output_type": "execute_result",
          "data": {
            "text/plain": [
              "(4035, 150)"
            ]
          },
          "metadata": {},
          "execution_count": 24
        }
      ]
    },
    {
      "cell_type": "markdown",
      "source": [
        "--> muliply the reward of that instance into the loss of that instance to give weight"
      ],
      "metadata": {
        "id": "pPfqIsthYP2X"
      }
    },
    {
      "cell_type": "code",
      "source": [
        "from sklearn.preprocessing import StandardScaler\n",
        "\n",
        "slr=StandardScaler()\n",
        "slr.fit(dftemp2)\n",
        "dftemp2 = slr.transform(dftemp2)"
      ],
      "metadata": {
        "id": "kWYAqDfnO_1i"
      },
      "execution_count": 25,
      "outputs": []
    },
    {
      "cell_type": "code",
      "source": [
        "# f1-score function\n",
        "def get_f1(y_true, y_pred): #taken from old keras source code\n",
        "    true_positives = K.sum(K.round(K.clip(y_true * y_pred, 0, 1)))\n",
        "    possible_positives = K.sum(K.round(K.clip(y_true, 0, 1)))\n",
        "    predicted_positives = K.sum(K.round(K.clip(y_pred, 0, 1)))\n",
        "    precision = true_positives / (predicted_positives + K.epsilon())\n",
        "    recall = true_positives / (possible_positives + K.epsilon())\n",
        "    f1_val = 2*(precision*recall)/(precision+recall+K.epsilon())\n",
        "    return f1_val\n",
        "    "
      ],
      "metadata": {
        "id": "4i-6LDL58GyW"
      },
      "execution_count": 26,
      "outputs": []
    },
    {
      "cell_type": "code",
      "source": [
        "y=np.array(dftemp[:,0])\n",
        "print(y)\n",
        "y_new=y[t:]\n",
        "y_new.shape\n"
      ],
      "metadata": {
        "colab": {
          "base_uri": "https://localhost:8080/"
        },
        "id": "XmXnkjOiKIGQ",
        "outputId": "f3f0bfd9-c553-4b36-91a7-e75ed420dd67"
      },
      "execution_count": 27,
      "outputs": [
        {
          "output_type": "stream",
          "name": "stdout",
          "text": [
            "[2. 0. 0. ... 0. 2. 2.]\n"
          ]
        },
        {
          "output_type": "execute_result",
          "data": {
            "text/plain": [
              "(4033,)"
            ]
          },
          "metadata": {},
          "execution_count": 27
        }
      ]
    },
    {
      "cell_type": "code",
      "source": [
        "x=np.array(dftemp2)\n",
        "# print(x)\n",
        "# print(x.shape)\n",
        "x.shape,y_new.shape"
      ],
      "metadata": {
        "colab": {
          "base_uri": "https://localhost:8080/"
        },
        "id": "3JPzLQQmKhZk",
        "outputId": "688a92dc-9940-4414-d00a-2a65ca44d7e3"
      },
      "execution_count": 28,
      "outputs": [
        {
          "output_type": "execute_result",
          "data": {
            "text/plain": [
              "((4035, 150), (4033,))"
            ]
          },
          "metadata": {},
          "execution_count": 28
        }
      ]
    },
    {
      "cell_type": "code",
      "source": [
        "x_3d=[]\n",
        "for i in range(4035-t):\n",
        "  tmp=[]\n",
        "  for j in range(t):\n",
        "    tmp.append(x[j+i])\n",
        "  x_3d.append(tmp)\n",
        "x_3d= np.array(x_3d)\n",
        "x_3d.shape"
      ],
      "metadata": {
        "colab": {
          "base_uri": "https://localhost:8080/"
        },
        "id": "hdDY6fhENZ2-",
        "outputId": "46fd0a22-3cdd-4a96-c232-e5d9633dfe1e"
      },
      "execution_count": 29,
      "outputs": [
        {
          "output_type": "execute_result",
          "data": {
            "text/plain": [
              "(4033, 2, 150)"
            ]
          },
          "metadata": {},
          "execution_count": 29
        }
      ]
    },
    {
      "cell_type": "code",
      "source": [
        "train_test_ratio=0.8\n",
        "print(x_3d.shape[0])\n",
        "x_train=[]\n",
        "y_train=[]\n",
        "x_test=[]\n",
        "y_test=[]\n",
        "for i in range(x_3d.shape[0]):\n",
        "  l=[]\n",
        "  ly=[]\n",
        "  no=np.random.randint(100)\n",
        "  if(no<80):\n",
        "    l=x_3d[i]\n",
        "    ly=y_new[i]\n",
        "    x_train.append(l)\n",
        "    y_train.append(ly)\n",
        "  else:\n",
        "    l=x_3d[i]\n",
        "    ly=y_new[i]\n",
        "    x_test.append(l)\n",
        "    y_test.append(ly)\n",
        "\n",
        "\n",
        "x_train=np.array(x_train)\n",
        "y_train=np.array(y_train)\n",
        "x_test=np.array(x_test)\n",
        "y_test=np.array(y_test)\n",
        "x_train.shape,y_train.shape,x_test.shape,y_test.shape"
      ],
      "metadata": {
        "colab": {
          "base_uri": "https://localhost:8080/"
        },
        "id": "AwnZ3Mh1Khi8",
        "outputId": "60c93ab5-e538-4477-a5b4-43bed803ba5c"
      },
      "execution_count": 30,
      "outputs": [
        {
          "output_type": "stream",
          "name": "stdout",
          "text": [
            "4033\n"
          ]
        },
        {
          "output_type": "execute_result",
          "data": {
            "text/plain": [
              "((3217, 2, 150), (3217,), (816, 2, 150), (816,))"
            ]
          },
          "metadata": {},
          "execution_count": 30
        }
      ]
    },
    {
      "cell_type": "code",
      "source": [
        "cnt0=0\n",
        "cnt1=0\n",
        "cnt2=0\n",
        "for i in range(x_train.shape[0]):\n",
        "  if(y_train[i]==0):\n",
        "    cnt0+=1\n",
        "  elif(y_train[i]==1):\n",
        "    cnt1+=1\n",
        "  elif(y_train[i]==2):\n",
        "    cnt2+=1\n",
        "print(cnt0)\n",
        "print(cnt1)\n",
        "print(cnt2)  "
      ],
      "metadata": {
        "colab": {
          "base_uri": "https://localhost:8080/"
        },
        "id": "xlijLVYecmcq",
        "outputId": "f2f48987-e4ce-4d42-a060-b3c35154b7e4"
      },
      "execution_count": 31,
      "outputs": [
        {
          "output_type": "stream",
          "name": "stdout",
          "text": [
            "1473\n",
            "837\n",
            "907\n"
          ]
        }
      ]
    },
    {
      "cell_type": "code",
      "source": [
        "x_train_1=[]\n",
        "y_train_1=[]\n",
        "c1=0\n",
        "c2=0\n",
        "c3=0\n",
        "x1=(cnt1-cnt0)/(cnt1)\n",
        "x1=x1*(-100)\n",
        "x1=int(x1)\n",
        "print(x1)\n",
        "x2=(cnt2-cnt0)/(cnt2)\n",
        "x2=x2*(-100)\n",
        "x2=int(x2)\n",
        "print(x2)\n",
        "for i in range(x_train.shape[0]):\n",
        "  if(y_train[i]==0):\n",
        "    x_train_1.append(x_train[i])\n",
        "    y_train_1.append(0)\n",
        "    c1+=1\n",
        "  elif(y_train[i]==1):\n",
        "    x_train_1.append(x_train[i])\n",
        "    y_train_1.append(1)\n",
        "    c2+=1\n",
        "  elif(y_train[i]==2 ):\n",
        "    x_train_1.append(x_train[i])\n",
        "    y_train_1.append(2)\n",
        "    c3=c3+1\n",
        "for i in range(x_train.shape[0]):\n",
        "  if(y_train[i]==1):\n",
        "    no=np.random.randint(100)\n",
        "    if(no>=100-x1):\n",
        "      x_train_1.append(x_train[i])\n",
        "      y_train_1.append(1)\n",
        "      c2+=1\n",
        "  elif(y_train[i]==2 ):\n",
        "    no=np.random.randint(100)\n",
        "    if(no>=100-x2):\n",
        "      x_train_1.append(x_train[i])\n",
        "      y_train_1.append(2)\n",
        "      c3+=1\n",
        "\n",
        "y_train=[]\n",
        "y_train=y_train_1\n",
        "x_train=[]\n",
        "x_train=x_train_1\n",
        "x_train=np.array(x_train)\n",
        "y_train=np.array(y_train)\n",
        "print(c1)\n",
        "print(c2)\n",
        "print(c3)"
      ],
      "metadata": {
        "id": "PqOHcbhQcuo8",
        "colab": {
          "base_uri": "https://localhost:8080/"
        },
        "outputId": "63b9f668-490a-43ad-a9f5-50167e96b6d8"
      },
      "execution_count": 32,
      "outputs": [
        {
          "output_type": "stream",
          "name": "stdout",
          "text": [
            "75\n",
            "62\n",
            "1473\n",
            "1472\n",
            "1475\n"
          ]
        }
      ]
    },
    {
      "cell_type": "code",
      "source": [
        "sklearn_weights=class_weight.compute_class_weight(class_weight='balanced',classes=np.unique(y_train),y=y_train)\n",
        "sklearn_weights=dict(zip(np.unique(y_train),sklearn_weights))\n",
        "sklearn_weights"
      ],
      "metadata": {
        "colab": {
          "base_uri": "https://localhost:8080/"
        },
        "id": "EYzwuCcAbDKT",
        "outputId": "8d4d155e-ed05-4e86-9721-7a6c7448b747"
      },
      "execution_count": 33,
      "outputs": [
        {
          "output_type": "execute_result",
          "data": {
            "text/plain": [
              "{0: 1.0002262955419778, 1: 1.0009057971014492, 2: 0.9988700564971752}"
            ]
          },
          "metadata": {},
          "execution_count": 33
        }
      ]
    },
    {
      "cell_type": "code",
      "source": [
        "\n",
        "# model = Sequential()\n",
        "# model.add(LSTM(200, activation='relu', return_sequences=True, input_shape=( t,150,)))\n",
        "# model.add(LSTM(100, activation='relu', return_sequences=True))\n",
        "# model.add(LSTM(50, activation='relu', return_sequences=True))\n",
        "# model.add(LSTM(25, activation='relu'))\n",
        "# model.add(Dense(20, activation='relu'))\n",
        "# model.add(Dense(10, activation='relu'))\n",
        "# model.add(Dense(3))\n",
        "# model.compile(optimizer='SGD', loss='sparse_categorical_crossentropy',metrics=['accuracy'])\n",
        "# history = model.fit(x_train, y_train, epochs=10, validation_split=0.2, verbose=1)\n",
        "# test_output = model.predict(x_test, verbose=1)\n",
        "# # history = model.fit(X, Y, epochs=1000, validation_split=0.2, verbose=1)\n",
        "# # test_output = model.predict(x=, verbose=0)\n",
        "# # print(test_output)"
      ],
      "metadata": {
        "id": "rhgsSos1KIbA"
      },
      "execution_count": 34,
      "outputs": []
    },
    {
      "cell_type": "code",
      "source": [
        "# sklearn_weights={0:1738,1:2348,2:2362}\n",
        "model = Sequential()\n",
        "model.add(LSTM(200, activation='relu', return_sequences=True, input_shape=( t,150,)))\n",
        "model.add(LSTM(400, activation='relu', return_sequences=True))\n",
        "model.add(LSTM(800, activation='relu', return_sequences=True))\n",
        "model.add(LSTM(150, activation='relu'))\n",
        "model.add(Dense(100, activation='relu'))\n",
        "model.add(Dense(64, activation='relu'))\n",
        "model.add(Dense(10, activation='relu'))\n",
        "model.add(Dense(3,activation='sigmoid'))\n",
        "optimi=keras.optimizers.Adam()\n",
        "model.compile(optimizer=optimi, loss='sparse_categorical_crossentropy',metrics=['accuracy',get_f1])\n",
        "\n",
        "# history = model.fit(x_train, y_train, epochs=30, validation_split=0.2, verbose=1)\n",
        "history = model.fit(x_train, y_train, epochs=25, validation_split=0.2, verbose=1,class_weight=sklearn_weights)\n",
        "test_output = model.predict(x_test, verbose=1)\n"
      ],
      "metadata": {
        "colab": {
          "base_uri": "https://localhost:8080/"
        },
        "id": "lwHPGS2iXMXc",
        "outputId": "b0a22936-ae04-48b5-94c5-bbb243708fe8"
      },
      "execution_count": 35,
      "outputs": [
        {
          "output_type": "stream",
          "name": "stderr",
          "text": [
            "WARNING:tensorflow:Layer lstm_4 will not use cuDNN kernels since it doesn't meet the criteria. It will use a generic GPU kernel as fallback when running on GPU.\n",
            "WARNING:tensorflow:Layer lstm_5 will not use cuDNN kernels since it doesn't meet the criteria. It will use a generic GPU kernel as fallback when running on GPU.\n",
            "WARNING:tensorflow:Layer lstm_6 will not use cuDNN kernels since it doesn't meet the criteria. It will use a generic GPU kernel as fallback when running on GPU.\n",
            "WARNING:tensorflow:Layer lstm_7 will not use cuDNN kernels since it doesn't meet the criteria. It will use a generic GPU kernel as fallback when running on GPU.\n"
          ]
        },
        {
          "output_type": "stream",
          "name": "stdout",
          "text": [
            "Epoch 1/25\n",
            "111/111 [==============================] - 8s 30ms/step - loss: 1.0859 - accuracy: 0.4166 - get_f1: 1.3768 - val_loss: 1.2044 - val_accuracy: 0.0000e+00 - val_get_f1: 2.0054\n",
            "Epoch 2/25\n",
            "111/111 [==============================] - 3s 26ms/step - loss: 1.0440 - accuracy: 0.4372 - get_f1: 1.3946 - val_loss: 1.1710 - val_accuracy: 0.2048 - val_get_f1: 1.7091\n",
            "Epoch 3/25\n",
            "111/111 [==============================] - 3s 25ms/step - loss: 0.8701 - accuracy: 0.5523 - get_f1: 1.2369 - val_loss: 1.0245 - val_accuracy: 0.3541 - val_get_f1: 1.6128\n",
            "Epoch 4/25\n",
            "111/111 [==============================] - 3s 25ms/step - loss: 0.6701 - accuracy: 0.6456 - get_f1: 1.1488 - val_loss: 0.7760 - val_accuracy: 0.5136 - val_get_f1: 1.4216\n",
            "Epoch 5/25\n",
            "111/111 [==============================] - 3s 25ms/step - loss: 0.5210 - accuracy: 0.7019 - get_f1: 1.1039 - val_loss: 0.7565 - val_accuracy: 0.5600 - val_get_f1: 1.4089\n",
            "Epoch 6/25\n",
            "111/111 [==============================] - 3s 26ms/step - loss: 0.4764 - accuracy: 0.7540 - get_f1: 1.0975 - val_loss: 0.7425 - val_accuracy: 0.6063 - val_get_f1: 1.3967\n",
            "Epoch 7/25\n",
            "111/111 [==============================] - 5s 42ms/step - loss: 0.4329 - accuracy: 0.7865 - get_f1: 1.1009 - val_loss: 0.6049 - val_accuracy: 0.7217 - val_get_f1: 1.3630\n",
            "Epoch 8/25\n",
            "111/111 [==============================] - 3s 26ms/step - loss: 0.3548 - accuracy: 0.8529 - get_f1: 1.0391 - val_loss: 0.4362 - val_accuracy: 0.8405 - val_get_f1: 1.3864\n",
            "Epoch 9/25\n",
            "111/111 [==============================] - 3s 26ms/step - loss: 0.2377 - accuracy: 0.9084 - get_f1: 0.9927 - val_loss: 0.2867 - val_accuracy: 0.9333 - val_get_f1: 1.4919\n",
            "Epoch 10/25\n",
            "111/111 [==============================] - 3s 26ms/step - loss: 0.1255 - accuracy: 0.9596 - get_f1: 0.9487 - val_loss: 0.1190 - val_accuracy: 0.9695 - val_get_f1: 1.4781\n",
            "Epoch 11/25\n",
            "111/111 [==============================] - 3s 26ms/step - loss: 0.0885 - accuracy: 0.9754 - get_f1: 0.9279 - val_loss: 0.0610 - val_accuracy: 0.9842 - val_get_f1: 1.3247\n",
            "Epoch 12/25\n",
            "111/111 [==============================] - 3s 25ms/step - loss: 0.0668 - accuracy: 0.9805 - get_f1: 0.8674 - val_loss: 0.0965 - val_accuracy: 0.9672 - val_get_f1: 1.4218\n",
            "Epoch 13/25\n",
            "111/111 [==============================] - 5s 43ms/step - loss: 0.0687 - accuracy: 0.9794 - get_f1: 0.8384 - val_loss: 0.0987 - val_accuracy: 0.9434 - val_get_f1: 1.3732\n",
            "Epoch 14/25\n",
            "111/111 [==============================] - 3s 25ms/step - loss: 0.0670 - accuracy: 0.9658 - get_f1: 0.8878 - val_loss: 0.0367 - val_accuracy: 0.9672 - val_get_f1: 1.3732\n",
            "Epoch 15/25\n",
            "111/111 [==============================] - 3s 25ms/step - loss: 0.0240 - accuracy: 0.9881 - get_f1: 0.8570 - val_loss: 0.0076 - val_accuracy: 0.9887 - val_get_f1: 1.3237\n",
            "Epoch 16/25\n",
            "111/111 [==============================] - 5s 43ms/step - loss: 0.0101 - accuracy: 0.9946 - get_f1: 0.8314 - val_loss: 0.0012 - val_accuracy: 0.9989 - val_get_f1: 1.2238\n",
            "Epoch 17/25\n",
            "111/111 [==============================] - 3s 26ms/step - loss: 0.0175 - accuracy: 0.9870 - get_f1: 0.8654 - val_loss: 0.0259 - val_accuracy: 0.9717 - val_get_f1: 1.3190\n",
            "Epoch 18/25\n",
            "111/111 [==============================] - 3s 25ms/step - loss: 0.0435 - accuracy: 0.9819 - get_f1: 0.8937 - val_loss: 0.0373 - val_accuracy: 0.9966 - val_get_f1: 1.2517\n",
            "Epoch 19/25\n",
            "111/111 [==============================] - 3s 26ms/step - loss: 0.0378 - accuracy: 0.9910 - get_f1: 0.8080 - val_loss: 0.0649 - val_accuracy: 0.9762 - val_get_f1: 1.2595\n",
            "Epoch 20/25\n",
            "111/111 [==============================] - 3s 26ms/step - loss: 0.0436 - accuracy: 0.9884 - get_f1: 0.7656 - val_loss: 0.0623 - val_accuracy: 0.9751 - val_get_f1: 1.3649\n",
            "Epoch 21/25\n",
            "111/111 [==============================] - 3s 26ms/step - loss: 0.0401 - accuracy: 0.9910 - get_f1: 0.8002 - val_loss: 0.0318 - val_accuracy: 0.9921 - val_get_f1: 1.2267\n",
            "Epoch 22/25\n",
            "111/111 [==============================] - 3s 25ms/step - loss: 0.0147 - accuracy: 0.9941 - get_f1: 0.7768 - val_loss: 0.0444 - val_accuracy: 0.9921 - val_get_f1: 1.2411\n",
            "Epoch 23/25\n",
            "111/111 [==============================] - 3s 25ms/step - loss: 0.0140 - accuracy: 0.9983 - get_f1: 0.7691 - val_loss: 3.5205e-04 - val_accuracy: 1.0000 - val_get_f1: 1.1983\n",
            "Epoch 24/25\n",
            "111/111 [==============================] - 3s 25ms/step - loss: 2.3187e-04 - accuracy: 1.0000 - get_f1: 0.7603 - val_loss: 1.2057e-04 - val_accuracy: 1.0000 - val_get_f1: 1.1981\n",
            "Epoch 25/25\n",
            "111/111 [==============================] - 3s 25ms/step - loss: 3.5423e-05 - accuracy: 1.0000 - get_f1: 0.7612 - val_loss: 1.8342e-05 - val_accuracy: 1.0000 - val_get_f1: 1.1932\n",
            "26/26 [==============================] - 1s 4ms/step\n"
          ]
        }
      ]
    },
    {
      "cell_type": "code",
      "source": [
        "test_output_1=np.array([np.argmax(i)  for i in test_output])\n",
        "from sklearn.metrics import confusion_matrix,accuracy_score\n",
        "print(confusion_matrix(y_test,test_output_1))\n",
        "test_output=pd.DataFrame(test_output)\n",
        "print(accuracy_score(y_test,test_output_1))\n"
      ],
      "metadata": {
        "id": "Q_hmR6MK_Bq5",
        "colab": {
          "base_uri": "https://localhost:8080/"
        },
        "outputId": "245441ea-fc14-439d-9195-3c3e9f81c864"
      },
      "execution_count": 36,
      "outputs": [
        {
          "output_type": "stream",
          "name": "stdout",
          "text": [
            "[[186  59 108]\n",
            " [ 83  74  61]\n",
            " [ 85  31 129]]\n",
            "0.47671568627450983\n"
          ]
        }
      ]
    },
    {
      "cell_type": "code",
      "source": [
        "print(get_f1(y_test.astype('float32'), test_output_1.astype('float32')))"
      ],
      "metadata": {
        "colab": {
          "base_uri": "https://localhost:8080/"
        },
        "id": "ZsHojwC3G8gQ",
        "outputId": "2de50ddc-ca29-4c86-de8a-8a3e71123143"
      },
      "execution_count": 37,
      "outputs": [
        {
          "output_type": "stream",
          "name": "stdout",
          "text": [
            "tf.Tensor(0.6378378, shape=(), dtype=float32)\n"
          ]
        }
      ]
    },
    {
      "cell_type": "code",
      "source": [
        "x_train_reshaped = x_train.reshape(x_train.shape[0], -1)\n",
        "x_test_reshaped = x_test.reshape(x_test.shape[0], -1)\n",
        "savetxt('arrxtrain.csv', x_train_reshaped, delimiter=',')\n",
        "savetxt('arrytrain.csv', y_train, delimiter=',')\n",
        "savetxt('arrxtest.csv', x_test_reshaped, delimiter=',')\n",
        "savetxt('arrytest.csv', y_test, delimiter=',')"
      ],
      "metadata": {
        "id": "oxhtZHtkBWOe"
      },
      "execution_count": 38,
      "outputs": []
    }
  ]
}