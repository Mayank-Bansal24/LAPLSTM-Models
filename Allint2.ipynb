{
  "nbformat": 4,
  "nbformat_minor": 0,
  "metadata": {
    "colab": {
      "provenance": [],
      "include_colab_link": true
    },
    "kernelspec": {
      "name": "python3",
      "display_name": "Python 3"
    },
    "language_info": {
      "name": "python"
    },
    "accelerator": "GPU",
    "gpuClass": "standard"
  },
  "cells": [
    {
      "cell_type": "markdown",
      "metadata": {
        "id": "view-in-github",
        "colab_type": "text"
      },
      "source": [
        "<a href=\"https://colab.research.google.com/github/Mayank-Bansal24/LAPLSTM-Models/blob/main/Allint2.ipynb\" target=\"_parent\"><img src=\"https://colab.research.google.com/assets/colab-badge.svg\" alt=\"Open In Colab\"/></a>"
      ]
    },
    {
      "cell_type": "code",
      "source": [
        "import numpy as np\n",
        "import tensorflow as tf\n",
        "from tensorflow.keras import losses as lo_ss\n",
        "from tensorflow.keras.models import Sequential\n",
        "from tensorflow.keras.layers import LSTM\n",
        "from tensorflow.keras.layers import Dense, Dropout\n",
        "import string\n",
        "import pandas as pd\n",
        "from matplotlib import pyplot as plt\n",
        "from sklearn.preprocessing import StandardScaler\n",
        "import seaborn as sns\n",
        "from sklearn import model_selection\n",
        "from sklearn.datasets import make_classification\n",
        "from sklearn.utils import class_weight\n",
        "from sklearn.metrics import classification_report , roc_auc_score\n",
        "import keras \n",
        "import keras.backend as K\n",
        "from google.colab import drive\n",
        "from numpy import savetxt"
      ],
      "metadata": {
        "id": "V1kLUX7gJ3N_"
      },
      "execution_count": 106,
      "outputs": []
    },
    {
      "cell_type": "code",
      "source": [
        "drive.mount('/content/gdrive')\n"
      ],
      "metadata": {
        "colab": {
          "base_uri": "https://localhost:8080/"
        },
        "id": "HXmXAIAJArT2",
        "outputId": "f9316f81-5acf-476f-e9e5-ce7f779f6f05"
      },
      "execution_count": 107,
      "outputs": [
        {
          "output_type": "stream",
          "name": "stdout",
          "text": [
            "Drive already mounted at /content/gdrive; to attempt to forcibly remount, call drive.mount(\"/content/gdrive\", force_remount=True).\n"
          ]
        }
      ]
    },
    {
      "cell_type": "code",
      "source": [
        "t=2"
      ],
      "metadata": {
        "id": "uLTug-YJDW8D"
      },
      "execution_count": 108,
      "outputs": []
    },
    {
      "cell_type": "code",
      "source": [
        "os.chdir('/content/gdrive/MyDrive/laplstm/allin/t'+str(t))"
      ],
      "metadata": {
        "id": "ubPkwGQnA8Wx"
      },
      "execution_count": 109,
      "outputs": []
    },
    {
      "cell_type": "code",
      "source": [
        "import os\n",
        "github_raw_link=\"https://raw.githubusercontent.com/Aryansh085/LAP/main/858417d1-7d54-4115-a01b-fdda5e03ada3_testing_combined_rows4035_disc_1_0p9_MULTIPLY_preproces_155cols.csv\"\n",
        "df1=pd.read_csv((github_raw_link),header = None)\n",
        "dftemp=np.array(df1)\n",
        "dftemp.shape\n",
        "dftemp2=dftemp[:,5:]\n",
        "dftemp2=np.array(dftemp2)\n",
        "print(dftemp2.shape)"
      ],
      "metadata": {
        "id": "3UWvhrydJ8hA",
        "colab": {
          "base_uri": "https://localhost:8080/"
        },
        "outputId": "f6b54489-34fd-495e-f97a-e2dd1cc9e5f6"
      },
      "execution_count": 110,
      "outputs": [
        {
          "output_type": "stream",
          "name": "stdout",
          "text": [
            "(4035, 150)\n"
          ]
        }
      ]
    },
    {
      "cell_type": "code",
      "source": [
        "# dftemp2\n",
        "dftemp2.shape\n",
        "# dftemp2=pd.DataFrame(dftemp2)\n",
        "# dftemp2.head()"
      ],
      "metadata": {
        "colab": {
          "base_uri": "https://localhost:8080/"
        },
        "id": "h00YSxPn8rUk",
        "outputId": "108f8438-22f2-46ac-9efb-808851c5371e"
      },
      "execution_count": 111,
      "outputs": [
        {
          "output_type": "execute_result",
          "data": {
            "text/plain": [
              "(4035, 150)"
            ]
          },
          "metadata": {},
          "execution_count": 111
        }
      ]
    },
    {
      "cell_type": "markdown",
      "source": [
        "--> muliply the reward of that instance into the loss of that instance to give weight"
      ],
      "metadata": {
        "id": "pPfqIsthYP2X"
      }
    },
    {
      "cell_type": "code",
      "source": [
        "from sklearn.preprocessing import StandardScaler\n",
        "\n",
        "slr=StandardScaler()\n",
        "slr.fit(dftemp2)\n",
        "dftemp2 = slr.transform(dftemp2)"
      ],
      "metadata": {
        "id": "kWYAqDfnO_1i"
      },
      "execution_count": 112,
      "outputs": []
    },
    {
      "cell_type": "code",
      "source": [
        "# f1-score function\n",
        "def get_f1(y_true, y_pred): #taken from old keras source code\n",
        "    true_positives = K.sum(K.round(K.clip(y_true * y_pred, 0, 1)))\n",
        "    possible_positives = K.sum(K.round(K.clip(y_true, 0, 1)))\n",
        "    predicted_positives = K.sum(K.round(K.clip(y_pred, 0, 1)))\n",
        "    precision = true_positives / (predicted_positives + K.epsilon())\n",
        "    recall = true_positives / (possible_positives + K.epsilon())\n",
        "    f1_val = 2*(precision*recall)/(precision+recall+K.epsilon())\n",
        "    return f1_val\n",
        "    "
      ],
      "metadata": {
        "id": "4i-6LDL58GyW"
      },
      "execution_count": 113,
      "outputs": []
    },
    {
      "cell_type": "code",
      "source": [],
      "metadata": {
        "id": "83zizsyvKHzh"
      },
      "execution_count": 113,
      "outputs": []
    },
    {
      "cell_type": "code",
      "source": [
        "y=np.array(dftemp[:,0])\n",
        "print(y)\n",
        "y_new=y[t:]\n",
        "y_new.shape\n"
      ],
      "metadata": {
        "colab": {
          "base_uri": "https://localhost:8080/"
        },
        "id": "XmXnkjOiKIGQ",
        "outputId": "0c39d22f-e00e-4a61-8c8e-e19f3794f2c6"
      },
      "execution_count": 114,
      "outputs": [
        {
          "output_type": "stream",
          "name": "stdout",
          "text": [
            "[2. 0. 0. ... 0. 2. 2.]\n"
          ]
        },
        {
          "output_type": "execute_result",
          "data": {
            "text/plain": [
              "(4033,)"
            ]
          },
          "metadata": {},
          "execution_count": 114
        }
      ]
    },
    {
      "cell_type": "code",
      "source": [
        "x=np.array(dftemp2)\n",
        "# print(x)\n",
        "# print(x.shape)\n",
        "x.shape,y_new.shape"
      ],
      "metadata": {
        "colab": {
          "base_uri": "https://localhost:8080/"
        },
        "id": "3JPzLQQmKhZk",
        "outputId": "23e8e2df-a6fe-4898-a3e7-a6767694d1be"
      },
      "execution_count": 115,
      "outputs": [
        {
          "output_type": "execute_result",
          "data": {
            "text/plain": [
              "((4035, 150), (4033,))"
            ]
          },
          "metadata": {},
          "execution_count": 115
        }
      ]
    },
    {
      "cell_type": "code",
      "source": [
        "x_3d=[]\n",
        "for i in range(4035-t):\n",
        "  tmp=[]\n",
        "  for j in range(t):\n",
        "    tmp.append(x[j+i])\n",
        "  x_3d.append(tmp)\n",
        "x_3d= np.array(x_3d)\n",
        "x_3d.shape"
      ],
      "metadata": {
        "colab": {
          "base_uri": "https://localhost:8080/"
        },
        "id": "hdDY6fhENZ2-",
        "outputId": "743ae9da-2788-4368-f61e-01042dde53ff"
      },
      "execution_count": 116,
      "outputs": [
        {
          "output_type": "execute_result",
          "data": {
            "text/plain": [
              "(4033, 2, 150)"
            ]
          },
          "metadata": {},
          "execution_count": 116
        }
      ]
    },
    {
      "cell_type": "code",
      "source": [
        "train_test_ratio=0.8\n",
        "print(x_3d.shape[0])\n",
        "x_train=[]\n",
        "y_train=[]\n",
        "x_test=[]\n",
        "y_test=[]\n",
        "for i in range(x_3d.shape[0]):\n",
        "  l=[]\n",
        "  ly=[]\n",
        "  no=np.random.randint(100)\n",
        "  if(no<80):\n",
        "    l=x_3d[i]\n",
        "    ly=y_new[i]\n",
        "    x_train.append(l)\n",
        "    y_train.append(ly)\n",
        "  else:\n",
        "    l=x_3d[i]\n",
        "    ly=y_new[i]\n",
        "    x_test.append(l)\n",
        "    y_test.append(ly)\n",
        "\n",
        "\n",
        "x_train=np.array(x_train)\n",
        "y_train=np.array(y_train)\n",
        "x_test=np.array(x_test)\n",
        "y_test=np.array(y_test)\n",
        "x_train.shape,y_train.shape,x_test.shape,y_test.shape"
      ],
      "metadata": {
        "colab": {
          "base_uri": "https://localhost:8080/"
        },
        "id": "AwnZ3Mh1Khi8",
        "outputId": "51083a97-23c9-49fb-cb29-5a4e49e680e6"
      },
      "execution_count": 117,
      "outputs": [
        {
          "output_type": "stream",
          "name": "stdout",
          "text": [
            "4033\n"
          ]
        },
        {
          "output_type": "execute_result",
          "data": {
            "text/plain": [
              "((3209, 2, 150), (3209,), (824, 2, 150), (824,))"
            ]
          },
          "metadata": {},
          "execution_count": 117
        }
      ]
    },
    {
      "cell_type": "code",
      "source": [
        "cnt0=0\n",
        "cnt1=0\n",
        "cnt2=0\n",
        "for i in range(x_train.shape[0]):\n",
        "  if(y_train[i]==0):\n",
        "    cnt0+=1\n",
        "  elif(y_train[i]==1):\n",
        "    cnt1+=1\n",
        "  elif(y_train[i]==2):\n",
        "    cnt2+=1\n",
        "print(cnt0)\n",
        "print(cnt1)\n",
        "print(cnt2)  "
      ],
      "metadata": {
        "colab": {
          "base_uri": "https://localhost:8080/"
        },
        "id": "xlijLVYecmcq",
        "outputId": "f41c2125-adba-4222-bc1c-ba044c5dd6b8"
      },
      "execution_count": 118,
      "outputs": [
        {
          "output_type": "stream",
          "name": "stdout",
          "text": [
            "1459\n",
            "828\n",
            "922\n"
          ]
        }
      ]
    },
    {
      "cell_type": "code",
      "source": [
        "x_train_1=[]\n",
        "y_train_1=[]\n",
        "c1=0\n",
        "c2=0\n",
        "c3=0\n",
        "for i in range(x_train.shape[0]):\n",
        "  if(y_train[i]==0):\n",
        "    x_train_1.append(x_train[i])\n",
        "    y_train_1.append(0)\n",
        "    c1+=1\n",
        "  elif(y_train[i]==1):\n",
        "    x_train_1.append(x_train[i])\n",
        "    y_train_1.append(1)\n",
        "    c2+=1\n",
        "  elif(y_train[i]==2 ):\n",
        "    x_train_1.append(x_train[i])\n",
        "    y_train_1.append(2)\n",
        "    c3=c3+1\n",
        "for i in range(x_train.shape[0]):\n",
        "  if(y_train[i]==1):\n",
        "    no=np.random.randint(100)\n",
        "    if(no>=30):\n",
        "      x_train_1.append(x_train[i])\n",
        "      y_train_1.append(1)\n",
        "      c2+=1\n",
        "  elif(y_train[i]==2 ):\n",
        "    no=np.random.randint(100)\n",
        "    if(no>=27):\n",
        "      x_train_1.append(x_train[i])\n",
        "      y_train_1.append(2)\n",
        "      c3+=1\n",
        "\n",
        "y_train=[]\n",
        "y_train=y_train_1\n",
        "x_train=[]\n",
        "x_train=x_train_1\n",
        "x_train=np.array(x_train)\n",
        "y_train=np.array(y_train)\n",
        "print(c1)\n",
        "print(c2)\n",
        "print(c3)"
      ],
      "metadata": {
        "id": "PqOHcbhQcuo8",
        "colab": {
          "base_uri": "https://localhost:8080/"
        },
        "outputId": "1f6e8ef9-a6b8-4e0c-b9ff-4fb677434006"
      },
      "execution_count": 119,
      "outputs": [
        {
          "output_type": "stream",
          "name": "stdout",
          "text": [
            "1459\n",
            "1398\n",
            "1580\n"
          ]
        }
      ]
    },
    {
      "cell_type": "code",
      "source": [
        "sklearn_weights=class_weight.compute_class_weight(class_weight='balanced',classes=np.unique(y_train),y=y_train)\n",
        "sklearn_weights=dict(zip(np.unique(y_train),sklearn_weights))\n",
        "sklearn_weights"
      ],
      "metadata": {
        "colab": {
          "base_uri": "https://localhost:8080/"
        },
        "id": "EYzwuCcAbDKT",
        "outputId": "fd0fbd12-475a-4ac3-eee9-43ee2e7335ae"
      },
      "execution_count": 120,
      "outputs": [
        {
          "output_type": "execute_result",
          "data": {
            "text/plain": [
              "{0: 1.0137080191912269, 1: 1.05793991416309, 2: 0.9360759493670886}"
            ]
          },
          "metadata": {},
          "execution_count": 120
        }
      ]
    },
    {
      "cell_type": "code",
      "source": [
        "\n",
        "# model = Sequential()\n",
        "# model.add(LSTM(200, activation='relu', return_sequences=True, input_shape=( t,150,)))\n",
        "# model.add(LSTM(100, activation='relu', return_sequences=True))\n",
        "# model.add(LSTM(50, activation='relu', return_sequences=True))\n",
        "# model.add(LSTM(25, activation='relu'))\n",
        "# model.add(Dense(20, activation='relu'))\n",
        "# model.add(Dense(10, activation='relu'))\n",
        "# model.add(Dense(3))\n",
        "# model.compile(optimizer='SGD', loss='sparse_categorical_crossentropy',metrics=['accuracy'])\n",
        "# history = model.fit(x_train, y_train, epochs=10, validation_split=0.2, verbose=1)\n",
        "# test_output = model.predict(x_test, verbose=1)\n",
        "# # history = model.fit(X, Y, epochs=1000, validation_split=0.2, verbose=1)\n",
        "# # test_output = model.predict(x=, verbose=0)\n",
        "# # print(test_output)"
      ],
      "metadata": {
        "id": "rhgsSos1KIbA"
      },
      "execution_count": 121,
      "outputs": []
    },
    {
      "cell_type": "code",
      "source": [
        "# sklearn_weights={0:1738,1:2348,2:2362}\n",
        "model = Sequential()\n",
        "model.add(LSTM(200, activation='relu', return_sequences=True, input_shape=( t,150,)))\n",
        "model.add(LSTM(400, activation='relu', return_sequences=True))\n",
        "model.add(LSTM(800, activation='relu', return_sequences=True))\n",
        "model.add(LSTM(150, activation='relu'))\n",
        "model.add(Dense(100, activation='relu'))\n",
        "model.add(Dense(64, activation='relu'))\n",
        "model.add(Dense(10, activation='relu'))\n",
        "model.add(Dense(3,activation='sigmoid'))\n",
        "optimi=keras.optimizers.Adam()\n",
        "model.compile(optimizer=optimi, loss='sparse_categorical_crossentropy',metrics=['accuracy',get_f1])\n",
        "\n",
        "# history = model.fit(x_train, y_train, epochs=30, validation_split=0.2, verbose=1)\n",
        "history = model.fit(x_train, y_train, epochs=25, validation_split=0.2, verbose=1,class_weight=sklearn_weights)\n",
        "test_output = model.predict(x_test, verbose=1)\n"
      ],
      "metadata": {
        "colab": {
          "base_uri": "https://localhost:8080/"
        },
        "id": "lwHPGS2iXMXc",
        "outputId": "0752c902-ca9a-4136-8216-39d67d0e50e6"
      },
      "execution_count": 122,
      "outputs": [
        {
          "output_type": "stream",
          "name": "stderr",
          "text": [
            "WARNING:tensorflow:Layer lstm_12 will not use cuDNN kernels since it doesn't meet the criteria. It will use a generic GPU kernel as fallback when running on GPU.\n",
            "WARNING:tensorflow:Layer lstm_13 will not use cuDNN kernels since it doesn't meet the criteria. It will use a generic GPU kernel as fallback when running on GPU.\n",
            "WARNING:tensorflow:Layer lstm_14 will not use cuDNN kernels since it doesn't meet the criteria. It will use a generic GPU kernel as fallback when running on GPU.\n",
            "WARNING:tensorflow:Layer lstm_15 will not use cuDNN kernels since it doesn't meet the criteria. It will use a generic GPU kernel as fallback when running on GPU.\n"
          ]
        },
        {
          "output_type": "stream",
          "name": "stdout",
          "text": [
            "Epoch 1/25\n",
            "111/111 [==============================] - 8s 32ms/step - loss: 1.0897 - accuracy: 0.4080 - get_f1: 1.4954 - val_loss: 1.2196 - val_accuracy: 0.0000e+00 - val_get_f1: 2.1369\n",
            "Epoch 2/25\n",
            "111/111 [==============================] - 5s 45ms/step - loss: 1.0778 - accuracy: 0.4111 - get_f1: 1.4944 - val_loss: 1.2203 - val_accuracy: 0.0000e+00 - val_get_f1: 2.1369\n",
            "Epoch 3/25\n",
            "111/111 [==============================] - 3s 26ms/step - loss: 1.0171 - accuracy: 0.4644 - get_f1: 1.3772 - val_loss: 1.1365 - val_accuracy: 0.2872 - val_get_f1: 1.8804\n",
            "Epoch 4/25\n",
            "111/111 [==============================] - 3s 27ms/step - loss: 0.8639 - accuracy: 0.5723 - get_f1: 1.3007 - val_loss: 0.8085 - val_accuracy: 0.5484 - val_get_f1: 1.5807\n",
            "Epoch 5/25\n",
            "111/111 [==============================] - 3s 25ms/step - loss: 0.6570 - accuracy: 0.6686 - get_f1: 1.1495 - val_loss: 0.8027 - val_accuracy: 0.5991 - val_get_f1: 1.4637\n",
            "Epoch 6/25\n",
            "111/111 [==============================] - 3s 26ms/step - loss: 0.5239 - accuracy: 0.7275 - get_f1: 1.0956 - val_loss: 0.7124 - val_accuracy: 0.6284 - val_get_f1: 1.3774\n",
            "Epoch 7/25\n",
            "111/111 [==============================] - 3s 30ms/step - loss: 0.4272 - accuracy: 0.7537 - get_f1: 1.0756 - val_loss: 0.5772 - val_accuracy: 0.5800 - val_get_f1: 1.3363\n",
            "Epoch 8/25\n",
            "111/111 [==============================] - 5s 42ms/step - loss: 0.3673 - accuracy: 0.7520 - get_f1: 1.0764 - val_loss: 0.6723 - val_accuracy: 0.6149 - val_get_f1: 1.3461\n",
            "Epoch 9/25\n",
            "111/111 [==============================] - 3s 27ms/step - loss: 0.3949 - accuracy: 0.7495 - get_f1: 1.0645 - val_loss: 0.4617 - val_accuracy: 0.5360 - val_get_f1: 1.3214\n",
            "Epoch 10/25\n",
            "111/111 [==============================] - 3s 26ms/step - loss: 0.3574 - accuracy: 0.7326 - get_f1: 1.0426 - val_loss: 0.5742 - val_accuracy: 0.6374 - val_get_f1: 1.3033\n",
            "Epoch 11/25\n",
            "111/111 [==============================] - 3s 27ms/step - loss: 0.2155 - accuracy: 0.7689 - get_f1: 0.9954 - val_loss: 0.1888 - val_accuracy: 0.6791 - val_get_f1: 1.2591\n",
            "Epoch 12/25\n",
            "111/111 [==============================] - 3s 27ms/step - loss: 0.1069 - accuracy: 0.7760 - get_f1: 0.9760 - val_loss: 0.1668 - val_accuracy: 0.6295 - val_get_f1: 1.2321\n",
            "Epoch 13/25\n",
            "111/111 [==============================] - 3s 26ms/step - loss: 0.0613 - accuracy: 0.7461 - get_f1: 0.9646 - val_loss: 0.0817 - val_accuracy: 0.4752 - val_get_f1: 1.2564\n",
            "Epoch 14/25\n",
            "111/111 [==============================] - 3s 27ms/step - loss: 0.0568 - accuracy: 0.7419 - get_f1: 0.9594 - val_loss: 0.0333 - val_accuracy: 0.5327 - val_get_f1: 1.2312\n",
            "Epoch 15/25\n",
            "111/111 [==============================] - 3s 27ms/step - loss: 0.0340 - accuracy: 0.7368 - get_f1: 0.9494 - val_loss: 0.1002 - val_accuracy: 0.5676 - val_get_f1: 1.2304\n",
            "Epoch 16/25\n",
            "111/111 [==============================] - 3s 27ms/step - loss: 0.0408 - accuracy: 0.7413 - get_f1: 0.9498 - val_loss: 0.0437 - val_accuracy: 0.5642 - val_get_f1: 1.2258\n",
            "Epoch 17/25\n",
            "111/111 [==============================] - 3s 27ms/step - loss: 0.0188 - accuracy: 0.7179 - get_f1: 0.9485 - val_loss: 0.0202 - val_accuracy: 0.4583 - val_get_f1: 1.2318\n",
            "Epoch 18/25\n",
            "111/111 [==============================] - 3s 27ms/step - loss: 0.0272 - accuracy: 0.7191 - get_f1: 0.9477 - val_loss: 0.0266 - val_accuracy: 0.4899 - val_get_f1: 1.2236\n",
            "Epoch 19/25\n",
            "111/111 [==============================] - 3s 27ms/step - loss: 0.0390 - accuracy: 0.7422 - get_f1: 0.9437 - val_loss: 0.0197 - val_accuracy: 0.5011 - val_get_f1: 1.2206\n",
            "Epoch 20/25\n",
            "111/111 [==============================] - 3s 26ms/step - loss: 0.0744 - accuracy: 0.8991 - get_f1: 0.9542 - val_loss: 0.0639 - val_accuracy: 0.9122 - val_get_f1: 1.2402\n",
            "Epoch 21/25\n",
            "111/111 [==============================] - 3s 27ms/step - loss: 0.0461 - accuracy: 0.9608 - get_f1: 0.9671 - val_loss: 0.0188 - val_accuracy: 0.9550 - val_get_f1: 1.2408\n",
            "Epoch 22/25\n",
            "111/111 [==============================] - 3s 26ms/step - loss: 0.0544 - accuracy: 0.9808 - get_f1: 0.9327 - val_loss: 0.0342 - val_accuracy: 0.9797 - val_get_f1: 1.2463\n",
            "Epoch 23/25\n",
            "111/111 [==============================] - 3s 27ms/step - loss: 0.0172 - accuracy: 0.9921 - get_f1: 0.9504 - val_loss: 0.0279 - val_accuracy: 0.9842 - val_get_f1: 1.2490\n",
            "Epoch 24/25\n",
            "111/111 [==============================] - 3s 27ms/step - loss: 0.0101 - accuracy: 0.9884 - get_f1: 0.9547 - val_loss: 0.0267 - val_accuracy: 0.9820 - val_get_f1: 1.2448\n",
            "Epoch 25/25\n",
            "111/111 [==============================] - 3s 26ms/step - loss: 0.0077 - accuracy: 0.9958 - get_f1: 0.9665 - val_loss: 0.0071 - val_accuracy: 0.9921 - val_get_f1: 1.2514\n",
            "26/26 [==============================] - 1s 4ms/step\n"
          ]
        }
      ]
    },
    {
      "cell_type": "code",
      "source": [
        "test_output_1=np.array([np.argmax(i)  for i in test_output])\n",
        "from sklearn.metrics import confusion_matrix,accuracy_score\n",
        "print(confusion_matrix(y_test,test_output_1))\n",
        "test_output=pd.DataFrame(test_output)\n",
        "print(accuracy_score(y_test,test_output_1))\n",
        "# print(get_f1(y_test,test_output_1))"
      ],
      "metadata": {
        "id": "Q_hmR6MK_Bq5",
        "colab": {
          "base_uri": "https://localhost:8080/"
        },
        "outputId": "79a3d0f8-83da-4d20-9b24-98cd1fe7df04"
      },
      "execution_count": 123,
      "outputs": [
        {
          "output_type": "stream",
          "name": "stdout",
          "text": [
            "[[199 106  62]\n",
            " [ 83 120  24]\n",
            " [ 66  65  99]]\n",
            "0.5072815533980582\n"
          ]
        }
      ]
    },
    {
      "cell_type": "code",
      "source": [
        "x_train_reshaped = x_train.reshape(x_train.shape[0], -1)\n",
        "x_test_reshaped = x_test.reshape(x_test.shape[0], -1)\n",
        "savetxt('arrxtrain.csv', x_train_reshaped, delimiter=',')\n",
        "savetxt('arrytrain.csv', y_train, delimiter=',')\n",
        "savetxt('arrxtest.csv', x_test_reshaped, delimiter=',')\n",
        "savetxt('arrytest.csv', y_test, delimiter=',')"
      ],
      "metadata": {
        "id": "oxhtZHtkBWOe"
      },
      "execution_count": 124,
      "outputs": []
    }
  ]
}