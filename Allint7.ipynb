{
  "nbformat": 4,
  "nbformat_minor": 0,
  "metadata": {
    "colab": {
      "provenance": [],
      "include_colab_link": true
    },
    "kernelspec": {
      "name": "python3",
      "display_name": "Python 3"
    },
    "language_info": {
      "name": "python"
    },
    "accelerator": "GPU",
    "gpuClass": "standard"
  },
  "cells": [
    {
      "cell_type": "markdown",
      "metadata": {
        "id": "view-in-github",
        "colab_type": "text"
      },
      "source": [
        "<a href=\"https://colab.research.google.com/github/Mayank-Bansal24/LAPLSTM-Models/blob/main/Allint7.ipynb\" target=\"_parent\"><img src=\"https://colab.research.google.com/assets/colab-badge.svg\" alt=\"Open In Colab\"/></a>"
      ]
    },
    {
      "cell_type": "code",
      "source": [
        "import numpy as np\n",
        "import tensorflow as tf\n",
        "from tensorflow.keras import losses as lo_ss\n",
        "from tensorflow.keras.models import Sequential\n",
        "from tensorflow.keras.layers import LSTM\n",
        "from tensorflow.keras.layers import Dense, Dropout\n",
        "import string\n",
        "import pandas as pd\n",
        "from matplotlib import pyplot as plt\n",
        "from sklearn.preprocessing import StandardScaler\n",
        "import seaborn as sns\n",
        "from sklearn import model_selection\n",
        "from sklearn.datasets import make_classification\n",
        "from sklearn.utils import class_weight\n",
        "from sklearn.metrics import classification_report , roc_auc_score\n",
        "import keras \n",
        "import keras.backend as K\n",
        "from google.colab import drive\n",
        "from numpy import savetxt\n",
        "import os"
      ],
      "metadata": {
        "id": "V1kLUX7gJ3N_"
      },
      "execution_count": 79,
      "outputs": []
    },
    {
      "cell_type": "code",
      "source": [
        "drive.mount('/content/gdrive')\n"
      ],
      "metadata": {
        "colab": {
          "base_uri": "https://localhost:8080/"
        },
        "id": "HXmXAIAJArT2",
        "outputId": "a9b778a6-fbd9-4a0b-ed8a-73e857619e83"
      },
      "execution_count": 80,
      "outputs": [
        {
          "output_type": "stream",
          "name": "stdout",
          "text": [
            "Drive already mounted at /content/gdrive; to attempt to forcibly remount, call drive.mount(\"/content/gdrive\", force_remount=True).\n"
          ]
        }
      ]
    },
    {
      "cell_type": "code",
      "source": [
        "t=7"
      ],
      "metadata": {
        "id": "uLTug-YJDW8D"
      },
      "execution_count": 81,
      "outputs": []
    },
    {
      "cell_type": "code",
      "source": [
        "os.chdir('/content/gdrive/MyDrive/laplstm/allin/t'+str(t))"
      ],
      "metadata": {
        "id": "ubPkwGQnA8Wx"
      },
      "execution_count": 82,
      "outputs": []
    },
    {
      "cell_type": "code",
      "source": [
        "import os\n",
        "github_raw_link=\"https://raw.githubusercontent.com/Aryansh085/LAP/main/858417d1-7d54-4115-a01b-fdda5e03ada3_testing_combined_rows4035_disc_1_0p9_MULTIPLY_preproces_155cols.csv\"\n",
        "df1=pd.read_csv((github_raw_link),header = None)\n",
        "dftemp=np.array(df1)\n",
        "dftemp.shape\n",
        "dftemp2=dftemp[:,5:]\n",
        "dftemp2=np.array(dftemp2)\n",
        "print(dftemp2.shape)"
      ],
      "metadata": {
        "id": "3UWvhrydJ8hA",
        "colab": {
          "base_uri": "https://localhost:8080/"
        },
        "outputId": "e55b3268-79ce-4f12-f7e6-52bb916ebdfd"
      },
      "execution_count": 83,
      "outputs": [
        {
          "output_type": "stream",
          "name": "stdout",
          "text": [
            "(4035, 150)\n"
          ]
        }
      ]
    },
    {
      "cell_type": "code",
      "source": [
        "# dftemp2\n",
        "dftemp2.shape\n",
        "# dftemp2=pd.DataFrame(dftemp2)\n",
        "# dftemp2.head()"
      ],
      "metadata": {
        "colab": {
          "base_uri": "https://localhost:8080/"
        },
        "id": "h00YSxPn8rUk",
        "outputId": "44fc0e86-8ab7-4eb5-fb58-0558c47d65d1"
      },
      "execution_count": 84,
      "outputs": [
        {
          "output_type": "execute_result",
          "data": {
            "text/plain": [
              "(4035, 150)"
            ]
          },
          "metadata": {},
          "execution_count": 84
        }
      ]
    },
    {
      "cell_type": "markdown",
      "source": [
        "--> muliply the reward of that instance into the loss of that instance to give weight"
      ],
      "metadata": {
        "id": "pPfqIsthYP2X"
      }
    },
    {
      "cell_type": "code",
      "source": [
        "from sklearn.preprocessing import StandardScaler\n",
        "\n",
        "slr=StandardScaler()\n",
        "slr.fit(dftemp2)\n",
        "dftemp2 = slr.transform(dftemp2)"
      ],
      "metadata": {
        "id": "kWYAqDfnO_1i"
      },
      "execution_count": 85,
      "outputs": []
    },
    {
      "cell_type": "code",
      "source": [
        "# f1-score function\n",
        "def get_f1(y_true, y_pred): #taken from old keras source code\n",
        "    true_positives = K.sum(K.round(K.clip(y_true * y_pred, 0, 1)))\n",
        "    possible_positives = K.sum(K.round(K.clip(y_true, 0, 1)))\n",
        "    predicted_positives = K.sum(K.round(K.clip(y_pred, 0, 1)))\n",
        "    precision = true_positives / (predicted_positives + K.epsilon())\n",
        "    recall = true_positives / (possible_positives + K.epsilon())\n",
        "    f1_val = 2*(precision*recall)/(precision+recall+K.epsilon())\n",
        "    return f1_val\n",
        "    "
      ],
      "metadata": {
        "id": "4i-6LDL58GyW"
      },
      "execution_count": 86,
      "outputs": []
    },
    {
      "cell_type": "code",
      "source": [
        "y=np.array(dftemp[:,0])\n",
        "print(y)\n",
        "y_new=y[t:]\n",
        "y_new.shape\n"
      ],
      "metadata": {
        "colab": {
          "base_uri": "https://localhost:8080/"
        },
        "id": "XmXnkjOiKIGQ",
        "outputId": "6ef862f8-dd11-4b6e-8cd6-5d9b7dd80614"
      },
      "execution_count": 87,
      "outputs": [
        {
          "output_type": "stream",
          "name": "stdout",
          "text": [
            "[2. 0. 0. ... 0. 2. 2.]\n"
          ]
        },
        {
          "output_type": "execute_result",
          "data": {
            "text/plain": [
              "(4028,)"
            ]
          },
          "metadata": {},
          "execution_count": 87
        }
      ]
    },
    {
      "cell_type": "code",
      "source": [
        "x=np.array(dftemp2)\n",
        "# print(x)\n",
        "# print(x.shape)\n",
        "x.shape,y_new.shape"
      ],
      "metadata": {
        "colab": {
          "base_uri": "https://localhost:8080/"
        },
        "id": "3JPzLQQmKhZk",
        "outputId": "58d28d2f-77b2-4a03-b86f-50a4e51e0a85"
      },
      "execution_count": 88,
      "outputs": [
        {
          "output_type": "execute_result",
          "data": {
            "text/plain": [
              "((4035, 150), (4028,))"
            ]
          },
          "metadata": {},
          "execution_count": 88
        }
      ]
    },
    {
      "cell_type": "code",
      "source": [
        "x_3d=[]\n",
        "for i in range(4035-t):\n",
        "  tmp=[]\n",
        "  for j in range(t):\n",
        "    tmp.append(x[j+i])\n",
        "  x_3d.append(tmp)\n",
        "x_3d= np.array(x_3d)\n",
        "x_3d.shape"
      ],
      "metadata": {
        "colab": {
          "base_uri": "https://localhost:8080/"
        },
        "id": "hdDY6fhENZ2-",
        "outputId": "7d238b59-1a94-4871-943a-a315e22eefc9"
      },
      "execution_count": 89,
      "outputs": [
        {
          "output_type": "execute_result",
          "data": {
            "text/plain": [
              "(4028, 7, 150)"
            ]
          },
          "metadata": {},
          "execution_count": 89
        }
      ]
    },
    {
      "cell_type": "code",
      "source": [
        "train_test_ratio=0.8\n",
        "print(x_3d.shape[0])\n",
        "x_train=[]\n",
        "y_train=[]\n",
        "x_test=[]\n",
        "y_test=[]\n",
        "for i in range(x_3d.shape[0]):\n",
        "  l=[]\n",
        "  ly=[]\n",
        "  no=np.random.randint(100)\n",
        "  if(no<80):\n",
        "    l=x_3d[i]\n",
        "    ly=y_new[i]\n",
        "    x_train.append(l)\n",
        "    y_train.append(ly)\n",
        "  else:\n",
        "    l=x_3d[i]\n",
        "    ly=y_new[i]\n",
        "    x_test.append(l)\n",
        "    y_test.append(ly)\n",
        "\n",
        "\n",
        "x_train=np.array(x_train)\n",
        "y_train=np.array(y_train)\n",
        "x_test=np.array(x_test)\n",
        "y_test=np.array(y_test)\n",
        "x_train.shape,y_train.shape,x_test.shape,y_test.shape"
      ],
      "metadata": {
        "colab": {
          "base_uri": "https://localhost:8080/"
        },
        "id": "AwnZ3Mh1Khi8",
        "outputId": "540f6156-95c1-418b-8ff3-df29292b26e8"
      },
      "execution_count": 90,
      "outputs": [
        {
          "output_type": "stream",
          "name": "stdout",
          "text": [
            "4028\n"
          ]
        },
        {
          "output_type": "execute_result",
          "data": {
            "text/plain": [
              "((3276, 7, 150), (3276,), (752, 7, 150), (752,))"
            ]
          },
          "metadata": {},
          "execution_count": 90
        }
      ]
    },
    {
      "cell_type": "code",
      "source": [
        "cnt0=0\n",
        "cnt1=0\n",
        "cnt2=0\n",
        "for i in range(x_train.shape[0]):\n",
        "  if(y_train[i]==0):\n",
        "    cnt0+=1\n",
        "  elif(y_train[i]==1):\n",
        "    cnt1+=1\n",
        "  elif(y_train[i]==2):\n",
        "    cnt2+=1\n",
        "print(cnt0)\n",
        "print(cnt1)\n",
        "print(cnt2)  "
      ],
      "metadata": {
        "colab": {
          "base_uri": "https://localhost:8080/"
        },
        "id": "xlijLVYecmcq",
        "outputId": "0e5f1bf7-726f-43d9-b76b-6f16cbcc1075"
      },
      "execution_count": 91,
      "outputs": [
        {
          "output_type": "stream",
          "name": "stdout",
          "text": [
            "1468\n",
            "854\n",
            "954\n"
          ]
        }
      ]
    },
    {
      "cell_type": "code",
      "source": [
        "x_train_1=[]\n",
        "y_train_1=[]\n",
        "c1=0\n",
        "c2=0\n",
        "c3=0\n",
        "x1=(cnt1-cnt0)/(cnt1)\n",
        "x1=x1*(-100)\n",
        "x1=int(x1)\n",
        "print(x1)\n",
        "x2=(cnt2-cnt0)/(cnt2)\n",
        "x2=x2*(-100)\n",
        "x2=int(x2)\n",
        "print(x2)\n",
        "for i in range(x_train.shape[0]):\n",
        "  if(y_train[i]==0):\n",
        "    x_train_1.append(x_train[i])\n",
        "    y_train_1.append(0)\n",
        "    c1+=1\n",
        "  elif(y_train[i]==1):\n",
        "    x_train_1.append(x_train[i])\n",
        "    y_train_1.append(1)\n",
        "    c2+=1\n",
        "  elif(y_train[i]==2 ):\n",
        "    x_train_1.append(x_train[i])\n",
        "    y_train_1.append(2)\n",
        "    c3=c3+1\n",
        "for i in range(x_train.shape[0]):\n",
        "  if(y_train[i]==1):\n",
        "    no=np.random.randint(100)\n",
        "    if(no>=100-x1):\n",
        "      x_train_1.append(x_train[i])\n",
        "      y_train_1.append(1)\n",
        "      c2+=1\n",
        "  elif(y_train[i]==2 ):\n",
        "    no=np.random.randint(100)\n",
        "    if(no>=100-x2):\n",
        "      x_train_1.append(x_train[i])\n",
        "      y_train_1.append(2)\n",
        "      c3+=1\n",
        "\n",
        "y_train=[]\n",
        "y_train=y_train_1\n",
        "x_train=[]\n",
        "x_train=x_train_1\n",
        "x_train=np.array(x_train)\n",
        "y_train=np.array(y_train)\n",
        "print(c1)\n",
        "print(c2)\n",
        "print(c3)"
      ],
      "metadata": {
        "id": "PqOHcbhQcuo8",
        "colab": {
          "base_uri": "https://localhost:8080/"
        },
        "outputId": "ab66ef80-6ace-4710-8305-9cd02bc69db4"
      },
      "execution_count": 92,
      "outputs": [
        {
          "output_type": "stream",
          "name": "stdout",
          "text": [
            "71\n",
            "53\n",
            "1468\n",
            "1465\n",
            "1454\n"
          ]
        }
      ]
    },
    {
      "cell_type": "code",
      "source": [
        "sklearn_weights=class_weight.compute_class_weight(class_weight='balanced',classes=np.unique(y_train),y=y_train)\n",
        "sklearn_weights=dict(zip(np.unique(y_train),sklearn_weights))\n",
        "sklearn_weights"
      ],
      "metadata": {
        "colab": {
          "base_uri": "https://localhost:8080/"
        },
        "id": "EYzwuCcAbDKT",
        "outputId": "dba7783d-5081-4f31-979c-e4b172011a30"
      },
      "execution_count": 93,
      "outputs": [
        {
          "output_type": "execute_result",
          "data": {
            "text/plain": [
              "{0: 0.9961398728428701, 1: 0.9981797497155859, 2: 1.0057313159101329}"
            ]
          },
          "metadata": {},
          "execution_count": 93
        }
      ]
    },
    {
      "cell_type": "code",
      "source": [
        "\n",
        "# model = Sequential()\n",
        "# model.add(LSTM(200, activation='relu', return_sequences=True, input_shape=( t,150,)))\n",
        "# model.add(LSTM(100, activation='relu', return_sequences=True))\n",
        "# model.add(LSTM(50, activation='relu', return_sequences=True))\n",
        "# model.add(LSTM(25, activation='relu'))\n",
        "# model.add(Dense(20, activation='relu'))\n",
        "# model.add(Dense(10, activation='relu'))\n",
        "# model.add(Dense(3))\n",
        "# model.compile(optimizer='SGD', loss='sparse_categorical_crossentropy',metrics=['accuracy'])\n",
        "# history = model.fit(x_train, y_train, epochs=10, validation_split=0.2, verbose=1)\n",
        "# test_output = model.predict(x_test, verbose=1)\n",
        "# # history = model.fit(X, Y, epochs=1000, validation_split=0.2, verbose=1)\n",
        "# # test_output = model.predict(x=, verbose=0)\n",
        "# # print(test_output)"
      ],
      "metadata": {
        "id": "rhgsSos1KIbA"
      },
      "execution_count": 94,
      "outputs": []
    },
    {
      "cell_type": "code",
      "source": [
        "# sklearn_weights={0:1738,1:2348,2:2362}\n",
        "model = Sequential()\n",
        "model.add(LSTM(200, activation='relu', return_sequences=True, input_shape=( t,150,)))\n",
        "model.add(LSTM(400, activation='relu', return_sequences=True))\n",
        "model.add(LSTM(800, activation='relu', return_sequences=True))\n",
        "model.add(LSTM(150, activation='relu'))\n",
        "model.add(Dense(100, activation='relu'))\n",
        "model.add(Dense(64, activation='relu'))\n",
        "model.add(Dense(10, activation='relu'))\n",
        "model.add(Dense(3,activation='sigmoid'))\n",
        "optimi=keras.optimizers.Adam()\n",
        "model.compile(optimizer=optimi, loss='sparse_categorical_crossentropy',metrics=['accuracy',get_f1])\n",
        "\n",
        "# history = model.fit(x_train, y_train, epochs=30, validation_split=0.2, verbose=1)\n",
        "history = model.fit(x_train, y_train, epochs=25, validation_split=0.2, verbose=1,class_weight=sklearn_weights)\n",
        "test_output = model.predict(x_test, verbose=1)\n"
      ],
      "metadata": {
        "colab": {
          "base_uri": "https://localhost:8080/"
        },
        "id": "lwHPGS2iXMXc",
        "outputId": "fc542797-3b16-4652-8686-91dc473edabc"
      },
      "execution_count": 95,
      "outputs": [
        {
          "output_type": "stream",
          "name": "stderr",
          "text": [
            "WARNING:tensorflow:Layer lstm_16 will not use cuDNN kernels since it doesn't meet the criteria. It will use a generic GPU kernel as fallback when running on GPU.\n",
            "WARNING:tensorflow:Layer lstm_17 will not use cuDNN kernels since it doesn't meet the criteria. It will use a generic GPU kernel as fallback when running on GPU.\n",
            "WARNING:tensorflow:Layer lstm_18 will not use cuDNN kernels since it doesn't meet the criteria. It will use a generic GPU kernel as fallback when running on GPU.\n",
            "WARNING:tensorflow:Layer lstm_19 will not use cuDNN kernels since it doesn't meet the criteria. It will use a generic GPU kernel as fallback when running on GPU.\n"
          ]
        },
        {
          "output_type": "stream",
          "name": "stdout",
          "text": [
            "Epoch 1/25\n",
            "110/110 [==============================] - 11s 70ms/step - loss: 1.0754 - accuracy: 0.4260 - get_f1: 1.4729 - val_loss: 1.0925 - val_accuracy: 0.4260 - val_get_f1: 1.9960\n",
            "Epoch 2/25\n",
            "110/110 [==============================] - 9s 82ms/step - loss: 0.9424 - accuracy: 0.5435 - get_f1: 1.4258 - val_loss: 1.0424 - val_accuracy: 0.4749 - val_get_f1: 1.9761\n",
            "Epoch 3/25\n",
            "110/110 [==============================] - 8s 71ms/step - loss: 0.7479 - accuracy: 0.6728 - get_f1: 1.3560 - val_loss: 0.5721 - val_accuracy: 0.8303 - val_get_f1: 1.8857\n",
            "Epoch 4/25\n",
            "110/110 [==============================] - 7s 65ms/step - loss: 0.5643 - accuracy: 0.7749 - get_f1: 1.2811 - val_loss: 0.4741 - val_accuracy: 0.8565 - val_get_f1: 1.5890\n",
            "Epoch 5/25\n",
            "110/110 [==============================] - 7s 67ms/step - loss: 0.4179 - accuracy: 0.8387 - get_f1: 1.1933 - val_loss: 0.4144 - val_accuracy: 0.8895 - val_get_f1: 1.5394\n",
            "Epoch 6/25\n",
            "110/110 [==============================] - 7s 66ms/step - loss: 0.3333 - accuracy: 0.8854 - get_f1: 1.1819 - val_loss: 0.2824 - val_accuracy: 0.9419 - val_get_f1: 1.5801\n",
            "Epoch 7/25\n",
            "110/110 [==============================] - 7s 65ms/step - loss: 0.2414 - accuracy: 0.9194 - get_f1: 1.1954 - val_loss: 0.2199 - val_accuracy: 0.9567 - val_get_f1: 1.5746\n",
            "Epoch 8/25\n",
            "110/110 [==============================] - 7s 65ms/step - loss: 0.1791 - accuracy: 0.9359 - get_f1: 1.1618 - val_loss: 0.1508 - val_accuracy: 0.9544 - val_get_f1: 1.5445\n",
            "Epoch 9/25\n",
            "110/110 [==============================] - 9s 80ms/step - loss: 0.1569 - accuracy: 0.9504 - get_f1: 1.1241 - val_loss: 0.0717 - val_accuracy: 0.9829 - val_get_f1: 1.5682\n",
            "Epoch 10/25\n",
            "110/110 [==============================] - 7s 62ms/step - loss: 0.1260 - accuracy: 0.9635 - get_f1: 1.1607 - val_loss: 0.0552 - val_accuracy: 0.9909 - val_get_f1: 1.5934\n",
            "Epoch 11/25\n",
            "110/110 [==============================] - 7s 64ms/step - loss: 0.0849 - accuracy: 0.9718 - get_f1: 1.1587 - val_loss: 0.0473 - val_accuracy: 0.9920 - val_get_f1: 1.4930\n",
            "Epoch 12/25\n",
            "110/110 [==============================] - 7s 63ms/step - loss: 0.1126 - accuracy: 0.9698 - get_f1: 1.1053 - val_loss: 0.0500 - val_accuracy: 0.9886 - val_get_f1: 1.5810\n",
            "Epoch 13/25\n",
            "110/110 [==============================] - 7s 64ms/step - loss: 0.0781 - accuracy: 0.9798 - get_f1: 1.0958 - val_loss: 0.0467 - val_accuracy: 0.9909 - val_get_f1: 1.3656\n",
            "Epoch 14/25\n",
            "110/110 [==============================] - 7s 64ms/step - loss: 0.0909 - accuracy: 0.9761 - get_f1: 0.8696 - val_loss: 0.0494 - val_accuracy: 0.9943 - val_get_f1: 1.1268\n",
            "Epoch 15/25\n",
            "110/110 [==============================] - 7s 64ms/step - loss: 0.1742 - accuracy: 0.9487 - get_f1: 0.9520 - val_loss: 0.1853 - val_accuracy: 0.9385 - val_get_f1: 1.4417\n",
            "Epoch 16/25\n",
            "110/110 [==============================] - 9s 81ms/step - loss: 0.1614 - accuracy: 0.9524 - get_f1: 1.1114 - val_loss: 0.0699 - val_accuracy: 0.9886 - val_get_f1: 1.4688\n",
            "Epoch 17/25\n",
            "110/110 [==============================] - 7s 63ms/step - loss: 0.1767 - accuracy: 0.9661 - get_f1: 0.9179 - val_loss: 0.0991 - val_accuracy: 0.9681 - val_get_f1: 1.2995\n",
            "Epoch 18/25\n",
            "110/110 [==============================] - 7s 64ms/step - loss: 0.0693 - accuracy: 0.9852 - get_f1: 0.8158 - val_loss: 0.0132 - val_accuracy: 0.9977 - val_get_f1: 1.0106\n",
            "Epoch 19/25\n",
            "110/110 [==============================] - 7s 63ms/step - loss: 0.0728 - accuracy: 0.9869 - get_f1: 0.7887 - val_loss: 0.0549 - val_accuracy: 0.9920 - val_get_f1: 1.0964\n",
            "Epoch 20/25\n",
            "110/110 [==============================] - 7s 64ms/step - loss: 0.0530 - accuracy: 0.9900 - get_f1: 0.7989 - val_loss: 0.0171 - val_accuracy: 0.9954 - val_get_f1: 1.0117\n",
            "Epoch 21/25\n",
            "110/110 [==============================] - 7s 64ms/step - loss: 0.0193 - accuracy: 0.9963 - get_f1: 0.7389 - val_loss: 0.0035 - val_accuracy: 1.0000 - val_get_f1: 1.0033\n",
            "Epoch 22/25\n",
            "110/110 [==============================] - 8s 75ms/step - loss: 0.0080 - accuracy: 0.9977 - get_f1: 0.7328 - val_loss: 0.0041 - val_accuracy: 0.9989 - val_get_f1: 1.0011\n",
            "Epoch 23/25\n",
            "110/110 [==============================] - 9s 82ms/step - loss: 0.0227 - accuracy: 0.9960 - get_f1: 0.7433 - val_loss: 0.0252 - val_accuracy: 0.9977 - val_get_f1: 1.0127\n",
            "Epoch 24/25\n",
            "110/110 [==============================] - 9s 79ms/step - loss: 0.0289 - accuracy: 0.9932 - get_f1: 0.7454 - val_loss: 0.0596 - val_accuracy: 0.9932 - val_get_f1: 1.0142\n",
            "Epoch 25/25\n",
            "110/110 [==============================] - 7s 64ms/step - loss: 0.0374 - accuracy: 0.9920 - get_f1: 0.7412 - val_loss: 0.0052 - val_accuracy: 0.9989 - val_get_f1: 1.0134\n",
            "24/24 [==============================] - 1s 11ms/step\n"
          ]
        }
      ]
    },
    {
      "cell_type": "code",
      "source": [
        "test_output_1=np.array([np.argmax(i)  for i in test_output])\n",
        "from sklearn.metrics import confusion_matrix,accuracy_score\n",
        "print(confusion_matrix(y_test,test_output_1))\n",
        "test_output=pd.DataFrame(test_output)\n",
        "print(accuracy_score(y_test,test_output_1))\n"
      ],
      "metadata": {
        "id": "Q_hmR6MK_Bq5",
        "colab": {
          "base_uri": "https://localhost:8080/"
        },
        "outputId": "3989635c-d993-4a92-a2df-657385335d90"
      },
      "execution_count": 96,
      "outputs": [
        {
          "output_type": "stream",
          "name": "stdout",
          "text": [
            "[[215  49  91]\n",
            " [ 45 140  16]\n",
            " [ 30  10 156]]\n",
            "0.6795212765957447\n"
          ]
        }
      ]
    },
    {
      "cell_type": "code",
      "source": [
        "print(get_f1(y_test.astype('float32'), test_output_1.astype('float32')))"
      ],
      "metadata": {
        "colab": {
          "base_uri": "https://localhost:8080/"
        },
        "id": "ZsHojwC3G8gQ",
        "outputId": "e3ff587d-af9a-4513-e05a-96d371f44b6c"
      },
      "execution_count": 97,
      "outputs": [
        {
          "output_type": "stream",
          "name": "stdout",
          "text": [
            "tf.Tensor(0.7497089, shape=(), dtype=float32)\n"
          ]
        }
      ]
    },
    {
      "cell_type": "code",
      "source": [
        "x_train_reshaped = x_train.reshape(x_train.shape[0], -1)\n",
        "x_test_reshaped = x_test.reshape(x_test.shape[0], -1)\n",
        "savetxt('arrxtrain.csv', x_train_reshaped, delimiter=',')\n",
        "savetxt('arrytrain.csv', y_train, delimiter=',')\n",
        "savetxt('arrxtest.csv', x_test_reshaped, delimiter=',')\n",
        "savetxt('arrytest.csv', y_test, delimiter=',')"
      ],
      "metadata": {
        "id": "oxhtZHtkBWOe"
      },
      "execution_count": 98,
      "outputs": []
    }
  ]
}