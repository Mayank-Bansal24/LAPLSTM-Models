{
  "nbformat": 4,
  "nbformat_minor": 0,
  "metadata": {
    "colab": {
      "provenance": [],
      "include_colab_link": true
    },
    "kernelspec": {
      "name": "python3",
      "display_name": "Python 3"
    },
    "language_info": {
      "name": "python"
    },
    "accelerator": "GPU",
    "gpuClass": "standard"
  },
  "cells": [
    {
      "cell_type": "markdown",
      "metadata": {
        "id": "view-in-github",
        "colab_type": "text"
      },
      "source": [
        "<a href=\"https://colab.research.google.com/github/Mayank-Bansal24/LAPLSTM-Models/blob/main/default_weightst01.ipynb\" target=\"_parent\"><img src=\"https://colab.research.google.com/assets/colab-badge.svg\" alt=\"Open In Colab\"/></a>"
      ]
    },
    {
      "cell_type": "code",
      "source": [
        "import numpy as np\n",
        "import tensorflow as tf\n",
        "from tensorflow.keras import losses as lo_ss\n",
        "from tensorflow.keras.models import Sequential\n",
        "from tensorflow.keras.layers import LSTM\n",
        "from tensorflow.keras.layers import Dense, Dropout\n",
        "import string\n",
        "import pandas as pd\n",
        "from matplotlib import pyplot as plt\n",
        "from sklearn.preprocessing import StandardScaler\n",
        "import seaborn as sns\n",
        "from sklearn import model_selection\n",
        "from sklearn.datasets import make_classification\n",
        "from sklearn.utils import class_weight\n",
        "from sklearn.metrics import classification_report , roc_auc_score\n",
        "import keras \n",
        "import keras.backend as K\n",
        "from google.colab import drive\n",
        "from numpy import savetxt"
      ],
      "metadata": {
        "id": "V1kLUX7gJ3N_"
      },
      "execution_count": 7,
      "outputs": []
    },
    {
      "cell_type": "code",
      "source": [
        "drive.mount('/content/gdrive')\n"
      ],
      "metadata": {
        "id": "HXmXAIAJArT2"
      },
      "execution_count": null,
      "outputs": []
    },
    {
      "cell_type": "code",
      "source": [
        "t=1"
      ],
      "metadata": {
        "id": "uLTug-YJDW8D"
      },
      "execution_count": 9,
      "outputs": []
    },
    {
      "cell_type": "code",
      "source": [
        "import os\n",
        "os.chdir('/content/gdrive/MyDrive/laplstm/default class weights/t'+str(t))"
      ],
      "metadata": {
        "id": "ubPkwGQnA8Wx"
      },
      "execution_count": 10,
      "outputs": []
    },
    {
      "cell_type": "code",
      "source": [
        "\n",
        "github_raw_link=\"https://raw.githubusercontent.com/Aryansh085/LAP/main/858417d1-7d54-4115-a01b-fdda5e03ada3_testing_combined_rows4035_disc_1_0p9_MULTIPLY_preproces_155cols.csv\"\n",
        "df1=pd.read_csv((github_raw_link),header = None)\n",
        "dftemp=np.array(df1)\n",
        "dftemp.shape\n",
        "dftemp2=dftemp[:,5:]\n",
        "dftemp2=np.array(dftemp2)\n",
        "print(dftemp2.shape)"
      ],
      "metadata": {
        "id": "3UWvhrydJ8hA",
        "colab": {
          "base_uri": "https://localhost:8080/"
        },
        "outputId": "3a9ce8e7-6f32-4868-ff11-d7ae57f1b109"
      },
      "execution_count": 11,
      "outputs": [
        {
          "output_type": "stream",
          "name": "stdout",
          "text": [
            "(4035, 150)\n"
          ]
        }
      ]
    },
    {
      "cell_type": "code",
      "source": [
        "# dftemp2\n",
        "dftemp2.shape\n",
        "# dftemp2=pd.DataFrame(dftemp2)\n",
        "# dftemp2.head()"
      ],
      "metadata": {
        "colab": {
          "base_uri": "https://localhost:8080/"
        },
        "id": "h00YSxPn8rUk",
        "outputId": "e90d9eb0-8b19-4d8e-a8fe-62e76db755a7"
      },
      "execution_count": 12,
      "outputs": [
        {
          "output_type": "execute_result",
          "data": {
            "text/plain": [
              "(4035, 150)"
            ]
          },
          "metadata": {},
          "execution_count": 12
        }
      ]
    },
    {
      "cell_type": "markdown",
      "source": [
        "--> muliply the reward of that instance into the loss of that instance to give weight"
      ],
      "metadata": {
        "id": "pPfqIsthYP2X"
      }
    },
    {
      "cell_type": "code",
      "source": [
        "from sklearn.preprocessing import StandardScaler\n",
        "\n",
        "slr=StandardScaler()\n",
        "slr.fit(dftemp2)\n",
        "dftemp2 = slr.transform(dftemp2)"
      ],
      "metadata": {
        "id": "kWYAqDfnO_1i"
      },
      "execution_count": 13,
      "outputs": []
    },
    {
      "cell_type": "code",
      "source": [
        "# f1-score function\n",
        "def get_f1(y_true, y_pred): #taken from old keras source code\n",
        "    true_positives = K.sum(K.round(K.clip(y_true * y_pred, 0, 1)))\n",
        "    possible_positives = K.sum(K.round(K.clip(y_true, 0, 1)))\n",
        "    predicted_positives = K.sum(K.round(K.clip(y_pred, 0, 1)))\n",
        "    precision = true_positives / (predicted_positives + K.epsilon())\n",
        "    recall = true_positives / (possible_positives + K.epsilon())\n",
        "    f1_val = 2*(precision*recall)/(precision+recall+K.epsilon())\n",
        "    return f1_val\n",
        "    "
      ],
      "metadata": {
        "id": "4i-6LDL58GyW"
      },
      "execution_count": 14,
      "outputs": []
    },
    {
      "cell_type": "code",
      "source": [],
      "metadata": {
        "id": "83zizsyvKHzh"
      },
      "execution_count": 14,
      "outputs": []
    },
    {
      "cell_type": "code",
      "source": [
        "y=np.array(dftemp[:,0])\n",
        "print(y)\n",
        "y_new=y[t:]\n",
        "y_new.shape\n"
      ],
      "metadata": {
        "colab": {
          "base_uri": "https://localhost:8080/"
        },
        "id": "XmXnkjOiKIGQ",
        "outputId": "315459de-6acb-43c7-a6c3-4b8b55c82057"
      },
      "execution_count": 15,
      "outputs": [
        {
          "output_type": "stream",
          "name": "stdout",
          "text": [
            "[2. 0. 0. ... 0. 2. 2.]\n"
          ]
        },
        {
          "output_type": "execute_result",
          "data": {
            "text/plain": [
              "(4034,)"
            ]
          },
          "metadata": {},
          "execution_count": 15
        }
      ]
    },
    {
      "cell_type": "code",
      "source": [
        "x=np.array(dftemp2)\n",
        "# print(x)\n",
        "# print(x.shape)\n",
        "x.shape,y_new.shape"
      ],
      "metadata": {
        "colab": {
          "base_uri": "https://localhost:8080/"
        },
        "id": "3JPzLQQmKhZk",
        "outputId": "2af15678-818b-48d9-bf7c-3f9f5e6f2f9f"
      },
      "execution_count": 16,
      "outputs": [
        {
          "output_type": "execute_result",
          "data": {
            "text/plain": [
              "((4035, 150), (4034,))"
            ]
          },
          "metadata": {},
          "execution_count": 16
        }
      ]
    },
    {
      "cell_type": "code",
      "source": [
        "x_3d=[]\n",
        "for i in range(4035-t):\n",
        "  tmp=[]\n",
        "  for j in range(t):\n",
        "    tmp.append(x[j+i])\n",
        "  x_3d.append(tmp)\n",
        "x_3d= np.array(x_3d)\n",
        "x_3d.shape"
      ],
      "metadata": {
        "colab": {
          "base_uri": "https://localhost:8080/"
        },
        "id": "hdDY6fhENZ2-",
        "outputId": "bbf1837f-2084-4ed7-d8dc-fdc4a9f239d8"
      },
      "execution_count": 17,
      "outputs": [
        {
          "output_type": "execute_result",
          "data": {
            "text/plain": [
              "(4034, 1, 150)"
            ]
          },
          "metadata": {},
          "execution_count": 17
        }
      ]
    },
    {
      "cell_type": "code",
      "source": [
        "train_test_ratio=0.8\n",
        "print(x_3d.shape[0])\n",
        "x_train=[]\n",
        "y_train=[]\n",
        "x_test=[]\n",
        "y_test=[]\n",
        "for i in range(x_3d.shape[0]):\n",
        "  l=[]\n",
        "  ly=[]\n",
        "  no=np.random.randint(100)\n",
        "  if(no<80):\n",
        "    l=x_3d[i]\n",
        "    ly=y_new[i]\n",
        "    x_train.append(l)\n",
        "    y_train.append(ly)\n",
        "  else:\n",
        "    l=x_3d[i]\n",
        "    ly=y_new[i]\n",
        "    x_test.append(l)\n",
        "    y_test.append(ly)\n",
        "\n",
        "\n",
        "x_train=np.array(x_train)\n",
        "y_train=np.array(y_train)\n",
        "x_test=np.array(x_test)\n",
        "y_test=np.array(y_test)\n",
        "x_train.shape,y_train.shape,x_test.shape,y_test.shape"
      ],
      "metadata": {
        "colab": {
          "base_uri": "https://localhost:8080/"
        },
        "id": "AwnZ3Mh1Khi8",
        "outputId": "c12575be-1906-45da-9922-05beda2c29c0"
      },
      "execution_count": 18,
      "outputs": [
        {
          "output_type": "stream",
          "name": "stdout",
          "text": [
            "4034\n"
          ]
        },
        {
          "output_type": "execute_result",
          "data": {
            "text/plain": [
              "((3188, 1, 150), (3188,), (846, 1, 150), (846,))"
            ]
          },
          "metadata": {},
          "execution_count": 18
        }
      ]
    },
    {
      "cell_type": "code",
      "source": [
        "cnt0=0\n",
        "cnt1=0\n",
        "cnt2=0\n",
        "for i in range(x_train.shape[0]):\n",
        "  if(y_train[i]==0):\n",
        "    cnt0+=1\n",
        "  elif(y_train[i]==1):\n",
        "    cnt1+=1\n",
        "  elif(y_train[i]==2):\n",
        "    cnt2+=1\n",
        "print(cnt0)\n",
        "print(cnt1)\n",
        "print(cnt2)  "
      ],
      "metadata": {
        "colab": {
          "base_uri": "https://localhost:8080/"
        },
        "id": "xlijLVYecmcq",
        "outputId": "9b59394c-69f1-447d-90e2-e4c2d58e5d98"
      },
      "execution_count": 19,
      "outputs": [
        {
          "output_type": "stream",
          "name": "stdout",
          "text": [
            "1448\n",
            "835\n",
            "905\n"
          ]
        }
      ]
    },
    {
      "cell_type": "code",
      "source": [
        "sklearn_weights=class_weight.compute_class_weight(class_weight='balanced',classes=np.unique(y_train),y=y_train)\n",
        "sklearn_weights=dict(zip(np.unique(y_train),sklearn_weights))\n",
        "sklearn_weights"
      ],
      "metadata": {
        "colab": {
          "base_uri": "https://localhost:8080/"
        },
        "id": "EYzwuCcAbDKT",
        "outputId": "46e4c55d-6b3c-4ce3-c0bb-e109f1565e72"
      },
      "execution_count": 20,
      "outputs": [
        {
          "output_type": "execute_result",
          "data": {
            "text/plain": [
              "{0.0: 0.7338858195211786, 1.0: 1.2726546906187626, 2.0: 1.1742173112338858}"
            ]
          },
          "metadata": {},
          "execution_count": 20
        }
      ]
    },
    {
      "cell_type": "code",
      "source": [
        "\n",
        "# model = Sequential()\n",
        "# model.add(LSTM(200, activation='relu', return_sequences=True, input_shape=( t,150,)))\n",
        "# model.add(LSTM(100, activation='relu', return_sequences=True))\n",
        "# model.add(LSTM(50, activation='relu', return_sequences=True))\n",
        "# model.add(LSTM(25, activation='relu'))\n",
        "# model.add(Dense(20, activation='relu'))\n",
        "# model.add(Dense(10, activation='relu'))\n",
        "# model.add(Dense(3))\n",
        "# model.compile(optimizer='SGD', loss='sparse_categorical_crossentropy',metrics=['accuracy'])\n",
        "# history = model.fit(x_train, y_train, epochs=10, validation_split=0.2, verbose=1)\n",
        "# test_output = model.predict(x_test, verbose=1)\n",
        "# # history = model.fit(X, Y, epochs=1000, validation_split=0.2, verbose=1)\n",
        "# # test_output = model.predict(x=, verbose=0)\n",
        "# # print(test_output)"
      ],
      "metadata": {
        "id": "rhgsSos1KIbA"
      },
      "execution_count": 21,
      "outputs": []
    },
    {
      "cell_type": "code",
      "source": [
        "# sklearn_weights={0:1738,1:2348,2:2362}\n",
        "model = Sequential()\n",
        "model.add(LSTM(200, activation='relu', return_sequences=True, input_shape=( t,150,)))\n",
        "model.add(LSTM(400, activation='relu', return_sequences=True))\n",
        "model.add(LSTM(800, activation='relu', return_sequences=True))\n",
        "model.add(LSTM(150, activation='relu'))\n",
        "model.add(Dense(100, activation='relu'))\n",
        "model.add(Dense(64, activation='relu'))\n",
        "model.add(Dense(10, activation='relu'))\n",
        "model.add(Dense(3,activation='sigmoid'))\n",
        "optimi=keras.optimizers.Adam()\n",
        "model.compile(optimizer=optimi, loss='sparse_categorical_crossentropy',metrics=['accuracy',get_f1])\n",
        "\n",
        "# history = model.fit(x_train, y_train, epochs=30, validation_split=0.2, verbose=1)\n",
        "history = model.fit(x_train, y_train, epochs=25, validation_split=0.2, verbose=1,class_weight=sklearn_weights)\n",
        "test_output = model.predict(x_test, verbose=1)\n"
      ],
      "metadata": {
        "colab": {
          "base_uri": "https://localhost:8080/"
        },
        "id": "lwHPGS2iXMXc",
        "outputId": "cfc16b83-e3e0-486c-9245-88991a187a6d"
      },
      "execution_count": 22,
      "outputs": [
        {
          "output_type": "stream",
          "name": "stderr",
          "text": [
            "WARNING:tensorflow:Layer lstm will not use cuDNN kernels since it doesn't meet the criteria. It will use a generic GPU kernel as fallback when running on GPU.\n",
            "WARNING:tensorflow:Layer lstm_1 will not use cuDNN kernels since it doesn't meet the criteria. It will use a generic GPU kernel as fallback when running on GPU.\n",
            "WARNING:tensorflow:Layer lstm_2 will not use cuDNN kernels since it doesn't meet the criteria. It will use a generic GPU kernel as fallback when running on GPU.\n",
            "WARNING:tensorflow:Layer lstm_3 will not use cuDNN kernels since it doesn't meet the criteria. It will use a generic GPU kernel as fallback when running on GPU.\n"
          ]
        },
        {
          "output_type": "stream",
          "name": "stdout",
          "text": [
            "Epoch 1/25\n",
            "80/80 [==============================] - 8s 25ms/step - loss: 1.0942 - accuracy: 0.4212 - get_f1: 1.1747 - val_loss: 1.1001 - val_accuracy: 0.2288 - val_get_f1: 1.1752\n",
            "Epoch 2/25\n",
            "80/80 [==============================] - 3s 37ms/step - loss: 1.0936 - accuracy: 0.3302 - get_f1: 1.0519 - val_loss: 1.0997 - val_accuracy: 0.3574 - val_get_f1: 1.2335\n",
            "Epoch 3/25\n",
            "80/80 [==============================] - 2s 22ms/step - loss: 1.0745 - accuracy: 0.4302 - get_f1: 1.1935 - val_loss: 1.1731 - val_accuracy: 0.3386 - val_get_f1: 1.2193\n",
            "Epoch 4/25\n",
            "80/80 [==============================] - 1s 17ms/step - loss: 1.0163 - accuracy: 0.5004 - get_f1: 1.1341 - val_loss: 1.2054 - val_accuracy: 0.3260 - val_get_f1: 1.2027\n",
            "Epoch 5/25\n",
            "80/80 [==============================] - 1s 17ms/step - loss: 0.8975 - accuracy: 0.5600 - get_f1: 1.1356 - val_loss: 1.5068 - val_accuracy: 0.3401 - val_get_f1: 1.1611\n",
            "Epoch 6/25\n",
            "80/80 [==============================] - 1s 17ms/step - loss: 0.7462 - accuracy: 0.6557 - get_f1: 1.1094 - val_loss: 1.8220 - val_accuracy: 0.3041 - val_get_f1: 1.1408\n",
            "Epoch 7/25\n",
            "80/80 [==============================] - 1s 17ms/step - loss: 0.6188 - accuracy: 0.7239 - get_f1: 1.0115 - val_loss: 2.6217 - val_accuracy: 0.3135 - val_get_f1: 1.0672\n",
            "Epoch 8/25\n",
            "80/80 [==============================] - 1s 18ms/step - loss: 0.5485 - accuracy: 0.7722 - get_f1: 0.9347 - val_loss: 3.2619 - val_accuracy: 0.2978 - val_get_f1: 1.0090\n",
            "Epoch 9/25\n",
            "80/80 [==============================] - 1s 17ms/step - loss: 0.4601 - accuracy: 0.8098 - get_f1: 0.8692 - val_loss: 3.1393 - val_accuracy: 0.2727 - val_get_f1: 1.0102\n",
            "Epoch 10/25\n",
            "80/80 [==============================] - 1s 17ms/step - loss: 0.3752 - accuracy: 0.8467 - get_f1: 0.8415 - val_loss: 3.5474 - val_accuracy: 0.2790 - val_get_f1: 0.9972\n",
            "Epoch 11/25\n",
            "80/80 [==============================] - 1s 17ms/step - loss: 0.2725 - accuracy: 0.8949 - get_f1: 0.8167 - val_loss: 4.4201 - val_accuracy: 0.2821 - val_get_f1: 0.9813\n",
            "Epoch 12/25\n",
            "80/80 [==============================] - 1s 17ms/step - loss: 0.2311 - accuracy: 0.9114 - get_f1: 0.8077 - val_loss: 5.0074 - val_accuracy: 0.2790 - val_get_f1: 0.9549\n",
            "Epoch 13/25\n",
            "80/80 [==============================] - 1s 18ms/step - loss: 0.1573 - accuracy: 0.9224 - get_f1: 0.7800 - val_loss: 5.0798 - val_accuracy: 0.2947 - val_get_f1: 0.9717\n",
            "Epoch 14/25\n",
            "80/80 [==============================] - 1s 16ms/step - loss: 0.1283 - accuracy: 0.9267 - get_f1: 0.7686 - val_loss: 5.3401 - val_accuracy: 0.2806 - val_get_f1: 0.9612\n",
            "Epoch 15/25\n",
            "80/80 [==============================] - 1s 17ms/step - loss: 0.1477 - accuracy: 0.9412 - get_f1: 0.8027 - val_loss: 4.7482 - val_accuracy: 0.2931 - val_get_f1: 0.9650\n",
            "Epoch 16/25\n",
            "80/80 [==============================] - 1s 18ms/step - loss: 0.0866 - accuracy: 0.9502 - get_f1: 0.7831 - val_loss: 5.4389 - val_accuracy: 0.2900 - val_get_f1: 0.9473\n",
            "Epoch 17/25\n",
            "80/80 [==============================] - 1s 17ms/step - loss: 0.0674 - accuracy: 0.9412 - get_f1: 0.8280 - val_loss: 6.4570 - val_accuracy: 0.3041 - val_get_f1: 0.9534\n",
            "Epoch 18/25\n",
            "80/80 [==============================] - 1s 16ms/step - loss: 0.0840 - accuracy: 0.9306 - get_f1: 0.8875 - val_loss: 5.2800 - val_accuracy: 0.2712 - val_get_f1: 0.9580\n",
            "Epoch 19/25\n",
            "80/80 [==============================] - 1s 18ms/step - loss: 0.0803 - accuracy: 0.9365 - get_f1: 0.9012 - val_loss: 5.0117 - val_accuracy: 0.3103 - val_get_f1: 0.9814\n",
            "Epoch 20/25\n",
            "80/80 [==============================] - 1s 16ms/step - loss: 0.0631 - accuracy: 0.9518 - get_f1: 0.8635 - val_loss: 6.2876 - val_accuracy: 0.2712 - val_get_f1: 0.9381\n",
            "Epoch 21/25\n",
            "80/80 [==============================] - 1s 17ms/step - loss: 0.0537 - accuracy: 0.9235 - get_f1: 0.9067 - val_loss: 6.0662 - val_accuracy: 0.3072 - val_get_f1: 0.9387\n",
            "Epoch 22/25\n",
            "80/80 [==============================] - 1s 18ms/step - loss: 0.0683 - accuracy: 0.8647 - get_f1: 0.8345 - val_loss: 5.6141 - val_accuracy: 0.2931 - val_get_f1: 0.9381\n",
            "Epoch 23/25\n",
            "80/80 [==============================] - 1s 17ms/step - loss: 0.0443 - accuracy: 0.9020 - get_f1: 0.8884 - val_loss: 6.2813 - val_accuracy: 0.2962 - val_get_f1: 0.9166\n",
            "Epoch 24/25\n",
            "80/80 [==============================] - 1s 17ms/step - loss: 0.0390 - accuracy: 0.9353 - get_f1: 0.9015 - val_loss: 6.1833 - val_accuracy: 0.2931 - val_get_f1: 0.9249\n",
            "Epoch 25/25\n",
            "80/80 [==============================] - 1s 18ms/step - loss: 0.0392 - accuracy: 0.9396 - get_f1: 0.8984 - val_loss: 7.3233 - val_accuracy: 0.2931 - val_get_f1: 0.8802\n",
            "27/27 [==============================] - 1s 3ms/step\n"
          ]
        }
      ]
    },
    {
      "cell_type": "code",
      "source": [
        "test_output_1=np.array([np.argmax(i)  for i in test_output])\n",
        "from sklearn.metrics import confusion_matrix,accuracy_score\n",
        "print(confusion_matrix(y_test,test_output_1))\n",
        "test_output=pd.DataFrame(test_output)\n",
        "print(accuracy_score(y_test,test_output_1))\n"
      ],
      "metadata": {
        "id": "Q_hmR6MK_Bq5",
        "colab": {
          "base_uri": "https://localhost:8080/"
        },
        "outputId": "d03c26c3-f795-4e7d-c73c-bdf95462c725"
      },
      "execution_count": 23,
      "outputs": [
        {
          "output_type": "stream",
          "name": "stdout",
          "text": [
            "[[142 171  66]\n",
            " [ 71 107  42]\n",
            " [ 98 110  39]]\n",
            "0.3404255319148936\n"
          ]
        }
      ]
    },
    {
      "cell_type": "code",
      "source": [
        "print(get_f1(y_test.astype('float32'), test_output_1.astype('float32')))"
      ],
      "metadata": {
        "colab": {
          "base_uri": "https://localhost:8080/"
        },
        "id": "ZsHojwC3G8gQ",
        "outputId": "59a385e2-e370-4df3-cd78-591249a72325"
      },
      "execution_count": 24,
      "outputs": [
        {
          "output_type": "stream",
          "name": "stdout",
          "text": [
            "tf.Tensor(0.59481037, shape=(), dtype=float32)\n"
          ]
        }
      ]
    },
    {
      "cell_type": "code",
      "source": [
        "x_train_reshaped = x_train.reshape(x_train.shape[0], -1)\n",
        "x_test_reshaped = x_test.reshape(x_test.shape[0], -1)\n",
        "savetxt('arrxtrain.csv', x_train_reshaped, delimiter=',')\n",
        "savetxt('arrytrain.csv', y_train, delimiter=',')\n",
        "savetxt('arrxtest.csv', x_test_reshaped, delimiter=',')\n",
        "savetxt('arrytest.csv', y_test, delimiter=',')"
      ],
      "metadata": {
        "id": "oxhtZHtkBWOe"
      },
      "execution_count": 25,
      "outputs": []
    }
  ]
}