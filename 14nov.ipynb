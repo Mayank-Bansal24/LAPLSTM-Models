{
  "cells": [
    {
      "cell_type": "markdown",
      "metadata": {
        "colab_type": "text",
        "id": "view-in-github"
      },
      "source": [
        "<a href=\"https://colab.research.google.com/github/Mayank-Bansal24/LAPLSTM-Models/blob/main/14nov.ipynb\" target=\"_parent\"><img src=\"https://colab.research.google.com/assets/colab-badge.svg\" alt=\"Open In Colab\"/></a>"
      ]
    },
    {
      "cell_type": "code",
      "execution_count": 142,
      "metadata": {
        "id": "B_3DSfT8JxF9"
      },
      "outputs": [],
      "source": [
        "#Sample main"
      ]
    },
    {
      "cell_type": "code",
      "execution_count": 143,
      "metadata": {
        "id": "V1kLUX7gJ3N_"
      },
      "outputs": [],
      "source": [
        "import numpy as np\n",
        "import tensorflow as tf\n",
        "from tensorflow.keras import losses as lo_ss\n",
        "from tensorflow.keras.models import Sequential\n",
        "from tensorflow.keras.layers import LSTM\n",
        "from tensorflow.keras.layers import Dense, Dropout\n",
        "import pandas as pd\n",
        "from matplotlib import pyplot as plt\n",
        "from sklearn.preprocessing import StandardScaler\n",
        "import seaborn as sns\n",
        "from sklearn import model_selection"
      ]
    },
    {
      "cell_type": "code",
      "execution_count": 144,
      "metadata": {
        "id": "ChhnE7UCbGLA"
      },
      "outputs": [],
      "source": [
        "from sklearn.datasets import make_classification\n",
        "from sklearn.utils import class_weight\n",
        "from sklearn.metrics import classification_report , roc_auc_score"
      ]
    },
    {
      "cell_type": "code",
      "execution_count": 145,
      "metadata": {
        "colab": {
          "base_uri": "https://localhost:8080/"
        },
        "id": "3UWvhrydJ8hA",
        "outputId": "a6b21cb7-b7a3-46e6-d075-b1fefe4277cf"
      },
      "outputs": [
        {
          "name": "stdout",
          "output_type": "stream",
          "text": [
            "(4035, 150)\n"
          ]
        }
      ],
      "source": [
        "import os\n",
        "github_raw_link=\"https://raw.githubusercontent.com/Aryansh085/LAP/main/858417d1-7d54-4115-a01b-fdda5e03ada3_testing_combined_rows4035_disc_1_0p9_MULTIPLY_preproces_155cols.csv\"\n",
        "df1=pd.read_csv((github_raw_link),header = None)\n",
        "dftemp=np.array(df1)\n",
        "dftemp.shape\n",
        "dftemp2=dftemp[:,5:]\n",
        "dftemp2=np.array(dftemp2)\n",
        "print(dftemp2.shape)"
      ]
    },
    {
      "cell_type": "code",
      "execution_count": 146,
      "metadata": {
        "colab": {
          "base_uri": "https://localhost:8080/"
        },
        "id": "h00YSxPn8rUk",
        "outputId": "dc36f7d2-a464-4afd-e06e-7e4b49b4e412"
      },
      "outputs": [
        {
          "data": {
            "text/plain": [
              "array([[ 5928.83335518,   796.35823886, -2237.60161204, ...,\n",
              "          -15.699306  ,  -114.85299429,  -125.04863114],\n",
              "       [ -861.30872747,  2307.82893916,  1422.32841779, ...,\n",
              "           13.9362878 ,   261.75236954,    15.2645003 ],\n",
              "       [-1851.18887014, -1823.48970586, -1483.76235541, ...,\n",
              "          -63.85885517,   -79.85176543,   -36.49683727],\n",
              "       ...,\n",
              "       [ 7523.64392668, -1346.51804904,  -437.24597374, ...,\n",
              "         -357.30718089,  -178.38042189,    75.12132205],\n",
              "       [-1639.43181652,  3837.66082759,  -218.35057395, ...,\n",
              "         -194.79629389,  -248.0217652 ,  -117.95138105],\n",
              "       [-1687.91842227, -1416.74591555,  1508.833009  , ...,\n",
              "         -174.86338979,   158.6163271 ,    23.58951279]])"
            ]
          },
          "execution_count": 146,
          "metadata": {},
          "output_type": "execute_result"
        }
      ],
      "source": [
        "dftemp2"
      ]
    },
    {
      "cell_type": "markdown",
      "metadata": {
        "id": "pPfqIsthYP2X"
      },
      "source": [
        "--> muliply the reward of that instance into the loss of that instance to give weight"
      ]
    },
    {
      "cell_type": "code",
      "execution_count": 147,
      "metadata": {
        "id": "m5HGYJWIKB5x"
      },
      "outputs": [],
      "source": [
        "# df.dropna()"
      ]
    },
    {
      "cell_type": "code",
      "execution_count": 148,
      "metadata": {
        "colab": {
          "base_uri": "https://localhost:8080/"
        },
        "id": "A1ZL96Z_P2mm",
        "outputId": "1b02bd4a-dc90-4a22-bd74-667734d50468"
      },
      "outputs": [
        {
          "data": {
            "text/plain": [
              "(4035, 150)"
            ]
          },
          "execution_count": 148,
          "metadata": {},
          "output_type": "execute_result"
        }
      ],
      "source": [
        "dftemp2.shape"
      ]
    },
    {
      "cell_type": "code",
      "execution_count": 149,
      "metadata": {
        "id": "kWYAqDfnO_1i"
      },
      "outputs": [],
      "source": [
        "from sklearn.preprocessing import StandardScaler\n",
        "\n",
        "\n",
        "slr=StandardScaler()\n",
        "slr.fit(dftemp2)\n",
        "dftemp2 = slr.transform(dftemp2)"
      ]
    },
    {
      "cell_type": "code",
      "execution_count": 150,
      "metadata": {
        "colab": {
          "base_uri": "https://localhost:8080/",
          "height": 299
        },
        "id": "iMZo_JvyPKWe",
        "outputId": "2c9f543d-500b-456c-a428-93ded9bfaeb0"
      },
      "outputs": [
        {
          "data": {
            "text/html": [
              "\n",
              "  <div id=\"df-bd7e6963-a128-48ae-bc02-aec3cfd4ecc2\">\n",
              "    <div class=\"colab-df-container\">\n",
              "      <div>\n",
              "<style scoped>\n",
              "    .dataframe tbody tr th:only-of-type {\n",
              "        vertical-align: middle;\n",
              "    }\n",
              "\n",
              "    .dataframe tbody tr th {\n",
              "        vertical-align: top;\n",
              "    }\n",
              "\n",
              "    .dataframe thead th {\n",
              "        text-align: right;\n",
              "    }\n",
              "</style>\n",
              "<table border=\"1\" class=\"dataframe\">\n",
              "  <thead>\n",
              "    <tr style=\"text-align: right;\">\n",
              "      <th></th>\n",
              "      <th>0</th>\n",
              "      <th>1</th>\n",
              "      <th>2</th>\n",
              "      <th>3</th>\n",
              "      <th>4</th>\n",
              "      <th>5</th>\n",
              "      <th>6</th>\n",
              "      <th>7</th>\n",
              "      <th>8</th>\n",
              "      <th>9</th>\n",
              "      <th>...</th>\n",
              "      <th>140</th>\n",
              "      <th>141</th>\n",
              "      <th>142</th>\n",
              "      <th>143</th>\n",
              "      <th>144</th>\n",
              "      <th>145</th>\n",
              "      <th>146</th>\n",
              "      <th>147</th>\n",
              "      <th>148</th>\n",
              "      <th>149</th>\n",
              "    </tr>\n",
              "  </thead>\n",
              "  <tbody>\n",
              "    <tr>\n",
              "      <th>0</th>\n",
              "      <td>1.750036</td>\n",
              "      <td>0.350342</td>\n",
              "      <td>-1.341973</td>\n",
              "      <td>-2.795068</td>\n",
              "      <td>0.432952</td>\n",
              "      <td>0.474938</td>\n",
              "      <td>-1.574554</td>\n",
              "      <td>-0.439485</td>\n",
              "      <td>-1.486932</td>\n",
              "      <td>-1.585869</td>\n",
              "      <td>...</td>\n",
              "      <td>-1.015021</td>\n",
              "      <td>-0.795066</td>\n",
              "      <td>-1.952407</td>\n",
              "      <td>-0.866407</td>\n",
              "      <td>-3.145759</td>\n",
              "      <td>3.099274</td>\n",
              "      <td>-0.818265</td>\n",
              "      <td>-0.095863</td>\n",
              "      <td>-0.652975</td>\n",
              "      <td>-0.693894</td>\n",
              "    </tr>\n",
              "    <tr>\n",
              "      <th>1</th>\n",
              "      <td>-0.254578</td>\n",
              "      <td>1.008169</td>\n",
              "      <td>0.819884</td>\n",
              "      <td>-1.666252</td>\n",
              "      <td>-0.495354</td>\n",
              "      <td>-0.246320</td>\n",
              "      <td>-0.306173</td>\n",
              "      <td>-0.182138</td>\n",
              "      <td>0.162858</td>\n",
              "      <td>-0.850303</td>\n",
              "      <td>...</td>\n",
              "      <td>1.485140</td>\n",
              "      <td>-0.294316</td>\n",
              "      <td>1.076433</td>\n",
              "      <td>-0.578114</td>\n",
              "      <td>0.625668</td>\n",
              "      <td>0.116021</td>\n",
              "      <td>1.182070</td>\n",
              "      <td>0.071192</td>\n",
              "      <td>1.467883</td>\n",
              "      <td>0.099011</td>\n",
              "    </tr>\n",
              "    <tr>\n",
              "      <th>2</th>\n",
              "      <td>-0.546815</td>\n",
              "      <td>-0.789877</td>\n",
              "      <td>-0.896693</td>\n",
              "      <td>0.609252</td>\n",
              "      <td>-1.785813</td>\n",
              "      <td>0.671458</td>\n",
              "      <td>-1.346309</td>\n",
              "      <td>0.051911</td>\n",
              "      <td>1.257504</td>\n",
              "      <td>0.635510</td>\n",
              "      <td>...</td>\n",
              "      <td>1.064428</td>\n",
              "      <td>0.506085</td>\n",
              "      <td>-0.692270</td>\n",
              "      <td>0.803917</td>\n",
              "      <td>0.736296</td>\n",
              "      <td>-0.473514</td>\n",
              "      <td>0.512632</td>\n",
              "      <td>-0.367337</td>\n",
              "      <td>-0.455865</td>\n",
              "      <td>-0.193491</td>\n",
              "    </tr>\n",
              "    <tr>\n",
              "      <th>3</th>\n",
              "      <td>1.129433</td>\n",
              "      <td>1.576726</td>\n",
              "      <td>-1.089738</td>\n",
              "      <td>-0.159556</td>\n",
              "      <td>-0.237411</td>\n",
              "      <td>-0.771867</td>\n",
              "      <td>1.524618</td>\n",
              "      <td>-0.068071</td>\n",
              "      <td>-0.171521</td>\n",
              "      <td>0.341681</td>\n",
              "      <td>...</td>\n",
              "      <td>-0.958503</td>\n",
              "      <td>-0.795708</td>\n",
              "      <td>-0.132790</td>\n",
              "      <td>0.018378</td>\n",
              "      <td>-0.432966</td>\n",
              "      <td>-0.066116</td>\n",
              "      <td>-0.006371</td>\n",
              "      <td>-0.472373</td>\n",
              "      <td>0.181778</td>\n",
              "      <td>0.074862</td>\n",
              "    </tr>\n",
              "    <tr>\n",
              "      <th>4</th>\n",
              "      <td>-0.692797</td>\n",
              "      <td>-0.435498</td>\n",
              "      <td>-1.673149</td>\n",
              "      <td>0.045856</td>\n",
              "      <td>0.292185</td>\n",
              "      <td>-1.561811</td>\n",
              "      <td>0.780544</td>\n",
              "      <td>-0.000231</td>\n",
              "      <td>-1.402506</td>\n",
              "      <td>0.866888</td>\n",
              "      <td>...</td>\n",
              "      <td>0.353773</td>\n",
              "      <td>-1.160216</td>\n",
              "      <td>-0.357106</td>\n",
              "      <td>0.220035</td>\n",
              "      <td>0.144812</td>\n",
              "      <td>-0.401812</td>\n",
              "      <td>0.585473</td>\n",
              "      <td>-0.644445</td>\n",
              "      <td>0.811905</td>\n",
              "      <td>-0.621054</td>\n",
              "    </tr>\n",
              "  </tbody>\n",
              "</table>\n",
              "<p>5 rows × 150 columns</p>\n",
              "</div>\n",
              "      <button class=\"colab-df-convert\" onclick=\"convertToInteractive('df-bd7e6963-a128-48ae-bc02-aec3cfd4ecc2')\"\n",
              "              title=\"Convert this dataframe to an interactive table.\"\n",
              "              style=\"display:none;\">\n",
              "        \n",
              "  <svg xmlns=\"http://www.w3.org/2000/svg\" height=\"24px\"viewBox=\"0 0 24 24\"\n",
              "       width=\"24px\">\n",
              "    <path d=\"M0 0h24v24H0V0z\" fill=\"none\"/>\n",
              "    <path d=\"M18.56 5.44l.94 2.06.94-2.06 2.06-.94-2.06-.94-.94-2.06-.94 2.06-2.06.94zm-11 1L8.5 8.5l.94-2.06 2.06-.94-2.06-.94L8.5 2.5l-.94 2.06-2.06.94zm10 10l.94 2.06.94-2.06 2.06-.94-2.06-.94-.94-2.06-.94 2.06-2.06.94z\"/><path d=\"M17.41 7.96l-1.37-1.37c-.4-.4-.92-.59-1.43-.59-.52 0-1.04.2-1.43.59L10.3 9.45l-7.72 7.72c-.78.78-.78 2.05 0 2.83L4 21.41c.39.39.9.59 1.41.59.51 0 1.02-.2 1.41-.59l7.78-7.78 2.81-2.81c.8-.78.8-2.07 0-2.86zM5.41 20L4 18.59l7.72-7.72 1.47 1.35L5.41 20z\"/>\n",
              "  </svg>\n",
              "      </button>\n",
              "      \n",
              "  <style>\n",
              "    .colab-df-container {\n",
              "      display:flex;\n",
              "      flex-wrap:wrap;\n",
              "      gap: 12px;\n",
              "    }\n",
              "\n",
              "    .colab-df-convert {\n",
              "      background-color: #E8F0FE;\n",
              "      border: none;\n",
              "      border-radius: 50%;\n",
              "      cursor: pointer;\n",
              "      display: none;\n",
              "      fill: #1967D2;\n",
              "      height: 32px;\n",
              "      padding: 0 0 0 0;\n",
              "      width: 32px;\n",
              "    }\n",
              "\n",
              "    .colab-df-convert:hover {\n",
              "      background-color: #E2EBFA;\n",
              "      box-shadow: 0px 1px 2px rgba(60, 64, 67, 0.3), 0px 1px 3px 1px rgba(60, 64, 67, 0.15);\n",
              "      fill: #174EA6;\n",
              "    }\n",
              "\n",
              "    [theme=dark] .colab-df-convert {\n",
              "      background-color: #3B4455;\n",
              "      fill: #D2E3FC;\n",
              "    }\n",
              "\n",
              "    [theme=dark] .colab-df-convert:hover {\n",
              "      background-color: #434B5C;\n",
              "      box-shadow: 0px 1px 3px 1px rgba(0, 0, 0, 0.15);\n",
              "      filter: drop-shadow(0px 1px 2px rgba(0, 0, 0, 0.3));\n",
              "      fill: #FFFFFF;\n",
              "    }\n",
              "  </style>\n",
              "\n",
              "      <script>\n",
              "        const buttonEl =\n",
              "          document.querySelector('#df-bd7e6963-a128-48ae-bc02-aec3cfd4ecc2 button.colab-df-convert');\n",
              "        buttonEl.style.display =\n",
              "          google.colab.kernel.accessAllowed ? 'block' : 'none';\n",
              "\n",
              "        async function convertToInteractive(key) {\n",
              "          const element = document.querySelector('#df-bd7e6963-a128-48ae-bc02-aec3cfd4ecc2');\n",
              "          const dataTable =\n",
              "            await google.colab.kernel.invokeFunction('convertToInteractive',\n",
              "                                                     [key], {});\n",
              "          if (!dataTable) return;\n",
              "\n",
              "          const docLinkHtml = 'Like what you see? Visit the ' +\n",
              "            '<a target=\"_blank\" href=https://colab.research.google.com/notebooks/data_table.ipynb>data table notebook</a>'\n",
              "            + ' to learn more about interactive tables.';\n",
              "          element.innerHTML = '';\n",
              "          dataTable['output_type'] = 'display_data';\n",
              "          await google.colab.output.renderOutput(dataTable, element);\n",
              "          const docLink = document.createElement('div');\n",
              "          docLink.innerHTML = docLinkHtml;\n",
              "          element.appendChild(docLink);\n",
              "        }\n",
              "      </script>\n",
              "    </div>\n",
              "  </div>\n",
              "  "
            ],
            "text/plain": [
              "        0         1         2         3         4         5         6    \\\n",
              "0  1.750036  0.350342 -1.341973 -2.795068  0.432952  0.474938 -1.574554   \n",
              "1 -0.254578  1.008169  0.819884 -1.666252 -0.495354 -0.246320 -0.306173   \n",
              "2 -0.546815 -0.789877 -0.896693  0.609252 -1.785813  0.671458 -1.346309   \n",
              "3  1.129433  1.576726 -1.089738 -0.159556 -0.237411 -0.771867  1.524618   \n",
              "4 -0.692797 -0.435498 -1.673149  0.045856  0.292185 -1.561811  0.780544   \n",
              "\n",
              "        7         8         9    ...       140       141       142       143  \\\n",
              "0 -0.439485 -1.486932 -1.585869  ... -1.015021 -0.795066 -1.952407 -0.866407   \n",
              "1 -0.182138  0.162858 -0.850303  ...  1.485140 -0.294316  1.076433 -0.578114   \n",
              "2  0.051911  1.257504  0.635510  ...  1.064428  0.506085 -0.692270  0.803917   \n",
              "3 -0.068071 -0.171521  0.341681  ... -0.958503 -0.795708 -0.132790  0.018378   \n",
              "4 -0.000231 -1.402506  0.866888  ...  0.353773 -1.160216 -0.357106  0.220035   \n",
              "\n",
              "        144       145       146       147       148       149  \n",
              "0 -3.145759  3.099274 -0.818265 -0.095863 -0.652975 -0.693894  \n",
              "1  0.625668  0.116021  1.182070  0.071192  1.467883  0.099011  \n",
              "2  0.736296 -0.473514  0.512632 -0.367337 -0.455865 -0.193491  \n",
              "3 -0.432966 -0.066116 -0.006371 -0.472373  0.181778  0.074862  \n",
              "4  0.144812 -0.401812  0.585473 -0.644445  0.811905 -0.621054  \n",
              "\n",
              "[5 rows x 150 columns]"
            ]
          },
          "execution_count": 150,
          "metadata": {},
          "output_type": "execute_result"
        }
      ],
      "source": [
        "\n",
        "dftemp2=pd.DataFrame(dftemp2)\n",
        "dftemp2.head()\n"
      ]
    },
    {
      "cell_type": "code",
      "execution_count": 151,
      "metadata": {
        "id": "83zizsyvKHzh"
      },
      "outputs": [],
      "source": [
        "t=4"
      ]
    },
    {
      "cell_type": "code",
      "execution_count": 151,
      "metadata": {
        "id": "-Vf_kU7EIZMB"
      },
      "outputs": [],
      "source": []
    },
    {
      "cell_type": "code",
      "execution_count": 152,
      "metadata": {
        "colab": {
          "base_uri": "https://localhost:8080/"
        },
        "id": "XmXnkjOiKIGQ",
        "outputId": "8edec45f-b9c4-456d-d9bb-9101ad5111a2"
      },
      "outputs": [
        {
          "name": "stdout",
          "output_type": "stream",
          "text": [
            "[2. 0. 0. ... 0. 2. 2.]\n"
          ]
        },
        {
          "data": {
            "text/plain": [
              "(4031,)"
            ]
          },
          "execution_count": 152,
          "metadata": {},
          "output_type": "execute_result"
        }
      ],
      "source": [
        "y=np.array(dftemp[:,0])\n",
        "print(y)\n",
        "y_new=y[t:]\n",
        "y_new.shape\n"
      ]
    },
    {
      "cell_type": "code",
      "execution_count": 153,
      "metadata": {
        "id": "o7_wCM7xKIQr"
      },
      "outputs": [],
      "source": [
        "# x=np.array([df[:,i] for i in range(5,155)])\n",
        "# print(x)\n",
        "# print(x.shape)"
      ]
    },
    {
      "cell_type": "code",
      "execution_count": 154,
      "metadata": {
        "colab": {
          "base_uri": "https://localhost:8080/"
        },
        "id": "3JPzLQQmKhZk",
        "outputId": "5ec8bfd5-9961-4774-8e65-d09493d56180"
      },
      "outputs": [
        {
          "name": "stdout",
          "output_type": "stream",
          "text": [
            "[[ 1.75003587  0.35034195 -1.34197268 ... -0.09586277 -0.65297501\n",
            "  -0.69389439]\n",
            " [-0.25457839  1.0081691   0.81988383 ...  0.07119234  1.46788294\n",
            "   0.09901143]\n",
            " [-0.54681497 -0.78987671 -0.89669304 ... -0.36733697 -0.45586514\n",
            "  -0.19349053]\n",
            " ...\n",
            " [ 2.22086255 -0.58228757 -0.27853416 ... -2.02149798 -1.01073053\n",
            "   0.43726076]\n",
            " [-0.48429916  1.67398747 -0.14923649 ... -1.1054281  -1.40291665\n",
            "  -0.65378801]\n",
            " [-0.49861358 -0.61285237  0.87098058 ... -0.99306681  0.88707099\n",
            "   0.14605586]]\n",
            "(4035, 150)\n"
          ]
        }
      ],
      "source": [
        "x=np.array(dftemp2)\n",
        "print(x)\n",
        "\n",
        "print(x.shape)\n",
        "# x_new=[list(i) for i in x[t-1:-1,:]]\n",
        "# print(x_new)\n"
      ]
    },
    {
      "cell_type": "code",
      "execution_count": 155,
      "metadata": {
        "id": "dRtOl1p-KhcT"
      },
      "outputs": [],
      "source": [
        "# for i in range(len(x_new)):\n",
        "#   for j in range(i,i+t):\n",
        "#     x_new[:,i].append(y[j])"
      ]
    },
    {
      "cell_type": "code",
      "execution_count": 156,
      "metadata": {
        "colab": {
          "base_uri": "https://localhost:8080/"
        },
        "id": "YJ095DSVKhfb",
        "outputId": "7c409534-7103-413c-e0d5-b14e875d252a"
      },
      "outputs": [
        {
          "data": {
            "text/plain": [
              "((4035, 150), (4031,))"
            ]
          },
          "execution_count": 156,
          "metadata": {},
          "output_type": "execute_result"
        }
      ],
      "source": [
        "x=np.array(x)\n",
        "x.shape,y_new.shape"
      ]
    },
    {
      "cell_type": "code",
      "execution_count": 157,
      "metadata": {
        "colab": {
          "base_uri": "https://localhost:8080/"
        },
        "id": "hdDY6fhENZ2-",
        "outputId": "fb95d83c-7613-4675-b5d9-4f68a937fcd6"
      },
      "outputs": [
        {
          "data": {
            "text/plain": [
              "(4031, 4, 150)"
            ]
          },
          "execution_count": 157,
          "metadata": {},
          "output_type": "execute_result"
        }
      ],
      "source": [
        "x_3d=[]\n",
        "for i in range(4035-t):\n",
        "  tmp=[]\n",
        "  for j in range(t):\n",
        "    tmp.append(x[j+i])\n",
        "  x_3d.append(tmp)\n",
        "x_3d= np.array(x_3d)\n",
        "x_3d.shape"
      ]
    },
    {
      "cell_type": "code",
      "execution_count": 158,
      "metadata": {
        "colab": {
          "base_uri": "https://localhost:8080/"
        },
        "id": "AwnZ3Mh1Khi8",
        "outputId": "48dbd282-901d-43cb-e426-9db98f207c4b"
      },
      "outputs": [
        {
          "data": {
            "text/plain": [
              "((3224, 4, 150), (3224,), (807, 4, 150), (807,))"
            ]
          },
          "execution_count": 158,
          "metadata": {},
          "output_type": "execute_result"
        }
      ],
      "source": [
        "train_test_ratio=0.8\n",
        "x_train=x_3d[:int(x_3d.shape[0]*train_test_ratio)]\n",
        "x_test=x_3d[int(x_3d.shape[0]*train_test_ratio):]\n",
        "y_train=y_new[:int(x_3d.shape[0]*train_test_ratio)]\n",
        "y_test=y_new[int(x_3d.shape[0]*train_test_ratio):]\n",
        "x_train.shape,y_train.shape,x_test.shape,y_test.shape"
      ]
    },
    {
      "cell_type": "code",
      "execution_count": 159,
      "metadata": {
        "colab": {
          "base_uri": "https://localhost:8080/"
        },
        "id": "xlijLVYecmcq",
        "outputId": "59cb4ec4-fdc2-4664-e58a-4eda7875b304"
      },
      "outputs": [
        {
          "name": "stdout",
          "output_type": "stream",
          "text": [
            "1486\n",
            "876\n",
            "862\n"
          ]
        }
      ],
      "source": [
        "cnt0=0\n",
        "cnt1=0\n",
        "cnt2=0\n",
        "for i in range(3224):\n",
        "  if(y_train[i]==0):\n",
        "    cnt0+=1\n",
        "  elif(y_train[i]==1):\n",
        "    cnt1+=1\n",
        "  elif(y_train[i]==2):\n",
        "    cnt2+=1\n",
        "print(cnt0)\n",
        "print(cnt1)\n",
        "print(cnt2)  "
      ]
    },
    {
      "cell_type": "code",
      "execution_count": 160,
      "metadata": {
        "id": "PqOHcbhQcuo8"
      },
      "outputs": [],
      "source": [
        "x_train1=[]\n",
        "y_train1=[]\n",
        "cntt0=0\n",
        "cntt1=0\n",
        "cntt2=0\n",
        "\n",
        "for i in range(3224):\n",
        "  if(y_train[i]==0 and cntt0<862):\n",
        "    x_train1.append(x_train[i])\n",
        "    y_train1.append(0)\n",
        "    cntt0+=1\n",
        "  elif(y_train[i]==0 and cntt0>=862):\n",
        "    continue\n",
        "  elif(y_train[i]==1 and cntt1<862):\n",
        "    x_train1.append(x_train[i])\n",
        "    y_train1.append(1)\n",
        "    cntt1+=1\n",
        "  elif(y_train[i]==1 and cntt1>=862):\n",
        "    continue\n",
        "  elif(y_train[i]==2 and cntt2<862):\n",
        "    x_train1.append(x_train[i])\n",
        "    y_train1.append(2)\n",
        "    cntt2+=1\n",
        "  elif(y_train[i]==2 and cntt2>=862):\n",
        "    continue\n",
        "y_train=[]\n",
        "y_train=y_train1\n",
        "x_train=[]\n",
        "x_train=x_train1\n",
        "x_train=np.array(x_train)\n",
        "y_train=np.array(y_train)"
      ]
    },
    {
      "cell_type": "code",
      "execution_count": 160,
      "metadata": {
        "id": "7xaH5sg5bELx"
      },
      "outputs": [],
      "source": []
    },
    {
      "cell_type": "code",
      "execution_count": 160,
      "metadata": {
        "id": "fMbhzCEnbEG2"
      },
      "outputs": [],
      "source": []
    },
    {
      "cell_type": "code",
      "execution_count": 160,
      "metadata": {
        "id": "nYGfB6dAbECe"
      },
      "outputs": [],
      "source": []
    },
    {
      "cell_type": "code",
      "execution_count": 160,
      "metadata": {
        "id": "8oVQvQNgbD9X"
      },
      "outputs": [],
      "source": []
    },
    {
      "cell_type": "code",
      "execution_count": 160,
      "metadata": {
        "id": "H8NDWRw3bD5l"
      },
      "outputs": [],
      "source": []
    },
    {
      "cell_type": "code",
      "execution_count": 161,
      "metadata": {
        "colab": {
          "base_uri": "https://localhost:8080/"
        },
        "id": "EYzwuCcAbDKT",
        "outputId": "04800fef-be54-4f2d-fd1f-ddfcd7ac9350"
      },
      "outputs": [
        {
          "data": {
            "text/plain": [
              "{0: 1.0, 1: 1.0, 2: 1.0}"
            ]
          },
          "execution_count": 161,
          "metadata": {},
          "output_type": "execute_result"
        }
      ],
      "source": [
        "sklearn_weights=class_weight.compute_class_weight(class_weight='balanced',classes=np.unique(y_train),y=y_train)\n",
        "sklearn_weights=dict(zip(np.unique(y_train),sklearn_weights))\n",
        "sklearn_weights"
      ]
    },
    {
      "cell_type": "code",
      "execution_count": 162,
      "metadata": {
        "colab": {
          "base_uri": "https://localhost:8080/"
        },
        "id": "Dc0EfN4HUL1d",
        "outputId": "3a557cda-17c8-40cf-dca1-3633ec3a223b"
      },
      "outputs": [
        {
          "name": "stdout",
          "output_type": "stream",
          "text": [
            "862\n",
            "862\n",
            "862\n"
          ]
        }
      ],
      "source": [
        "cnt0=0\n",
        "cnt1=0\n",
        "cnt2=0\n",
        "for i in range(3*862):\n",
        "  if(y_train[i]==0):\n",
        "    cnt0+=1\n",
        "  elif(y_train[i]==1):\n",
        "    cnt1+=1\n",
        "  elif(y_train[i]==2):\n",
        "    cnt2+=1\n",
        "print(cnt0)\n",
        "print(cnt1)\n",
        "print(cnt2)  "
      ]
    },
    {
      "cell_type": "code",
      "execution_count": 163,
      "metadata": {
        "id": "rhgsSos1KIbA"
      },
      "outputs": [],
      "source": [
        "\n",
        "# model = Sequential()\n",
        "# model.add(LSTM(200, activation='relu', return_sequences=True, input_shape=( t,150,)))\n",
        "# model.add(LSTM(100, activation='relu', return_sequences=True))\n",
        "# model.add(LSTM(50, activation='relu', return_sequences=True))\n",
        "# model.add(LSTM(25, activation='relu'))\n",
        "# model.add(Dense(20, activation='relu'))\n",
        "# model.add(Dense(10, activation='relu'))\n",
        "# model.add(Dense(3))\n",
        "# model.compile(optimizer='SGD', loss='sparse_categorical_crossentropy',metrics=['accuracy'])\n",
        "# history = model.fit(x_train, y_train, epochs=10, validation_split=0.2, verbose=1)\n",
        "# test_output = model.predict(x_test, verbose=1)\n",
        "# # history = model.fit(X, Y, epochs=1000, validation_split=0.2, verbose=1)\n",
        "# # test_output = model.predict(x=, verbose=0)\n",
        "# # print(test_output)"
      ]
    },
    {
      "cell_type": "code",
      "execution_count": 175,
      "metadata": {
        "colab": {
          "base_uri": "https://localhost:8080/"
        },
        "id": "lwHPGS2iXMXc",
        "outputId": "bf96e04a-8208-4961-d61e-de03eb25f985"
      },
      "outputs": [
        {
          "name": "stderr",
          "output_type": "stream",
          "text": [
            "WARNING:tensorflow:Layer lstm_80 will not use cuDNN kernels since it doesn't meet the criteria. It will use a generic GPU kernel as fallback when running on GPU.\n",
            "WARNING:tensorflow:Layer lstm_81 will not use cuDNN kernels since it doesn't meet the criteria. It will use a generic GPU kernel as fallback when running on GPU.\n",
            "WARNING:tensorflow:Layer lstm_82 will not use cuDNN kernels since it doesn't meet the criteria. It will use a generic GPU kernel as fallback when running on GPU.\n",
            "WARNING:tensorflow:Layer lstm_83 will not use cuDNN kernels since it doesn't meet the criteria. It will use a generic GPU kernel as fallback when running on GPU.\n"
          ]
        },
        {
          "name": "stdout",
          "output_type": "stream",
          "text": [
            "Epoch 1/30\n"
          ]
        },
        {
          "name": "stderr",
          "output_type": "stream",
          "text": [
            "/usr/local/lib/python3.7/dist-packages/keras/optimizers/optimizer_v2/adam.py:110: UserWarning: The `lr` argument is deprecated, use `learning_rate` instead.\n",
            "  super(Adam, self).__init__(name, **kwargs)\n"
          ]
        },
        {
          "name": "stdout",
          "output_type": "stream",
          "text": [
            "65/65 [==============================] - 16s 51ms/step - loss: 1.0840 - accuracy: 0.4115 - val_loss: 1.3540 - val_accuracy: 0.0000e+00\n",
            "Epoch 2/30\n",
            "65/65 [==============================] - 3s 43ms/step - loss: 1.0411 - accuracy: 0.4434 - val_loss: 2.6207 - val_accuracy: 0.1120\n",
            "Epoch 3/30\n",
            "65/65 [==============================] - 3s 45ms/step - loss: 0.8867 - accuracy: 0.5774 - val_loss: 1.7609 - val_accuracy: 0.2394\n",
            "Epoch 4/30\n",
            "65/65 [==============================] - 3s 42ms/step - loss: 0.6422 - accuracy: 0.7360 - val_loss: 1.8949 - val_accuracy: 0.2722\n",
            "Epoch 5/30\n",
            "65/65 [==============================] - 3s 42ms/step - loss: 0.4436 - accuracy: 0.8433 - val_loss: 2.2218 - val_accuracy: 0.2741\n",
            "Epoch 6/30\n",
            "65/65 [==============================] - 3s 44ms/step - loss: 0.2760 - accuracy: 0.9188 - val_loss: 3.0113 - val_accuracy: 0.2915\n",
            "Epoch 7/30\n",
            "65/65 [==============================] - 3s 44ms/step - loss: 0.2216 - accuracy: 0.9309 - val_loss: 2.3137 - val_accuracy: 0.2683\n",
            "Epoch 8/30\n",
            "65/65 [==============================] - 3s 43ms/step - loss: 0.1712 - accuracy: 0.9492 - val_loss: 3.3811 - val_accuracy: 0.2857\n",
            "Epoch 9/30\n",
            "65/65 [==============================] - 3s 43ms/step - loss: 0.1384 - accuracy: 0.9666 - val_loss: 4.3702 - val_accuracy: 0.3012\n",
            "Epoch 10/30\n",
            "65/65 [==============================] - 3s 44ms/step - loss: 0.2814 - accuracy: 0.9371 - val_loss: 3.4440 - val_accuracy: 0.2857\n",
            "Epoch 11/30\n",
            "65/65 [==============================] - 3s 43ms/step - loss: 0.1735 - accuracy: 0.9521 - val_loss: 3.3072 - val_accuracy: 0.2896\n",
            "Epoch 12/30\n",
            "65/65 [==============================] - 3s 44ms/step - loss: 0.1522 - accuracy: 0.9676 - val_loss: 4.3848 - val_accuracy: 0.3031\n",
            "Epoch 13/30\n",
            "65/65 [==============================] - 3s 44ms/step - loss: 0.0989 - accuracy: 0.9816 - val_loss: 6.0435 - val_accuracy: 0.2876\n",
            "Epoch 14/30\n",
            "65/65 [==============================] - 3s 43ms/step - loss: 0.1139 - accuracy: 0.9787 - val_loss: 3.4179 - val_accuracy: 0.3359\n",
            "Epoch 15/30\n",
            "65/65 [==============================] - 3s 42ms/step - loss: 0.2413 - accuracy: 0.9487 - val_loss: 4.0852 - val_accuracy: 0.2819\n",
            "Epoch 16/30\n",
            "65/65 [==============================] - 3s 44ms/step - loss: 0.1632 - accuracy: 0.9705 - val_loss: 4.1609 - val_accuracy: 0.2876\n",
            "Epoch 17/30\n",
            "65/65 [==============================] - 3s 42ms/step - loss: 0.1815 - accuracy: 0.9744 - val_loss: 3.4891 - val_accuracy: 0.3417\n",
            "Epoch 18/30\n",
            "65/65 [==============================] - 3s 42ms/step - loss: 0.2511 - accuracy: 0.9550 - val_loss: 2.2023 - val_accuracy: 0.3185\n",
            "Epoch 19/30\n",
            "65/65 [==============================] - 3s 43ms/step - loss: 0.1993 - accuracy: 0.9449 - val_loss: 2.8583 - val_accuracy: 0.2876\n",
            "Epoch 20/30\n",
            "65/65 [==============================] - 3s 42ms/step - loss: 0.0670 - accuracy: 0.9865 - val_loss: 5.3023 - val_accuracy: 0.3224\n",
            "Epoch 21/30\n",
            "65/65 [==============================] - 3s 42ms/step - loss: 0.2738 - accuracy: 0.9821 - val_loss: 4.9391 - val_accuracy: 0.2259\n",
            "Epoch 22/30\n",
            "65/65 [==============================] - 3s 41ms/step - loss: 0.2118 - accuracy: 0.9603 - val_loss: 3.3237 - val_accuracy: 0.1988\n",
            "Epoch 23/30\n",
            "65/65 [==============================] - 3s 42ms/step - loss: 0.1050 - accuracy: 0.9691 - val_loss: 5.3806 - val_accuracy: 0.2529\n",
            "Epoch 24/30\n",
            "65/65 [==============================] - 3s 42ms/step - loss: 0.1755 - accuracy: 0.9734 - val_loss: 3.9648 - val_accuracy: 0.2722\n",
            "Epoch 25/30\n",
            "65/65 [==============================] - 3s 42ms/step - loss: 0.0863 - accuracy: 0.9855 - val_loss: 4.5010 - val_accuracy: 0.2529\n",
            "Epoch 26/30\n",
            "65/65 [==============================] - 3s 44ms/step - loss: 0.0981 - accuracy: 0.9923 - val_loss: 3.6906 - val_accuracy: 0.2432\n",
            "Epoch 27/30\n",
            "65/65 [==============================] - 3s 45ms/step - loss: 0.0494 - accuracy: 0.9937 - val_loss: 5.1780 - val_accuracy: 0.2452\n",
            "Epoch 28/30\n",
            "65/65 [==============================] - 3s 42ms/step - loss: 0.0301 - accuracy: 0.9937 - val_loss: 11.8908 - val_accuracy: 0.2703\n",
            "Epoch 29/30\n",
            "65/65 [==============================] - 3s 42ms/step - loss: 0.1197 - accuracy: 0.9797 - val_loss: 9.3637 - val_accuracy: 0.2838\n",
            "Epoch 30/30\n",
            "65/65 [==============================] - 3s 43ms/step - loss: 0.0564 - accuracy: 0.9937 - val_loss: 8.5503 - val_accuracy: 0.2857\n",
            "26/26 [==============================] - 1s 5ms/step\n"
          ]
        }
      ],
      "source": [
        "import keras \n",
        "model = Sequential()\n",
        "model.add(LSTM(200, activation='relu', return_sequences=True, input_shape=( t,150,)))\n",
        "model.add(LSTM(400, activation='relu', return_sequences=True))\n",
        "model.add(LSTM(800, activation='relu', return_sequences=True))\n",
        "model.add(LSTM(150, activation='relu'))\n",
        "model.add(Dense(20, activation='relu'))\n",
        "model.add(Dense(10, activation='relu'))\n",
        "model.add(Dense(3,activation='sigmoid'))\n",
        "optimi=keras.optimizers.Adam(lr=0.003)\n",
        "model.compile(optimizer=optimi, loss='sparse_categorical_crossentropy',metrics=['accuracy'])\n",
        "history = model.fit(x_train, y_train, epochs=30, validation_split=0.2, verbose=1)\n",
        "\n",
        "# history = model.fit(x_train, y_train, epochs=5, validation_split=0.2, verbose=1,class_weight=sklearn_weights)\n",
        "test_output = model.predict(x_test, verbose=1)\n",
        "# history = model.fit(X, Y, epochs=1000, validation_split=0.2, verbose=1)\n",
        "# test_output = model.predict(x=, verbose=0)\n",
        "# print(test_output)"
      ]
    },
    {
      "cell_type": "code",
      "execution_count": 176,
      "metadata": {
        "colab": {
          "base_uri": "https://localhost:8080/"
        },
        "id": "Q_hmR6MK_Bq5",
        "outputId": "f92cb6d9-73ac-49f1-e9e6-ac388b294c04"
      },
      "outputs": [
        {
          "name": "stdout",
          "output_type": "stream",
          "text": [
            "[[9.9944049e-01 2.2839058e-04 1.4897923e-02]\n",
            " [7.0385456e-01 3.3247864e-01 3.0173942e-01]\n",
            " [1.5180358e-01 9.7800034e-01 1.4958730e-01]\n",
            " ...\n",
            " [2.8732094e-01 8.8620067e-01 6.9343835e-01]\n",
            " [1.5649624e-01 7.8403312e-01 9.7559887e-01]\n",
            " [9.3483053e-02 9.9249321e-01 8.8381335e-02]]\n",
            "[[132 124  82]\n",
            " [ 62  81  36]\n",
            " [127  87  76]]\n",
            "            0         1         2\n",
            "0    0.999440  0.000228  0.014898\n",
            "1    0.703855  0.332479  0.301739\n",
            "2    0.151804  0.978000  0.149587\n",
            "3    0.131277  0.984382  0.135953\n",
            "4    0.093917  0.992700  0.100991\n",
            "..        ...       ...       ...\n",
            "802  0.185647  0.967259  0.232853\n",
            "803  0.126122  0.420245  0.947323\n",
            "804  0.287321  0.886201  0.693438\n",
            "805  0.156496  0.784033  0.975599\n",
            "806  0.093483  0.992493  0.088381\n",
            "\n",
            "[807 rows x 3 columns]\n"
          ]
        }
      ],
      "source": [
        "print(test_output)\n",
        "\n",
        "test_output_1=np.array([np.argmax(i)  for i in test_output])\n",
        "\n",
        "from sklearn.metrics import confusion_matrix,accuracy_score\n",
        "print(confusion_matrix(y_test,test_output_1))\n",
        "test_output=pd.DataFrame(test_output)\n",
        "print(test_output)"
      ]
    },
    {
      "cell_type": "code",
      "execution_count": null,
      "metadata": {
        "id": "genF5ZX3ZtTE"
      },
      "outputs": [],
      "source": []
    },
    {
      "cell_type": "code",
      "execution_count": null,
      "metadata": {
        "id": "2cmiOMk2aL1u"
      },
      "outputs": [],
      "source": [
        "y_train.shape"
      ]
    },
    {
      "cell_type": "code",
      "execution_count": null,
      "metadata": {
        "id": "8qCGjF98ZZQd"
      },
      "outputs": [],
      "source": [
        "\n"
      ]
    },
    {
      "cell_type": "code",
      "execution_count": null,
      "metadata": {
        "id": "nJQRVSUfZZNH"
      },
      "outputs": [],
      "source": []
    },
    {
      "cell_type": "code",
      "execution_count": null,
      "metadata": {
        "id": "tGDVHfcH_Fwt"
      },
      "outputs": [],
      "source": [
        "# # print(confusion_matrix(y_test,test_output))\n",
        "# y_test\n",
        "test_output_1"
      ]
    }
  ],
  "metadata": {
    "accelerator": "GPU",
    "colab": {
      "collapsed_sections": [],
      "include_colab_link": true,
      "provenance": []
    },
    "gpuClass": "standard",
    "kernelspec": {
      "display_name": "Python 3",
      "name": "python3"
    },
    "language_info": {
      "name": "python"
    }
  },
  "nbformat": 4,
  "nbformat_minor": 0
}
