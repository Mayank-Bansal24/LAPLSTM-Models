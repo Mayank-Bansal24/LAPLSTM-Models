{
  "nbformat": 4,
  "nbformat_minor": 0,
  "metadata": {
    "colab": {
      "provenance": [],
      "include_colab_link": true
    },
    "kernelspec": {
      "name": "python3",
      "display_name": "Python 3"
    },
    "language_info": {
      "name": "python"
    },
    "accelerator": "GPU",
    "gpuClass": "standard"
  },
  "cells": [
    {
      "cell_type": "markdown",
      "metadata": {
        "id": "view-in-github",
        "colab_type": "text"
      },
      "source": [
        "<a href=\"https://colab.research.google.com/github/Mayank-Bansal24/LAPLSTM-Models/blob/main/default_weightst04.ipynb\" target=\"_parent\"><img src=\"https://colab.research.google.com/assets/colab-badge.svg\" alt=\"Open In Colab\"/></a>"
      ]
    },
    {
      "cell_type": "code",
      "source": [
        "import numpy as np\n",
        "import tensorflow as tf\n",
        "from tensorflow.keras import losses as lo_ss\n",
        "from tensorflow.keras.models import Sequential\n",
        "from tensorflow.keras.layers import LSTM\n",
        "from tensorflow.keras.layers import Dense, Dropout\n",
        "import string\n",
        "import pandas as pd\n",
        "from matplotlib import pyplot as plt\n",
        "from sklearn.preprocessing import StandardScaler\n",
        "import seaborn as sns\n",
        "from sklearn import model_selection\n",
        "from sklearn.datasets import make_classification\n",
        "from sklearn.utils import class_weight\n",
        "from sklearn.metrics import classification_report , roc_auc_score\n",
        "import keras \n",
        "import keras.backend as K\n",
        "from google.colab import drive\n",
        "from numpy import savetxt"
      ],
      "metadata": {
        "id": "V1kLUX7gJ3N_"
      },
      "execution_count": 65,
      "outputs": []
    },
    {
      "cell_type": "code",
      "source": [
        "drive.mount('/content/gdrive')\n"
      ],
      "metadata": {
        "colab": {
          "base_uri": "https://localhost:8080/"
        },
        "id": "HXmXAIAJArT2",
        "outputId": "e87ace14-8444-40dc-a0c5-d396dad5e2db"
      },
      "execution_count": 66,
      "outputs": [
        {
          "output_type": "stream",
          "name": "stdout",
          "text": [
            "Drive already mounted at /content/gdrive; to attempt to forcibly remount, call drive.mount(\"/content/gdrive\", force_remount=True).\n"
          ]
        }
      ]
    },
    {
      "cell_type": "code",
      "source": [
        "t=4"
      ],
      "metadata": {
        "id": "uLTug-YJDW8D"
      },
      "execution_count": 67,
      "outputs": []
    },
    {
      "cell_type": "code",
      "source": [
        "import os\n",
        "os.chdir('/content/gdrive/MyDrive/laplstm/default class weights/t'+str(t))"
      ],
      "metadata": {
        "id": "ubPkwGQnA8Wx"
      },
      "execution_count": 68,
      "outputs": []
    },
    {
      "cell_type": "code",
      "source": [
        "\n",
        "github_raw_link=\"https://raw.githubusercontent.com/Aryansh085/LAP/main/858417d1-7d54-4115-a01b-fdda5e03ada3_testing_combined_rows4035_disc_1_0p9_MULTIPLY_preproces_155cols.csv\"\n",
        "df1=pd.read_csv((github_raw_link),header = None)\n",
        "dftemp=np.array(df1)\n",
        "dftemp.shape\n",
        "dftemp2=dftemp[:,5:]\n",
        "dftemp2=np.array(dftemp2)\n",
        "print(dftemp2.shape)"
      ],
      "metadata": {
        "id": "3UWvhrydJ8hA",
        "colab": {
          "base_uri": "https://localhost:8080/"
        },
        "outputId": "efa5cee2-9007-44a6-a7ab-cebd8fb6f38c"
      },
      "execution_count": 69,
      "outputs": [
        {
          "output_type": "stream",
          "name": "stdout",
          "text": [
            "(4035, 150)\n"
          ]
        }
      ]
    },
    {
      "cell_type": "code",
      "source": [
        "# dftemp2\n",
        "dftemp2.shape\n",
        "# dftemp2=pd.DataFrame(dftemp2)\n",
        "# dftemp2.head()"
      ],
      "metadata": {
        "colab": {
          "base_uri": "https://localhost:8080/"
        },
        "id": "h00YSxPn8rUk",
        "outputId": "1887e6a0-60b5-4959-ae96-2dadf5ca6c7a"
      },
      "execution_count": 70,
      "outputs": [
        {
          "output_type": "execute_result",
          "data": {
            "text/plain": [
              "(4035, 150)"
            ]
          },
          "metadata": {},
          "execution_count": 70
        }
      ]
    },
    {
      "cell_type": "markdown",
      "source": [
        "--> muliply the reward of that instance into the loss of that instance to give weight"
      ],
      "metadata": {
        "id": "pPfqIsthYP2X"
      }
    },
    {
      "cell_type": "code",
      "source": [
        "from sklearn.preprocessing import StandardScaler\n",
        "\n",
        "slr=StandardScaler()\n",
        "slr.fit(dftemp2)\n",
        "dftemp2 = slr.transform(dftemp2)"
      ],
      "metadata": {
        "id": "kWYAqDfnO_1i"
      },
      "execution_count": 71,
      "outputs": []
    },
    {
      "cell_type": "code",
      "source": [
        "# f1-score function\n",
        "def get_f1(y_true, y_pred): #taken from old keras source code\n",
        "    true_positives = K.sum(K.round(K.clip(y_true * y_pred, 0, 1)))\n",
        "    possible_positives = K.sum(K.round(K.clip(y_true, 0, 1)))\n",
        "    predicted_positives = K.sum(K.round(K.clip(y_pred, 0, 1)))\n",
        "    precision = true_positives / (predicted_positives + K.epsilon())\n",
        "    recall = true_positives / (possible_positives + K.epsilon())\n",
        "    f1_val = 2*(precision*recall)/(precision+recall+K.epsilon())\n",
        "    return f1_val\n",
        "    "
      ],
      "metadata": {
        "id": "4i-6LDL58GyW"
      },
      "execution_count": 72,
      "outputs": []
    },
    {
      "cell_type": "code",
      "source": [],
      "metadata": {
        "id": "83zizsyvKHzh"
      },
      "execution_count": 72,
      "outputs": []
    },
    {
      "cell_type": "code",
      "source": [
        "y=np.array(dftemp[:,0])\n",
        "print(y)\n",
        "y_new=y[t:]\n",
        "y_new.shape\n"
      ],
      "metadata": {
        "colab": {
          "base_uri": "https://localhost:8080/"
        },
        "id": "XmXnkjOiKIGQ",
        "outputId": "7d85acd0-a1db-4244-9110-f9f3b64dc86c"
      },
      "execution_count": 73,
      "outputs": [
        {
          "output_type": "stream",
          "name": "stdout",
          "text": [
            "[2. 0. 0. ... 0. 2. 2.]\n"
          ]
        },
        {
          "output_type": "execute_result",
          "data": {
            "text/plain": [
              "(4031,)"
            ]
          },
          "metadata": {},
          "execution_count": 73
        }
      ]
    },
    {
      "cell_type": "code",
      "source": [
        "x=np.array(dftemp2)\n",
        "# print(x)\n",
        "# print(x.shape)\n",
        "x.shape,y_new.shape"
      ],
      "metadata": {
        "colab": {
          "base_uri": "https://localhost:8080/"
        },
        "id": "3JPzLQQmKhZk",
        "outputId": "2c7d8645-7533-479d-eb4b-65ee29b94c56"
      },
      "execution_count": 74,
      "outputs": [
        {
          "output_type": "execute_result",
          "data": {
            "text/plain": [
              "((4035, 150), (4031,))"
            ]
          },
          "metadata": {},
          "execution_count": 74
        }
      ]
    },
    {
      "cell_type": "code",
      "source": [
        "x_3d=[]\n",
        "for i in range(4035-t):\n",
        "  tmp=[]\n",
        "  for j in range(t):\n",
        "    tmp.append(x[j+i])\n",
        "  x_3d.append(tmp)\n",
        "x_3d= np.array(x_3d)\n",
        "x_3d.shape"
      ],
      "metadata": {
        "colab": {
          "base_uri": "https://localhost:8080/"
        },
        "id": "hdDY6fhENZ2-",
        "outputId": "0c53e1e9-a7b3-419c-ddc3-8b84002d6cd3"
      },
      "execution_count": 75,
      "outputs": [
        {
          "output_type": "execute_result",
          "data": {
            "text/plain": [
              "(4031, 4, 150)"
            ]
          },
          "metadata": {},
          "execution_count": 75
        }
      ]
    },
    {
      "cell_type": "code",
      "source": [
        "train_test_ratio=0.8\n",
        "print(x_3d.shape[0])\n",
        "x_train=[]\n",
        "y_train=[]\n",
        "x_test=[]\n",
        "y_test=[]\n",
        "for i in range(x_3d.shape[0]):\n",
        "  l=[]\n",
        "  ly=[]\n",
        "  no=np.random.randint(100)\n",
        "  if(no<80):\n",
        "    l=x_3d[i]\n",
        "    ly=y_new[i]\n",
        "    x_train.append(l)\n",
        "    y_train.append(ly)\n",
        "  else:\n",
        "    l=x_3d[i]\n",
        "    ly=y_new[i]\n",
        "    x_test.append(l)\n",
        "    y_test.append(ly)\n",
        "\n",
        "\n",
        "x_train=np.array(x_train)\n",
        "y_train=np.array(y_train)\n",
        "x_test=np.array(x_test)\n",
        "y_test=np.array(y_test)\n",
        "x_train.shape,y_train.shape,x_test.shape,y_test.shape"
      ],
      "metadata": {
        "colab": {
          "base_uri": "https://localhost:8080/"
        },
        "id": "AwnZ3Mh1Khi8",
        "outputId": "8c97b590-f9a8-4ee0-d350-f4ccb2f7e76a"
      },
      "execution_count": 76,
      "outputs": [
        {
          "output_type": "stream",
          "name": "stdout",
          "text": [
            "4031\n"
          ]
        },
        {
          "output_type": "execute_result",
          "data": {
            "text/plain": [
              "((3254, 4, 150), (3254,), (777, 4, 150), (777,))"
            ]
          },
          "metadata": {},
          "execution_count": 76
        }
      ]
    },
    {
      "cell_type": "code",
      "source": [
        "cnt0=0\n",
        "cnt1=0\n",
        "cnt2=0\n",
        "for i in range(x_train.shape[0]):\n",
        "  if(y_train[i]==0):\n",
        "    cnt0+=1\n",
        "  elif(y_train[i]==1):\n",
        "    cnt1+=1\n",
        "  elif(y_train[i]==2):\n",
        "    cnt2+=1\n",
        "print(cnt0)\n",
        "print(cnt1)\n",
        "print(cnt2)  "
      ],
      "metadata": {
        "colab": {
          "base_uri": "https://localhost:8080/"
        },
        "id": "xlijLVYecmcq",
        "outputId": "0245dfd9-8841-4eb7-e7e7-ebcdbb472347"
      },
      "execution_count": 77,
      "outputs": [
        {
          "output_type": "stream",
          "name": "stdout",
          "text": [
            "1480\n",
            "855\n",
            "919\n"
          ]
        }
      ]
    },
    {
      "cell_type": "code",
      "source": [
        "sklearn_weights=class_weight.compute_class_weight(class_weight='balanced',classes=np.unique(y_train),y=y_train)\n",
        "sklearn_weights=dict(zip(np.unique(y_train),sklearn_weights))\n",
        "sklearn_weights"
      ],
      "metadata": {
        "colab": {
          "base_uri": "https://localhost:8080/"
        },
        "id": "EYzwuCcAbDKT",
        "outputId": "2d05f961-b0b2-4f5f-912e-86ea69db020a"
      },
      "execution_count": 78,
      "outputs": [
        {
          "output_type": "execute_result",
          "data": {
            "text/plain": [
              "{0.0: 0.7328828828828828, 1.0: 1.268615984405458, 2.0: 1.1802684076895176}"
            ]
          },
          "metadata": {},
          "execution_count": 78
        }
      ]
    },
    {
      "cell_type": "code",
      "source": [
        "\n",
        "# model = Sequential()\n",
        "# model.add(LSTM(200, activation='relu', return_sequences=True, input_shape=( t,150,)))\n",
        "# model.add(LSTM(100, activation='relu', return_sequences=True))\n",
        "# model.add(LSTM(50, activation='relu', return_sequences=True))\n",
        "# model.add(LSTM(25, activation='relu'))\n",
        "# model.add(Dense(20, activation='relu'))\n",
        "# model.add(Dense(10, activation='relu'))\n",
        "# model.add(Dense(3))\n",
        "# model.compile(optimizer='SGD', loss='sparse_categorical_crossentropy',metrics=['accuracy'])\n",
        "# history = model.fit(x_train, y_train, epochs=10, validation_split=0.2, verbose=1)\n",
        "# test_output = model.predict(x_test, verbose=1)\n",
        "# # history = model.fit(X, Y, epochs=1000, validation_split=0.2, verbose=1)\n",
        "# # test_output = model.predict(x=, verbose=0)\n",
        "# # print(test_output)"
      ],
      "metadata": {
        "id": "rhgsSos1KIbA"
      },
      "execution_count": 79,
      "outputs": []
    },
    {
      "cell_type": "code",
      "source": [
        "# sklearn_weights={0:1738,1:2348,2:2362}\n",
        "model = Sequential()\n",
        "model.add(LSTM(200, activation='relu', return_sequences=True, input_shape=( t,150,)))\n",
        "model.add(LSTM(400, activation='relu', return_sequences=True))\n",
        "model.add(LSTM(800, activation='relu', return_sequences=True))\n",
        "model.add(LSTM(150, activation='relu'))\n",
        "model.add(Dense(100, activation='relu'))\n",
        "model.add(Dense(64, activation='relu'))\n",
        "model.add(Dense(10, activation='relu'))\n",
        "model.add(Dense(3,activation='sigmoid'))\n",
        "optimi=keras.optimizers.Adam()\n",
        "model.compile(optimizer=optimi, loss='sparse_categorical_crossentropy',metrics=['accuracy',get_f1])\n",
        "\n",
        "# history = model.fit(x_train, y_train, epochs=30, validation_split=0.2, verbose=1)\n",
        "history = model.fit(x_train, y_train, epochs=25, validation_split=0.2, verbose=1,class_weight=sklearn_weights)\n",
        "test_output = model.predict(x_test, verbose=1)\n"
      ],
      "metadata": {
        "colab": {
          "base_uri": "https://localhost:8080/"
        },
        "id": "lwHPGS2iXMXc",
        "outputId": "a5ac1832-6eb7-4e42-88a8-7235c21bd9ff"
      },
      "execution_count": 80,
      "outputs": [
        {
          "output_type": "stream",
          "name": "stderr",
          "text": [
            "WARNING:tensorflow:Layer lstm_12 will not use cuDNN kernels since it doesn't meet the criteria. It will use a generic GPU kernel as fallback when running on GPU.\n",
            "WARNING:tensorflow:Layer lstm_13 will not use cuDNN kernels since it doesn't meet the criteria. It will use a generic GPU kernel as fallback when running on GPU.\n",
            "WARNING:tensorflow:Layer lstm_14 will not use cuDNN kernels since it doesn't meet the criteria. It will use a generic GPU kernel as fallback when running on GPU.\n",
            "WARNING:tensorflow:Layer lstm_15 will not use cuDNN kernels since it doesn't meet the criteria. It will use a generic GPU kernel as fallback when running on GPU.\n"
          ]
        },
        {
          "output_type": "stream",
          "name": "stdout",
          "text": [
            "Epoch 1/25\n",
            "82/82 [==============================] - 8s 48ms/step - loss: 1.0956 - accuracy: 0.3408 - get_f1: 1.0476 - val_loss: 1.1019 - val_accuracy: 0.3379 - val_get_f1: 1.1378\n",
            "Epoch 2/25\n",
            "82/82 [==============================] - 3s 41ms/step - loss: 0.9970 - accuracy: 0.4199 - get_f1: 1.1696 - val_loss: 1.2317 - val_accuracy: 0.3026 - val_get_f1: 1.2580\n",
            "Epoch 3/25\n",
            "82/82 [==============================] - 3s 43ms/step - loss: 0.7218 - accuracy: 0.6212 - get_f1: 1.0522 - val_loss: 1.2870 - val_accuracy: 0.3840 - val_get_f1: 1.1164\n",
            "Epoch 4/25\n",
            "82/82 [==============================] - 3s 42ms/step - loss: 0.4636 - accuracy: 0.7849 - get_f1: 0.9038 - val_loss: 1.7107 - val_accuracy: 0.3856 - val_get_f1: 0.9593\n",
            "Epoch 5/25\n",
            "82/82 [==============================] - 3s 42ms/step - loss: 0.3203 - accuracy: 0.8617 - get_f1: 0.9202 - val_loss: 2.3068 - val_accuracy: 0.4009 - val_get_f1: 0.9490\n",
            "Epoch 6/25\n",
            "82/82 [==============================] - 3s 41ms/step - loss: 0.2326 - accuracy: 0.8993 - get_f1: 0.9293 - val_loss: 2.3669 - val_accuracy: 0.4316 - val_get_f1: 0.9421\n",
            "Epoch 7/25\n",
            "82/82 [==============================] - 3s 41ms/step - loss: 0.1367 - accuracy: 0.9470 - get_f1: 0.9645 - val_loss: 2.8500 - val_accuracy: 0.3978 - val_get_f1: 0.9202\n",
            "Epoch 8/25\n",
            "82/82 [==============================] - 4s 51ms/step - loss: 0.1654 - accuracy: 0.9278 - get_f1: 0.9521 - val_loss: 2.5218 - val_accuracy: 0.4132 - val_get_f1: 0.9619\n",
            "Epoch 9/25\n",
            "82/82 [==============================] - 3s 40ms/step - loss: 0.1117 - accuracy: 0.9585 - get_f1: 0.9791 - val_loss: 2.7919 - val_accuracy: 0.4240 - val_get_f1: 0.9024\n",
            "Epoch 10/25\n",
            "82/82 [==============================] - 3s 41ms/step - loss: 0.0917 - accuracy: 0.9685 - get_f1: 0.9908 - val_loss: 2.7879 - val_accuracy: 0.3856 - val_get_f1: 0.9658\n",
            "Epoch 11/25\n",
            "82/82 [==============================] - 3s 42ms/step - loss: 0.0613 - accuracy: 0.9708 - get_f1: 0.9843 - val_loss: 3.3824 - val_accuracy: 0.4224 - val_get_f1: 0.8919\n",
            "Epoch 12/25\n",
            "82/82 [==============================] - 3s 41ms/step - loss: 0.0575 - accuracy: 0.9785 - get_f1: 1.0017 - val_loss: 2.8022 - val_accuracy: 0.4147 - val_get_f1: 0.9325\n",
            "Epoch 13/25\n",
            "82/82 [==============================] - 3s 42ms/step - loss: 0.1172 - accuracy: 0.9520 - get_f1: 0.9938 - val_loss: 2.5725 - val_accuracy: 0.4055 - val_get_f1: 0.9196\n",
            "Epoch 14/25\n",
            "82/82 [==============================] - 5s 65ms/step - loss: 0.0477 - accuracy: 0.9670 - get_f1: 0.9852 - val_loss: 4.8735 - val_accuracy: 0.4132 - val_get_f1: 0.8550\n",
            "Epoch 15/25\n",
            "82/82 [==============================] - 3s 41ms/step - loss: 0.1070 - accuracy: 0.9527 - get_f1: 0.9799 - val_loss: 4.1623 - val_accuracy: 0.4117 - val_get_f1: 0.8756\n",
            "Epoch 16/25\n",
            "82/82 [==============================] - 3s 42ms/step - loss: 0.0340 - accuracy: 0.9658 - get_f1: 0.9946 - val_loss: 5.7497 - val_accuracy: 0.3948 - val_get_f1: 0.8337\n",
            "Epoch 17/25\n",
            "82/82 [==============================] - 3s 43ms/step - loss: 0.0680 - accuracy: 0.9389 - get_f1: 1.0015 - val_loss: 5.0797 - val_accuracy: 0.3763 - val_get_f1: 0.8504\n",
            "Epoch 18/25\n",
            "82/82 [==============================] - 3s 42ms/step - loss: 0.0273 - accuracy: 0.9846 - get_f1: 1.0192 - val_loss: 4.3565 - val_accuracy: 0.4071 - val_get_f1: 0.8632\n",
            "Epoch 19/25\n",
            "82/82 [==============================] - 3s 42ms/step - loss: 0.0217 - accuracy: 0.9892 - get_f1: 1.0422 - val_loss: 3.6899 - val_accuracy: 0.3886 - val_get_f1: 0.9040\n",
            "Epoch 20/25\n",
            "82/82 [==============================] - 3s 42ms/step - loss: 0.0241 - accuracy: 0.9854 - get_f1: 1.0480 - val_loss: 7.3287 - val_accuracy: 0.4086 - val_get_f1: 0.8106\n",
            "Epoch 21/25\n",
            "82/82 [==============================] - 3s 42ms/step - loss: 0.0313 - accuracy: 0.9777 - get_f1: 1.0641 - val_loss: 5.1568 - val_accuracy: 0.3978 - val_get_f1: 0.9112\n",
            "Epoch 22/25\n",
            "82/82 [==============================] - 3s 42ms/step - loss: 0.0576 - accuracy: 0.9616 - get_f1: 0.9952 - val_loss: 3.0992 - val_accuracy: 0.4055 - val_get_f1: 0.9397\n",
            "Epoch 23/25\n",
            "82/82 [==============================] - 3s 41ms/step - loss: 0.0325 - accuracy: 0.9793 - get_f1: 1.0204 - val_loss: 4.0134 - val_accuracy: 0.3610 - val_get_f1: 0.9584\n",
            "Epoch 24/25\n",
            "82/82 [==============================] - 3s 41ms/step - loss: 0.0414 - accuracy: 0.9819 - get_f1: 1.0398 - val_loss: 4.2035 - val_accuracy: 0.4086 - val_get_f1: 0.8882\n",
            "Epoch 25/25\n",
            "82/82 [==============================] - 3s 42ms/step - loss: 0.0322 - accuracy: 0.9535 - get_f1: 1.0641 - val_loss: 3.4340 - val_accuracy: 0.3948 - val_get_f1: 0.9764\n",
            "25/25 [==============================] - 1s 5ms/step\n"
          ]
        }
      ]
    },
    {
      "cell_type": "code",
      "source": [
        "test_output_1=np.array([np.argmax(i)  for i in test_output])\n",
        "from sklearn.metrics import confusion_matrix,accuracy_score\n",
        "print(confusion_matrix(y_test,test_output_1))\n",
        "test_output=pd.DataFrame(test_output)\n",
        "print(accuracy_score(y_test,test_output_1))\n"
      ],
      "metadata": {
        "id": "Q_hmR6MK_Bq5",
        "colab": {
          "base_uri": "https://localhost:8080/"
        },
        "outputId": "e2e3811c-2f05-4671-e329-08aaae58c510"
      },
      "execution_count": 81,
      "outputs": [
        {
          "output_type": "stream",
          "name": "stdout",
          "text": [
            "[[258  36  50]\n",
            " [ 78 119   3]\n",
            " [106  11 116]]\n",
            "0.6344916344916345\n"
          ]
        }
      ]
    },
    {
      "cell_type": "code",
      "source": [
        "print(get_f1(y_test.astype('float32'), test_output_1.astype('float32')))"
      ],
      "metadata": {
        "colab": {
          "base_uri": "https://localhost:8080/"
        },
        "id": "ZsHojwC3G8gQ",
        "outputId": "1b9f435d-e9f8-4091-ccac-4b8f49da3c0e"
      },
      "execution_count": 82,
      "outputs": [
        {
          "output_type": "stream",
          "name": "stdout",
          "text": [
            "tf.Tensor(0.6484375, shape=(), dtype=float32)\n"
          ]
        }
      ]
    },
    {
      "cell_type": "code",
      "source": [
        "x_train_reshaped = x_train.reshape(x_train.shape[0], -1)\n",
        "x_test_reshaped = x_test.reshape(x_test.shape[0], -1)\n",
        "savetxt('arrxtrain.csv', x_train_reshaped, delimiter=',')\n",
        "savetxt('arrytrain.csv', y_train, delimiter=',')\n",
        "savetxt('arrxtest.csv', x_test_reshaped, delimiter=',')\n",
        "savetxt('arrytest.csv', y_test, delimiter=',')"
      ],
      "metadata": {
        "id": "oxhtZHtkBWOe"
      },
      "execution_count": 83,
      "outputs": []
    },
    {
      "cell_type": "code",
      "source": [
        "t"
      ],
      "metadata": {
        "colab": {
          "base_uri": "https://localhost:8080/"
        },
        "id": "5dkuklgOU1cy",
        "outputId": "63a8a169-bc89-493b-fa39-2031cbd02e2b"
      },
      "execution_count": 84,
      "outputs": [
        {
          "output_type": "execute_result",
          "data": {
            "text/plain": [
              "4"
            ]
          },
          "metadata": {},
          "execution_count": 84
        }
      ]
    }
  ]
}