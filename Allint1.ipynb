{
  "nbformat": 4,
  "nbformat_minor": 0,
  "metadata": {
    "colab": {
      "provenance": [],
      "include_colab_link": true
    },
    "kernelspec": {
      "name": "python3",
      "display_name": "Python 3"
    },
    "language_info": {
      "name": "python"
    },
    "accelerator": "GPU",
    "gpuClass": "standard"
  },
  "cells": [
    {
      "cell_type": "markdown",
      "metadata": {
        "id": "view-in-github",
        "colab_type": "text"
      },
      "source": [
        "<a href=\"https://colab.research.google.com/github/Mayank-Bansal24/LAPLSTM-Models/blob/main/Allint1.ipynb\" target=\"_parent\"><img src=\"https://colab.research.google.com/assets/colab-badge.svg\" alt=\"Open In Colab\"/></a>"
      ]
    },
    {
      "cell_type": "code",
      "source": [
        "import numpy as np\n",
        "import tensorflow as tf\n",
        "from tensorflow.keras import losses as lo_ss\n",
        "from tensorflow.keras.models import Sequential\n",
        "from tensorflow.keras.layers import LSTM\n",
        "from tensorflow.keras.layers import Dense, Dropout\n",
        "import string\n",
        "import pandas as pd\n",
        "from matplotlib import pyplot as plt\n",
        "from sklearn.preprocessing import StandardScaler\n",
        "import seaborn as sns\n",
        "from sklearn import model_selection\n",
        "from sklearn.datasets import make_classification\n",
        "from sklearn.utils import class_weight\n",
        "from sklearn.metrics import classification_report , roc_auc_score\n",
        "import keras \n",
        "import keras.backend as K\n",
        "from google.colab import drive\n",
        "from numpy import savetxt"
      ],
      "metadata": {
        "id": "V1kLUX7gJ3N_"
      },
      "execution_count": 87,
      "outputs": []
    },
    {
      "cell_type": "code",
      "source": [
        "drive.mount('/content/gdrive')\n"
      ],
      "metadata": {
        "colab": {
          "base_uri": "https://localhost:8080/"
        },
        "id": "HXmXAIAJArT2",
        "outputId": "b91e56ba-bcbc-4d59-c4c1-81228011ce26"
      },
      "execution_count": 88,
      "outputs": [
        {
          "output_type": "stream",
          "name": "stdout",
          "text": [
            "Drive already mounted at /content/gdrive; to attempt to forcibly remount, call drive.mount(\"/content/gdrive\", force_remount=True).\n"
          ]
        }
      ]
    },
    {
      "cell_type": "code",
      "source": [
        "t=1"
      ],
      "metadata": {
        "id": "uLTug-YJDW8D"
      },
      "execution_count": 89,
      "outputs": []
    },
    {
      "cell_type": "code",
      "source": [
        "os.chdir('/content/gdrive/MyDrive/laplstm/allin/t'+str(t))"
      ],
      "metadata": {
        "id": "ubPkwGQnA8Wx"
      },
      "execution_count": 90,
      "outputs": []
    },
    {
      "cell_type": "code",
      "source": [
        "import os\n",
        "github_raw_link=\"https://raw.githubusercontent.com/Aryansh085/LAP/main/858417d1-7d54-4115-a01b-fdda5e03ada3_testing_combined_rows4035_disc_1_0p9_MULTIPLY_preproces_155cols.csv\"\n",
        "df1=pd.read_csv((github_raw_link),header = None)\n",
        "dftemp=np.array(df1)\n",
        "dftemp.shape\n",
        "dftemp2=dftemp[:,5:]\n",
        "dftemp2=np.array(dftemp2)\n",
        "print(dftemp2.shape)"
      ],
      "metadata": {
        "id": "3UWvhrydJ8hA",
        "colab": {
          "base_uri": "https://localhost:8080/"
        },
        "outputId": "4627f76a-ad95-4392-c6d8-9e3cfbe65ce8"
      },
      "execution_count": 91,
      "outputs": [
        {
          "output_type": "stream",
          "name": "stdout",
          "text": [
            "(4035, 150)\n"
          ]
        }
      ]
    },
    {
      "cell_type": "code",
      "source": [
        "# dftemp2\n",
        "dftemp2.shape\n",
        "# dftemp2=pd.DataFrame(dftemp2)\n",
        "# dftemp2.head()"
      ],
      "metadata": {
        "colab": {
          "base_uri": "https://localhost:8080/"
        },
        "id": "h00YSxPn8rUk",
        "outputId": "a89f844f-a3cc-412b-e6ba-6581d965aba5"
      },
      "execution_count": 92,
      "outputs": [
        {
          "output_type": "execute_result",
          "data": {
            "text/plain": [
              "(4035, 150)"
            ]
          },
          "metadata": {},
          "execution_count": 92
        }
      ]
    },
    {
      "cell_type": "markdown",
      "source": [
        "--> muliply the reward of that instance into the loss of that instance to give weight"
      ],
      "metadata": {
        "id": "pPfqIsthYP2X"
      }
    },
    {
      "cell_type": "code",
      "source": [
        "from sklearn.preprocessing import StandardScaler\n",
        "\n",
        "slr=StandardScaler()\n",
        "slr.fit(dftemp2)\n",
        "dftemp2 = slr.transform(dftemp2)"
      ],
      "metadata": {
        "id": "kWYAqDfnO_1i"
      },
      "execution_count": 93,
      "outputs": []
    },
    {
      "cell_type": "code",
      "source": [
        "# f1-score function\n",
        "def get_f1(y_true, y_pred): #taken from old keras source code\n",
        "    true_positives = K.sum(K.round(K.clip(y_true * y_pred, 0, 1)))\n",
        "    possible_positives = K.sum(K.round(K.clip(y_true, 0, 1)))\n",
        "    predicted_positives = K.sum(K.round(K.clip(y_pred, 0, 1)))\n",
        "    precision = true_positives / (predicted_positives + K.epsilon())\n",
        "    recall = true_positives / (possible_positives + K.epsilon())\n",
        "    f1_val = 2*(precision*recall)/(precision+recall+K.epsilon())\n",
        "    return f1_val\n",
        "    "
      ],
      "metadata": {
        "id": "4i-6LDL58GyW"
      },
      "execution_count": 94,
      "outputs": []
    },
    {
      "cell_type": "code",
      "source": [],
      "metadata": {
        "id": "83zizsyvKHzh"
      },
      "execution_count": 94,
      "outputs": []
    },
    {
      "cell_type": "code",
      "source": [
        "y=np.array(dftemp[:,0])\n",
        "print(y)\n",
        "y_new=y[t:]\n",
        "y_new.shape\n"
      ],
      "metadata": {
        "colab": {
          "base_uri": "https://localhost:8080/"
        },
        "id": "XmXnkjOiKIGQ",
        "outputId": "74e4e440-8d90-4e5f-cd91-1fb5032657de"
      },
      "execution_count": 95,
      "outputs": [
        {
          "output_type": "stream",
          "name": "stdout",
          "text": [
            "[2. 0. 0. ... 0. 2. 2.]\n"
          ]
        },
        {
          "output_type": "execute_result",
          "data": {
            "text/plain": [
              "(4034,)"
            ]
          },
          "metadata": {},
          "execution_count": 95
        }
      ]
    },
    {
      "cell_type": "code",
      "source": [
        "x=np.array(dftemp2)\n",
        "# print(x)\n",
        "# print(x.shape)\n",
        "x.shape,y_new.shape"
      ],
      "metadata": {
        "colab": {
          "base_uri": "https://localhost:8080/"
        },
        "id": "3JPzLQQmKhZk",
        "outputId": "f2494f25-0c39-41f4-cdf7-d560f5079087"
      },
      "execution_count": 96,
      "outputs": [
        {
          "output_type": "execute_result",
          "data": {
            "text/plain": [
              "((4035, 150), (4034,))"
            ]
          },
          "metadata": {},
          "execution_count": 96
        }
      ]
    },
    {
      "cell_type": "code",
      "source": [
        "x_3d=[]\n",
        "for i in range(4035-t):\n",
        "  tmp=[]\n",
        "  for j in range(t):\n",
        "    tmp.append(x[j+i])\n",
        "  x_3d.append(tmp)\n",
        "x_3d= np.array(x_3d)\n",
        "x_3d.shape"
      ],
      "metadata": {
        "colab": {
          "base_uri": "https://localhost:8080/"
        },
        "id": "hdDY6fhENZ2-",
        "outputId": "14c5cc7b-c9f8-4e3f-9db1-8b4bfc2f9246"
      },
      "execution_count": 97,
      "outputs": [
        {
          "output_type": "execute_result",
          "data": {
            "text/plain": [
              "(4034, 1, 150)"
            ]
          },
          "metadata": {},
          "execution_count": 97
        }
      ]
    },
    {
      "cell_type": "code",
      "source": [
        "train_test_ratio=0.8\n",
        "print(x_3d.shape[0])\n",
        "x_train=[]\n",
        "y_train=[]\n",
        "x_test=[]\n",
        "y_test=[]\n",
        "for i in range(x_3d.shape[0]):\n",
        "  l=[]\n",
        "  ly=[]\n",
        "  no=np.random.randint(100)\n",
        "  if(no<80):\n",
        "    l=x_3d[i]\n",
        "    ly=y_new[i]\n",
        "    x_train.append(l)\n",
        "    y_train.append(ly)\n",
        "  else:\n",
        "    l=x_3d[i]\n",
        "    ly=y_new[i]\n",
        "    x_test.append(l)\n",
        "    y_test.append(ly)\n",
        "\n",
        "\n",
        "x_train=np.array(x_train)\n",
        "y_train=np.array(y_train)\n",
        "x_test=np.array(x_test)\n",
        "y_test=np.array(y_test)\n",
        "x_train.shape,y_train.shape,x_test.shape,y_test.shape"
      ],
      "metadata": {
        "colab": {
          "base_uri": "https://localhost:8080/"
        },
        "id": "AwnZ3Mh1Khi8",
        "outputId": "48373ecc-5fc6-4b20-f2dc-5369727b12b5"
      },
      "execution_count": 98,
      "outputs": [
        {
          "output_type": "stream",
          "name": "stdout",
          "text": [
            "4034\n"
          ]
        },
        {
          "output_type": "execute_result",
          "data": {
            "text/plain": [
              "((3267, 1, 150), (3267,), (767, 1, 150), (767,))"
            ]
          },
          "metadata": {},
          "execution_count": 98
        }
      ]
    },
    {
      "cell_type": "code",
      "source": [
        "cnt0=0\n",
        "cnt1=0\n",
        "cnt2=0\n",
        "for i in range(x_train.shape[0]):\n",
        "  if(y_train[i]==0):\n",
        "    cnt0+=1\n",
        "  elif(y_train[i]==1):\n",
        "    cnt1+=1\n",
        "  elif(y_train[i]==2):\n",
        "    cnt2+=1\n",
        "print(cnt0)\n",
        "print(cnt1)\n",
        "print(cnt2)  "
      ],
      "metadata": {
        "colab": {
          "base_uri": "https://localhost:8080/"
        },
        "id": "xlijLVYecmcq",
        "outputId": "1fedb8e5-3f40-4ea0-ca21-2e2e545d31ea"
      },
      "execution_count": 99,
      "outputs": [
        {
          "output_type": "stream",
          "name": "stdout",
          "text": [
            "1486\n",
            "870\n",
            "911\n"
          ]
        }
      ]
    },
    {
      "cell_type": "code",
      "source": [
        "x_train_1=[]\n",
        "y_train_1=[]\n",
        "c1=0\n",
        "c2=0\n",
        "c3=0\n",
        "for i in range(x_train.shape[0]):\n",
        "  if(y_train[i]==0):\n",
        "    x_train_1.append(x_train[i])\n",
        "    y_train_1.append(0)\n",
        "    c1+=1\n",
        "  elif(y_train[i]==1):\n",
        "    x_train_1.append(x_train[i])\n",
        "    y_train_1.append(1)\n",
        "    c2+=1\n",
        "  elif(y_train[i]==2 ):\n",
        "    x_train_1.append(x_train[i])\n",
        "    y_train_1.append(2)\n",
        "    c3=c3+1\n",
        "for i in range(x_train.shape[0]):\n",
        "  if(y_train[i]==1):\n",
        "    no=np.random.randint(100)\n",
        "    if(no>=30):\n",
        "      x_train_1.append(x_train[i])\n",
        "      y_train_1.append(1)\n",
        "      c2+=1\n",
        "  elif(y_train[i]==2 ):\n",
        "    no=np.random.randint(100)\n",
        "    if(no>=27):\n",
        "      x_train_1.append(x_train[i])\n",
        "      y_train_1.append(2)\n",
        "      c3+=1\n",
        "\n",
        "y_train=[]\n",
        "y_train=y_train_1\n",
        "x_train=[]\n",
        "x_train=x_train_1\n",
        "x_train=np.array(x_train)\n",
        "y_train=np.array(y_train)\n",
        "print(c1)\n",
        "print(c2)\n",
        "print(c3)"
      ],
      "metadata": {
        "id": "PqOHcbhQcuo8",
        "colab": {
          "base_uri": "https://localhost:8080/"
        },
        "outputId": "ce63e57e-94b6-4e29-858f-e44b02dac031"
      },
      "execution_count": 100,
      "outputs": [
        {
          "output_type": "stream",
          "name": "stdout",
          "text": [
            "1486\n",
            "1475\n",
            "1559\n"
          ]
        }
      ]
    },
    {
      "cell_type": "code",
      "source": [
        "sklearn_weights=class_weight.compute_class_weight(class_weight='balanced',classes=np.unique(y_train),y=y_train)\n",
        "sklearn_weights=dict(zip(np.unique(y_train),sklearn_weights))\n",
        "sklearn_weights"
      ],
      "metadata": {
        "colab": {
          "base_uri": "https://localhost:8080/"
        },
        "id": "EYzwuCcAbDKT",
        "outputId": "ea1ddb36-a516-483b-bab1-718b92bffd0d"
      },
      "execution_count": 101,
      "outputs": [
        {
          "output_type": "execute_result",
          "data": {
            "text/plain": [
              "{0: 1.0139075818752803, 1: 1.0214689265536723, 2: 0.9664314731665598}"
            ]
          },
          "metadata": {},
          "execution_count": 101
        }
      ]
    },
    {
      "cell_type": "code",
      "source": [
        "\n",
        "# model = Sequential()\n",
        "# model.add(LSTM(200, activation='relu', return_sequences=True, input_shape=( t,150,)))\n",
        "# model.add(LSTM(100, activation='relu', return_sequences=True))\n",
        "# model.add(LSTM(50, activation='relu', return_sequences=True))\n",
        "# model.add(LSTM(25, activation='relu'))\n",
        "# model.add(Dense(20, activation='relu'))\n",
        "# model.add(Dense(10, activation='relu'))\n",
        "# model.add(Dense(3))\n",
        "# model.compile(optimizer='SGD', loss='sparse_categorical_crossentropy',metrics=['accuracy'])\n",
        "# history = model.fit(x_train, y_train, epochs=10, validation_split=0.2, verbose=1)\n",
        "# test_output = model.predict(x_test, verbose=1)\n",
        "# # history = model.fit(X, Y, epochs=1000, validation_split=0.2, verbose=1)\n",
        "# # test_output = model.predict(x=, verbose=0)\n",
        "# # print(test_output)"
      ],
      "metadata": {
        "id": "rhgsSos1KIbA"
      },
      "execution_count": 102,
      "outputs": []
    },
    {
      "cell_type": "code",
      "source": [
        "# sklearn_weights={0:1738,1:2348,2:2362}\n",
        "model = Sequential()\n",
        "model.add(LSTM(200, activation='relu', return_sequences=True, input_shape=( t,150,)))\n",
        "model.add(LSTM(400, activation='relu', return_sequences=True))\n",
        "model.add(LSTM(800, activation='relu', return_sequences=True))\n",
        "model.add(LSTM(150, activation='relu'))\n",
        "model.add(Dense(100, activation='relu'))\n",
        "model.add(Dense(64, activation='relu'))\n",
        "model.add(Dense(10, activation='relu'))\n",
        "model.add(Dense(3,activation='sigmoid'))\n",
        "optimi=keras.optimizers.Adam()\n",
        "model.compile(optimizer=optimi, loss='sparse_categorical_crossentropy',metrics=['accuracy',get_f1])\n",
        "\n",
        "# history = model.fit(x_train, y_train, epochs=30, validation_split=0.2, verbose=1)\n",
        "history = model.fit(x_train, y_train, epochs=25, validation_split=0.2, verbose=1,class_weight=sklearn_weights)\n",
        "test_output = model.predict(x_test, verbose=1)\n"
      ],
      "metadata": {
        "colab": {
          "base_uri": "https://localhost:8080/"
        },
        "id": "lwHPGS2iXMXc",
        "outputId": "2c69dced-dd22-482d-b60c-806a6024d903"
      },
      "execution_count": 103,
      "outputs": [
        {
          "output_type": "stream",
          "name": "stderr",
          "text": [
            "WARNING:tensorflow:Layer lstm_8 will not use cuDNN kernels since it doesn't meet the criteria. It will use a generic GPU kernel as fallback when running on GPU.\n",
            "WARNING:tensorflow:Layer lstm_9 will not use cuDNN kernels since it doesn't meet the criteria. It will use a generic GPU kernel as fallback when running on GPU.\n",
            "WARNING:tensorflow:Layer lstm_10 will not use cuDNN kernels since it doesn't meet the criteria. It will use a generic GPU kernel as fallback when running on GPU.\n",
            "WARNING:tensorflow:Layer lstm_11 will not use cuDNN kernels since it doesn't meet the criteria. It will use a generic GPU kernel as fallback when running on GPU.\n"
          ]
        },
        {
          "output_type": "stream",
          "name": "stdout",
          "text": [
            "Epoch 1/25\n",
            "113/113 [==============================] - 4s 16ms/step - loss: 1.0967 - accuracy: 0.4062 - get_f1: 1.4693 - val_loss: 1.1386 - val_accuracy: 0.0000e+00 - val_get_f1: 2.1099\n",
            "Epoch 2/25\n",
            "113/113 [==============================] - 1s 11ms/step - loss: 1.0909 - accuracy: 0.4110 - get_f1: 1.4749 - val_loss: 1.1682 - val_accuracy: 0.0000e+00 - val_get_f1: 2.1099\n",
            "Epoch 3/25\n",
            "113/113 [==============================] - 1s 11ms/step - loss: 1.0881 - accuracy: 0.4110 - get_f1: 1.4739 - val_loss: 1.1914 - val_accuracy: 0.0000e+00 - val_get_f1: 2.1099\n",
            "Epoch 4/25\n",
            "113/113 [==============================] - 1s 11ms/step - loss: 1.0869 - accuracy: 0.4110 - get_f1: 1.4756 - val_loss: 1.2060 - val_accuracy: 0.0000e+00 - val_get_f1: 2.1099\n",
            "Epoch 5/25\n",
            "113/113 [==============================] - 1s 11ms/step - loss: 1.0864 - accuracy: 0.4110 - get_f1: 1.4770 - val_loss: 1.2159 - val_accuracy: 0.0000e+00 - val_get_f1: 2.1099\n",
            "Epoch 6/25\n",
            "113/113 [==============================] - 1s 11ms/step - loss: 1.0861 - accuracy: 0.4110 - get_f1: 1.4758 - val_loss: 1.2222 - val_accuracy: 0.0000e+00 - val_get_f1: 2.1099\n",
            "Epoch 7/25\n",
            "113/113 [==============================] - 1s 11ms/step - loss: 1.0861 - accuracy: 0.4110 - get_f1: 1.4751 - val_loss: 1.2253 - val_accuracy: 0.0000e+00 - val_get_f1: 2.1099\n",
            "Epoch 8/25\n",
            "113/113 [==============================] - 1s 11ms/step - loss: 1.0860 - accuracy: 0.4110 - get_f1: 1.4772 - val_loss: 1.2305 - val_accuracy: 0.0000e+00 - val_get_f1: 2.1099\n",
            "Epoch 9/25\n",
            "113/113 [==============================] - 1s 11ms/step - loss: 1.0860 - accuracy: 0.4110 - get_f1: 1.4760 - val_loss: 1.2331 - val_accuracy: 0.0000e+00 - val_get_f1: 2.1099\n",
            "Epoch 10/25\n",
            "113/113 [==============================] - 1s 11ms/step - loss: 1.0860 - accuracy: 0.4110 - get_f1: 1.4775 - val_loss: 1.2320 - val_accuracy: 0.0000e+00 - val_get_f1: 2.1099\n",
            "Epoch 11/25\n",
            "113/113 [==============================] - 1s 11ms/step - loss: 1.0860 - accuracy: 0.4110 - get_f1: 1.4763 - val_loss: 1.2333 - val_accuracy: 0.0000e+00 - val_get_f1: 2.1099\n",
            "Epoch 12/25\n",
            "113/113 [==============================] - 1s 11ms/step - loss: 1.0861 - accuracy: 0.4110 - get_f1: 1.4762 - val_loss: 1.2332 - val_accuracy: 0.0000e+00 - val_get_f1: 2.1099\n",
            "Epoch 13/25\n",
            "113/113 [==============================] - 1s 11ms/step - loss: 1.0861 - accuracy: 0.4110 - get_f1: 1.4730 - val_loss: 1.2343 - val_accuracy: 0.0000e+00 - val_get_f1: 2.1099\n",
            "Epoch 14/25\n",
            "113/113 [==============================] - 1s 11ms/step - loss: 1.0860 - accuracy: 0.4110 - get_f1: 1.4770 - val_loss: 1.2330 - val_accuracy: 0.0000e+00 - val_get_f1: 2.1099\n",
            "Epoch 15/25\n",
            "113/113 [==============================] - 1s 11ms/step - loss: 1.0860 - accuracy: 0.4110 - get_f1: 1.4757 - val_loss: 1.2341 - val_accuracy: 0.0000e+00 - val_get_f1: 2.1099\n",
            "Epoch 16/25\n",
            "113/113 [==============================] - 1s 11ms/step - loss: 1.0861 - accuracy: 0.4110 - get_f1: 1.4733 - val_loss: 1.2332 - val_accuracy: 0.0000e+00 - val_get_f1: 2.1099\n",
            "Epoch 17/25\n",
            "113/113 [==============================] - 1s 11ms/step - loss: 1.0860 - accuracy: 0.4110 - get_f1: 1.4742 - val_loss: 1.2333 - val_accuracy: 0.0000e+00 - val_get_f1: 2.1099\n",
            "Epoch 18/25\n",
            "113/113 [==============================] - 1s 11ms/step - loss: 1.0860 - accuracy: 0.4110 - get_f1: 1.4766 - val_loss: 1.2333 - val_accuracy: 0.0000e+00 - val_get_f1: 2.1099\n",
            "Epoch 19/25\n",
            "113/113 [==============================] - 1s 11ms/step - loss: 1.0860 - accuracy: 0.4110 - get_f1: 1.4743 - val_loss: 1.2318 - val_accuracy: 0.0000e+00 - val_get_f1: 2.1099\n",
            "Epoch 20/25\n",
            "113/113 [==============================] - 1s 11ms/step - loss: 1.0860 - accuracy: 0.4110 - get_f1: 1.4751 - val_loss: 1.2338 - val_accuracy: 0.0000e+00 - val_get_f1: 2.1099\n",
            "Epoch 21/25\n",
            "113/113 [==============================] - 1s 10ms/step - loss: 1.0861 - accuracy: 0.4110 - get_f1: 1.4762 - val_loss: 1.2328 - val_accuracy: 0.0000e+00 - val_get_f1: 2.1099\n",
            "Epoch 22/25\n",
            "113/113 [==============================] - 1s 11ms/step - loss: 1.0861 - accuracy: 0.4110 - get_f1: 1.4773 - val_loss: 1.2359 - val_accuracy: 0.0000e+00 - val_get_f1: 2.1099\n",
            "Epoch 23/25\n",
            "113/113 [==============================] - 1s 11ms/step - loss: 1.0861 - accuracy: 0.4110 - get_f1: 1.4760 - val_loss: 1.2341 - val_accuracy: 0.0000e+00 - val_get_f1: 2.1099\n",
            "Epoch 24/25\n",
            "113/113 [==============================] - 1s 10ms/step - loss: 1.0860 - accuracy: 0.4110 - get_f1: 1.4757 - val_loss: 1.2326 - val_accuracy: 0.0000e+00 - val_get_f1: 2.1099\n",
            "Epoch 25/25\n",
            "113/113 [==============================] - 1s 10ms/step - loss: 1.0861 - accuracy: 0.4110 - get_f1: 1.4752 - val_loss: 1.2343 - val_accuracy: 0.0000e+00 - val_get_f1: 2.1099\n",
            "24/24 [==============================] - 1s 3ms/step\n"
          ]
        }
      ]
    },
    {
      "cell_type": "code",
      "source": [
        "test_output_1=np.array([np.argmax(i)  for i in test_output])\n",
        "from sklearn.metrics import confusion_matrix,accuracy_score\n",
        "print(confusion_matrix(y_test,test_output_1))\n",
        "test_output=pd.DataFrame(test_output)\n",
        "print(accuracy_score(y_test,test_output_1))\n",
        "# print(get_f1(y_test,test_output_1))"
      ],
      "metadata": {
        "id": "Q_hmR6MK_Bq5",
        "colab": {
          "base_uri": "https://localhost:8080/"
        },
        "outputId": "6aa4ce13-b108-49f9-ed2e-df54a3c2749a"
      },
      "execution_count": 104,
      "outputs": [
        {
          "output_type": "stream",
          "name": "stdout",
          "text": [
            "[[341   0   0]\n",
            " [185   0   0]\n",
            " [241   0   0]]\n",
            "0.4445893089960887\n"
          ]
        }
      ]
    },
    {
      "cell_type": "code",
      "source": [
        "x_train_reshaped = x_train.reshape(x_train.shape[0], -1)\n",
        "x_test_reshaped = x_test.reshape(x_test.shape[0], -1)\n",
        "savetxt('arrxtrain.csv', x_train_reshaped, delimiter=',')\n",
        "savetxt('arrytrain.csv', y_train, delimiter=',')\n",
        "savetxt('arrxtest.csv', x_test_reshaped, delimiter=',')\n",
        "savetxt('arrytest.csv', y_test, delimiter=',')"
      ],
      "metadata": {
        "id": "oxhtZHtkBWOe"
      },
      "execution_count": 105,
      "outputs": []
    }
  ]
}