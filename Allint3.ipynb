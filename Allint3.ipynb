{
  "nbformat": 4,
  "nbformat_minor": 0,
  "metadata": {
    "colab": {
      "provenance": [],
      "include_colab_link": true
    },
    "kernelspec": {
      "name": "python3",
      "display_name": "Python 3"
    },
    "language_info": {
      "name": "python"
    },
    "accelerator": "GPU",
    "gpuClass": "standard"
  },
  "cells": [
    {
      "cell_type": "markdown",
      "metadata": {
        "id": "view-in-github",
        "colab_type": "text"
      },
      "source": [
        "<a href=\"https://colab.research.google.com/github/Mayank-Bansal24/LAPLSTM-Models/blob/main/Allint3.ipynb\" target=\"_parent\"><img src=\"https://colab.research.google.com/assets/colab-badge.svg\" alt=\"Open In Colab\"/></a>"
      ]
    },
    {
      "cell_type": "code",
      "source": [
        "import numpy as np\n",
        "import tensorflow as tf\n",
        "from tensorflow.keras import losses as lo_ss\n",
        "from tensorflow.keras.models import Sequential\n",
        "from tensorflow.keras.layers import LSTM\n",
        "from tensorflow.keras.layers import Dense, Dropout\n",
        "import string\n",
        "import pandas as pd\n",
        "from matplotlib import pyplot as plt\n",
        "from sklearn.preprocessing import StandardScaler\n",
        "import seaborn as sns\n",
        "from sklearn import model_selection\n",
        "from sklearn.datasets import make_classification\n",
        "from sklearn.utils import class_weight\n",
        "from sklearn.metrics import classification_report , roc_auc_score\n",
        "import keras \n",
        "import keras.backend as K\n",
        "from google.colab import drive\n",
        "from numpy import savetxt"
      ],
      "metadata": {
        "id": "V1kLUX7gJ3N_"
      },
      "execution_count": 145,
      "outputs": []
    },
    {
      "cell_type": "code",
      "source": [
        "drive.mount('/content/gdrive')\n"
      ],
      "metadata": {
        "colab": {
          "base_uri": "https://localhost:8080/"
        },
        "id": "HXmXAIAJArT2",
        "outputId": "1fe751f7-eee6-42ae-fae0-0eb38defdc19"
      },
      "execution_count": 146,
      "outputs": [
        {
          "output_type": "stream",
          "name": "stdout",
          "text": [
            "Drive already mounted at /content/gdrive; to attempt to forcibly remount, call drive.mount(\"/content/gdrive\", force_remount=True).\n"
          ]
        }
      ]
    },
    {
      "cell_type": "code",
      "source": [
        "t=3"
      ],
      "metadata": {
        "id": "uLTug-YJDW8D"
      },
      "execution_count": 147,
      "outputs": []
    },
    {
      "cell_type": "code",
      "source": [
        "os.chdir('/content/gdrive/MyDrive/laplstm/allin/t'+str(t))"
      ],
      "metadata": {
        "id": "ubPkwGQnA8Wx"
      },
      "execution_count": 148,
      "outputs": []
    },
    {
      "cell_type": "code",
      "source": [
        "import os\n",
        "github_raw_link=\"https://raw.githubusercontent.com/Aryansh085/LAP/main/858417d1-7d54-4115-a01b-fdda5e03ada3_testing_combined_rows4035_disc_1_0p9_MULTIPLY_preproces_155cols.csv\"\n",
        "df1=pd.read_csv((github_raw_link),header = None)\n",
        "dftemp=np.array(df1)\n",
        "dftemp.shape\n",
        "dftemp2=dftemp[:,5:]\n",
        "dftemp2=np.array(dftemp2)\n",
        "print(dftemp2.shape)"
      ],
      "metadata": {
        "id": "3UWvhrydJ8hA",
        "colab": {
          "base_uri": "https://localhost:8080/"
        },
        "outputId": "4887f781-e5a9-484d-82b9-e58dd40e28ff"
      },
      "execution_count": 149,
      "outputs": [
        {
          "output_type": "stream",
          "name": "stdout",
          "text": [
            "(4035, 150)\n"
          ]
        }
      ]
    },
    {
      "cell_type": "code",
      "source": [
        "# dftemp2\n",
        "dftemp2.shape\n",
        "# dftemp2=pd.DataFrame(dftemp2)\n",
        "# dftemp2.head()"
      ],
      "metadata": {
        "colab": {
          "base_uri": "https://localhost:8080/"
        },
        "id": "h00YSxPn8rUk",
        "outputId": "8ad5c10f-e76a-4deb-9889-b11bfff6c00f"
      },
      "execution_count": 150,
      "outputs": [
        {
          "output_type": "execute_result",
          "data": {
            "text/plain": [
              "(4035, 150)"
            ]
          },
          "metadata": {},
          "execution_count": 150
        }
      ]
    },
    {
      "cell_type": "markdown",
      "source": [
        "--> muliply the reward of that instance into the loss of that instance to give weight"
      ],
      "metadata": {
        "id": "pPfqIsthYP2X"
      }
    },
    {
      "cell_type": "code",
      "source": [
        "from sklearn.preprocessing import StandardScaler\n",
        "\n",
        "slr=StandardScaler()\n",
        "slr.fit(dftemp2)\n",
        "dftemp2 = slr.transform(dftemp2)"
      ],
      "metadata": {
        "id": "kWYAqDfnO_1i"
      },
      "execution_count": 151,
      "outputs": []
    },
    {
      "cell_type": "code",
      "source": [
        "# f1-score function\n",
        "def get_f1(y_true, y_pred): #taken from old keras source code\n",
        "    true_positives = K.sum(K.round(K.clip(y_true * y_pred, 0, 1)))\n",
        "    possible_positives = K.sum(K.round(K.clip(y_true, 0, 1)))\n",
        "    predicted_positives = K.sum(K.round(K.clip(y_pred, 0, 1)))\n",
        "    precision = true_positives / (predicted_positives + K.epsilon())\n",
        "    recall = true_positives / (possible_positives + K.epsilon())\n",
        "    f1_val = 2*(precision*recall)/(precision+recall+K.epsilon())\n",
        "    return f1_val\n",
        "    "
      ],
      "metadata": {
        "id": "4i-6LDL58GyW"
      },
      "execution_count": 152,
      "outputs": []
    },
    {
      "cell_type": "code",
      "source": [],
      "metadata": {
        "id": "83zizsyvKHzh"
      },
      "execution_count": 152,
      "outputs": []
    },
    {
      "cell_type": "code",
      "source": [
        "y=np.array(dftemp[:,0])\n",
        "print(y)\n",
        "y_new=y[t:]\n",
        "y_new.shape\n"
      ],
      "metadata": {
        "colab": {
          "base_uri": "https://localhost:8080/"
        },
        "id": "XmXnkjOiKIGQ",
        "outputId": "c7932ba0-1796-4706-ae0b-e2e2cc91aa30"
      },
      "execution_count": 153,
      "outputs": [
        {
          "output_type": "stream",
          "name": "stdout",
          "text": [
            "[2. 0. 0. ... 0. 2. 2.]\n"
          ]
        },
        {
          "output_type": "execute_result",
          "data": {
            "text/plain": [
              "(4032,)"
            ]
          },
          "metadata": {},
          "execution_count": 153
        }
      ]
    },
    {
      "cell_type": "code",
      "source": [
        "x=np.array(dftemp2)\n",
        "# print(x)\n",
        "# print(x.shape)\n",
        "x.shape,y_new.shape"
      ],
      "metadata": {
        "colab": {
          "base_uri": "https://localhost:8080/"
        },
        "id": "3JPzLQQmKhZk",
        "outputId": "8b1ddcba-4476-4cb2-f9ef-03b6705ec742"
      },
      "execution_count": 154,
      "outputs": [
        {
          "output_type": "execute_result",
          "data": {
            "text/plain": [
              "((4035, 150), (4032,))"
            ]
          },
          "metadata": {},
          "execution_count": 154
        }
      ]
    },
    {
      "cell_type": "code",
      "source": [
        "x_3d=[]\n",
        "for i in range(4035-t):\n",
        "  tmp=[]\n",
        "  for j in range(t):\n",
        "    tmp.append(x[j+i])\n",
        "  x_3d.append(tmp)\n",
        "x_3d= np.array(x_3d)\n",
        "x_3d.shape"
      ],
      "metadata": {
        "colab": {
          "base_uri": "https://localhost:8080/"
        },
        "id": "hdDY6fhENZ2-",
        "outputId": "3efede03-c463-4c27-8bd4-21726715ce68"
      },
      "execution_count": 155,
      "outputs": [
        {
          "output_type": "execute_result",
          "data": {
            "text/plain": [
              "(4032, 3, 150)"
            ]
          },
          "metadata": {},
          "execution_count": 155
        }
      ]
    },
    {
      "cell_type": "code",
      "source": [
        "train_test_ratio=0.8\n",
        "print(x_3d.shape[0])\n",
        "x_train=[]\n",
        "y_train=[]\n",
        "x_test=[]\n",
        "y_test=[]\n",
        "for i in range(x_3d.shape[0]):\n",
        "  l=[]\n",
        "  ly=[]\n",
        "  no=np.random.randint(100)\n",
        "  if(no<80):\n",
        "    l=x_3d[i]\n",
        "    ly=y_new[i]\n",
        "    x_train.append(l)\n",
        "    y_train.append(ly)\n",
        "  else:\n",
        "    l=x_3d[i]\n",
        "    ly=y_new[i]\n",
        "    x_test.append(l)\n",
        "    y_test.append(ly)\n",
        "\n",
        "\n",
        "x_train=np.array(x_train)\n",
        "y_train=np.array(y_train)\n",
        "x_test=np.array(x_test)\n",
        "y_test=np.array(y_test)\n",
        "x_train.shape,y_train.shape,x_test.shape,y_test.shape"
      ],
      "metadata": {
        "colab": {
          "base_uri": "https://localhost:8080/"
        },
        "id": "AwnZ3Mh1Khi8",
        "outputId": "1635b7d0-6a25-4008-a4ba-f78efe245a7a"
      },
      "execution_count": 156,
      "outputs": [
        {
          "output_type": "stream",
          "name": "stdout",
          "text": [
            "4032\n"
          ]
        },
        {
          "output_type": "execute_result",
          "data": {
            "text/plain": [
              "((3253, 3, 150), (3253,), (779, 3, 150), (779,))"
            ]
          },
          "metadata": {},
          "execution_count": 156
        }
      ]
    },
    {
      "cell_type": "code",
      "source": [
        "cnt0=0\n",
        "cnt1=0\n",
        "cnt2=0\n",
        "for i in range(x_train.shape[0]):\n",
        "  if(y_train[i]==0):\n",
        "    cnt0+=1\n",
        "  elif(y_train[i]==1):\n",
        "    cnt1+=1\n",
        "  elif(y_train[i]==2):\n",
        "    cnt2+=1\n",
        "print(cnt0)\n",
        "print(cnt1)\n",
        "print(cnt2)  "
      ],
      "metadata": {
        "colab": {
          "base_uri": "https://localhost:8080/"
        },
        "id": "xlijLVYecmcq",
        "outputId": "ce5b98d6-5142-463e-af53-3209b96d8bf5"
      },
      "execution_count": 157,
      "outputs": [
        {
          "output_type": "stream",
          "name": "stdout",
          "text": [
            "1493\n",
            "852\n",
            "908\n"
          ]
        }
      ]
    },
    {
      "cell_type": "code",
      "source": [
        "x_train_1=[]\n",
        "y_train_1=[]\n",
        "c1=0\n",
        "c2=0\n",
        "c3=0\n",
        "for i in range(x_train.shape[0]):\n",
        "  if(y_train[i]==0):\n",
        "    x_train_1.append(x_train[i])\n",
        "    y_train_1.append(0)\n",
        "    c1+=1\n",
        "  elif(y_train[i]==1):\n",
        "    x_train_1.append(x_train[i])\n",
        "    y_train_1.append(1)\n",
        "    c2+=1\n",
        "  elif(y_train[i]==2 ):\n",
        "    x_train_1.append(x_train[i])\n",
        "    y_train_1.append(2)\n",
        "    c3=c3+1\n",
        "for i in range(x_train.shape[0]):\n",
        "  if(y_train[i]==1):\n",
        "    no=np.random.randint(100)\n",
        "    if(no>=30):\n",
        "      x_train_1.append(x_train[i])\n",
        "      y_train_1.append(1)\n",
        "      c2+=1\n",
        "  elif(y_train[i]==2 ):\n",
        "    no=np.random.randint(100)\n",
        "    if(no>=27):\n",
        "      x_train_1.append(x_train[i])\n",
        "      y_train_1.append(2)\n",
        "      c3+=1\n",
        "\n",
        "y_train=[]\n",
        "y_train=y_train_1\n",
        "x_train=[]\n",
        "x_train=x_train_1\n",
        "x_train=np.array(x_train)\n",
        "y_train=np.array(y_train)\n",
        "print(c1)\n",
        "print(c2)\n",
        "print(c3)"
      ],
      "metadata": {
        "id": "PqOHcbhQcuo8",
        "colab": {
          "base_uri": "https://localhost:8080/"
        },
        "outputId": "0e8993e9-f43f-4b2d-81e5-fc52f91848bb"
      },
      "execution_count": 158,
      "outputs": [
        {
          "output_type": "stream",
          "name": "stdout",
          "text": [
            "1493\n",
            "1437\n",
            "1584\n"
          ]
        }
      ]
    },
    {
      "cell_type": "code",
      "source": [
        "sklearn_weights=class_weight.compute_class_weight(class_weight='balanced',classes=np.unique(y_train),y=y_train)\n",
        "sklearn_weights=dict(zip(np.unique(y_train),sklearn_weights))\n",
        "sklearn_weights"
      ],
      "metadata": {
        "colab": {
          "base_uri": "https://localhost:8080/"
        },
        "id": "EYzwuCcAbDKT",
        "outputId": "be2e19c4-262c-4577-b9bd-a5c1b38d6c0e"
      },
      "execution_count": 159,
      "outputs": [
        {
          "output_type": "execute_result",
          "data": {
            "text/plain": [
              "{0: 1.0078142442509488, 1: 1.0470888424959406, 2: 0.9499158249158249}"
            ]
          },
          "metadata": {},
          "execution_count": 159
        }
      ]
    },
    {
      "cell_type": "code",
      "source": [
        "\n",
        "# model = Sequential()\n",
        "# model.add(LSTM(200, activation='relu', return_sequences=True, input_shape=( t,150,)))\n",
        "# model.add(LSTM(100, activation='relu', return_sequences=True))\n",
        "# model.add(LSTM(50, activation='relu', return_sequences=True))\n",
        "# model.add(LSTM(25, activation='relu'))\n",
        "# model.add(Dense(20, activation='relu'))\n",
        "# model.add(Dense(10, activation='relu'))\n",
        "# model.add(Dense(3))\n",
        "# model.compile(optimizer='SGD', loss='sparse_categorical_crossentropy',metrics=['accuracy'])\n",
        "# history = model.fit(x_train, y_train, epochs=10, validation_split=0.2, verbose=1)\n",
        "# test_output = model.predict(x_test, verbose=1)\n",
        "# # history = model.fit(X, Y, epochs=1000, validation_split=0.2, verbose=1)\n",
        "# # test_output = model.predict(x=, verbose=0)\n",
        "# # print(test_output)"
      ],
      "metadata": {
        "id": "rhgsSos1KIbA"
      },
      "execution_count": 160,
      "outputs": []
    },
    {
      "cell_type": "code",
      "source": [
        "# sklearn_weights={0:1738,1:2348,2:2362}\n",
        "model = Sequential()\n",
        "model.add(LSTM(200, activation='relu', return_sequences=True, input_shape=( t,150,)))\n",
        "model.add(LSTM(400, activation='relu', return_sequences=True))\n",
        "model.add(LSTM(800, activation='relu', return_sequences=True))\n",
        "model.add(LSTM(150, activation='relu'))\n",
        "model.add(Dense(100, activation='relu'))\n",
        "model.add(Dense(64, activation='relu'))\n",
        "model.add(Dense(10, activation='relu'))\n",
        "model.add(Dense(3,activation='sigmoid'))\n",
        "optimi=keras.optimizers.Adam()\n",
        "model.compile(optimizer=optimi, loss='sparse_categorical_crossentropy',metrics=['accuracy',get_f1])\n",
        "\n",
        "# history = model.fit(x_train, y_train, epochs=30, validation_split=0.2, verbose=1)\n",
        "history = model.fit(x_train, y_train, epochs=25, validation_split=0.2, verbose=1,class_weight=sklearn_weights)\n",
        "test_output = model.predict(x_test, verbose=1)\n"
      ],
      "metadata": {
        "colab": {
          "base_uri": "https://localhost:8080/"
        },
        "id": "lwHPGS2iXMXc",
        "outputId": "f4d73d37-d78d-4170-c442-c9e71ac36c60"
      },
      "execution_count": 161,
      "outputs": [
        {
          "output_type": "stream",
          "name": "stderr",
          "text": [
            "WARNING:tensorflow:Layer lstm_20 will not use cuDNN kernels since it doesn't meet the criteria. It will use a generic GPU kernel as fallback when running on GPU.\n",
            "WARNING:tensorflow:Layer lstm_21 will not use cuDNN kernels since it doesn't meet the criteria. It will use a generic GPU kernel as fallback when running on GPU.\n",
            "WARNING:tensorflow:Layer lstm_22 will not use cuDNN kernels since it doesn't meet the criteria. It will use a generic GPU kernel as fallback when running on GPU.\n",
            "WARNING:tensorflow:Layer lstm_23 will not use cuDNN kernels since it doesn't meet the criteria. It will use a generic GPU kernel as fallback when running on GPU.\n"
          ]
        },
        {
          "output_type": "stream",
          "name": "stdout",
          "text": [
            "Epoch 1/25\n",
            "113/113 [==============================] - 9s 44ms/step - loss: 1.0854 - accuracy: 0.4099 - get_f1: 1.0168 - val_loss: 1.4303 - val_accuracy: 0.0000e+00 - val_get_f1: 1.6288\n",
            "Epoch 2/25\n",
            "113/113 [==============================] - 5s 42ms/step - loss: 1.0484 - accuracy: 0.4461 - get_f1: 1.1455 - val_loss: 1.0812 - val_accuracy: 0.3942 - val_get_f1: 1.9065\n",
            "Epoch 3/25\n",
            "113/113 [==============================] - 4s 35ms/step - loss: 0.8907 - accuracy: 0.5791 - get_f1: 1.1170 - val_loss: 0.9559 - val_accuracy: 0.4385 - val_get_f1: 1.7540\n",
            "Epoch 4/25\n",
            "113/113 [==============================] - 4s 36ms/step - loss: 0.6140 - accuracy: 0.7308 - get_f1: 0.9869 - val_loss: 0.6126 - val_accuracy: 0.7431 - val_get_f1: 1.4901\n",
            "Epoch 5/25\n",
            "113/113 [==============================] - 4s 35ms/step - loss: 0.4389 - accuracy: 0.8244 - get_f1: 0.8567 - val_loss: 0.4003 - val_accuracy: 0.9025 - val_get_f1: 1.5243\n",
            "Epoch 6/25\n",
            "113/113 [==============================] - 4s 35ms/step - loss: 0.3033 - accuracy: 0.8826 - get_f1: 0.7724 - val_loss: 0.1925 - val_accuracy: 0.9446 - val_get_f1: 1.1284\n",
            "Epoch 7/25\n",
            "113/113 [==============================] - 6s 51ms/step - loss: 0.1938 - accuracy: 0.9360 - get_f1: 0.6748 - val_loss: 0.1051 - val_accuracy: 0.9756 - val_get_f1: 1.0666\n",
            "Epoch 8/25\n",
            "113/113 [==============================] - 4s 34ms/step - loss: 0.1221 - accuracy: 0.9596 - get_f1: 0.6463 - val_loss: 0.0982 - val_accuracy: 0.9756 - val_get_f1: 1.0466\n",
            "Epoch 9/25\n",
            "113/113 [==============================] - 4s 35ms/step - loss: 0.1033 - accuracy: 0.9690 - get_f1: 0.6329 - val_loss: 0.0679 - val_accuracy: 0.9790 - val_get_f1: 1.0458\n",
            "Epoch 10/25\n",
            "113/113 [==============================] - 4s 34ms/step - loss: 0.0795 - accuracy: 0.9773 - get_f1: 0.6217 - val_loss: 0.0550 - val_accuracy: 0.9878 - val_get_f1: 1.0521\n",
            "Epoch 11/25\n",
            "113/113 [==============================] - 4s 34ms/step - loss: 0.0712 - accuracy: 0.9762 - get_f1: 0.6165 - val_loss: 0.0508 - val_accuracy: 0.9878 - val_get_f1: 1.0677\n",
            "Epoch 12/25\n",
            "113/113 [==============================] - 6s 52ms/step - loss: 0.1175 - accuracy: 0.9740 - get_f1: 0.5492 - val_loss: 0.1031 - val_accuracy: 0.9745 - val_get_f1: 1.0617\n",
            "Epoch 13/25\n",
            "113/113 [==============================] - 4s 34ms/step - loss: 0.0633 - accuracy: 0.9853 - get_f1: 0.5309 - val_loss: 0.0312 - val_accuracy: 0.9934 - val_get_f1: 1.0303\n",
            "Epoch 14/25\n",
            "113/113 [==============================] - 4s 35ms/step - loss: 0.0406 - accuracy: 0.9925 - get_f1: 0.5064 - val_loss: 0.0658 - val_accuracy: 0.9911 - val_get_f1: 1.0438\n",
            "Epoch 15/25\n",
            "113/113 [==============================] - 4s 35ms/step - loss: 0.0262 - accuracy: 0.9947 - get_f1: 0.5087 - val_loss: 0.0094 - val_accuracy: 0.9989 - val_get_f1: 1.0182\n",
            "Epoch 16/25\n",
            "113/113 [==============================] - 4s 34ms/step - loss: 0.0051 - accuracy: 0.9992 - get_f1: 0.5009 - val_loss: 1.1351e-04 - val_accuracy: 1.0000 - val_get_f1: 1.0011\n",
            "Epoch 17/25\n",
            "113/113 [==============================] - 4s 34ms/step - loss: 0.0182 - accuracy: 0.9945 - get_f1: 0.4957 - val_loss: 0.2292 - val_accuracy: 0.9734 - val_get_f1: 1.0474\n",
            "Epoch 18/25\n",
            "113/113 [==============================] - 4s 36ms/step - loss: 0.0805 - accuracy: 0.9792 - get_f1: 0.5618 - val_loss: 0.0904 - val_accuracy: 0.9878 - val_get_f1: 1.0989\n",
            "Epoch 19/25\n",
            "113/113 [==============================] - 4s 38ms/step - loss: 0.0417 - accuracy: 0.9947 - get_f1: 0.5746 - val_loss: 0.0221 - val_accuracy: 0.9934 - val_get_f1: 1.0086\n",
            "Epoch 20/25\n",
            "113/113 [==============================] - 4s 35ms/step - loss: 0.0283 - accuracy: 0.9950 - get_f1: 0.5636 - val_loss: 0.0273 - val_accuracy: 0.9967 - val_get_f1: 1.0075\n",
            "Epoch 21/25\n",
            "113/113 [==============================] - 4s 34ms/step - loss: 0.0178 - accuracy: 0.9950 - get_f1: 0.5821 - val_loss: 0.0140 - val_accuracy: 0.9967 - val_get_f1: 1.0086\n",
            "Epoch 22/25\n",
            "113/113 [==============================] - 4s 34ms/step - loss: 0.0643 - accuracy: 0.9892 - get_f1: 0.5833 - val_loss: 0.0463 - val_accuracy: 0.9900 - val_get_f1: 1.0133\n",
            "Epoch 23/25\n",
            "113/113 [==============================] - 4s 34ms/step - loss: 0.0555 - accuracy: 0.9903 - get_f1: 0.5070 - val_loss: 0.0076 - val_accuracy: 0.9967 - val_get_f1: 1.0065\n",
            "Epoch 24/25\n",
            "113/113 [==============================] - 4s 34ms/step - loss: 0.0388 - accuracy: 0.9889 - get_f1: 0.5430 - val_loss: 0.0559 - val_accuracy: 0.9834 - val_get_f1: 1.0914\n",
            "Epoch 25/25\n",
            "113/113 [==============================] - 4s 34ms/step - loss: 0.0117 - accuracy: 0.9983 - get_f1: 0.5018 - val_loss: 0.0021 - val_accuracy: 1.0000 - val_get_f1: 1.0005\n",
            "25/25 [==============================] - 1s 4ms/step\n"
          ]
        }
      ]
    },
    {
      "cell_type": "code",
      "source": [
        "test_output_1=np.array([np.argmax(i)  for i in test_output])\n",
        "from sklearn.metrics import confusion_matrix,accuracy_score\n",
        "print(confusion_matrix(y_test,test_output_1))\n",
        "test_output=pd.DataFrame(test_output)\n",
        "print(accuracy_score(y_test,test_output_1))\n"
      ],
      "metadata": {
        "id": "Q_hmR6MK_Bq5",
        "colab": {
          "base_uri": "https://localhost:8080/"
        },
        "outputId": "10f0ab83-9d0f-4271-f692-3e558c896a04"
      },
      "execution_count": 162,
      "outputs": [
        {
          "output_type": "stream",
          "name": "stdout",
          "text": [
            "[[212  39  81]\n",
            " [ 41 122  40]\n",
            " [ 65  10 169]]\n",
            "0.6456996148908858\n",
            "tf.Tensor(0.75110126, shape=(), dtype=float32)\n"
          ]
        }
      ]
    },
    {
      "cell_type": "code",
      "source": [
        "print(get_f1(y_test.astype('float32'), test_output_1.astype('float32')))"
      ],
      "metadata": {
        "colab": {
          "base_uri": "https://localhost:8080/"
        },
        "id": "ZsHojwC3G8gQ",
        "outputId": "4690d120-8154-48d3-9cd1-1767d0a42c67"
      },
      "execution_count": 164,
      "outputs": [
        {
          "output_type": "stream",
          "name": "stdout",
          "text": [
            "tf.Tensor(0.75110126, shape=(), dtype=float32)\n"
          ]
        }
      ]
    },
    {
      "cell_type": "code",
      "source": [
        "x_train_reshaped = x_train.reshape(x_train.shape[0], -1)\n",
        "x_test_reshaped = x_test.reshape(x_test.shape[0], -1)\n",
        "savetxt('arrxtrain.csv', x_train_reshaped, delimiter=',')\n",
        "savetxt('arrytrain.csv', y_train, delimiter=',')\n",
        "savetxt('arrxtest.csv', x_test_reshaped, delimiter=',')\n",
        "savetxt('arrytest.csv', y_test, delimiter=',')"
      ],
      "metadata": {
        "id": "oxhtZHtkBWOe"
      },
      "execution_count": 163,
      "outputs": []
    }
  ]
}