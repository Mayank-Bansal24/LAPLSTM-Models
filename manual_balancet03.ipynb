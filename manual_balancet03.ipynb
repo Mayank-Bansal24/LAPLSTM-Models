{
  "nbformat": 4,
  "nbformat_minor": 0,
  "metadata": {
    "colab": {
      "provenance": [],
      "include_colab_link": true
    },
    "kernelspec": {
      "name": "python3",
      "display_name": "Python 3"
    },
    "language_info": {
      "name": "python"
    },
    "accelerator": "GPU",
    "gpuClass": "standard"
  },
  "cells": [
    {
      "cell_type": "markdown",
      "metadata": {
        "id": "view-in-github",
        "colab_type": "text"
      },
      "source": [
        "<a href=\"https://colab.research.google.com/github/Mayank-Bansal24/LAPLSTM-Models/blob/main/manual_balancet03.ipynb\" target=\"_parent\"><img src=\"https://colab.research.google.com/assets/colab-badge.svg\" alt=\"Open In Colab\"/></a>"
      ]
    },
    {
      "cell_type": "code",
      "source": [
        "import numpy as np\n",
        "import tensorflow as tf\n",
        "from tensorflow.keras import losses as lo_ss\n",
        "from tensorflow.keras.models import Sequential\n",
        "from tensorflow.keras.layers import LSTM\n",
        "from tensorflow.keras.layers import Dense, Dropout\n",
        "import string\n",
        "import pandas as pd\n",
        "from matplotlib import pyplot as plt\n",
        "from sklearn.preprocessing import StandardScaler\n",
        "import seaborn as sns\n",
        "from sklearn import model_selection\n",
        "from sklearn.datasets import make_classification\n",
        "from sklearn.utils import class_weight\n",
        "from sklearn.metrics import classification_report , roc_auc_score\n",
        "import keras \n",
        "import keras.backend as K\n",
        "from google.colab import drive\n",
        "from numpy import savetxt\n",
        "import os"
      ],
      "metadata": {
        "id": "V1kLUX7gJ3N_"
      },
      "execution_count": 94,
      "outputs": []
    },
    {
      "cell_type": "code",
      "source": [
        "drive.mount('/content/gdrive')\n"
      ],
      "metadata": {
        "colab": {
          "base_uri": "https://localhost:8080/"
        },
        "id": "HXmXAIAJArT2",
        "outputId": "e736f36b-cd06-43da-cd88-70fe784d4b29"
      },
      "execution_count": 95,
      "outputs": [
        {
          "output_type": "stream",
          "name": "stdout",
          "text": [
            "Drive already mounted at /content/gdrive; to attempt to forcibly remount, call drive.mount(\"/content/gdrive\", force_remount=True).\n"
          ]
        }
      ]
    },
    {
      "cell_type": "code",
      "source": [
        "t=3"
      ],
      "metadata": {
        "id": "uLTug-YJDW8D"
      },
      "execution_count": 96,
      "outputs": []
    },
    {
      "cell_type": "code",
      "source": [
        "os.chdir('/content/gdrive/MyDrive/laplstm/manual_balance/t'+str(t))"
      ],
      "metadata": {
        "id": "ubPkwGQnA8Wx"
      },
      "execution_count": 97,
      "outputs": []
    },
    {
      "cell_type": "code",
      "source": [
        "import os\n",
        "github_raw_link=\"https://raw.githubusercontent.com/Aryansh085/LAP/main/858417d1-7d54-4115-a01b-fdda5e03ada3_testing_combined_rows4035_disc_1_0p9_MULTIPLY_preproces_155cols.csv\"\n",
        "df1=pd.read_csv((github_raw_link),header = None)\n",
        "dftemp=np.array(df1)\n",
        "dftemp.shape\n",
        "dftemp2=dftemp[:,5:]\n",
        "dftemp2=np.array(dftemp2)\n",
        "print(dftemp2.shape)"
      ],
      "metadata": {
        "id": "3UWvhrydJ8hA",
        "colab": {
          "base_uri": "https://localhost:8080/"
        },
        "outputId": "d274cd75-50c3-4203-a049-8d3caf1bd693"
      },
      "execution_count": 98,
      "outputs": [
        {
          "output_type": "stream",
          "name": "stdout",
          "text": [
            "(4035, 150)\n"
          ]
        }
      ]
    },
    {
      "cell_type": "code",
      "source": [
        "# dftemp2\n",
        "dftemp2.shape\n",
        "# dftemp2=pd.DataFrame(dftemp2)\n",
        "# dftemp2.head()"
      ],
      "metadata": {
        "colab": {
          "base_uri": "https://localhost:8080/"
        },
        "id": "h00YSxPn8rUk",
        "outputId": "27166e9f-14c6-45aa-ec0c-d0491de1472f"
      },
      "execution_count": 99,
      "outputs": [
        {
          "output_type": "execute_result",
          "data": {
            "text/plain": [
              "(4035, 150)"
            ]
          },
          "metadata": {},
          "execution_count": 99
        }
      ]
    },
    {
      "cell_type": "markdown",
      "source": [
        "--> muliply the reward of that instance into the loss of that instance to give weight"
      ],
      "metadata": {
        "id": "pPfqIsthYP2X"
      }
    },
    {
      "cell_type": "code",
      "source": [
        "from sklearn.preprocessing import StandardScaler\n",
        "\n",
        "slr=StandardScaler()\n",
        "slr.fit(dftemp2)\n",
        "dftemp2 = slr.transform(dftemp2)"
      ],
      "metadata": {
        "id": "kWYAqDfnO_1i"
      },
      "execution_count": 100,
      "outputs": []
    },
    {
      "cell_type": "code",
      "source": [
        "# f1-score function\n",
        "def get_f1(y_true, y_pred): #taken from old keras source code\n",
        "    true_positives = K.sum(K.round(K.clip(y_true * y_pred, 0, 1)))\n",
        "    possible_positives = K.sum(K.round(K.clip(y_true, 0, 1)))\n",
        "    predicted_positives = K.sum(K.round(K.clip(y_pred, 0, 1)))\n",
        "    precision = true_positives / (predicted_positives + K.epsilon())\n",
        "    recall = true_positives / (possible_positives + K.epsilon())\n",
        "    f1_val = 2*(precision*recall)/(precision+recall+K.epsilon())\n",
        "    return f1_val\n",
        "    "
      ],
      "metadata": {
        "id": "4i-6LDL58GyW"
      },
      "execution_count": 101,
      "outputs": []
    },
    {
      "cell_type": "code",
      "source": [],
      "metadata": {
        "id": "83zizsyvKHzh"
      },
      "execution_count": 101,
      "outputs": []
    },
    {
      "cell_type": "code",
      "source": [
        "y=np.array(dftemp[:,0])\n",
        "print(y)\n",
        "y_new=y[t:]\n",
        "y_new.shape\n"
      ],
      "metadata": {
        "colab": {
          "base_uri": "https://localhost:8080/"
        },
        "id": "XmXnkjOiKIGQ",
        "outputId": "f3f6523b-1b23-4d68-851c-50b78b2bc30f"
      },
      "execution_count": 102,
      "outputs": [
        {
          "output_type": "stream",
          "name": "stdout",
          "text": [
            "[2. 0. 0. ... 0. 2. 2.]\n"
          ]
        },
        {
          "output_type": "execute_result",
          "data": {
            "text/plain": [
              "(4032,)"
            ]
          },
          "metadata": {},
          "execution_count": 102
        }
      ]
    },
    {
      "cell_type": "code",
      "source": [
        "x=np.array(dftemp2)\n",
        "# print(x)\n",
        "# print(x.shape)\n",
        "x.shape,y_new.shape"
      ],
      "metadata": {
        "colab": {
          "base_uri": "https://localhost:8080/"
        },
        "id": "3JPzLQQmKhZk",
        "outputId": "92e32d68-bbaa-404a-f946-0c63058cd4af"
      },
      "execution_count": 103,
      "outputs": [
        {
          "output_type": "execute_result",
          "data": {
            "text/plain": [
              "((4035, 150), (4032,))"
            ]
          },
          "metadata": {},
          "execution_count": 103
        }
      ]
    },
    {
      "cell_type": "code",
      "source": [
        "x_3d=[]\n",
        "for i in range(4035-t):\n",
        "  tmp=[]\n",
        "  for j in range(t):\n",
        "    tmp.append(x[j+i])\n",
        "  x_3d.append(tmp)\n",
        "x_3d= np.array(x_3d)\n",
        "x_3d.shape"
      ],
      "metadata": {
        "colab": {
          "base_uri": "https://localhost:8080/"
        },
        "id": "hdDY6fhENZ2-",
        "outputId": "da6e6b0a-ed77-40ac-e941-09209fc845e0"
      },
      "execution_count": 104,
      "outputs": [
        {
          "output_type": "execute_result",
          "data": {
            "text/plain": [
              "(4032, 3, 150)"
            ]
          },
          "metadata": {},
          "execution_count": 104
        }
      ]
    },
    {
      "cell_type": "code",
      "source": [
        "train_test_ratio=0.8\n",
        "print(x_3d.shape[0])\n",
        "x_train=[]\n",
        "y_train=[]\n",
        "x_test=[]\n",
        "y_test=[]\n",
        "for i in range(x_3d.shape[0]):\n",
        "  l=[]\n",
        "  ly=[]\n",
        "  no=np.random.randint(100)\n",
        "  if(no<80):\n",
        "    l=x_3d[i]\n",
        "    ly=y_new[i]\n",
        "    x_train.append(l)\n",
        "    y_train.append(ly)\n",
        "  else:\n",
        "    l=x_3d[i]\n",
        "    ly=y_new[i]\n",
        "    x_test.append(l)\n",
        "    y_test.append(ly)\n",
        "\n",
        "\n",
        "x_train=np.array(x_train)\n",
        "y_train=np.array(y_train)\n",
        "x_test=np.array(x_test)\n",
        "y_test=np.array(y_test)\n",
        "x_train.shape,y_train.shape,x_test.shape,y_test.shape"
      ],
      "metadata": {
        "colab": {
          "base_uri": "https://localhost:8080/"
        },
        "id": "AwnZ3Mh1Khi8",
        "outputId": "56f2e680-2794-4930-808c-7899696c001e"
      },
      "execution_count": 105,
      "outputs": [
        {
          "output_type": "stream",
          "name": "stdout",
          "text": [
            "4032\n"
          ]
        },
        {
          "output_type": "execute_result",
          "data": {
            "text/plain": [
              "((3226, 3, 150), (3226,), (806, 3, 150), (806,))"
            ]
          },
          "metadata": {},
          "execution_count": 105
        }
      ]
    },
    {
      "cell_type": "code",
      "source": [
        "cnt0=0\n",
        "cnt1=0\n",
        "cnt2=0\n",
        "for i in range(x_train.shape[0]):\n",
        "  if(y_train[i]==0):\n",
        "    cnt0+=1\n",
        "  elif(y_train[i]==1):\n",
        "    cnt1+=1\n",
        "  elif(y_train[i]==2):\n",
        "    cnt2+=1\n",
        "print(cnt0)\n",
        "print(cnt1)\n",
        "print(cnt2)  "
      ],
      "metadata": {
        "colab": {
          "base_uri": "https://localhost:8080/"
        },
        "id": "xlijLVYecmcq",
        "outputId": "5b2fa161-aadd-4d0c-b08b-6c89ee6b388c"
      },
      "execution_count": 106,
      "outputs": [
        {
          "output_type": "stream",
          "name": "stdout",
          "text": [
            "1445\n",
            "853\n",
            "928\n"
          ]
        }
      ]
    },
    {
      "cell_type": "code",
      "source": [
        "x_train_1=[]\n",
        "y_train_1=[]\n",
        "c1=0\n",
        "c2=0\n",
        "c3=0\n",
        "for i in range(x_train.shape[0]):\n",
        "  if(y_train[i]==0):\n",
        "    x_train_1.append(x_train[i])\n",
        "    y_train_1.append(0)\n",
        "    c1+=1\n",
        "  elif(y_train[i]==1):\n",
        "    x_train_1.append(x_train[i])\n",
        "    y_train_1.append(1)\n",
        "    c2+=1\n",
        "  elif(y_train[i]==2 ):\n",
        "    x_train_1.append(x_train[i])\n",
        "    y_train_1.append(2)\n",
        "    c3=c3+1\n",
        "for i in range(x_train.shape[0]):\n",
        "  if(y_train[i]==1):\n",
        "    no=np.random.randint(100)\n",
        "    if(no>=30):\n",
        "      x_train_1.append(x_train[i])\n",
        "      y_train_1.append(1)\n",
        "      c2+=1\n",
        "  elif(y_train[i]==2 ):\n",
        "    no=np.random.randint(100)\n",
        "    if(no>=27):\n",
        "      x_train_1.append(x_train[i])\n",
        "      y_train_1.append(2)\n",
        "      c3+=1\n",
        "\n",
        "y_train=[]\n",
        "y_train=y_train_1\n",
        "x_train=[]\n",
        "x_train=x_train_1\n",
        "x_train=np.array(x_train)\n",
        "y_train=np.array(y_train)\n",
        "print(c1)\n",
        "print(c2)\n",
        "print(c3)"
      ],
      "metadata": {
        "id": "PqOHcbhQcuo8",
        "colab": {
          "base_uri": "https://localhost:8080/"
        },
        "outputId": "391c737e-fbc2-46e4-e49b-be8d0b716ecd"
      },
      "execution_count": 107,
      "outputs": [
        {
          "output_type": "stream",
          "name": "stdout",
          "text": [
            "1445\n",
            "1459\n",
            "1611\n"
          ]
        }
      ]
    },
    {
      "cell_type": "code",
      "source": [
        "\n",
        "# model = Sequential()\n",
        "# model.add(LSTM(200, activation='relu', return_sequences=True, input_shape=( t,150,)))\n",
        "# model.add(LSTM(100, activation='relu', return_sequences=True))\n",
        "# model.add(LSTM(50, activation='relu', return_sequences=True))\n",
        "# model.add(LSTM(25, activation='relu'))\n",
        "# model.add(Dense(20, activation='relu'))\n",
        "# model.add(Dense(10, activation='relu'))\n",
        "# model.add(Dense(3))\n",
        "# model.compile(optimizer='SGD', loss='sparse_categorical_crossentropy',metrics=['accuracy'])\n",
        "# history = model.fit(x_train, y_train, epochs=10, validation_split=0.2, verbose=1)\n",
        "# test_output = model.predict(x_test, verbose=1)\n",
        "# # history = model.fit(X, Y, epochs=1000, validation_split=0.2, verbose=1)\n",
        "# # test_output = model.predict(x=, verbose=0)\n",
        "# # print(test_output)"
      ],
      "metadata": {
        "id": "rhgsSos1KIbA"
      },
      "execution_count": 108,
      "outputs": []
    },
    {
      "cell_type": "code",
      "source": [
        "# sklearn_weights={0:1738,1:2348,2:2362}\n",
        "model = Sequential()\n",
        "model.add(LSTM(200, activation='relu', return_sequences=True, input_shape=( t,150,)))\n",
        "model.add(LSTM(400, activation='relu', return_sequences=True))\n",
        "model.add(LSTM(800, activation='relu', return_sequences=True))\n",
        "model.add(LSTM(150, activation='relu'))\n",
        "model.add(Dense(100, activation='relu'))\n",
        "model.add(Dense(64, activation='relu'))\n",
        "model.add(Dense(10, activation='relu'))\n",
        "model.add(Dense(3,activation='sigmoid'))\n",
        "optimi=keras.optimizers.Adam()\n",
        "model.compile(optimizer=optimi, loss='sparse_categorical_crossentropy',metrics=['accuracy',get_f1])\n",
        "\n",
        "history = model.fit(x_train, y_train, epochs=25, validation_split=0.2, verbose=1)\n",
        "# history = model.fit(x_train, y_train, epochs=25, validation_split=0.2, verbose=1,class_weight=sklearn_weights)\n",
        "test_output = model.predict(x_test, verbose=1)\n"
      ],
      "metadata": {
        "colab": {
          "base_uri": "https://localhost:8080/"
        },
        "id": "lwHPGS2iXMXc",
        "outputId": "6981cbdc-8691-43c9-bbba-6521ff5e4ff8"
      },
      "execution_count": 109,
      "outputs": [
        {
          "output_type": "stream",
          "name": "stderr",
          "text": [
            "WARNING:tensorflow:Layer lstm_16 will not use cuDNN kernels since it doesn't meet the criteria. It will use a generic GPU kernel as fallback when running on GPU.\n",
            "WARNING:tensorflow:Layer lstm_17 will not use cuDNN kernels since it doesn't meet the criteria. It will use a generic GPU kernel as fallback when running on GPU.\n",
            "WARNING:tensorflow:Layer lstm_18 will not use cuDNN kernels since it doesn't meet the criteria. It will use a generic GPU kernel as fallback when running on GPU.\n",
            "WARNING:tensorflow:Layer lstm_19 will not use cuDNN kernels since it doesn't meet the criteria. It will use a generic GPU kernel as fallback when running on GPU.\n"
          ]
        },
        {
          "output_type": "stream",
          "name": "stdout",
          "text": [
            "Epoch 1/25\n",
            "113/113 [==============================] - 9s 39ms/step - loss: 1.0877 - accuracy: 0.3657 - get_f1: 1.2118 - val_loss: 1.0794 - val_accuracy: 0.1606 - val_get_f1: 1.6853\n",
            "Epoch 2/25\n",
            "113/113 [==============================] - 4s 34ms/step - loss: 0.9952 - accuracy: 0.5042 - get_f1: 1.1016 - val_loss: 0.9434 - val_accuracy: 0.5382 - val_get_f1: 1.4551\n",
            "Epoch 3/25\n",
            "113/113 [==============================] - 4s 33ms/step - loss: 0.8063 - accuracy: 0.5911 - get_f1: 0.9698 - val_loss: 0.5655 - val_accuracy: 0.7254 - val_get_f1: 1.3550\n",
            "Epoch 4/25\n",
            "113/113 [==============================] - 4s 34ms/step - loss: 0.5933 - accuracy: 0.7237 - get_f1: 0.8411 - val_loss: 0.5574 - val_accuracy: 0.6744 - val_get_f1: 1.2743\n",
            "Epoch 5/25\n",
            "113/113 [==============================] - 4s 33ms/step - loss: 0.4606 - accuracy: 0.7946 - get_f1: 0.8173 - val_loss: 0.5360 - val_accuracy: 0.6932 - val_get_f1: 1.2309\n",
            "Epoch 6/25\n",
            "113/113 [==============================] - 4s 34ms/step - loss: 0.3688 - accuracy: 0.8541 - get_f1: 0.7971 - val_loss: 0.3006 - val_accuracy: 0.8538 - val_get_f1: 1.2228\n",
            "Epoch 7/25\n",
            "113/113 [==============================] - 4s 34ms/step - loss: 0.2666 - accuracy: 0.9042 - get_f1: 0.8026 - val_loss: 0.2387 - val_accuracy: 0.8970 - val_get_f1: 1.2225\n",
            "Epoch 8/25\n",
            "113/113 [==============================] - 4s 33ms/step - loss: 0.1771 - accuracy: 0.9405 - get_f1: 0.8059 - val_loss: 0.1880 - val_accuracy: 0.9402 - val_get_f1: 1.2257\n",
            "Epoch 9/25\n",
            "113/113 [==============================] - 4s 34ms/step - loss: 0.1417 - accuracy: 0.9576 - get_f1: 0.8127 - val_loss: 0.1088 - val_accuracy: 0.9535 - val_get_f1: 1.2391\n",
            "Epoch 10/25\n",
            "113/113 [==============================] - 4s 34ms/step - loss: 0.1370 - accuracy: 0.9604 - get_f1: 0.8006 - val_loss: 0.0958 - val_accuracy: 0.9635 - val_get_f1: 1.2262\n",
            "Epoch 11/25\n",
            "113/113 [==============================] - 4s 33ms/step - loss: 0.1139 - accuracy: 0.9673 - get_f1: 0.8230 - val_loss: 0.1151 - val_accuracy: 0.9601 - val_get_f1: 1.2334\n",
            "Epoch 12/25\n",
            "113/113 [==============================] - 4s 32ms/step - loss: 0.0802 - accuracy: 0.9740 - get_f1: 0.8089 - val_loss: 0.0716 - val_accuracy: 0.9623 - val_get_f1: 1.2314\n",
            "Epoch 13/25\n",
            "113/113 [==============================] - 4s 32ms/step - loss: 0.0465 - accuracy: 0.9839 - get_f1: 0.8056 - val_loss: 0.0906 - val_accuracy: 0.9767 - val_get_f1: 1.2192\n",
            "Epoch 14/25\n",
            "113/113 [==============================] - 6s 55ms/step - loss: 0.0441 - accuracy: 0.9867 - get_f1: 0.8964 - val_loss: 0.0284 - val_accuracy: 0.9911 - val_get_f1: 1.2206\n",
            "Epoch 15/25\n",
            "113/113 [==============================] - 5s 44ms/step - loss: 0.0454 - accuracy: 0.9881 - get_f1: 0.9058 - val_loss: 0.0482 - val_accuracy: 0.9790 - val_get_f1: 1.2198\n",
            "Epoch 16/25\n",
            "113/113 [==============================] - 4s 33ms/step - loss: 0.0544 - accuracy: 0.9889 - get_f1: 0.9369 - val_loss: 0.0306 - val_accuracy: 0.9856 - val_get_f1: 1.2167\n",
            "Epoch 17/25\n",
            "113/113 [==============================] - 4s 33ms/step - loss: 0.0368 - accuracy: 0.9862 - get_f1: 0.9092 - val_loss: 0.0536 - val_accuracy: 0.9845 - val_get_f1: 1.2211\n",
            "Epoch 18/25\n",
            "113/113 [==============================] - 4s 34ms/step - loss: 0.0480 - accuracy: 0.9859 - get_f1: 0.9318 - val_loss: 0.0196 - val_accuracy: 0.9934 - val_get_f1: 1.2154\n",
            "Epoch 19/25\n",
            "113/113 [==============================] - 4s 33ms/step - loss: 0.0242 - accuracy: 0.9942 - get_f1: 0.9401 - val_loss: 0.0027 - val_accuracy: 0.9956 - val_get_f1: 1.2133\n",
            "Epoch 20/25\n",
            "113/113 [==============================] - 4s 34ms/step - loss: 0.0209 - accuracy: 0.9920 - get_f1: 0.9305 - val_loss: 0.0357 - val_accuracy: 0.9911 - val_get_f1: 1.2138\n",
            "Epoch 21/25\n",
            "113/113 [==============================] - 4s 34ms/step - loss: 0.0791 - accuracy: 0.9839 - get_f1: 0.9372 - val_loss: 0.0159 - val_accuracy: 0.9978 - val_get_f1: 1.2137\n",
            "Epoch 22/25\n",
            "113/113 [==============================] - 6s 50ms/step - loss: 0.0685 - accuracy: 0.9870 - get_f1: 0.9637 - val_loss: 0.0028 - val_accuracy: 1.0000 - val_get_f1: 1.2881\n",
            "Epoch 23/25\n",
            "113/113 [==============================] - 4s 33ms/step - loss: 0.0248 - accuracy: 0.9942 - get_f1: 1.0206 - val_loss: 0.0030 - val_accuracy: 1.0000 - val_get_f1: 1.5040\n",
            "Epoch 24/25\n",
            "113/113 [==============================] - 4s 34ms/step - loss: 0.0489 - accuracy: 0.9862 - get_f1: 1.0385 - val_loss: 0.0747 - val_accuracy: 0.9856 - val_get_f1: 1.3763\n",
            "Epoch 25/25\n",
            "113/113 [==============================] - 4s 34ms/step - loss: 0.0467 - accuracy: 0.9922 - get_f1: 0.8377 - val_loss: 0.0463 - val_accuracy: 0.9911 - val_get_f1: 1.1902\n",
            "26/26 [==============================] - 1s 4ms/step\n"
          ]
        }
      ]
    },
    {
      "cell_type": "code",
      "source": [
        "test_output_1=np.array([np.argmax(i)  for i in test_output])\n",
        "from sklearn.metrics import confusion_matrix,accuracy_score\n",
        "print(confusion_matrix(y_test,test_output_1))\n",
        "test_output=pd.DataFrame(test_output)\n",
        "print(accuracy_score(y_test,test_output_1))\n"
      ],
      "metadata": {
        "id": "Q_hmR6MK_Bq5",
        "colab": {
          "base_uri": "https://localhost:8080/"
        },
        "outputId": "71a8725c-97a3-45c3-fdca-a618cecf03fe"
      },
      "execution_count": 110,
      "outputs": [
        {
          "output_type": "stream",
          "name": "stdout",
          "text": [
            "[[297  41  42]\n",
            " [ 95 102   5]\n",
            " [125   5  94]]\n",
            "0.6116625310173698\n"
          ]
        }
      ]
    },
    {
      "cell_type": "code",
      "source": [
        "print(get_f1(y_test.astype('float32'), test_output_1.astype('float32')))"
      ],
      "metadata": {
        "colab": {
          "base_uri": "https://localhost:8080/"
        },
        "id": "ZsHojwC3G8gQ",
        "outputId": "af399149-56bb-49e2-9e43-043814d44435"
      },
      "execution_count": 111,
      "outputs": [
        {
          "output_type": "stream",
          "name": "stdout",
          "text": [
            "tf.Tensor(0.57622373, shape=(), dtype=float32)\n"
          ]
        }
      ]
    },
    {
      "cell_type": "code",
      "source": [
        "x_train_reshaped = x_train.reshape(x_train.shape[0], -1)\n",
        "x_test_reshaped = x_test.reshape(x_test.shape[0], -1)\n",
        "savetxt('arrxtrain.csv', x_train_reshaped, delimiter=',')\n",
        "savetxt('arrytrain.csv', y_train, delimiter=',')\n",
        "savetxt('arrxtest.csv', x_test_reshaped, delimiter=',')\n",
        "savetxt('arrytest.csv', y_test, delimiter=',')"
      ],
      "metadata": {
        "id": "oxhtZHtkBWOe"
      },
      "execution_count": 112,
      "outputs": []
    },
    {
      "cell_type": "code",
      "source": [
        "t"
      ],
      "metadata": {
        "colab": {
          "base_uri": "https://localhost:8080/"
        },
        "id": "xWbsHW9BQp4w",
        "outputId": "4683cdc5-39e3-4682-93f9-4645229aa50c"
      },
      "execution_count": 113,
      "outputs": [
        {
          "output_type": "execute_result",
          "data": {
            "text/plain": [
              "3"
            ]
          },
          "metadata": {},
          "execution_count": 113
        }
      ]
    }
  ]
}