{
  "nbformat": 4,
  "nbformat_minor": 0,
  "metadata": {
    "colab": {
      "provenance": [],
      "include_colab_link": true
    },
    "kernelspec": {
      "name": "python3",
      "display_name": "Python 3"
    },
    "language_info": {
      "name": "python"
    },
    "accelerator": "GPU",
    "gpuClass": "standard"
  },
  "cells": [
    {
      "cell_type": "markdown",
      "metadata": {
        "id": "view-in-github",
        "colab_type": "text"
      },
      "source": [
        "<a href=\"https://colab.research.google.com/github/Mayank-Bansal24/LAPLSTM-Models/blob/main/Allint20.ipynb\" target=\"_parent\"><img src=\"https://colab.research.google.com/assets/colab-badge.svg\" alt=\"Open In Colab\"/></a>"
      ]
    },
    {
      "cell_type": "code",
      "source": [
        "import numpy as np\n",
        "import tensorflow as tf\n",
        "from tensorflow.keras import losses as lo_ss\n",
        "from tensorflow.keras.models import Sequential\n",
        "from tensorflow.keras.layers import LSTM\n",
        "from tensorflow.keras.layers import Dense, Dropout\n",
        "import string\n",
        "import pandas as pd\n",
        "from matplotlib import pyplot as plt\n",
        "from sklearn.preprocessing import StandardScaler\n",
        "import seaborn as sns\n",
        "from sklearn import model_selection\n",
        "from sklearn.datasets import make_classification\n",
        "from sklearn.utils import class_weight\n",
        "from sklearn.metrics import classification_report , roc_auc_score\n",
        "import keras \n",
        "import keras.backend as K\n",
        "from google.colab import drive\n",
        "from numpy import savetxt"
      ],
      "metadata": {
        "id": "V1kLUX7gJ3N_"
      },
      "execution_count": 225,
      "outputs": []
    },
    {
      "cell_type": "code",
      "source": [
        "drive.mount('/content/gdrive')\n"
      ],
      "metadata": {
        "colab": {
          "base_uri": "https://localhost:8080/"
        },
        "id": "HXmXAIAJArT2",
        "outputId": "d692357d-8083-4cb7-c908-d047b046c946"
      },
      "execution_count": 226,
      "outputs": [
        {
          "output_type": "stream",
          "name": "stdout",
          "text": [
            "Drive already mounted at /content/gdrive; to attempt to forcibly remount, call drive.mount(\"/content/gdrive\", force_remount=True).\n"
          ]
        }
      ]
    },
    {
      "cell_type": "code",
      "source": [
        "t=20"
      ],
      "metadata": {
        "id": "uLTug-YJDW8D"
      },
      "execution_count": 227,
      "outputs": []
    },
    {
      "cell_type": "code",
      "source": [
        "os.chdir('/content/gdrive/MyDrive/laplstm/allin/t'+str(t))"
      ],
      "metadata": {
        "id": "ubPkwGQnA8Wx"
      },
      "execution_count": 228,
      "outputs": []
    },
    {
      "cell_type": "code",
      "source": [
        "import os\n",
        "github_raw_link=\"https://raw.githubusercontent.com/Aryansh085/LAP/main/858417d1-7d54-4115-a01b-fdda5e03ada3_testing_combined_rows4035_disc_1_0p9_MULTIPLY_preproces_155cols.csv\"\n",
        "df1=pd.read_csv((github_raw_link),header = None)\n",
        "dftemp=np.array(df1)\n",
        "dftemp.shape\n",
        "dftemp2=dftemp[:,5:]\n",
        "dftemp2=np.array(dftemp2)\n",
        "print(dftemp2.shape)"
      ],
      "metadata": {
        "id": "3UWvhrydJ8hA",
        "colab": {
          "base_uri": "https://localhost:8080/"
        },
        "outputId": "67133c7f-cef9-408f-ec05-fa592ca5e510"
      },
      "execution_count": 229,
      "outputs": [
        {
          "output_type": "stream",
          "name": "stdout",
          "text": [
            "(4035, 150)\n"
          ]
        }
      ]
    },
    {
      "cell_type": "code",
      "source": [
        "# dftemp2\n",
        "dftemp2.shape\n",
        "# dftemp2=pd.DataFrame(dftemp2)\n",
        "# dftemp2.head()"
      ],
      "metadata": {
        "colab": {
          "base_uri": "https://localhost:8080/"
        },
        "id": "h00YSxPn8rUk",
        "outputId": "58506f5e-8335-483b-afab-dda4c548615d"
      },
      "execution_count": 230,
      "outputs": [
        {
          "output_type": "execute_result",
          "data": {
            "text/plain": [
              "(4035, 150)"
            ]
          },
          "metadata": {},
          "execution_count": 230
        }
      ]
    },
    {
      "cell_type": "markdown",
      "source": [
        "--> muliply the reward of that instance into the loss of that instance to give weight"
      ],
      "metadata": {
        "id": "pPfqIsthYP2X"
      }
    },
    {
      "cell_type": "code",
      "source": [
        "from sklearn.preprocessing import StandardScaler\n",
        "\n",
        "slr=StandardScaler()\n",
        "slr.fit(dftemp2)\n",
        "dftemp2 = slr.transform(dftemp2)"
      ],
      "metadata": {
        "id": "kWYAqDfnO_1i"
      },
      "execution_count": 231,
      "outputs": []
    },
    {
      "cell_type": "code",
      "source": [
        "# f1-score function\n",
        "def get_f1(y_true, y_pred): #taken from old keras source code\n",
        "    true_positives = K.sum(K.round(K.clip(y_true * y_pred, 0, 1)))\n",
        "    possible_positives = K.sum(K.round(K.clip(y_true, 0, 1)))\n",
        "    predicted_positives = K.sum(K.round(K.clip(y_pred, 0, 1)))\n",
        "    precision = true_positives / (predicted_positives + K.epsilon())\n",
        "    recall = true_positives / (possible_positives + K.epsilon())\n",
        "    f1_val = 2*(precision*recall)/(precision+recall+K.epsilon())\n",
        "    return f1_val\n",
        "    "
      ],
      "metadata": {
        "id": "4i-6LDL58GyW"
      },
      "execution_count": 232,
      "outputs": []
    },
    {
      "cell_type": "code",
      "source": [],
      "metadata": {
        "id": "83zizsyvKHzh"
      },
      "execution_count": 232,
      "outputs": []
    },
    {
      "cell_type": "code",
      "source": [
        "y=np.array(dftemp[:,0])\n",
        "print(y)\n",
        "y_new=y[t:]\n",
        "y_new.shape\n"
      ],
      "metadata": {
        "colab": {
          "base_uri": "https://localhost:8080/"
        },
        "id": "XmXnkjOiKIGQ",
        "outputId": "22313442-32b0-4b83-dcf2-253c714bc382"
      },
      "execution_count": 233,
      "outputs": [
        {
          "output_type": "stream",
          "name": "stdout",
          "text": [
            "[2. 0. 0. ... 0. 2. 2.]\n"
          ]
        },
        {
          "output_type": "execute_result",
          "data": {
            "text/plain": [
              "(4015,)"
            ]
          },
          "metadata": {},
          "execution_count": 233
        }
      ]
    },
    {
      "cell_type": "code",
      "source": [
        "x=np.array(dftemp2)\n",
        "# print(x)\n",
        "# print(x.shape)\n",
        "x.shape,y_new.shape"
      ],
      "metadata": {
        "colab": {
          "base_uri": "https://localhost:8080/"
        },
        "id": "3JPzLQQmKhZk",
        "outputId": "f02ecec1-63f3-4afb-a97d-d6cdfd21e0a3"
      },
      "execution_count": 234,
      "outputs": [
        {
          "output_type": "execute_result",
          "data": {
            "text/plain": [
              "((4035, 150), (4015,))"
            ]
          },
          "metadata": {},
          "execution_count": 234
        }
      ]
    },
    {
      "cell_type": "code",
      "source": [
        "x_3d=[]\n",
        "for i in range(4035-t):\n",
        "  tmp=[]\n",
        "  for j in range(t):\n",
        "    tmp.append(x[j+i])\n",
        "  x_3d.append(tmp)\n",
        "x_3d= np.array(x_3d)\n",
        "x_3d.shape"
      ],
      "metadata": {
        "colab": {
          "base_uri": "https://localhost:8080/"
        },
        "id": "hdDY6fhENZ2-",
        "outputId": "f4655bc4-6088-4f26-e370-9cea2611cc77"
      },
      "execution_count": 235,
      "outputs": [
        {
          "output_type": "execute_result",
          "data": {
            "text/plain": [
              "(4015, 20, 150)"
            ]
          },
          "metadata": {},
          "execution_count": 235
        }
      ]
    },
    {
      "cell_type": "code",
      "source": [
        "train_test_ratio=0.8\n",
        "print(x_3d.shape[0])\n",
        "x_train=[]\n",
        "y_train=[]\n",
        "x_test=[]\n",
        "y_test=[]\n",
        "for i in range(x_3d.shape[0]):\n",
        "  l=[]\n",
        "  ly=[]\n",
        "  no=np.random.randint(100)\n",
        "  if(no<80):\n",
        "    l=x_3d[i]\n",
        "    ly=y_new[i]\n",
        "    x_train.append(l)\n",
        "    y_train.append(ly)\n",
        "  else:\n",
        "    l=x_3d[i]\n",
        "    ly=y_new[i]\n",
        "    x_test.append(l)\n",
        "    y_test.append(ly)\n",
        "\n",
        "\n",
        "x_train=np.array(x_train)\n",
        "y_train=np.array(y_train)\n",
        "x_test=np.array(x_test)\n",
        "y_test=np.array(y_test)\n",
        "x_train.shape,y_train.shape,x_test.shape,y_test.shape"
      ],
      "metadata": {
        "colab": {
          "base_uri": "https://localhost:8080/"
        },
        "id": "AwnZ3Mh1Khi8",
        "outputId": "2cbf2321-f9be-499e-c3a3-611c8432e2bc"
      },
      "execution_count": 236,
      "outputs": [
        {
          "output_type": "stream",
          "name": "stdout",
          "text": [
            "4015\n"
          ]
        },
        {
          "output_type": "execute_result",
          "data": {
            "text/plain": [
              "((3239, 20, 150), (3239,), (776, 20, 150), (776,))"
            ]
          },
          "metadata": {},
          "execution_count": 236
        }
      ]
    },
    {
      "cell_type": "code",
      "source": [
        "cnt0=0\n",
        "cnt1=0\n",
        "cnt2=0\n",
        "for i in range(x_train.shape[0]):\n",
        "  if(y_train[i]==0):\n",
        "    cnt0+=1\n",
        "  elif(y_train[i]==1):\n",
        "    cnt1+=1\n",
        "  elif(y_train[i]==2):\n",
        "    cnt2+=1\n",
        "print(cnt0)\n",
        "print(cnt1)\n",
        "print(cnt2)  "
      ],
      "metadata": {
        "colab": {
          "base_uri": "https://localhost:8080/"
        },
        "id": "xlijLVYecmcq",
        "outputId": "d712957e-af61-4bb5-fe10-aa66af592b62"
      },
      "execution_count": 237,
      "outputs": [
        {
          "output_type": "stream",
          "name": "stdout",
          "text": [
            "1463\n",
            "832\n",
            "944\n"
          ]
        }
      ]
    },
    {
      "cell_type": "code",
      "source": [
        "x_train_1=[]\n",
        "y_train_1=[]\n",
        "c1=0\n",
        "c2=0\n",
        "c3=0\n",
        "for i in range(x_train.shape[0]):\n",
        "  if(y_train[i]==0):\n",
        "    x_train_1.append(x_train[i])\n",
        "    y_train_1.append(0)\n",
        "    c1+=1\n",
        "  elif(y_train[i]==1):\n",
        "    x_train_1.append(x_train[i])\n",
        "    y_train_1.append(1)\n",
        "    c2+=1\n",
        "  elif(y_train[i]==2 ):\n",
        "    x_train_1.append(x_train[i])\n",
        "    y_train_1.append(2)\n",
        "    c3=c3+1\n",
        "for i in range(x_train.shape[0]):\n",
        "  if(y_train[i]==1):\n",
        "    no=np.random.randint(100)\n",
        "    if(no>=30):\n",
        "      x_train_1.append(x_train[i])\n",
        "      y_train_1.append(1)\n",
        "      c2+=1\n",
        "  elif(y_train[i]==2 ):\n",
        "    no=np.random.randint(100)\n",
        "    if(no>=27):\n",
        "      x_train_1.append(x_train[i])\n",
        "      y_train_1.append(2)\n",
        "      c3+=1\n",
        "\n",
        "y_train=[]\n",
        "y_train=y_train_1\n",
        "x_train=[]\n",
        "x_train=x_train_1\n",
        "x_train=np.array(x_train)\n",
        "y_train=np.array(y_train)\n",
        "print(c1)\n",
        "print(c2)\n",
        "print(c3)"
      ],
      "metadata": {
        "id": "PqOHcbhQcuo8",
        "colab": {
          "base_uri": "https://localhost:8080/"
        },
        "outputId": "307d0766-7b5c-4263-9453-0db1f2281b92"
      },
      "execution_count": 238,
      "outputs": [
        {
          "output_type": "stream",
          "name": "stdout",
          "text": [
            "1463\n",
            "1423\n",
            "1625\n"
          ]
        }
      ]
    },
    {
      "cell_type": "code",
      "source": [
        "sklearn_weights=class_weight.compute_class_weight(class_weight='balanced',classes=np.unique(y_train),y=y_train)\n",
        "sklearn_weights=dict(zip(np.unique(y_train),sklearn_weights))\n",
        "sklearn_weights"
      ],
      "metadata": {
        "colab": {
          "base_uri": "https://localhost:8080/"
        },
        "id": "EYzwuCcAbDKT",
        "outputId": "1c5c79d4-9ee7-4a73-b1d3-563d22215ab4"
      },
      "execution_count": 239,
      "outputs": [
        {
          "output_type": "execute_result",
          "data": {
            "text/plain": [
              "{0: 1.02779676463887, 1: 1.0566877488873272, 2: 0.9253333333333333}"
            ]
          },
          "metadata": {},
          "execution_count": 239
        }
      ]
    },
    {
      "cell_type": "code",
      "source": [
        "\n",
        "# model = Sequential()\n",
        "# model.add(LSTM(200, activation='relu', return_sequences=True, input_shape=( t,150,)))\n",
        "# model.add(LSTM(100, activation='relu', return_sequences=True))\n",
        "# model.add(LSTM(50, activation='relu', return_sequences=True))\n",
        "# model.add(LSTM(25, activation='relu'))\n",
        "# model.add(Dense(20, activation='relu'))\n",
        "# model.add(Dense(10, activation='relu'))\n",
        "# model.add(Dense(3))\n",
        "# model.compile(optimizer='SGD', loss='sparse_categorical_crossentropy',metrics=['accuracy'])\n",
        "# history = model.fit(x_train, y_train, epochs=10, validation_split=0.2, verbose=1)\n",
        "# test_output = model.predict(x_test, verbose=1)\n",
        "# # history = model.fit(X, Y, epochs=1000, validation_split=0.2, verbose=1)\n",
        "# # test_output = model.predict(x=, verbose=0)\n",
        "# # print(test_output)"
      ],
      "metadata": {
        "id": "rhgsSos1KIbA"
      },
      "execution_count": 240,
      "outputs": []
    },
    {
      "cell_type": "code",
      "source": [
        "# sklearn_weights={0:1738,1:2348,2:2362}\n",
        "model = Sequential()\n",
        "model.add(LSTM(200, activation='relu', return_sequences=True, input_shape=( t,150,)))\n",
        "model.add(LSTM(400, activation='relu', return_sequences=True))\n",
        "model.add(LSTM(800, activation='relu', return_sequences=True))\n",
        "model.add(LSTM(150, activation='relu'))\n",
        "model.add(Dense(100, activation='relu'))\n",
        "model.add(Dense(64, activation='relu'))\n",
        "model.add(Dense(10, activation='relu'))\n",
        "model.add(Dense(3,activation='sigmoid'))\n",
        "optimi=keras.optimizers.Adam()\n",
        "model.compile(optimizer=optimi, loss='sparse_categorical_crossentropy',metrics=['accuracy',get_f1])\n",
        "\n",
        "# history = model.fit(x_train, y_train, epochs=30, validation_split=0.2, verbose=1)\n",
        "history = model.fit(x_train, y_train, epochs=25, validation_split=0.2, verbose=1,class_weight=sklearn_weights)\n",
        "test_output = model.predict(x_test, verbose=1)\n"
      ],
      "metadata": {
        "colab": {
          "base_uri": "https://localhost:8080/"
        },
        "id": "lwHPGS2iXMXc",
        "outputId": "6a9eb546-ae75-44a7-c426-1f4331bf98af"
      },
      "execution_count": 241,
      "outputs": [
        {
          "output_type": "stream",
          "name": "stderr",
          "text": [
            "WARNING:tensorflow:Layer lstm_36 will not use cuDNN kernels since it doesn't meet the criteria. It will use a generic GPU kernel as fallback when running on GPU.\n",
            "WARNING:tensorflow:Layer lstm_37 will not use cuDNN kernels since it doesn't meet the criteria. It will use a generic GPU kernel as fallback when running on GPU.\n",
            "WARNING:tensorflow:Layer lstm_38 will not use cuDNN kernels since it doesn't meet the criteria. It will use a generic GPU kernel as fallback when running on GPU.\n",
            "WARNING:tensorflow:Layer lstm_39 will not use cuDNN kernels since it doesn't meet the criteria. It will use a generic GPU kernel as fallback when running on GPU.\n"
          ]
        },
        {
          "output_type": "stream",
          "name": "stdout",
          "text": [
            "Epoch 1/25\n",
            "113/113 [==============================] - 25s 188ms/step - loss: 1.0843 - accuracy: 0.4080 - get_f1: 1.0879 - val_loss: 1.1727 - val_accuracy: 0.0432 - val_get_f1: 1.6899\n",
            "Epoch 2/25\n",
            "113/113 [==============================] - 19s 165ms/step - loss: 1.0991 - accuracy: 0.4426 - get_f1: 1.0807 - val_loss: 1.2509 - val_accuracy: 0.0354 - val_get_f1: 1.6693\n",
            "Epoch 3/25\n",
            "113/113 [==============================] - 19s 166ms/step - loss: 1.0627 - accuracy: 0.4593 - get_f1: 1.0977 - val_loss: 1.1788 - val_accuracy: 0.2746 - val_get_f1: 1.5713\n",
            "Epoch 4/25\n",
            "113/113 [==============================] - 21s 183ms/step - loss: 5.1914 - accuracy: 0.4795 - get_f1: 1.1108 - val_loss: 1.1910 - val_accuracy: 0.0520 - val_get_f1: 1.6230\n",
            "Epoch 5/25\n",
            "113/113 [==============================] - 18s 164ms/step - loss: 2.1286 - accuracy: 0.5125 - get_f1: 1.2278 - val_loss: 1.1522 - val_accuracy: 0.2514 - val_get_f1: 1.6928\n",
            "Epoch 6/25\n",
            "113/113 [==============================] - 19s 164ms/step - loss: 4.6407 - accuracy: 0.3767 - get_f1: 1.2150 - val_loss: 1.1931 - val_accuracy: 0.0709 - val_get_f1: 1.7302\n",
            "Epoch 7/25\n",
            "113/113 [==============================] - 21s 183ms/step - loss: 1.1198 - accuracy: 0.4809 - get_f1: 1.0979 - val_loss: 1.1417 - val_accuracy: 0.2082 - val_get_f1: 1.6408\n",
            "Epoch 8/25\n",
            "113/113 [==============================] - 19s 164ms/step - loss: 0.9005 - accuracy: 0.5391 - get_f1: 1.1193 - val_loss: 0.9942 - val_accuracy: 0.3610 - val_get_f1: 1.6434\n",
            "Epoch 9/25\n",
            "113/113 [==============================] - 19s 168ms/step - loss: 0.7822 - accuracy: 0.6142 - get_f1: 1.0839 - val_loss: 0.9114 - val_accuracy: 0.5482 - val_get_f1: 1.6349\n",
            "Epoch 10/25\n",
            "113/113 [==============================] - 21s 183ms/step - loss: 0.7012 - accuracy: 0.6865 - get_f1: 1.0180 - val_loss: 0.7682 - val_accuracy: 0.7254 - val_get_f1: 1.4110\n",
            "Epoch 11/25\n",
            "113/113 [==============================] - 21s 184ms/step - loss: 4.1594 - accuracy: 0.7173 - get_f1: 0.9816 - val_loss: 0.7881 - val_accuracy: 0.8029 - val_get_f1: 1.9960\n",
            "Epoch 12/25\n",
            "113/113 [==============================] - 19s 166ms/step - loss: 0.7734 - accuracy: 0.5881 - get_f1: 1.0875 - val_loss: 0.6929 - val_accuracy: 0.5360 - val_get_f1: 1.4361\n",
            "Epoch 13/25\n",
            "113/113 [==============================] - 21s 184ms/step - loss: 0.6031 - accuracy: 0.7123 - get_f1: 0.9427 - val_loss: 0.5110 - val_accuracy: 0.8848 - val_get_f1: 1.3537\n",
            "Epoch 14/25\n",
            "113/113 [==============================] - 19s 166ms/step - loss: 0.4884 - accuracy: 0.7846 - get_f1: 0.9385 - val_loss: 0.5749 - val_accuracy: 0.7697 - val_get_f1: 1.3779\n",
            "Epoch 15/25\n",
            "113/113 [==============================] - 19s 165ms/step - loss: 0.4474 - accuracy: 0.8096 - get_f1: 0.9885 - val_loss: 0.4166 - val_accuracy: 0.8549 - val_get_f1: 1.5138\n",
            "Epoch 16/25\n",
            "113/113 [==============================] - 22s 198ms/step - loss: 0.4121 - accuracy: 0.8282 - get_f1: 1.0170 - val_loss: 0.3762 - val_accuracy: 0.8704 - val_get_f1: 1.5225\n",
            "Epoch 17/25\n",
            "113/113 [==============================] - 19s 166ms/step - loss: 0.3454 - accuracy: 0.8659 - get_f1: 1.0528 - val_loss: 0.3062 - val_accuracy: 0.9092 - val_get_f1: 1.6218\n",
            "Epoch 18/25\n",
            "113/113 [==============================] - 19s 166ms/step - loss: 0.3266 - accuracy: 0.8733 - get_f1: 1.0496 - val_loss: 0.2717 - val_accuracy: 0.9302 - val_get_f1: 1.6139\n",
            "Epoch 19/25\n",
            "113/113 [==============================] - 21s 184ms/step - loss: 0.2703 - accuracy: 0.9008 - get_f1: 1.0942 - val_loss: 0.2579 - val_accuracy: 0.9247 - val_get_f1: 1.5893\n",
            "Epoch 20/25\n",
            "113/113 [==============================] - 18s 162ms/step - loss: 0.2460 - accuracy: 0.9152 - get_f1: 1.1222 - val_loss: 0.1880 - val_accuracy: 0.9446 - val_get_f1: 1.3308\n",
            "Epoch 21/25\n",
            "113/113 [==============================] - 19s 165ms/step - loss: 0.2157 - accuracy: 0.9271 - get_f1: 1.0210 - val_loss: 0.1868 - val_accuracy: 0.9468 - val_get_f1: 1.2541\n",
            "Epoch 22/25\n",
            "113/113 [==============================] - 21s 184ms/step - loss: 0.2035 - accuracy: 0.9318 - get_f1: 0.9222 - val_loss: 0.2254 - val_accuracy: 0.9347 - val_get_f1: 1.2236\n",
            "Epoch 23/25\n",
            "113/113 [==============================] - 21s 182ms/step - loss: 0.2404 - accuracy: 0.9260 - get_f1: 0.9221 - val_loss: 0.2764 - val_accuracy: 0.8948 - val_get_f1: 1.4590\n",
            "Epoch 24/25\n",
            "113/113 [==============================] - 19s 166ms/step - loss: 0.1901 - accuracy: 0.9315 - get_f1: 0.9566 - val_loss: 0.2010 - val_accuracy: 0.9269 - val_get_f1: 1.4129\n",
            "Epoch 25/25\n",
            "113/113 [==============================] - 21s 181ms/step - loss: 1.9541 - accuracy: 0.9393 - get_f1: 0.9570 - val_loss: 0.5174 - val_accuracy: 0.8206 - val_get_f1: 1.4880\n",
            "25/25 [==============================] - 1s 17ms/step\n"
          ]
        }
      ]
    },
    {
      "cell_type": "code",
      "source": [
        "test_output_1=np.array([np.argmax(i)  for i in test_output])\n",
        "from sklearn.metrics import confusion_matrix,accuracy_score\n",
        "print(confusion_matrix(y_test,test_output_1))\n",
        "test_output=pd.DataFrame(test_output)\n",
        "print(accuracy_score(y_test,test_output_1))\n"
      ],
      "metadata": {
        "id": "Q_hmR6MK_Bq5",
        "colab": {
          "base_uri": "https://localhost:8080/"
        },
        "outputId": "acdac9d5-1c75-4ba2-f08a-b854798afb8f"
      },
      "execution_count": 242,
      "outputs": [
        {
          "output_type": "stream",
          "name": "stdout",
          "text": [
            "[[136  72 152]\n",
            " [ 47 159  13]\n",
            " [ 65   8 124]]\n",
            "0.5399484536082474\n"
          ]
        }
      ]
    },
    {
      "cell_type": "code",
      "source": [
        "print(get_f1(y_test.astype('float32'), test_output_1.astype('float32')))"
      ],
      "metadata": {
        "colab": {
          "base_uri": "https://localhost:8080/"
        },
        "id": "ZsHojwC3G8gQ",
        "outputId": "2b47ab87-52b4-4853-bf33-71c3c15d4ed3"
      },
      "execution_count": 243,
      "outputs": [
        {
          "output_type": "stream",
          "name": "stdout",
          "text": [
            "tf.Tensor(0.6440677, shape=(), dtype=float32)\n"
          ]
        }
      ]
    },
    {
      "cell_type": "code",
      "source": [
        "x_train_reshaped = x_train.reshape(x_train.shape[0], -1)\n",
        "x_test_reshaped = x_test.reshape(x_test.shape[0], -1)\n",
        "savetxt('arrxtrain.csv', x_train_reshaped, delimiter=',')\n",
        "savetxt('arrytrain.csv', y_train, delimiter=',')\n",
        "savetxt('arrxtest.csv', x_test_reshaped, delimiter=',')\n",
        "savetxt('arrytest.csv', y_test, delimiter=',')"
      ],
      "metadata": {
        "id": "oxhtZHtkBWOe"
      },
      "execution_count": 244,
      "outputs": []
    }
  ]
}