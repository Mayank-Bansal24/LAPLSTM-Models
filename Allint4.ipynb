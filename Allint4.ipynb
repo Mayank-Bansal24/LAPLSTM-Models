{
  "nbformat": 4,
  "nbformat_minor": 0,
  "metadata": {
    "colab": {
      "provenance": [],
      "include_colab_link": true
    },
    "kernelspec": {
      "name": "python3",
      "display_name": "Python 3"
    },
    "language_info": {
      "name": "python"
    },
    "accelerator": "GPU",
    "gpuClass": "standard"
  },
  "cells": [
    {
      "cell_type": "markdown",
      "metadata": {
        "id": "view-in-github",
        "colab_type": "text"
      },
      "source": [
        "<a href=\"https://colab.research.google.com/github/Mayank-Bansal24/LAPLSTM-Models/blob/main/Allint4.ipynb\" target=\"_parent\"><img src=\"https://colab.research.google.com/assets/colab-badge.svg\" alt=\"Open In Colab\"/></a>"
      ]
    },
    {
      "cell_type": "code",
      "source": [
        "import numpy as np\n",
        "import tensorflow as tf\n",
        "from tensorflow.keras import losses as lo_ss\n",
        "from tensorflow.keras.models import Sequential\n",
        "from tensorflow.keras.layers import LSTM\n",
        "from tensorflow.keras.layers import Dense, Dropout\n",
        "import string\n",
        "import pandas as pd\n",
        "from matplotlib import pyplot as plt\n",
        "from sklearn.preprocessing import StandardScaler\n",
        "import seaborn as sns\n",
        "from sklearn import model_selection\n",
        "from sklearn.datasets import make_classification\n",
        "from sklearn.utils import class_weight\n",
        "from sklearn.metrics import classification_report , roc_auc_score\n",
        "import keras \n",
        "import keras.backend as K\n",
        "from google.colab import drive\n",
        "from numpy import savetxt"
      ],
      "metadata": {
        "id": "V1kLUX7gJ3N_"
      },
      "execution_count": 165,
      "outputs": []
    },
    {
      "cell_type": "code",
      "source": [
        "drive.mount('/content/gdrive')\n"
      ],
      "metadata": {
        "colab": {
          "base_uri": "https://localhost:8080/"
        },
        "id": "HXmXAIAJArT2",
        "outputId": "d1491d8b-b96c-4c21-b903-efbb677078b3"
      },
      "execution_count": 166,
      "outputs": [
        {
          "output_type": "stream",
          "name": "stdout",
          "text": [
            "Drive already mounted at /content/gdrive; to attempt to forcibly remount, call drive.mount(\"/content/gdrive\", force_remount=True).\n"
          ]
        }
      ]
    },
    {
      "cell_type": "code",
      "source": [
        "t=4"
      ],
      "metadata": {
        "id": "uLTug-YJDW8D"
      },
      "execution_count": 167,
      "outputs": []
    },
    {
      "cell_type": "code",
      "source": [
        "os.chdir('/content/gdrive/MyDrive/laplstm/allin/t'+str(t))"
      ],
      "metadata": {
        "id": "ubPkwGQnA8Wx"
      },
      "execution_count": 168,
      "outputs": []
    },
    {
      "cell_type": "code",
      "source": [
        "import os\n",
        "github_raw_link=\"https://raw.githubusercontent.com/Aryansh085/LAP/main/858417d1-7d54-4115-a01b-fdda5e03ada3_testing_combined_rows4035_disc_1_0p9_MULTIPLY_preproces_155cols.csv\"\n",
        "df1=pd.read_csv((github_raw_link),header = None)\n",
        "dftemp=np.array(df1)\n",
        "dftemp.shape\n",
        "dftemp2=dftemp[:,5:]\n",
        "dftemp2=np.array(dftemp2)\n",
        "print(dftemp2.shape)"
      ],
      "metadata": {
        "id": "3UWvhrydJ8hA",
        "colab": {
          "base_uri": "https://localhost:8080/"
        },
        "outputId": "8daf4f73-e335-4a81-982c-4e6aaa337e70"
      },
      "execution_count": 169,
      "outputs": [
        {
          "output_type": "stream",
          "name": "stdout",
          "text": [
            "(4035, 150)\n"
          ]
        }
      ]
    },
    {
      "cell_type": "code",
      "source": [
        "# dftemp2\n",
        "dftemp2.shape\n",
        "# dftemp2=pd.DataFrame(dftemp2)\n",
        "# dftemp2.head()"
      ],
      "metadata": {
        "colab": {
          "base_uri": "https://localhost:8080/"
        },
        "id": "h00YSxPn8rUk",
        "outputId": "031eb8e5-d63a-4e02-9c02-b7a125362a0b"
      },
      "execution_count": 170,
      "outputs": [
        {
          "output_type": "execute_result",
          "data": {
            "text/plain": [
              "(4035, 150)"
            ]
          },
          "metadata": {},
          "execution_count": 170
        }
      ]
    },
    {
      "cell_type": "markdown",
      "source": [
        "--> muliply the reward of that instance into the loss of that instance to give weight"
      ],
      "metadata": {
        "id": "pPfqIsthYP2X"
      }
    },
    {
      "cell_type": "code",
      "source": [
        "from sklearn.preprocessing import StandardScaler\n",
        "\n",
        "slr=StandardScaler()\n",
        "slr.fit(dftemp2)\n",
        "dftemp2 = slr.transform(dftemp2)"
      ],
      "metadata": {
        "id": "kWYAqDfnO_1i"
      },
      "execution_count": 171,
      "outputs": []
    },
    {
      "cell_type": "code",
      "source": [
        "# f1-score function\n",
        "def get_f1(y_true, y_pred): #taken from old keras source code\n",
        "    true_positives = K.sum(K.round(K.clip(y_true * y_pred, 0, 1)))\n",
        "    possible_positives = K.sum(K.round(K.clip(y_true, 0, 1)))\n",
        "    predicted_positives = K.sum(K.round(K.clip(y_pred, 0, 1)))\n",
        "    precision = true_positives / (predicted_positives + K.epsilon())\n",
        "    recall = true_positives / (possible_positives + K.epsilon())\n",
        "    f1_val = 2*(precision*recall)/(precision+recall+K.epsilon())\n",
        "    return f1_val\n",
        "    "
      ],
      "metadata": {
        "id": "4i-6LDL58GyW"
      },
      "execution_count": 172,
      "outputs": []
    },
    {
      "cell_type": "code",
      "source": [],
      "metadata": {
        "id": "83zizsyvKHzh"
      },
      "execution_count": 172,
      "outputs": []
    },
    {
      "cell_type": "code",
      "source": [
        "y=np.array(dftemp[:,0])\n",
        "print(y)\n",
        "y_new=y[t:]\n",
        "y_new.shape\n"
      ],
      "metadata": {
        "colab": {
          "base_uri": "https://localhost:8080/"
        },
        "id": "XmXnkjOiKIGQ",
        "outputId": "130825ab-7e9c-42b9-8d30-ff1613e7a1de"
      },
      "execution_count": 173,
      "outputs": [
        {
          "output_type": "stream",
          "name": "stdout",
          "text": [
            "[2. 0. 0. ... 0. 2. 2.]\n"
          ]
        },
        {
          "output_type": "execute_result",
          "data": {
            "text/plain": [
              "(4031,)"
            ]
          },
          "metadata": {},
          "execution_count": 173
        }
      ]
    },
    {
      "cell_type": "code",
      "source": [
        "x=np.array(dftemp2)\n",
        "# print(x)\n",
        "# print(x.shape)\n",
        "x.shape,y_new.shape"
      ],
      "metadata": {
        "colab": {
          "base_uri": "https://localhost:8080/"
        },
        "id": "3JPzLQQmKhZk",
        "outputId": "0f338d1f-ce50-4a05-bf30-b93f8af902d7"
      },
      "execution_count": 174,
      "outputs": [
        {
          "output_type": "execute_result",
          "data": {
            "text/plain": [
              "((4035, 150), (4031,))"
            ]
          },
          "metadata": {},
          "execution_count": 174
        }
      ]
    },
    {
      "cell_type": "code",
      "source": [
        "x_3d=[]\n",
        "for i in range(4035-t):\n",
        "  tmp=[]\n",
        "  for j in range(t):\n",
        "    tmp.append(x[j+i])\n",
        "  x_3d.append(tmp)\n",
        "x_3d= np.array(x_3d)\n",
        "x_3d.shape"
      ],
      "metadata": {
        "colab": {
          "base_uri": "https://localhost:8080/"
        },
        "id": "hdDY6fhENZ2-",
        "outputId": "7b990971-16da-48fa-a9d7-e1e5a6173ae4"
      },
      "execution_count": 175,
      "outputs": [
        {
          "output_type": "execute_result",
          "data": {
            "text/plain": [
              "(4031, 4, 150)"
            ]
          },
          "metadata": {},
          "execution_count": 175
        }
      ]
    },
    {
      "cell_type": "code",
      "source": [
        "train_test_ratio=0.8\n",
        "print(x_3d.shape[0])\n",
        "x_train=[]\n",
        "y_train=[]\n",
        "x_test=[]\n",
        "y_test=[]\n",
        "for i in range(x_3d.shape[0]):\n",
        "  l=[]\n",
        "  ly=[]\n",
        "  no=np.random.randint(100)\n",
        "  if(no<80):\n",
        "    l=x_3d[i]\n",
        "    ly=y_new[i]\n",
        "    x_train.append(l)\n",
        "    y_train.append(ly)\n",
        "  else:\n",
        "    l=x_3d[i]\n",
        "    ly=y_new[i]\n",
        "    x_test.append(l)\n",
        "    y_test.append(ly)\n",
        "\n",
        "\n",
        "x_train=np.array(x_train)\n",
        "y_train=np.array(y_train)\n",
        "x_test=np.array(x_test)\n",
        "y_test=np.array(y_test)\n",
        "x_train.shape,y_train.shape,x_test.shape,y_test.shape"
      ],
      "metadata": {
        "colab": {
          "base_uri": "https://localhost:8080/"
        },
        "id": "AwnZ3Mh1Khi8",
        "outputId": "a40863d6-bcff-436c-90d5-a5d6f7f69ecd"
      },
      "execution_count": 176,
      "outputs": [
        {
          "output_type": "stream",
          "name": "stdout",
          "text": [
            "4031\n"
          ]
        },
        {
          "output_type": "execute_result",
          "data": {
            "text/plain": [
              "((3221, 4, 150), (3221,), (810, 4, 150), (810,))"
            ]
          },
          "metadata": {},
          "execution_count": 176
        }
      ]
    },
    {
      "cell_type": "code",
      "source": [
        "cnt0=0\n",
        "cnt1=0\n",
        "cnt2=0\n",
        "for i in range(x_train.shape[0]):\n",
        "  if(y_train[i]==0):\n",
        "    cnt0+=1\n",
        "  elif(y_train[i]==1):\n",
        "    cnt1+=1\n",
        "  elif(y_train[i]==2):\n",
        "    cnt2+=1\n",
        "print(cnt0)\n",
        "print(cnt1)\n",
        "print(cnt2)  "
      ],
      "metadata": {
        "colab": {
          "base_uri": "https://localhost:8080/"
        },
        "id": "xlijLVYecmcq",
        "outputId": "b6859f7f-a490-41e6-93fa-6cd51ad9199c"
      },
      "execution_count": 177,
      "outputs": [
        {
          "output_type": "stream",
          "name": "stdout",
          "text": [
            "1446\n",
            "844\n",
            "931\n"
          ]
        }
      ]
    },
    {
      "cell_type": "code",
      "source": [
        "x_train_1=[]\n",
        "y_train_1=[]\n",
        "c1=0\n",
        "c2=0\n",
        "c3=0\n",
        "for i in range(x_train.shape[0]):\n",
        "  if(y_train[i]==0):\n",
        "    x_train_1.append(x_train[i])\n",
        "    y_train_1.append(0)\n",
        "    c1+=1\n",
        "  elif(y_train[i]==1):\n",
        "    x_train_1.append(x_train[i])\n",
        "    y_train_1.append(1)\n",
        "    c2+=1\n",
        "  elif(y_train[i]==2 ):\n",
        "    x_train_1.append(x_train[i])\n",
        "    y_train_1.append(2)\n",
        "    c3=c3+1\n",
        "for i in range(x_train.shape[0]):\n",
        "  if(y_train[i]==1):\n",
        "    no=np.random.randint(100)\n",
        "    if(no>=30):\n",
        "      x_train_1.append(x_train[i])\n",
        "      y_train_1.append(1)\n",
        "      c2+=1\n",
        "  elif(y_train[i]==2 ):\n",
        "    no=np.random.randint(100)\n",
        "    if(no>=27):\n",
        "      x_train_1.append(x_train[i])\n",
        "      y_train_1.append(2)\n",
        "      c3+=1\n",
        "\n",
        "y_train=[]\n",
        "y_train=y_train_1\n",
        "x_train=[]\n",
        "x_train=x_train_1\n",
        "x_train=np.array(x_train)\n",
        "y_train=np.array(y_train)\n",
        "print(c1)\n",
        "print(c2)\n",
        "print(c3)"
      ],
      "metadata": {
        "id": "PqOHcbhQcuo8",
        "colab": {
          "base_uri": "https://localhost:8080/"
        },
        "outputId": "98237e7e-a682-480d-fa25-881884f2bc61"
      },
      "execution_count": 178,
      "outputs": [
        {
          "output_type": "stream",
          "name": "stdout",
          "text": [
            "1446\n",
            "1427\n",
            "1607\n"
          ]
        }
      ]
    },
    {
      "cell_type": "code",
      "source": [
        "sklearn_weights=class_weight.compute_class_weight(class_weight='balanced',classes=np.unique(y_train),y=y_train)\n",
        "sklearn_weights=dict(zip(np.unique(y_train),sklearn_weights))\n",
        "sklearn_weights"
      ],
      "metadata": {
        "colab": {
          "base_uri": "https://localhost:8080/"
        },
        "id": "EYzwuCcAbDKT",
        "outputId": "4ecc38a4-68cf-4c57-9292-c5a398c0a316"
      },
      "execution_count": 179,
      "outputs": [
        {
          "output_type": "execute_result",
          "data": {
            "text/plain": [
              "{0: 1.0327339787920702, 1: 1.046484466246204, 2: 0.9292677867662311}"
            ]
          },
          "metadata": {},
          "execution_count": 179
        }
      ]
    },
    {
      "cell_type": "code",
      "source": [
        "\n",
        "# model = Sequential()\n",
        "# model.add(LSTM(200, activation='relu', return_sequences=True, input_shape=( t,150,)))\n",
        "# model.add(LSTM(100, activation='relu', return_sequences=True))\n",
        "# model.add(LSTM(50, activation='relu', return_sequences=True))\n",
        "# model.add(LSTM(25, activation='relu'))\n",
        "# model.add(Dense(20, activation='relu'))\n",
        "# model.add(Dense(10, activation='relu'))\n",
        "# model.add(Dense(3))\n",
        "# model.compile(optimizer='SGD', loss='sparse_categorical_crossentropy',metrics=['accuracy'])\n",
        "# history = model.fit(x_train, y_train, epochs=10, validation_split=0.2, verbose=1)\n",
        "# test_output = model.predict(x_test, verbose=1)\n",
        "# # history = model.fit(X, Y, epochs=1000, validation_split=0.2, verbose=1)\n",
        "# # test_output = model.predict(x=, verbose=0)\n",
        "# # print(test_output)"
      ],
      "metadata": {
        "id": "rhgsSos1KIbA"
      },
      "execution_count": 180,
      "outputs": []
    },
    {
      "cell_type": "code",
      "source": [
        "# sklearn_weights={0:1738,1:2348,2:2362}\n",
        "model = Sequential()\n",
        "model.add(LSTM(200, activation='relu', return_sequences=True, input_shape=( t,150,)))\n",
        "model.add(LSTM(400, activation='relu', return_sequences=True))\n",
        "model.add(LSTM(800, activation='relu', return_sequences=True))\n",
        "model.add(LSTM(150, activation='relu'))\n",
        "model.add(Dense(100, activation='relu'))\n",
        "model.add(Dense(64, activation='relu'))\n",
        "model.add(Dense(10, activation='relu'))\n",
        "model.add(Dense(3,activation='sigmoid'))\n",
        "optimi=keras.optimizers.Adam()\n",
        "model.compile(optimizer=optimi, loss='sparse_categorical_crossentropy',metrics=['accuracy',get_f1])\n",
        "\n",
        "# history = model.fit(x_train, y_train, epochs=30, validation_split=0.2, verbose=1)\n",
        "history = model.fit(x_train, y_train, epochs=25, validation_split=0.2, verbose=1,class_weight=sklearn_weights)\n",
        "test_output = model.predict(x_test, verbose=1)\n"
      ],
      "metadata": {
        "colab": {
          "base_uri": "https://localhost:8080/"
        },
        "id": "lwHPGS2iXMXc",
        "outputId": "c0217d17-154c-4e89-b99f-69cb81bd861c"
      },
      "execution_count": 181,
      "outputs": [
        {
          "output_type": "stream",
          "name": "stderr",
          "text": [
            "WARNING:tensorflow:Layer lstm_24 will not use cuDNN kernels since it doesn't meet the criteria. It will use a generic GPU kernel as fallback when running on GPU.\n",
            "WARNING:tensorflow:Layer lstm_25 will not use cuDNN kernels since it doesn't meet the criteria. It will use a generic GPU kernel as fallback when running on GPU.\n",
            "WARNING:tensorflow:Layer lstm_26 will not use cuDNN kernels since it doesn't meet the criteria. It will use a generic GPU kernel as fallback when running on GPU.\n",
            "WARNING:tensorflow:Layer lstm_27 will not use cuDNN kernels since it doesn't meet the criteria. It will use a generic GPU kernel as fallback when running on GPU.\n"
          ]
        },
        {
          "output_type": "stream",
          "name": "stdout",
          "text": [
            "Epoch 1/25\n",
            "112/112 [==============================] - 6s 28ms/step - loss: 1.0864 - accuracy: 0.3979 - get_f1: 1.3157 - val_loss: 1.0698 - val_accuracy: 0.4275 - val_get_f1: 1.7486\n",
            "Epoch 2/25\n",
            "112/112 [==============================] - 3s 23ms/step - loss: 0.9103 - accuracy: 0.5371 - get_f1: 1.1239 - val_loss: 0.6045 - val_accuracy: 0.5078 - val_get_f1: 1.4939\n",
            "Epoch 3/25\n",
            "112/112 [==============================] - 4s 34ms/step - loss: 0.6685 - accuracy: 0.6403 - get_f1: 0.9716 - val_loss: 0.5038 - val_accuracy: 0.7321 - val_get_f1: 1.3887\n",
            "Epoch 4/25\n",
            "112/112 [==============================] - 3s 23ms/step - loss: 0.5498 - accuracy: 0.7282 - get_f1: 0.9650 - val_loss: 0.3304 - val_accuracy: 0.8627 - val_get_f1: 1.3380\n",
            "Epoch 5/25\n",
            "112/112 [==============================] - 2s 22ms/step - loss: 0.3851 - accuracy: 0.8387 - get_f1: 0.9796 - val_loss: 0.2465 - val_accuracy: 0.8951 - val_get_f1: 1.3328\n",
            "Epoch 6/25\n",
            "112/112 [==============================] - 2s 22ms/step - loss: 0.2652 - accuracy: 0.8976 - get_f1: 0.9588 - val_loss: 0.1651 - val_accuracy: 0.9487 - val_get_f1: 1.2314\n",
            "Epoch 7/25\n",
            "112/112 [==============================] - 3s 22ms/step - loss: 0.1519 - accuracy: 0.9417 - get_f1: 0.9183 - val_loss: 0.0468 - val_accuracy: 0.9431 - val_get_f1: 1.2268\n",
            "Epoch 8/25\n",
            "112/112 [==============================] - 2s 22ms/step - loss: 0.1320 - accuracy: 0.9570 - get_f1: 0.9216 - val_loss: 0.0450 - val_accuracy: 0.9888 - val_get_f1: 1.2200\n",
            "Epoch 9/25\n",
            "112/112 [==============================] - 3s 23ms/step - loss: 0.0872 - accuracy: 0.9741 - get_f1: 0.9263 - val_loss: 0.0339 - val_accuracy: 0.9911 - val_get_f1: 1.2225\n",
            "Epoch 10/25\n",
            "112/112 [==============================] - 2s 22ms/step - loss: 0.0436 - accuracy: 0.9721 - get_f1: 0.9250 - val_loss: 0.0772 - val_accuracy: 0.9766 - val_get_f1: 1.2188\n",
            "Epoch 11/25\n",
            "112/112 [==============================] - 3s 22ms/step - loss: 0.0795 - accuracy: 0.9771 - get_f1: 0.9304 - val_loss: 0.0443 - val_accuracy: 0.9933 - val_get_f1: 1.2223\n",
            "Epoch 12/25\n",
            "112/112 [==============================] - 2s 22ms/step - loss: 0.0457 - accuracy: 0.9847 - get_f1: 0.9261 - val_loss: 0.0269 - val_accuracy: 0.9900 - val_get_f1: 1.2185\n",
            "Epoch 13/25\n",
            "112/112 [==============================] - 3s 22ms/step - loss: 0.0630 - accuracy: 0.9774 - get_f1: 0.9324 - val_loss: 0.0041 - val_accuracy: 0.9933 - val_get_f1: 1.2182\n",
            "Epoch 14/25\n",
            "112/112 [==============================] - 2s 22ms/step - loss: 0.0535 - accuracy: 0.9866 - get_f1: 0.9337 - val_loss: 0.0355 - val_accuracy: 0.9933 - val_get_f1: 1.2193\n",
            "Epoch 15/25\n",
            "112/112 [==============================] - 3s 23ms/step - loss: 0.0998 - accuracy: 0.9760 - get_f1: 0.9535 - val_loss: 0.0530 - val_accuracy: 0.9911 - val_get_f1: 1.3333\n",
            "Epoch 16/25\n",
            "112/112 [==============================] - 3s 29ms/step - loss: 0.1889 - accuracy: 0.9573 - get_f1: 0.9485 - val_loss: 0.2019 - val_accuracy: 0.9487 - val_get_f1: 1.2292\n",
            "Epoch 17/25\n",
            "112/112 [==============================] - 3s 28ms/step - loss: 0.1107 - accuracy: 0.9607 - get_f1: 0.9321 - val_loss: 0.0289 - val_accuracy: 0.9821 - val_get_f1: 1.2187\n",
            "Epoch 18/25\n",
            "112/112 [==============================] - 2s 22ms/step - loss: 0.0395 - accuracy: 0.9802 - get_f1: 0.9347 - val_loss: 0.0270 - val_accuracy: 0.9855 - val_get_f1: 1.2189\n",
            "Epoch 19/25\n",
            "112/112 [==============================] - 2s 22ms/step - loss: 0.0162 - accuracy: 0.9858 - get_f1: 0.9395 - val_loss: 0.0129 - val_accuracy: 0.9888 - val_get_f1: 1.2187\n",
            "Epoch 20/25\n",
            "112/112 [==============================] - 2s 22ms/step - loss: 0.3026 - accuracy: 0.9018 - get_f1: 1.0087 - val_loss: 0.1139 - val_accuracy: 0.9721 - val_get_f1: 1.3369\n",
            "Epoch 21/25\n",
            "112/112 [==============================] - 3s 23ms/step - loss: 0.1259 - accuracy: 0.9556 - get_f1: 1.0336 - val_loss: 0.0261 - val_accuracy: 0.9732 - val_get_f1: 1.3333\n",
            "Epoch 22/25\n",
            "112/112 [==============================] - 2s 22ms/step - loss: 0.0860 - accuracy: 0.9738 - get_f1: 1.0700 - val_loss: 0.0316 - val_accuracy: 0.9922 - val_get_f1: 1.3333\n",
            "Epoch 23/25\n",
            "112/112 [==============================] - 3s 22ms/step - loss: 0.0354 - accuracy: 0.9701 - get_f1: 1.0594 - val_loss: 0.0194 - val_accuracy: 0.9252 - val_get_f1: 1.3328\n",
            "Epoch 24/25\n",
            "112/112 [==============================] - 3s 23ms/step - loss: 0.0197 - accuracy: 0.9593 - get_f1: 1.0788 - val_loss: 0.0034 - val_accuracy: 0.9632 - val_get_f1: 1.3331\n",
            "Epoch 25/25\n",
            "112/112 [==============================] - 4s 32ms/step - loss: 0.0089 - accuracy: 0.9517 - get_f1: 1.0789 - val_loss: 9.6289e-04 - val_accuracy: 0.8783 - val_get_f1: 1.3333\n",
            "26/26 [==============================] - 1s 5ms/step\n"
          ]
        }
      ]
    },
    {
      "cell_type": "code",
      "source": [
        "test_output_1=np.array([np.argmax(i)  for i in test_output])\n",
        "from sklearn.metrics import confusion_matrix,accuracy_score\n",
        "print(confusion_matrix(y_test,test_output_1))\n",
        "test_output=pd.DataFrame(test_output)\n",
        "print(accuracy_score(y_test,test_output_1))\n"
      ],
      "metadata": {
        "id": "Q_hmR6MK_Bq5",
        "colab": {
          "base_uri": "https://localhost:8080/"
        },
        "outputId": "9b6d6490-959e-440f-ae4a-8f2ce2ed9bb6"
      },
      "execution_count": 182,
      "outputs": [
        {
          "output_type": "stream",
          "name": "stdout",
          "text": [
            "[[268  60  50]\n",
            " [ 88 120   3]\n",
            " [ 76   7 138]]\n",
            "0.6493827160493827\n"
          ]
        }
      ]
    },
    {
      "cell_type": "code",
      "source": [
        "print(get_f1(y_test.astype('float32'), test_output_1.astype('float32')))"
      ],
      "metadata": {
        "colab": {
          "base_uri": "https://localhost:8080/"
        },
        "id": "ZsHojwC3G8gQ",
        "outputId": "2c529d56-6496-4a72-b0d3-dc17a57b5217"
      },
      "execution_count": 183,
      "outputs": [
        {
          "output_type": "stream",
          "name": "stdout",
          "text": [
            "tf.Tensor(0.6617284, shape=(), dtype=float32)\n"
          ]
        }
      ]
    },
    {
      "cell_type": "code",
      "source": [
        "x_train_reshaped = x_train.reshape(x_train.shape[0], -1)\n",
        "x_test_reshaped = x_test.reshape(x_test.shape[0], -1)\n",
        "savetxt('arrxtrain.csv', x_train_reshaped, delimiter=',')\n",
        "savetxt('arrytrain.csv', y_train, delimiter=',')\n",
        "savetxt('arrxtest.csv', x_test_reshaped, delimiter=',')\n",
        "savetxt('arrytest.csv', y_test, delimiter=',')"
      ],
      "metadata": {
        "id": "oxhtZHtkBWOe"
      },
      "execution_count": 184,
      "outputs": []
    }
  ]
}