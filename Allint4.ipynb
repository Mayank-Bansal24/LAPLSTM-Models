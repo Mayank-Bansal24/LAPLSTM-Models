{
  "nbformat": 4,
  "nbformat_minor": 0,
  "metadata": {
    "colab": {
      "provenance": [],
      "include_colab_link": true
    },
    "kernelspec": {
      "name": "python3",
      "display_name": "Python 3"
    },
    "language_info": {
      "name": "python"
    },
    "accelerator": "GPU",
    "gpuClass": "standard"
  },
  "cells": [
    {
      "cell_type": "markdown",
      "metadata": {
        "id": "view-in-github",
        "colab_type": "text"
      },
      "source": [
        "<a href=\"https://colab.research.google.com/github/Mayank-Bansal24/LAPLSTM-Models/blob/main/Allint4.ipynb\" target=\"_parent\"><img src=\"https://colab.research.google.com/assets/colab-badge.svg\" alt=\"Open In Colab\"/></a>"
      ]
    },
    {
      "cell_type": "code",
      "source": [
        "import numpy as np\n",
        "import tensorflow as tf\n",
        "from tensorflow.keras import losses as lo_ss\n",
        "from tensorflow.keras.models import Sequential\n",
        "from tensorflow.keras.layers import LSTM\n",
        "from tensorflow.keras.layers import Dense, Dropout\n",
        "import string\n",
        "import pandas as pd\n",
        "from matplotlib import pyplot as plt\n",
        "from sklearn.preprocessing import StandardScaler\n",
        "import seaborn as sns\n",
        "from sklearn import model_selection\n",
        "from sklearn.datasets import make_classification\n",
        "from sklearn.utils import class_weight\n",
        "from sklearn.metrics import classification_report , roc_auc_score\n",
        "import keras \n",
        "import keras.backend as K\n",
        "from google.colab import drive\n",
        "from numpy import savetxt\n",
        "import os"
      ],
      "metadata": {
        "id": "V1kLUX7gJ3N_"
      },
      "execution_count": 39,
      "outputs": []
    },
    {
      "cell_type": "code",
      "source": [
        "drive.mount('/content/gdrive')\n"
      ],
      "metadata": {
        "colab": {
          "base_uri": "https://localhost:8080/"
        },
        "id": "HXmXAIAJArT2",
        "outputId": "1ee80ca2-5330-4d58-c592-6543558858b1"
      },
      "execution_count": 40,
      "outputs": [
        {
          "output_type": "stream",
          "name": "stdout",
          "text": [
            "Drive already mounted at /content/gdrive; to attempt to forcibly remount, call drive.mount(\"/content/gdrive\", force_remount=True).\n"
          ]
        }
      ]
    },
    {
      "cell_type": "code",
      "source": [
        "t=4"
      ],
      "metadata": {
        "id": "uLTug-YJDW8D"
      },
      "execution_count": 41,
      "outputs": []
    },
    {
      "cell_type": "code",
      "source": [
        "os.chdir('/content/gdrive/MyDrive/laplstm/allin/t'+str(t))"
      ],
      "metadata": {
        "id": "ubPkwGQnA8Wx"
      },
      "execution_count": 42,
      "outputs": []
    },
    {
      "cell_type": "code",
      "source": [
        "import os\n",
        "github_raw_link=\"https://raw.githubusercontent.com/Aryansh085/LAP/main/858417d1-7d54-4115-a01b-fdda5e03ada3_testing_combined_rows4035_disc_1_0p9_MULTIPLY_preproces_155cols.csv\"\n",
        "df1=pd.read_csv((github_raw_link),header = None)\n",
        "dftemp=np.array(df1)\n",
        "dftemp.shape\n",
        "dftemp2=dftemp[:,5:]\n",
        "dftemp2=np.array(dftemp2)\n",
        "print(dftemp2.shape)"
      ],
      "metadata": {
        "id": "3UWvhrydJ8hA",
        "colab": {
          "base_uri": "https://localhost:8080/"
        },
        "outputId": "410413d0-b6a6-4fd5-bd1f-db0f82008289"
      },
      "execution_count": 43,
      "outputs": [
        {
          "output_type": "stream",
          "name": "stdout",
          "text": [
            "(4035, 150)\n"
          ]
        }
      ]
    },
    {
      "cell_type": "code",
      "source": [
        "# dftemp2\n",
        "dftemp2.shape\n",
        "# dftemp2=pd.DataFrame(dftemp2)\n",
        "# dftemp2.head()"
      ],
      "metadata": {
        "colab": {
          "base_uri": "https://localhost:8080/"
        },
        "id": "h00YSxPn8rUk",
        "outputId": "a13effc5-199e-4b43-cbd8-3ff1f968e3e3"
      },
      "execution_count": 44,
      "outputs": [
        {
          "output_type": "execute_result",
          "data": {
            "text/plain": [
              "(4035, 150)"
            ]
          },
          "metadata": {},
          "execution_count": 44
        }
      ]
    },
    {
      "cell_type": "markdown",
      "source": [
        "--> muliply the reward of that instance into the loss of that instance to give weight"
      ],
      "metadata": {
        "id": "pPfqIsthYP2X"
      }
    },
    {
      "cell_type": "code",
      "source": [
        "from sklearn.preprocessing import StandardScaler\n",
        "\n",
        "slr=StandardScaler()\n",
        "slr.fit(dftemp2)\n",
        "dftemp2 = slr.transform(dftemp2)"
      ],
      "metadata": {
        "id": "kWYAqDfnO_1i"
      },
      "execution_count": 45,
      "outputs": []
    },
    {
      "cell_type": "code",
      "source": [
        "# f1-score function\n",
        "def get_f1(y_true, y_pred): #taken from old keras source code\n",
        "    true_positives = K.sum(K.round(K.clip(y_true * y_pred, 0, 1)))\n",
        "    possible_positives = K.sum(K.round(K.clip(y_true, 0, 1)))\n",
        "    predicted_positives = K.sum(K.round(K.clip(y_pred, 0, 1)))\n",
        "    precision = true_positives / (predicted_positives + K.epsilon())\n",
        "    recall = true_positives / (possible_positives + K.epsilon())\n",
        "    f1_val = 2*(precision*recall)/(precision+recall+K.epsilon())\n",
        "    return f1_val\n",
        "    "
      ],
      "metadata": {
        "id": "4i-6LDL58GyW"
      },
      "execution_count": 46,
      "outputs": []
    },
    {
      "cell_type": "code",
      "source": [
        "y=np.array(dftemp[:,0])\n",
        "print(y)\n",
        "y_new=y[t:]\n",
        "y_new.shape\n"
      ],
      "metadata": {
        "colab": {
          "base_uri": "https://localhost:8080/"
        },
        "id": "XmXnkjOiKIGQ",
        "outputId": "19a5094f-5b34-406c-8cd0-e0bea036c0a5"
      },
      "execution_count": 47,
      "outputs": [
        {
          "output_type": "stream",
          "name": "stdout",
          "text": [
            "[2. 0. 0. ... 0. 2. 2.]\n"
          ]
        },
        {
          "output_type": "execute_result",
          "data": {
            "text/plain": [
              "(4031,)"
            ]
          },
          "metadata": {},
          "execution_count": 47
        }
      ]
    },
    {
      "cell_type": "code",
      "source": [
        "x=np.array(dftemp2)\n",
        "# print(x)\n",
        "# print(x.shape)\n",
        "x.shape,y_new.shape"
      ],
      "metadata": {
        "colab": {
          "base_uri": "https://localhost:8080/"
        },
        "id": "3JPzLQQmKhZk",
        "outputId": "1187486b-e2cb-474b-b415-1c8f31a25bed"
      },
      "execution_count": 48,
      "outputs": [
        {
          "output_type": "execute_result",
          "data": {
            "text/plain": [
              "((4035, 150), (4031,))"
            ]
          },
          "metadata": {},
          "execution_count": 48
        }
      ]
    },
    {
      "cell_type": "code",
      "source": [
        "x_3d=[]\n",
        "for i in range(4035-t):\n",
        "  tmp=[]\n",
        "  for j in range(t):\n",
        "    tmp.append(x[j+i])\n",
        "  x_3d.append(tmp)\n",
        "x_3d= np.array(x_3d)\n",
        "x_3d.shape"
      ],
      "metadata": {
        "colab": {
          "base_uri": "https://localhost:8080/"
        },
        "id": "hdDY6fhENZ2-",
        "outputId": "30719815-92fd-4508-80ec-47626fc89fe2"
      },
      "execution_count": 49,
      "outputs": [
        {
          "output_type": "execute_result",
          "data": {
            "text/plain": [
              "(4031, 4, 150)"
            ]
          },
          "metadata": {},
          "execution_count": 49
        }
      ]
    },
    {
      "cell_type": "code",
      "source": [
        "train_test_ratio=0.8\n",
        "print(x_3d.shape[0])\n",
        "x_train=[]\n",
        "y_train=[]\n",
        "x_test=[]\n",
        "y_test=[]\n",
        "for i in range(x_3d.shape[0]):\n",
        "  l=[]\n",
        "  ly=[]\n",
        "  no=np.random.randint(100)\n",
        "  if(no<80):\n",
        "    l=x_3d[i]\n",
        "    ly=y_new[i]\n",
        "    x_train.append(l)\n",
        "    y_train.append(ly)\n",
        "  else:\n",
        "    l=x_3d[i]\n",
        "    ly=y_new[i]\n",
        "    x_test.append(l)\n",
        "    y_test.append(ly)\n",
        "\n",
        "\n",
        "x_train=np.array(x_train)\n",
        "y_train=np.array(y_train)\n",
        "x_test=np.array(x_test)\n",
        "y_test=np.array(y_test)\n",
        "x_train.shape,y_train.shape,x_test.shape,y_test.shape"
      ],
      "metadata": {
        "colab": {
          "base_uri": "https://localhost:8080/"
        },
        "id": "AwnZ3Mh1Khi8",
        "outputId": "93d73472-8588-4258-d84d-b05c4124e316"
      },
      "execution_count": 50,
      "outputs": [
        {
          "output_type": "stream",
          "name": "stdout",
          "text": [
            "4031\n"
          ]
        },
        {
          "output_type": "execute_result",
          "data": {
            "text/plain": [
              "((3220, 4, 150), (3220,), (811, 4, 150), (811,))"
            ]
          },
          "metadata": {},
          "execution_count": 50
        }
      ]
    },
    {
      "cell_type": "code",
      "source": [
        "cnt0=0\n",
        "cnt1=0\n",
        "cnt2=0\n",
        "for i in range(x_train.shape[0]):\n",
        "  if(y_train[i]==0):\n",
        "    cnt0+=1\n",
        "  elif(y_train[i]==1):\n",
        "    cnt1+=1\n",
        "  elif(y_train[i]==2):\n",
        "    cnt2+=1\n",
        "print(cnt0)\n",
        "print(cnt1)\n",
        "print(cnt2)  "
      ],
      "metadata": {
        "colab": {
          "base_uri": "https://localhost:8080/"
        },
        "id": "xlijLVYecmcq",
        "outputId": "119efda9-9284-44bb-c6cb-d2f7cb355b5f"
      },
      "execution_count": 51,
      "outputs": [
        {
          "output_type": "stream",
          "name": "stdout",
          "text": [
            "1441\n",
            "859\n",
            "920\n"
          ]
        }
      ]
    },
    {
      "cell_type": "code",
      "source": [
        "x_train_1=[]\n",
        "y_train_1=[]\n",
        "c1=0\n",
        "c2=0\n",
        "c3=0\n",
        "x1=(cnt1-cnt0)/(cnt1)\n",
        "x1=x1*(-100)\n",
        "x1=int(x1)\n",
        "print(x1)\n",
        "x2=(cnt2-cnt0)/(cnt2)\n",
        "x2=x2*(-100)\n",
        "x2=int(x2)\n",
        "print(x2)\n",
        "for i in range(x_train.shape[0]):\n",
        "  if(y_train[i]==0):\n",
        "    x_train_1.append(x_train[i])\n",
        "    y_train_1.append(0)\n",
        "    c1+=1\n",
        "  elif(y_train[i]==1):\n",
        "    x_train_1.append(x_train[i])\n",
        "    y_train_1.append(1)\n",
        "    c2+=1\n",
        "  elif(y_train[i]==2 ):\n",
        "    x_train_1.append(x_train[i])\n",
        "    y_train_1.append(2)\n",
        "    c3=c3+1\n",
        "for i in range(x_train.shape[0]):\n",
        "  if(y_train[i]==1):\n",
        "    no=np.random.randint(100)\n",
        "    if(no>=100-x1):\n",
        "      x_train_1.append(x_train[i])\n",
        "      y_train_1.append(1)\n",
        "      c2+=1\n",
        "  elif(y_train[i]==2 ):\n",
        "    no=np.random.randint(100)\n",
        "    if(no>=100-x2):\n",
        "      x_train_1.append(x_train[i])\n",
        "      y_train_1.append(2)\n",
        "      c3+=1\n",
        "\n",
        "y_train=[]\n",
        "y_train=y_train_1\n",
        "x_train=[]\n",
        "x_train=x_train_1\n",
        "x_train=np.array(x_train)\n",
        "y_train=np.array(y_train)\n",
        "print(c1)\n",
        "print(c2)\n",
        "print(c3)"
      ],
      "metadata": {
        "id": "PqOHcbhQcuo8",
        "colab": {
          "base_uri": "https://localhost:8080/"
        },
        "outputId": "bd6d871f-7b4c-4266-fca9-e04953bed47c"
      },
      "execution_count": 52,
      "outputs": [
        {
          "output_type": "stream",
          "name": "stdout",
          "text": [
            "67\n",
            "56\n",
            "1441\n",
            "1449\n",
            "1410\n"
          ]
        }
      ]
    },
    {
      "cell_type": "code",
      "source": [
        "sklearn_weights=class_weight.compute_class_weight(class_weight='balanced',classes=np.unique(y_train),y=y_train)\n",
        "sklearn_weights=dict(zip(np.unique(y_train),sklearn_weights))\n",
        "sklearn_weights"
      ],
      "metadata": {
        "colab": {
          "base_uri": "https://localhost:8080/"
        },
        "id": "EYzwuCcAbDKT",
        "outputId": "bcd43178-df49-4202-b735-416aa223bd23"
      },
      "execution_count": 53,
      "outputs": [
        {
          "output_type": "execute_result",
          "data": {
            "text/plain": [
              "{0: 0.9946796206338191, 1: 0.9891879457096848, 2: 1.016548463356974}"
            ]
          },
          "metadata": {},
          "execution_count": 53
        }
      ]
    },
    {
      "cell_type": "code",
      "source": [
        "\n",
        "# model = Sequential()\n",
        "# model.add(LSTM(200, activation='relu', return_sequences=True, input_shape=( t,150,)))\n",
        "# model.add(LSTM(100, activation='relu', return_sequences=True))\n",
        "# model.add(LSTM(50, activation='relu', return_sequences=True))\n",
        "# model.add(LSTM(25, activation='relu'))\n",
        "# model.add(Dense(20, activation='relu'))\n",
        "# model.add(Dense(10, activation='relu'))\n",
        "# model.add(Dense(3))\n",
        "# model.compile(optimizer='SGD', loss='sparse_categorical_crossentropy',metrics=['accuracy'])\n",
        "# history = model.fit(x_train, y_train, epochs=10, validation_split=0.2, verbose=1)\n",
        "# test_output = model.predict(x_test, verbose=1)\n",
        "# # history = model.fit(X, Y, epochs=1000, validation_split=0.2, verbose=1)\n",
        "# # test_output = model.predict(x=, verbose=0)\n",
        "# # print(test_output)"
      ],
      "metadata": {
        "id": "rhgsSos1KIbA"
      },
      "execution_count": 54,
      "outputs": []
    },
    {
      "cell_type": "code",
      "source": [
        "# sklearn_weights={0:1738,1:2348,2:2362}\n",
        "model = Sequential()\n",
        "model.add(LSTM(200, activation='relu', return_sequences=True, input_shape=( t,150,)))\n",
        "model.add(LSTM(400, activation='relu', return_sequences=True))\n",
        "model.add(LSTM(800, activation='relu', return_sequences=True))\n",
        "model.add(LSTM(150, activation='relu'))\n",
        "model.add(Dense(100, activation='relu'))\n",
        "model.add(Dense(64, activation='relu'))\n",
        "model.add(Dense(10, activation='relu'))\n",
        "model.add(Dense(3,activation='sigmoid'))\n",
        "optimi=keras.optimizers.Adam()\n",
        "model.compile(optimizer=optimi, loss='sparse_categorical_crossentropy',metrics=['accuracy',get_f1])\n",
        "\n",
        "# history = model.fit(x_train, y_train, epochs=30, validation_split=0.2, verbose=1)\n",
        "history = model.fit(x_train, y_train, epochs=25, validation_split=0.2, verbose=1,class_weight=sklearn_weights)\n",
        "test_output = model.predict(x_test, verbose=1)\n"
      ],
      "metadata": {
        "colab": {
          "base_uri": "https://localhost:8080/"
        },
        "id": "lwHPGS2iXMXc",
        "outputId": "5d57714a-f83c-4372-e3f0-d323a6af2b33"
      },
      "execution_count": 55,
      "outputs": [
        {
          "output_type": "stream",
          "name": "stderr",
          "text": [
            "WARNING:tensorflow:Layer lstm_8 will not use cuDNN kernels since it doesn't meet the criteria. It will use a generic GPU kernel as fallback when running on GPU.\n",
            "WARNING:tensorflow:Layer lstm_9 will not use cuDNN kernels since it doesn't meet the criteria. It will use a generic GPU kernel as fallback when running on GPU.\n",
            "WARNING:tensorflow:Layer lstm_10 will not use cuDNN kernels since it doesn't meet the criteria. It will use a generic GPU kernel as fallback when running on GPU.\n",
            "WARNING:tensorflow:Layer lstm_11 will not use cuDNN kernels since it doesn't meet the criteria. It will use a generic GPU kernel as fallback when running on GPU.\n"
          ]
        },
        {
          "output_type": "stream",
          "name": "stdout",
          "text": [
            "Epoch 1/25\n",
            "108/108 [==============================] - 9s 45ms/step - loss: 1.0849 - accuracy: 0.4189 - get_f1: 1.4566 - val_loss: 1.2003 - val_accuracy: 0.0000e+00 - val_get_f1: 1.9666\n",
            "Epoch 2/25\n",
            "108/108 [==============================] - 4s 39ms/step - loss: 1.0626 - accuracy: 0.4148 - get_f1: 1.4388 - val_loss: 1.4926 - val_accuracy: 0.0000e+00 - val_get_f1: 1.9430\n",
            "Epoch 3/25\n",
            "108/108 [==============================] - 4s 40ms/step - loss: 0.9534 - accuracy: 0.5201 - get_f1: 1.3512 - val_loss: 1.1549 - val_accuracy: 0.4233 - val_get_f1: 1.7454\n",
            "Epoch 4/25\n",
            "108/108 [==============================] - 4s 40ms/step - loss: 0.8407 - accuracy: 0.6017 - get_f1: 1.3150 - val_loss: 1.1282 - val_accuracy: 0.4512 - val_get_f1: 1.7495\n",
            "Epoch 5/25\n",
            "108/108 [==============================] - 4s 40ms/step - loss: 0.7585 - accuracy: 0.6413 - get_f1: 1.2996 - val_loss: 1.0004 - val_accuracy: 0.5558 - val_get_f1: 1.6749\n",
            "Epoch 6/25\n",
            "108/108 [==============================] - 4s 40ms/step - loss: 0.7120 - accuracy: 0.6631 - get_f1: 1.3072 - val_loss: 0.9496 - val_accuracy: 0.6407 - val_get_f1: 1.7016\n",
            "Epoch 7/25\n",
            "108/108 [==============================] - 4s 40ms/step - loss: 0.6739 - accuracy: 0.7081 - get_f1: 1.3056 - val_loss: 0.8761 - val_accuracy: 0.6942 - val_get_f1: 1.7536\n",
            "Epoch 8/25\n",
            "108/108 [==============================] - 4s 40ms/step - loss: 0.6136 - accuracy: 0.7445 - get_f1: 1.2875 - val_loss: 0.7356 - val_accuracy: 0.6756 - val_get_f1: 1.6591\n",
            "Epoch 9/25\n",
            "108/108 [==============================] - 6s 57ms/step - loss: 0.5527 - accuracy: 0.7677 - get_f1: 1.2037 - val_loss: 0.5016 - val_accuracy: 0.7860 - val_get_f1: 1.5585\n",
            "Epoch 10/25\n",
            "108/108 [==============================] - 4s 40ms/step - loss: 0.3853 - accuracy: 0.8581 - get_f1: 1.1651 - val_loss: 0.3015 - val_accuracy: 0.9256 - val_get_f1: 1.5298\n",
            "Epoch 11/25\n",
            "108/108 [==============================] - 4s 39ms/step - loss: 0.2582 - accuracy: 0.9134 - get_f1: 1.0482 - val_loss: 0.2011 - val_accuracy: 0.9593 - val_get_f1: 1.4862\n",
            "Epoch 12/25\n",
            "108/108 [==============================] - 4s 40ms/step - loss: 0.2421 - accuracy: 0.9320 - get_f1: 1.0229 - val_loss: 0.1083 - val_accuracy: 0.9791 - val_get_f1: 1.3955\n",
            "Epoch 13/25\n",
            "108/108 [==============================] - 4s 40ms/step - loss: 0.1570 - accuracy: 0.9547 - get_f1: 1.0366 - val_loss: 0.0903 - val_accuracy: 0.9860 - val_get_f1: 1.4813\n",
            "Epoch 14/25\n",
            "108/108 [==============================] - 4s 40ms/step - loss: 0.1337 - accuracy: 0.9602 - get_f1: 1.0284 - val_loss: 0.0295 - val_accuracy: 0.9988 - val_get_f1: 1.2729\n",
            "Epoch 15/25\n",
            "108/108 [==============================] - 4s 40ms/step - loss: 0.1032 - accuracy: 0.9680 - get_f1: 0.9489 - val_loss: 0.0457 - val_accuracy: 0.9930 - val_get_f1: 1.1051\n",
            "Epoch 16/25\n",
            "108/108 [==============================] - 4s 39ms/step - loss: 0.1860 - accuracy: 0.9462 - get_f1: 0.9998 - val_loss: 0.0911 - val_accuracy: 0.9860 - val_get_f1: 1.4728\n",
            "Epoch 17/25\n",
            "108/108 [==============================] - 4s 40ms/step - loss: 0.0812 - accuracy: 0.9715 - get_f1: 1.0848 - val_loss: 0.0398 - val_accuracy: 0.9953 - val_get_f1: 1.4731\n",
            "Epoch 18/25\n",
            "108/108 [==============================] - 4s 41ms/step - loss: 0.0616 - accuracy: 0.9767 - get_f1: 1.0676 - val_loss: 0.0477 - val_accuracy: 0.9953 - val_get_f1: 1.4708\n",
            "Epoch 19/25\n",
            "108/108 [==============================] - 4s 39ms/step - loss: 0.0725 - accuracy: 0.9756 - get_f1: 1.0716 - val_loss: 0.0353 - val_accuracy: 0.9977 - val_get_f1: 1.4746\n",
            "Epoch 20/25\n",
            "108/108 [==============================] - 4s 41ms/step - loss: 0.0594 - accuracy: 0.9808 - get_f1: 1.0680 - val_loss: 0.0080 - val_accuracy: 1.0000 - val_get_f1: 1.3927\n",
            "Epoch 21/25\n",
            "108/108 [==============================] - 6s 58ms/step - loss: 0.1283 - accuracy: 0.9715 - get_f1: 1.0088 - val_loss: 0.0540 - val_accuracy: 0.9942 - val_get_f1: 1.4778\n",
            "Epoch 22/25\n",
            "108/108 [==============================] - 4s 39ms/step - loss: 0.0997 - accuracy: 0.9733 - get_f1: 1.1067 - val_loss: 0.1377 - val_accuracy: 0.9686 - val_get_f1: 1.5309\n",
            "Epoch 23/25\n",
            "108/108 [==============================] - 4s 40ms/step - loss: 0.0767 - accuracy: 0.9799 - get_f1: 1.0602 - val_loss: 0.0397 - val_accuracy: 0.9965 - val_get_f1: 1.3634\n",
            "Epoch 24/25\n",
            "108/108 [==============================] - 4s 40ms/step - loss: 0.1826 - accuracy: 0.9695 - get_f1: 0.9637 - val_loss: 0.0601 - val_accuracy: 0.9849 - val_get_f1: 1.2946\n",
            "Epoch 25/25\n",
            "108/108 [==============================] - 4s 41ms/step - loss: 0.0547 - accuracy: 0.9828 - get_f1: 0.7940 - val_loss: 0.0404 - val_accuracy: 0.9953 - val_get_f1: 1.0258\n",
            "26/26 [==============================] - 1s 5ms/step\n"
          ]
        }
      ]
    },
    {
      "cell_type": "code",
      "source": [
        "test_output_1=np.array([np.argmax(i)  for i in test_output])\n",
        "from sklearn.metrics import confusion_matrix,accuracy_score\n",
        "print(confusion_matrix(y_test,test_output_1))\n",
        "test_output=pd.DataFrame(test_output)\n",
        "print(accuracy_score(y_test,test_output_1))\n"
      ],
      "metadata": {
        "id": "Q_hmR6MK_Bq5",
        "colab": {
          "base_uri": "https://localhost:8080/"
        },
        "outputId": "014404ab-0932-494a-98ef-9ed941552869"
      },
      "execution_count": 56,
      "outputs": [
        {
          "output_type": "stream",
          "name": "stdout",
          "text": [
            "[[243  56  84]\n",
            " [ 39 132  25]\n",
            " [ 63  12 157]]\n",
            "0.655980271270037\n"
          ]
        }
      ]
    },
    {
      "cell_type": "code",
      "source": [
        "print(get_f1(y_test.astype('float32'), test_output_1.astype('float32')))"
      ],
      "metadata": {
        "colab": {
          "base_uri": "https://localhost:8080/"
        },
        "id": "ZsHojwC3G8gQ",
        "outputId": "b1543280-e12d-4faf-883a-c03ad35c1df1"
      },
      "execution_count": 57,
      "outputs": [
        {
          "output_type": "stream",
          "name": "stdout",
          "text": [
            "tf.Tensor(0.7293064, shape=(), dtype=float32)\n"
          ]
        }
      ]
    },
    {
      "cell_type": "code",
      "source": [
        "x_train_reshaped = x_train.reshape(x_train.shape[0], -1)\n",
        "x_test_reshaped = x_test.reshape(x_test.shape[0], -1)\n",
        "savetxt('arrxtrain.csv', x_train_reshaped, delimiter=',')\n",
        "savetxt('arrytrain.csv', y_train, delimiter=',')\n",
        "savetxt('arrxtest.csv', x_test_reshaped, delimiter=',')\n",
        "savetxt('arrytest.csv', y_test, delimiter=',')"
      ],
      "metadata": {
        "id": "oxhtZHtkBWOe"
      },
      "execution_count": 58,
      "outputs": []
    }
  ]
}