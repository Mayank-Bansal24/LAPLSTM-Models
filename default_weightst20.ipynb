{
  "nbformat": 4,
  "nbformat_minor": 0,
  "metadata": {
    "colab": {
      "provenance": [],
      "include_colab_link": true
    },
    "kernelspec": {
      "name": "python3",
      "display_name": "Python 3"
    },
    "language_info": {
      "name": "python"
    },
    "accelerator": "GPU",
    "gpuClass": "standard"
  },
  "cells": [
    {
      "cell_type": "markdown",
      "metadata": {
        "id": "view-in-github",
        "colab_type": "text"
      },
      "source": [
        "<a href=\"https://colab.research.google.com/github/Mayank-Bansal24/LAPLSTM-Models/blob/main/default_weightst20.ipynb\" target=\"_parent\"><img src=\"https://colab.research.google.com/assets/colab-badge.svg\" alt=\"Open In Colab\"/></a>"
      ]
    },
    {
      "cell_type": "code",
      "source": [
        "import numpy as np\n",
        "import tensorflow as tf\n",
        "from tensorflow.keras import losses as lo_ss\n",
        "from tensorflow.keras.models import Sequential\n",
        "from tensorflow.keras.layers import LSTM\n",
        "from tensorflow.keras.layers import Dense, Dropout\n",
        "import string\n",
        "import pandas as pd\n",
        "from matplotlib import pyplot as plt\n",
        "from sklearn.preprocessing import StandardScaler\n",
        "import seaborn as sns\n",
        "from sklearn import model_selection\n",
        "from sklearn.datasets import make_classification\n",
        "from sklearn.utils import class_weight\n",
        "from sklearn.metrics import classification_report , roc_auc_score\n",
        "import keras \n",
        "import keras.backend as K\n",
        "from google.colab import drive\n",
        "from numpy import savetxt"
      ],
      "metadata": {
        "id": "V1kLUX7gJ3N_"
      },
      "execution_count": 125,
      "outputs": []
    },
    {
      "cell_type": "code",
      "source": [
        "drive.mount('/content/gdrive')\n"
      ],
      "metadata": {
        "colab": {
          "base_uri": "https://localhost:8080/"
        },
        "id": "HXmXAIAJArT2",
        "outputId": "9689764b-807e-4d90-e6bb-fbab0f6c3850"
      },
      "execution_count": 126,
      "outputs": [
        {
          "output_type": "stream",
          "name": "stdout",
          "text": [
            "Drive already mounted at /content/gdrive; to attempt to forcibly remount, call drive.mount(\"/content/gdrive\", force_remount=True).\n"
          ]
        }
      ]
    },
    {
      "cell_type": "code",
      "source": [
        "t=20"
      ],
      "metadata": {
        "id": "uLTug-YJDW8D"
      },
      "execution_count": 127,
      "outputs": []
    },
    {
      "cell_type": "code",
      "source": [
        "import os\n",
        "os.chdir('/content/gdrive/MyDrive/laplstm/default class weights/t'+str(t))"
      ],
      "metadata": {
        "id": "ubPkwGQnA8Wx"
      },
      "execution_count": 128,
      "outputs": []
    },
    {
      "cell_type": "code",
      "source": [
        "\n",
        "github_raw_link=\"https://raw.githubusercontent.com/Aryansh085/LAP/main/858417d1-7d54-4115-a01b-fdda5e03ada3_testing_combined_rows4035_disc_1_0p9_MULTIPLY_preproces_155cols.csv\"\n",
        "df1=pd.read_csv((github_raw_link),header = None)\n",
        "dftemp=np.array(df1)\n",
        "dftemp.shape\n",
        "dftemp2=dftemp[:,5:]\n",
        "dftemp2=np.array(dftemp2)\n",
        "print(dftemp2.shape)"
      ],
      "metadata": {
        "id": "3UWvhrydJ8hA",
        "colab": {
          "base_uri": "https://localhost:8080/"
        },
        "outputId": "c52590d3-7044-48ab-958a-19cd1e61d542"
      },
      "execution_count": 129,
      "outputs": [
        {
          "output_type": "stream",
          "name": "stdout",
          "text": [
            "(4035, 150)\n"
          ]
        }
      ]
    },
    {
      "cell_type": "code",
      "source": [
        "# dftemp2\n",
        "dftemp2.shape\n",
        "# dftemp2=pd.DataFrame(dftemp2)\n",
        "# dftemp2.head()"
      ],
      "metadata": {
        "colab": {
          "base_uri": "https://localhost:8080/"
        },
        "id": "h00YSxPn8rUk",
        "outputId": "2f9862cc-df19-4e0a-bd47-472a42b57e24"
      },
      "execution_count": 130,
      "outputs": [
        {
          "output_type": "execute_result",
          "data": {
            "text/plain": [
              "(4035, 150)"
            ]
          },
          "metadata": {},
          "execution_count": 130
        }
      ]
    },
    {
      "cell_type": "markdown",
      "source": [
        "--> muliply the reward of that instance into the loss of that instance to give weight"
      ],
      "metadata": {
        "id": "pPfqIsthYP2X"
      }
    },
    {
      "cell_type": "code",
      "source": [
        "from sklearn.preprocessing import StandardScaler\n",
        "\n",
        "slr=StandardScaler()\n",
        "slr.fit(dftemp2)\n",
        "dftemp2 = slr.transform(dftemp2)"
      ],
      "metadata": {
        "id": "kWYAqDfnO_1i"
      },
      "execution_count": 131,
      "outputs": []
    },
    {
      "cell_type": "code",
      "source": [
        "# f1-score function\n",
        "def get_f1(y_true, y_pred): #taken from old keras source code\n",
        "    true_positives = K.sum(K.round(K.clip(y_true * y_pred, 0, 1)))\n",
        "    possible_positives = K.sum(K.round(K.clip(y_true, 0, 1)))\n",
        "    predicted_positives = K.sum(K.round(K.clip(y_pred, 0, 1)))\n",
        "    precision = true_positives / (predicted_positives + K.epsilon())\n",
        "    recall = true_positives / (possible_positives + K.epsilon())\n",
        "    f1_val = 2*(precision*recall)/(precision+recall+K.epsilon())\n",
        "    return f1_val\n",
        "    "
      ],
      "metadata": {
        "id": "4i-6LDL58GyW"
      },
      "execution_count": 132,
      "outputs": []
    },
    {
      "cell_type": "code",
      "source": [],
      "metadata": {
        "id": "83zizsyvKHzh"
      },
      "execution_count": 132,
      "outputs": []
    },
    {
      "cell_type": "code",
      "source": [
        "y=np.array(dftemp[:,0])\n",
        "print(y)\n",
        "y_new=y[t:]\n",
        "y_new.shape\n"
      ],
      "metadata": {
        "colab": {
          "base_uri": "https://localhost:8080/"
        },
        "id": "XmXnkjOiKIGQ",
        "outputId": "b9a0211a-539c-4fa0-9542-bf8675afca96"
      },
      "execution_count": 133,
      "outputs": [
        {
          "output_type": "stream",
          "name": "stdout",
          "text": [
            "[2. 0. 0. ... 0. 2. 2.]\n"
          ]
        },
        {
          "output_type": "execute_result",
          "data": {
            "text/plain": [
              "(4015,)"
            ]
          },
          "metadata": {},
          "execution_count": 133
        }
      ]
    },
    {
      "cell_type": "code",
      "source": [
        "x=np.array(dftemp2)\n",
        "# print(x)\n",
        "# print(x.shape)\n",
        "x.shape,y_new.shape"
      ],
      "metadata": {
        "colab": {
          "base_uri": "https://localhost:8080/"
        },
        "id": "3JPzLQQmKhZk",
        "outputId": "018a3ddf-6578-4ce9-8c30-6be591e90409"
      },
      "execution_count": 134,
      "outputs": [
        {
          "output_type": "execute_result",
          "data": {
            "text/plain": [
              "((4035, 150), (4015,))"
            ]
          },
          "metadata": {},
          "execution_count": 134
        }
      ]
    },
    {
      "cell_type": "code",
      "source": [
        "x_3d=[]\n",
        "for i in range(4035-t):\n",
        "  tmp=[]\n",
        "  for j in range(t):\n",
        "    tmp.append(x[j+i])\n",
        "  x_3d.append(tmp)\n",
        "x_3d= np.array(x_3d)\n",
        "x_3d.shape"
      ],
      "metadata": {
        "colab": {
          "base_uri": "https://localhost:8080/"
        },
        "id": "hdDY6fhENZ2-",
        "outputId": "d42b4457-752e-44f1-cbf8-3a56b0afa3c3"
      },
      "execution_count": 135,
      "outputs": [
        {
          "output_type": "execute_result",
          "data": {
            "text/plain": [
              "(4015, 20, 150)"
            ]
          },
          "metadata": {},
          "execution_count": 135
        }
      ]
    },
    {
      "cell_type": "code",
      "source": [
        "train_test_ratio=0.8\n",
        "print(x_3d.shape[0])\n",
        "x_train=[]\n",
        "y_train=[]\n",
        "x_test=[]\n",
        "y_test=[]\n",
        "for i in range(x_3d.shape[0]):\n",
        "  l=[]\n",
        "  ly=[]\n",
        "  no=np.random.randint(100)\n",
        "  if(no<80):\n",
        "    l=x_3d[i]\n",
        "    ly=y_new[i]\n",
        "    x_train.append(l)\n",
        "    y_train.append(ly)\n",
        "  else:\n",
        "    l=x_3d[i]\n",
        "    ly=y_new[i]\n",
        "    x_test.append(l)\n",
        "    y_test.append(ly)\n",
        "\n",
        "\n",
        "x_train=np.array(x_train)\n",
        "y_train=np.array(y_train)\n",
        "x_test=np.array(x_test)\n",
        "y_test=np.array(y_test)\n",
        "x_train.shape,y_train.shape,x_test.shape,y_test.shape"
      ],
      "metadata": {
        "colab": {
          "base_uri": "https://localhost:8080/"
        },
        "id": "AwnZ3Mh1Khi8",
        "outputId": "a275c34f-829f-46c2-c55e-a62b7162b4db"
      },
      "execution_count": 136,
      "outputs": [
        {
          "output_type": "stream",
          "name": "stdout",
          "text": [
            "4015\n"
          ]
        },
        {
          "output_type": "execute_result",
          "data": {
            "text/plain": [
              "((3206, 20, 150), (3206,), (809, 20, 150), (809,))"
            ]
          },
          "metadata": {},
          "execution_count": 136
        }
      ]
    },
    {
      "cell_type": "code",
      "source": [
        "cnt0=0\n",
        "cnt1=0\n",
        "cnt2=0\n",
        "for i in range(x_train.shape[0]):\n",
        "  if(y_train[i]==0):\n",
        "    cnt0+=1\n",
        "  elif(y_train[i]==1):\n",
        "    cnt1+=1\n",
        "  elif(y_train[i]==2):\n",
        "    cnt2+=1\n",
        "print(cnt0)\n",
        "print(cnt1)\n",
        "print(cnt2)  "
      ],
      "metadata": {
        "colab": {
          "base_uri": "https://localhost:8080/"
        },
        "id": "xlijLVYecmcq",
        "outputId": "1587c2c8-c3fb-4439-baa4-8fff8555007f"
      },
      "execution_count": 137,
      "outputs": [
        {
          "output_type": "stream",
          "name": "stdout",
          "text": [
            "1450\n",
            "861\n",
            "895\n"
          ]
        }
      ]
    },
    {
      "cell_type": "code",
      "source": [
        "sklearn_weights=class_weight.compute_class_weight(class_weight='balanced',classes=np.unique(y_train),y=y_train)\n",
        "sklearn_weights=dict(zip(np.unique(y_train),sklearn_weights))\n",
        "sklearn_weights"
      ],
      "metadata": {
        "colab": {
          "base_uri": "https://localhost:8080/"
        },
        "id": "EYzwuCcAbDKT",
        "outputId": "1bb53e12-126f-4e8a-e0dc-cc99b87259c3"
      },
      "execution_count": 138,
      "outputs": [
        {
          "output_type": "execute_result",
          "data": {
            "text/plain": [
              "{0.0: 0.7370114942528736, 1.0: 1.2411924119241193, 2.0: 1.1940409683426443}"
            ]
          },
          "metadata": {},
          "execution_count": 138
        }
      ]
    },
    {
      "cell_type": "code",
      "source": [
        "\n",
        "# model = Sequential()\n",
        "# model.add(LSTM(200, activation='relu', return_sequences=True, input_shape=( t,150,)))\n",
        "# model.add(LSTM(100, activation='relu', return_sequences=True))\n",
        "# model.add(LSTM(50, activation='relu', return_sequences=True))\n",
        "# model.add(LSTM(25, activation='relu'))\n",
        "# model.add(Dense(20, activation='relu'))\n",
        "# model.add(Dense(10, activation='relu'))\n",
        "# model.add(Dense(3))\n",
        "# model.compile(optimizer='SGD', loss='sparse_categorical_crossentropy',metrics=['accuracy'])\n",
        "# history = model.fit(x_train, y_train, epochs=10, validation_split=0.2, verbose=1)\n",
        "# test_output = model.predict(x_test, verbose=1)\n",
        "# # history = model.fit(X, Y, epochs=1000, validation_split=0.2, verbose=1)\n",
        "# # test_output = model.predict(x=, verbose=0)\n",
        "# # print(test_output)"
      ],
      "metadata": {
        "id": "rhgsSos1KIbA"
      },
      "execution_count": 139,
      "outputs": []
    },
    {
      "cell_type": "code",
      "source": [
        "# sklearn_weights={0:1738,1:2348,2:2362}\n",
        "model = Sequential()\n",
        "model.add(LSTM(200, activation='relu', return_sequences=True, input_shape=( t,150,)))\n",
        "model.add(LSTM(400, activation='relu', return_sequences=True))\n",
        "model.add(LSTM(800, activation='relu', return_sequences=True))\n",
        "model.add(LSTM(150, activation='relu'))\n",
        "model.add(Dense(100, activation='relu'))\n",
        "model.add(Dense(64, activation='relu'))\n",
        "model.add(Dense(10, activation='relu'))\n",
        "model.add(Dense(3,activation='sigmoid'))\n",
        "optimi=keras.optimizers.Adam()\n",
        "model.compile(optimizer=optimi, loss='sparse_categorical_crossentropy',metrics=['accuracy',get_f1])\n",
        "\n",
        "# history = model.fit(x_train, y_train, epochs=30, validation_split=0.2, verbose=1)\n",
        "history = model.fit(x_train, y_train, epochs=25, validation_split=0.2, verbose=1,class_weight=sklearn_weights)\n",
        "test_output = model.predict(x_test, verbose=1)\n"
      ],
      "metadata": {
        "colab": {
          "base_uri": "https://localhost:8080/"
        },
        "id": "lwHPGS2iXMXc",
        "outputId": "54dc871c-1177-4c93-d9d8-0b024813b1f7"
      },
      "execution_count": 140,
      "outputs": [
        {
          "output_type": "stream",
          "name": "stderr",
          "text": [
            "WARNING:tensorflow:Layer lstm_24 will not use cuDNN kernels since it doesn't meet the criteria. It will use a generic GPU kernel as fallback when running on GPU.\n",
            "WARNING:tensorflow:Layer lstm_25 will not use cuDNN kernels since it doesn't meet the criteria. It will use a generic GPU kernel as fallback when running on GPU.\n",
            "WARNING:tensorflow:Layer lstm_26 will not use cuDNN kernels since it doesn't meet the criteria. It will use a generic GPU kernel as fallback when running on GPU.\n",
            "WARNING:tensorflow:Layer lstm_27 will not use cuDNN kernels since it doesn't meet the criteria. It will use a generic GPU kernel as fallback when running on GPU.\n"
          ]
        },
        {
          "output_type": "stream",
          "name": "stdout",
          "text": [
            "Epoch 1/25\n",
            "81/81 [==============================] - 17s 169ms/step - loss: 1.1445 - accuracy: 0.3584 - get_f1: 0.9872 - val_loss: 1.1084 - val_accuracy: 0.2150 - val_get_f1: 1.1770\n",
            "Epoch 2/25\n",
            "81/81 [==============================] - 13s 159ms/step - loss: 1.0749 - accuracy: 0.3432 - get_f1: 1.0525 - val_loss: 1.0932 - val_accuracy: 0.2819 - val_get_f1: 1.1436\n",
            "Epoch 3/25\n",
            "81/81 [==============================] - 13s 159ms/step - loss: 0.9336 - accuracy: 0.4544 - get_f1: 0.9984 - val_loss: 1.1254 - val_accuracy: 0.4019 - val_get_f1: 1.0865\n",
            "Epoch 4/25\n",
            "81/81 [==============================] - 15s 188ms/step - loss: 0.7323 - accuracy: 0.6057 - get_f1: 0.9020 - val_loss: 1.1936 - val_accuracy: 0.3894 - val_get_f1: 1.0878\n",
            "Epoch 5/25\n",
            "81/81 [==============================] - 13s 161ms/step - loss: 0.6165 - accuracy: 0.6814 - get_f1: 0.8752 - val_loss: 1.3122 - val_accuracy: 0.4361 - val_get_f1: 1.0342\n",
            "Epoch 6/25\n",
            "81/81 [==============================] - 15s 181ms/step - loss: 0.5658 - accuracy: 0.7020 - get_f1: 0.8606 - val_loss: 1.2375 - val_accuracy: 0.4097 - val_get_f1: 1.0860\n",
            "Epoch 7/25\n",
            "81/81 [==============================] - 13s 156ms/step - loss: 0.4993 - accuracy: 0.7172 - get_f1: 0.8523 - val_loss: 1.3263 - val_accuracy: 0.4533 - val_get_f1: 1.0495\n",
            "Epoch 8/25\n",
            "81/81 [==============================] - 15s 187ms/step - loss: 0.4166 - accuracy: 0.7691 - get_f1: 0.8335 - val_loss: 1.7534 - val_accuracy: 0.3956 - val_get_f1: 1.0104\n",
            "Epoch 9/25\n",
            "81/81 [==============================] - 13s 158ms/step - loss: 0.5225 - accuracy: 0.7878 - get_f1: 0.8436 - val_loss: 1.8742 - val_accuracy: 0.3910 - val_get_f1: 0.9529\n",
            "Epoch 10/25\n",
            "81/81 [==============================] - 13s 158ms/step - loss: 0.3173 - accuracy: 0.8576 - get_f1: 0.8151 - val_loss: 2.0001 - val_accuracy: 0.4065 - val_get_f1: 0.9795\n",
            "Epoch 11/25\n",
            "81/81 [==============================] - 13s 156ms/step - loss: 0.2483 - accuracy: 0.9002 - get_f1: 0.8152 - val_loss: 1.9959 - val_accuracy: 0.4486 - val_get_f1: 0.9774\n",
            "Epoch 12/25\n",
            "81/81 [==============================] - 15s 182ms/step - loss: 0.1864 - accuracy: 0.9200 - get_f1: 0.8131 - val_loss: 2.6321 - val_accuracy: 0.4611 - val_get_f1: 0.9660\n",
            "Epoch 13/25\n",
            "81/81 [==============================] - 13s 156ms/step - loss: 0.1544 - accuracy: 0.9353 - get_f1: 0.8014 - val_loss: 2.4880 - val_accuracy: 0.4128 - val_get_f1: 0.9779\n",
            "Epoch 14/25\n",
            "81/81 [==============================] - 13s 160ms/step - loss: 0.1209 - accuracy: 0.9477 - get_f1: 0.7940 - val_loss: 2.6943 - val_accuracy: 0.4486 - val_get_f1: 0.9971\n",
            "Epoch 15/25\n",
            "81/81 [==============================] - 13s 159ms/step - loss: 0.0950 - accuracy: 0.9606 - get_f1: 0.8039 - val_loss: 2.6029 - val_accuracy: 0.4159 - val_get_f1: 1.0067\n",
            "Epoch 16/25\n",
            "81/81 [==============================] - 15s 183ms/step - loss: 0.0931 - accuracy: 0.9458 - get_f1: 0.7869 - val_loss: 2.8680 - val_accuracy: 0.4393 - val_get_f1: 0.9887\n",
            "Epoch 17/25\n",
            "81/81 [==============================] - 12s 154ms/step - loss: 0.0805 - accuracy: 0.9661 - get_f1: 0.7750 - val_loss: 3.2663 - val_accuracy: 0.4626 - val_get_f1: 0.9831\n",
            "Epoch 18/25\n",
            "81/81 [==============================] - 12s 152ms/step - loss: 0.0501 - accuracy: 0.9805 - get_f1: 0.7632 - val_loss: 3.0657 - val_accuracy: 0.4424 - val_get_f1: 0.9933\n",
            "Epoch 19/25\n",
            "81/81 [==============================] - 13s 159ms/step - loss: 0.1024 - accuracy: 0.9688 - get_f1: 0.7796 - val_loss: 2.3860 - val_accuracy: 0.4626 - val_get_f1: 1.0121\n",
            "Epoch 20/25\n",
            "81/81 [==============================] - 13s 164ms/step - loss: 0.7511 - accuracy: 0.8795 - get_f1: 0.8058 - val_loss: 2.0393 - val_accuracy: 0.3458 - val_get_f1: 0.9716\n",
            "Epoch 21/25\n",
            "81/81 [==============================] - 14s 170ms/step - loss: 0.8153 - accuracy: 0.8046 - get_f1: 0.8760 - val_loss: 2.1816 - val_accuracy: 0.4424 - val_get_f1: 1.1320\n",
            "Epoch 22/25\n",
            "81/81 [==============================] - 14s 171ms/step - loss: 0.3136 - accuracy: 0.9290 - get_f1: 0.9669 - val_loss: 1.9443 - val_accuracy: 0.4408 - val_get_f1: 1.1010\n",
            "Epoch 23/25\n",
            "81/81 [==============================] - 13s 159ms/step - loss: 0.0854 - accuracy: 0.9774 - get_f1: 0.9722 - val_loss: 2.5229 - val_accuracy: 0.4486 - val_get_f1: 1.1636\n",
            "Epoch 24/25\n",
            "81/81 [==============================] - 12s 154ms/step - loss: 0.0504 - accuracy: 0.9704 - get_f1: 1.0819 - val_loss: 3.1864 - val_accuracy: 0.4019 - val_get_f1: 1.1838\n",
            "Epoch 25/25\n",
            "81/81 [==============================] - 15s 180ms/step - loss: 1.1772 - accuracy: 0.8370 - get_f1: 0.9648 - val_loss: 1.9160 - val_accuracy: 0.4455 - val_get_f1: 1.0663\n",
            "26/26 [==============================] - 1s 14ms/step\n"
          ]
        }
      ]
    },
    {
      "cell_type": "code",
      "source": [
        "test_output_1=np.array([np.argmax(i)  for i in test_output])\n",
        "from sklearn.metrics import confusion_matrix,accuracy_score\n",
        "print(confusion_matrix(y_test,test_output_1))\n",
        "test_output=pd.DataFrame(test_output)\n",
        "print(accuracy_score(y_test,test_output_1))\n"
      ],
      "metadata": {
        "id": "Q_hmR6MK_Bq5",
        "colab": {
          "base_uri": "https://localhost:8080/"
        },
        "outputId": "1e0c841a-6d31-4b20-975b-40db1eb654d0"
      },
      "execution_count": 141,
      "outputs": [
        {
          "output_type": "stream",
          "name": "stdout",
          "text": [
            "[[270  33  70]\n",
            " [ 98  82  10]\n",
            " [ 87   9 150]]\n",
            "0.6205191594561187\n"
          ]
        }
      ]
    },
    {
      "cell_type": "code",
      "source": [
        "print(get_f1(y_test.astype('float32'), test_output_1.astype('float32')))"
      ],
      "metadata": {
        "colab": {
          "base_uri": "https://localhost:8080/"
        },
        "id": "ZsHojwC3G8gQ",
        "outputId": "ab966a41-b6b5-44ca-e8d7-a1f26e0b018f"
      },
      "execution_count": 142,
      "outputs": [
        {
          "output_type": "stream",
          "name": "stdout",
          "text": [
            "tf.Tensor(0.63544303, shape=(), dtype=float32)\n"
          ]
        }
      ]
    },
    {
      "cell_type": "code",
      "source": [
        "x_train_reshaped = x_train.reshape(x_train.shape[0], -1)\n",
        "x_test_reshaped = x_test.reshape(x_test.shape[0], -1)\n",
        "savetxt('arrxtrain.csv', x_train_reshaped, delimiter=',')\n",
        "savetxt('arrytrain.csv', y_train, delimiter=',')\n",
        "savetxt('arrxtest.csv', x_test_reshaped, delimiter=',')\n",
        "savetxt('arrytest.csv', y_test, delimiter=',')"
      ],
      "metadata": {
        "id": "oxhtZHtkBWOe"
      },
      "execution_count": 143,
      "outputs": []
    },
    {
      "cell_type": "code",
      "source": [
        "t"
      ],
      "metadata": {
        "colab": {
          "base_uri": "https://localhost:8080/"
        },
        "id": "5dkuklgOU1cy",
        "outputId": "e1374d33-2234-43e0-8e0e-f4bd22b1db67"
      },
      "execution_count": 144,
      "outputs": [
        {
          "output_type": "execute_result",
          "data": {
            "text/plain": [
              "20"
            ]
          },
          "metadata": {},
          "execution_count": 144
        }
      ]
    }
  ]
}