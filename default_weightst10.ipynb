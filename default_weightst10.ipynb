{
  "nbformat": 4,
  "nbformat_minor": 0,
  "metadata": {
    "colab": {
      "provenance": [],
      "include_colab_link": true
    },
    "kernelspec": {
      "name": "python3",
      "display_name": "Python 3"
    },
    "language_info": {
      "name": "python"
    },
    "accelerator": "GPU",
    "gpuClass": "standard"
  },
  "cells": [
    {
      "cell_type": "markdown",
      "metadata": {
        "id": "view-in-github",
        "colab_type": "text"
      },
      "source": [
        "<a href=\"https://colab.research.google.com/github/Mayank-Bansal24/LAPLSTM-Models/blob/main/default_weightst10.ipynb\" target=\"_parent\"><img src=\"https://colab.research.google.com/assets/colab-badge.svg\" alt=\"Open In Colab\"/></a>"
      ]
    },
    {
      "cell_type": "code",
      "source": [
        "import numpy as np\n",
        "import tensorflow as tf\n",
        "from tensorflow.keras import losses as lo_ss\n",
        "from tensorflow.keras.models import Sequential\n",
        "from tensorflow.keras.layers import LSTM\n",
        "from tensorflow.keras.layers import Dense, Dropout\n",
        "import string\n",
        "import pandas as pd\n",
        "from matplotlib import pyplot as plt\n",
        "from sklearn.preprocessing import StandardScaler\n",
        "import seaborn as sns\n",
        "from sklearn import model_selection\n",
        "from sklearn.datasets import make_classification\n",
        "from sklearn.utils import class_weight\n",
        "from sklearn.metrics import classification_report , roc_auc_score\n",
        "import keras \n",
        "import keras.backend as K\n",
        "from google.colab import drive\n",
        "from numpy import savetxt"
      ],
      "metadata": {
        "id": "V1kLUX7gJ3N_"
      },
      "execution_count": 105,
      "outputs": []
    },
    {
      "cell_type": "code",
      "source": [
        "drive.mount('/content/gdrive')\n"
      ],
      "metadata": {
        "colab": {
          "base_uri": "https://localhost:8080/"
        },
        "id": "HXmXAIAJArT2",
        "outputId": "64ec7217-c879-4b05-83a2-8c94a16addd6"
      },
      "execution_count": 106,
      "outputs": [
        {
          "output_type": "stream",
          "name": "stdout",
          "text": [
            "Drive already mounted at /content/gdrive; to attempt to forcibly remount, call drive.mount(\"/content/gdrive\", force_remount=True).\n"
          ]
        }
      ]
    },
    {
      "cell_type": "code",
      "source": [
        "t=10"
      ],
      "metadata": {
        "id": "uLTug-YJDW8D"
      },
      "execution_count": 107,
      "outputs": []
    },
    {
      "cell_type": "code",
      "source": [
        "import os\n",
        "os.chdir('/content/gdrive/MyDrive/laplstm/default class weights/t'+str(t))"
      ],
      "metadata": {
        "id": "ubPkwGQnA8Wx"
      },
      "execution_count": 108,
      "outputs": []
    },
    {
      "cell_type": "code",
      "source": [
        "\n",
        "github_raw_link=\"https://raw.githubusercontent.com/Aryansh085/LAP/main/858417d1-7d54-4115-a01b-fdda5e03ada3_testing_combined_rows4035_disc_1_0p9_MULTIPLY_preproces_155cols.csv\"\n",
        "df1=pd.read_csv((github_raw_link),header = None)\n",
        "dftemp=np.array(df1)\n",
        "dftemp.shape\n",
        "dftemp2=dftemp[:,5:]\n",
        "dftemp2=np.array(dftemp2)\n",
        "print(dftemp2.shape)"
      ],
      "metadata": {
        "id": "3UWvhrydJ8hA",
        "colab": {
          "base_uri": "https://localhost:8080/"
        },
        "outputId": "d4bdf465-3f2a-4714-f127-86284a0787b4"
      },
      "execution_count": 109,
      "outputs": [
        {
          "output_type": "stream",
          "name": "stdout",
          "text": [
            "(4035, 150)\n"
          ]
        }
      ]
    },
    {
      "cell_type": "code",
      "source": [
        "# dftemp2\n",
        "dftemp2.shape\n",
        "# dftemp2=pd.DataFrame(dftemp2)\n",
        "# dftemp2.head()"
      ],
      "metadata": {
        "colab": {
          "base_uri": "https://localhost:8080/"
        },
        "id": "h00YSxPn8rUk",
        "outputId": "1b5d0a95-b36a-4829-9928-f33f2deb6770"
      },
      "execution_count": 110,
      "outputs": [
        {
          "output_type": "execute_result",
          "data": {
            "text/plain": [
              "(4035, 150)"
            ]
          },
          "metadata": {},
          "execution_count": 110
        }
      ]
    },
    {
      "cell_type": "markdown",
      "source": [
        "--> muliply the reward of that instance into the loss of that instance to give weight"
      ],
      "metadata": {
        "id": "pPfqIsthYP2X"
      }
    },
    {
      "cell_type": "code",
      "source": [
        "from sklearn.preprocessing import StandardScaler\n",
        "\n",
        "slr=StandardScaler()\n",
        "slr.fit(dftemp2)\n",
        "dftemp2 = slr.transform(dftemp2)"
      ],
      "metadata": {
        "id": "kWYAqDfnO_1i"
      },
      "execution_count": 111,
      "outputs": []
    },
    {
      "cell_type": "code",
      "source": [
        "# f1-score function\n",
        "def get_f1(y_true, y_pred): #taken from old keras source code\n",
        "    true_positives = K.sum(K.round(K.clip(y_true * y_pred, 0, 1)))\n",
        "    possible_positives = K.sum(K.round(K.clip(y_true, 0, 1)))\n",
        "    predicted_positives = K.sum(K.round(K.clip(y_pred, 0, 1)))\n",
        "    precision = true_positives / (predicted_positives + K.epsilon())\n",
        "    recall = true_positives / (possible_positives + K.epsilon())\n",
        "    f1_val = 2*(precision*recall)/(precision+recall+K.epsilon())\n",
        "    return f1_val\n",
        "    "
      ],
      "metadata": {
        "id": "4i-6LDL58GyW"
      },
      "execution_count": 112,
      "outputs": []
    },
    {
      "cell_type": "code",
      "source": [],
      "metadata": {
        "id": "83zizsyvKHzh"
      },
      "execution_count": 112,
      "outputs": []
    },
    {
      "cell_type": "code",
      "source": [
        "y=np.array(dftemp[:,0])\n",
        "print(y)\n",
        "y_new=y[t:]\n",
        "y_new.shape\n"
      ],
      "metadata": {
        "colab": {
          "base_uri": "https://localhost:8080/"
        },
        "id": "XmXnkjOiKIGQ",
        "outputId": "bfe9bb34-71ec-46aa-f1a4-fce7d0d7e7cc"
      },
      "execution_count": 113,
      "outputs": [
        {
          "output_type": "stream",
          "name": "stdout",
          "text": [
            "[2. 0. 0. ... 0. 2. 2.]\n"
          ]
        },
        {
          "output_type": "execute_result",
          "data": {
            "text/plain": [
              "(4025,)"
            ]
          },
          "metadata": {},
          "execution_count": 113
        }
      ]
    },
    {
      "cell_type": "code",
      "source": [
        "x=np.array(dftemp2)\n",
        "# print(x)\n",
        "# print(x.shape)\n",
        "x.shape,y_new.shape"
      ],
      "metadata": {
        "colab": {
          "base_uri": "https://localhost:8080/"
        },
        "id": "3JPzLQQmKhZk",
        "outputId": "8f77d2be-0e86-402d-b853-3f963b44ad99"
      },
      "execution_count": 114,
      "outputs": [
        {
          "output_type": "execute_result",
          "data": {
            "text/plain": [
              "((4035, 150), (4025,))"
            ]
          },
          "metadata": {},
          "execution_count": 114
        }
      ]
    },
    {
      "cell_type": "code",
      "source": [
        "x_3d=[]\n",
        "for i in range(4035-t):\n",
        "  tmp=[]\n",
        "  for j in range(t):\n",
        "    tmp.append(x[j+i])\n",
        "  x_3d.append(tmp)\n",
        "x_3d= np.array(x_3d)\n",
        "x_3d.shape"
      ],
      "metadata": {
        "colab": {
          "base_uri": "https://localhost:8080/"
        },
        "id": "hdDY6fhENZ2-",
        "outputId": "8179a342-4932-46c5-ed1b-b1f5e7db63f2"
      },
      "execution_count": 115,
      "outputs": [
        {
          "output_type": "execute_result",
          "data": {
            "text/plain": [
              "(4025, 10, 150)"
            ]
          },
          "metadata": {},
          "execution_count": 115
        }
      ]
    },
    {
      "cell_type": "code",
      "source": [
        "train_test_ratio=0.8\n",
        "print(x_3d.shape[0])\n",
        "x_train=[]\n",
        "y_train=[]\n",
        "x_test=[]\n",
        "y_test=[]\n",
        "for i in range(x_3d.shape[0]):\n",
        "  l=[]\n",
        "  ly=[]\n",
        "  no=np.random.randint(100)\n",
        "  if(no<80):\n",
        "    l=x_3d[i]\n",
        "    ly=y_new[i]\n",
        "    x_train.append(l)\n",
        "    y_train.append(ly)\n",
        "  else:\n",
        "    l=x_3d[i]\n",
        "    ly=y_new[i]\n",
        "    x_test.append(l)\n",
        "    y_test.append(ly)\n",
        "\n",
        "\n",
        "x_train=np.array(x_train)\n",
        "y_train=np.array(y_train)\n",
        "x_test=np.array(x_test)\n",
        "y_test=np.array(y_test)\n",
        "x_train.shape,y_train.shape,x_test.shape,y_test.shape"
      ],
      "metadata": {
        "colab": {
          "base_uri": "https://localhost:8080/"
        },
        "id": "AwnZ3Mh1Khi8",
        "outputId": "6b821d7e-976c-45ba-df67-2ccf366a1aa5"
      },
      "execution_count": 116,
      "outputs": [
        {
          "output_type": "stream",
          "name": "stdout",
          "text": [
            "4025\n"
          ]
        },
        {
          "output_type": "execute_result",
          "data": {
            "text/plain": [
              "((3241, 10, 150), (3241,), (784, 10, 150), (784,))"
            ]
          },
          "metadata": {},
          "execution_count": 116
        }
      ]
    },
    {
      "cell_type": "code",
      "source": [
        "cnt0=0\n",
        "cnt1=0\n",
        "cnt2=0\n",
        "for i in range(x_train.shape[0]):\n",
        "  if(y_train[i]==0):\n",
        "    cnt0+=1\n",
        "  elif(y_train[i]==1):\n",
        "    cnt1+=1\n",
        "  elif(y_train[i]==2):\n",
        "    cnt2+=1\n",
        "print(cnt0)\n",
        "print(cnt1)\n",
        "print(cnt2)  "
      ],
      "metadata": {
        "colab": {
          "base_uri": "https://localhost:8080/"
        },
        "id": "xlijLVYecmcq",
        "outputId": "fc7ca0eb-80d7-48cb-92a7-741d203c1043"
      },
      "execution_count": 117,
      "outputs": [
        {
          "output_type": "stream",
          "name": "stdout",
          "text": [
            "1480\n",
            "840\n",
            "921\n"
          ]
        }
      ]
    },
    {
      "cell_type": "code",
      "source": [
        "sklearn_weights=class_weight.compute_class_weight(class_weight='balanced',classes=np.unique(y_train),y=y_train)\n",
        "sklearn_weights=dict(zip(np.unique(y_train),sklearn_weights))\n",
        "sklearn_weights"
      ],
      "metadata": {
        "colab": {
          "base_uri": "https://localhost:8080/"
        },
        "id": "EYzwuCcAbDKT",
        "outputId": "e4075a33-9cea-4ac4-e932-7679bdb3d9e6"
      },
      "execution_count": 118,
      "outputs": [
        {
          "output_type": "execute_result",
          "data": {
            "text/plain": [
              "{0.0: 0.729954954954955, 1.0: 1.2861111111111112, 2.0: 1.1730003619254434}"
            ]
          },
          "metadata": {},
          "execution_count": 118
        }
      ]
    },
    {
      "cell_type": "code",
      "source": [
        "\n",
        "# model = Sequential()\n",
        "# model.add(LSTM(200, activation='relu', return_sequences=True, input_shape=( t,150,)))\n",
        "# model.add(LSTM(100, activation='relu', return_sequences=True))\n",
        "# model.add(LSTM(50, activation='relu', return_sequences=True))\n",
        "# model.add(LSTM(25, activation='relu'))\n",
        "# model.add(Dense(20, activation='relu'))\n",
        "# model.add(Dense(10, activation='relu'))\n",
        "# model.add(Dense(3))\n",
        "# model.compile(optimizer='SGD', loss='sparse_categorical_crossentropy',metrics=['accuracy'])\n",
        "# history = model.fit(x_train, y_train, epochs=10, validation_split=0.2, verbose=1)\n",
        "# test_output = model.predict(x_test, verbose=1)\n",
        "# # history = model.fit(X, Y, epochs=1000, validation_split=0.2, verbose=1)\n",
        "# # test_output = model.predict(x=, verbose=0)\n",
        "# # print(test_output)"
      ],
      "metadata": {
        "id": "rhgsSos1KIbA"
      },
      "execution_count": 119,
      "outputs": []
    },
    {
      "cell_type": "code",
      "source": [
        "# sklearn_weights={0:1738,1:2348,2:2362}\n",
        "model = Sequential()\n",
        "model.add(LSTM(200, activation='relu', return_sequences=True, input_shape=( t,150,)))\n",
        "model.add(LSTM(400, activation='relu', return_sequences=True))\n",
        "model.add(LSTM(800, activation='relu', return_sequences=True))\n",
        "model.add(LSTM(150, activation='relu'))\n",
        "model.add(Dense(100, activation='relu'))\n",
        "model.add(Dense(64, activation='relu'))\n",
        "model.add(Dense(10, activation='relu'))\n",
        "model.add(Dense(3,activation='sigmoid'))\n",
        "optimi=keras.optimizers.Adam()\n",
        "model.compile(optimizer=optimi, loss='sparse_categorical_crossentropy',metrics=['accuracy',get_f1])\n",
        "\n",
        "# history = model.fit(x_train, y_train, epochs=30, validation_split=0.2, verbose=1)\n",
        "history = model.fit(x_train, y_train, epochs=25, validation_split=0.2, verbose=1,class_weight=sklearn_weights)\n",
        "test_output = model.predict(x_test, verbose=1)\n"
      ],
      "metadata": {
        "colab": {
          "base_uri": "https://localhost:8080/"
        },
        "id": "lwHPGS2iXMXc",
        "outputId": "f9cdcb0a-6fd9-45ef-fa0b-c500fead04cf"
      },
      "execution_count": 120,
      "outputs": [
        {
          "output_type": "stream",
          "name": "stderr",
          "text": [
            "WARNING:tensorflow:Layer lstm_20 will not use cuDNN kernels since it doesn't meet the criteria. It will use a generic GPU kernel as fallback when running on GPU.\n",
            "WARNING:tensorflow:Layer lstm_21 will not use cuDNN kernels since it doesn't meet the criteria. It will use a generic GPU kernel as fallback when running on GPU.\n",
            "WARNING:tensorflow:Layer lstm_22 will not use cuDNN kernels since it doesn't meet the criteria. It will use a generic GPU kernel as fallback when running on GPU.\n",
            "WARNING:tensorflow:Layer lstm_23 will not use cuDNN kernels since it doesn't meet the criteria. It will use a generic GPU kernel as fallback when running on GPU.\n"
          ]
        },
        {
          "output_type": "stream",
          "name": "stdout",
          "text": [
            "Epoch 1/25\n",
            "81/81 [==============================] - 8s 52ms/step - loss: 1.0929 - accuracy: 0.3372 - get_f1: 1.8909 - val_loss: 1.0957 - val_accuracy: 0.4222 - val_get_f1: 3.9925\n",
            "Epoch 2/25\n",
            "81/81 [==============================] - 4s 43ms/step - loss: 1.0796 - accuracy: 0.4263 - get_f1: 2.4232 - val_loss: 1.0707 - val_accuracy: 0.3621 - val_get_f1: 1.9391\n",
            "Epoch 3/25\n",
            "81/81 [==============================] - 5s 59ms/step - loss: 0.9257 - accuracy: 0.4618 - get_f1: 1.6251 - val_loss: 1.2451 - val_accuracy: 0.3205 - val_get_f1: 1.4125\n",
            "Epoch 4/25\n",
            "81/81 [==============================] - 4s 43ms/step - loss: 0.6784 - accuracy: 0.5571 - get_f1: 0.9875 - val_loss: 1.3936 - val_accuracy: 0.4191 - val_get_f1: 1.1441\n",
            "Epoch 5/25\n",
            "81/81 [==============================] - 4s 43ms/step - loss: 0.6048 - accuracy: 0.6435 - get_f1: 0.8977 - val_loss: 1.8155 - val_accuracy: 0.3482 - val_get_f1: 0.9787\n",
            "Epoch 6/25\n",
            "81/81 [==============================] - 3s 43ms/step - loss: 0.4850 - accuracy: 0.7832 - get_f1: 0.9439 - val_loss: 1.6753 - val_accuracy: 0.4006 - val_get_f1: 0.9390\n",
            "Epoch 7/25\n",
            "81/81 [==============================] - 3s 43ms/step - loss: 0.3904 - accuracy: 0.8399 - get_f1: 0.9631 - val_loss: 1.7747 - val_accuracy: 0.3806 - val_get_f1: 0.9338\n",
            "Epoch 8/25\n",
            "81/81 [==============================] - 3s 43ms/step - loss: 0.2970 - accuracy: 0.8823 - get_f1: 0.9600 - val_loss: 2.1663 - val_accuracy: 0.3991 - val_get_f1: 0.8462\n",
            "Epoch 9/25\n",
            "81/81 [==============================] - 3s 43ms/step - loss: 0.2184 - accuracy: 0.9113 - get_f1: 0.9832 - val_loss: 2.6238 - val_accuracy: 0.3898 - val_get_f1: 0.8596\n",
            "Epoch 10/25\n",
            "81/81 [==============================] - 4s 44ms/step - loss: 0.1730 - accuracy: 0.9348 - get_f1: 0.9960 - val_loss: 3.6775 - val_accuracy: 0.4191 - val_get_f1: 0.8240\n",
            "Epoch 11/25\n",
            "81/81 [==============================] - 4s 44ms/step - loss: 0.1464 - accuracy: 0.9464 - get_f1: 1.0021 - val_loss: 3.5887 - val_accuracy: 0.3929 - val_get_f1: 0.8034\n",
            "Epoch 12/25\n",
            "81/81 [==============================] - 3s 43ms/step - loss: 0.1246 - accuracy: 0.9487 - get_f1: 1.0003 - val_loss: 3.1000 - val_accuracy: 0.3852 - val_get_f1: 0.7890\n",
            "Epoch 13/25\n",
            "81/81 [==============================] - 3s 42ms/step - loss: 0.0763 - accuracy: 0.9718 - get_f1: 1.0131 - val_loss: 4.8445 - val_accuracy: 0.3914 - val_get_f1: 0.7806\n",
            "Epoch 14/25\n",
            "81/81 [==============================] - 3s 43ms/step - loss: 0.2204 - accuracy: 0.9599 - get_f1: 1.1478 - val_loss: 2.7746 - val_accuracy: 0.4068 - val_get_f1: 1.1685\n",
            "Epoch 15/25\n",
            "81/81 [==============================] - 4s 43ms/step - loss: 0.1093 - accuracy: 0.9633 - get_f1: 1.2850 - val_loss: 3.5884 - val_accuracy: 0.4006 - val_get_f1: 0.8078\n",
            "Epoch 16/25\n",
            "81/81 [==============================] - 3s 42ms/step - loss: 0.0592 - accuracy: 0.9815 - get_f1: 1.2307 - val_loss: 4.2389 - val_accuracy: 0.4068 - val_get_f1: 0.7786\n",
            "Epoch 17/25\n",
            "81/81 [==============================] - 3s 43ms/step - loss: 0.0510 - accuracy: 0.9834 - get_f1: 1.1636 - val_loss: 4.6940 - val_accuracy: 0.3991 - val_get_f1: 0.7639\n",
            "Epoch 18/25\n",
            "81/81 [==============================] - 4s 52ms/step - loss: 0.0290 - accuracy: 0.9923 - get_f1: 1.1544 - val_loss: 5.3310 - val_accuracy: 0.3790 - val_get_f1: 0.7802\n",
            "Epoch 19/25\n",
            "81/81 [==============================] - 4s 51ms/step - loss: 0.0549 - accuracy: 0.9807 - get_f1: 1.1230 - val_loss: 5.4395 - val_accuracy: 0.4083 - val_get_f1: 0.8035\n",
            "Epoch 20/25\n",
            "81/81 [==============================] - 3s 43ms/step - loss: 0.0587 - accuracy: 0.9761 - get_f1: 1.1381 - val_loss: 3.9027 - val_accuracy: 0.3744 - val_get_f1: 0.8716\n",
            "Epoch 21/25\n",
            "81/81 [==============================] - 3s 43ms/step - loss: 0.1647 - accuracy: 0.9456 - get_f1: 1.0858 - val_loss: 3.4183 - val_accuracy: 0.3729 - val_get_f1: 0.8363\n",
            "Epoch 22/25\n",
            "81/81 [==============================] - 3s 43ms/step - loss: 0.0543 - accuracy: 0.9784 - get_f1: 1.0819 - val_loss: 3.8110 - val_accuracy: 0.3837 - val_get_f1: 0.8152\n",
            "Epoch 23/25\n",
            "81/81 [==============================] - 3s 42ms/step - loss: 0.1415 - accuracy: 0.9776 - get_f1: 0.9919 - val_loss: 3.2872 - val_accuracy: 0.3698 - val_get_f1: 0.8064\n",
            "Epoch 24/25\n",
            "81/81 [==============================] - 4s 43ms/step - loss: 0.1390 - accuracy: 0.9522 - get_f1: 1.3351 - val_loss: 3.3772 - val_accuracy: 0.3729 - val_get_f1: 1.0302\n",
            "Epoch 25/25\n",
            "81/81 [==============================] - 3s 43ms/step - loss: 0.0504 - accuracy: 0.9807 - get_f1: 1.2159 - val_loss: 3.3091 - val_accuracy: 0.4006 - val_get_f1: 1.0653\n",
            "25/25 [==============================] - 1s 9ms/step\n"
          ]
        }
      ]
    },
    {
      "cell_type": "code",
      "source": [
        "test_output_1=np.array([np.argmax(i)  for i in test_output])\n",
        "from sklearn.metrics import confusion_matrix,accuracy_score\n",
        "print(confusion_matrix(y_test,test_output_1))\n",
        "test_output=pd.DataFrame(test_output)\n",
        "print(accuracy_score(y_test,test_output_1))\n"
      ],
      "metadata": {
        "id": "Q_hmR6MK_Bq5",
        "colab": {
          "base_uri": "https://localhost:8080/"
        },
        "outputId": "dded8b99-d246-4855-f626-603594005c01"
      },
      "execution_count": 121,
      "outputs": [
        {
          "output_type": "stream",
          "name": "stdout",
          "text": [
            "[[273  38  32]\n",
            " [ 94 116   5]\n",
            " [114   7 105]]\n",
            "0.6301020408163265\n"
          ]
        }
      ]
    },
    {
      "cell_type": "code",
      "source": [
        "print(get_f1(y_test.astype('float32'), test_output_1.astype('float32')))"
      ],
      "metadata": {
        "colab": {
          "base_uri": "https://localhost:8080/"
        },
        "id": "ZsHojwC3G8gQ",
        "outputId": "ece67849-515a-4df4-beb9-b64d4f935af2"
      },
      "execution_count": 122,
      "outputs": [
        {
          "output_type": "stream",
          "name": "stdout",
          "text": [
            "tf.Tensor(0.6263441, shape=(), dtype=float32)\n"
          ]
        }
      ]
    },
    {
      "cell_type": "code",
      "source": [
        "x_train_reshaped = x_train.reshape(x_train.shape[0], -1)\n",
        "x_test_reshaped = x_test.reshape(x_test.shape[0], -1)\n",
        "savetxt('arrxtrain.csv', x_train_reshaped, delimiter=',')\n",
        "savetxt('arrytrain.csv', y_train, delimiter=',')\n",
        "savetxt('arrxtest.csv', x_test_reshaped, delimiter=',')\n",
        "savetxt('arrytest.csv', y_test, delimiter=',')"
      ],
      "metadata": {
        "id": "oxhtZHtkBWOe"
      },
      "execution_count": 123,
      "outputs": []
    },
    {
      "cell_type": "code",
      "source": [
        "t"
      ],
      "metadata": {
        "colab": {
          "base_uri": "https://localhost:8080/"
        },
        "id": "5dkuklgOU1cy",
        "outputId": "bd4ab1b8-ac90-45ce-ee7e-c34eec034459"
      },
      "execution_count": 124,
      "outputs": [
        {
          "output_type": "execute_result",
          "data": {
            "text/plain": [
              "10"
            ]
          },
          "metadata": {},
          "execution_count": 124
        }
      ]
    }
  ]
}