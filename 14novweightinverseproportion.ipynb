{
  "nbformat": 4,
  "nbformat_minor": 0,
  "metadata": {
    "colab": {
      "provenance": [],
      "collapsed_sections": [],
      "include_colab_link": true
    },
    "kernelspec": {
      "name": "python3",
      "display_name": "Python 3"
    },
    "language_info": {
      "name": "python"
    },
    "accelerator": "GPU",
    "gpuClass": "standard"
  },
  "cells": [
    {
      "cell_type": "markdown",
      "metadata": {
        "id": "view-in-github",
        "colab_type": "text"
      },
      "source": [
        "<a href=\"https://colab.research.google.com/github/Mayank-Bansal24/LAPLSTM-Models/blob/main/14novweightinverseproportion.ipynb\" target=\"_parent\"><img src=\"https://colab.research.google.com/assets/colab-badge.svg\" alt=\"Open In Colab\"/></a>"
      ]
    },
    {
      "cell_type": "code",
      "execution_count": null,
      "metadata": {
        "id": "B_3DSfT8JxF9"
      },
      "outputs": [],
      "source": []
    },
    {
      "cell_type": "code",
      "source": [
        "import numpy as np\n",
        "import tensorflow as tf\n",
        "from tensorflow.keras import losses as lo_ss\n",
        "from tensorflow.keras.models import Sequential\n",
        "from tensorflow.keras.layers import LSTM\n",
        "from tensorflow.keras.layers import Dense, Dropout\n",
        "import pandas as pd\n",
        "from matplotlib import pyplot as plt\n",
        "from sklearn.preprocessing import StandardScaler\n",
        "import seaborn as sns\n",
        "from sklearn import model_selection"
      ],
      "metadata": {
        "id": "V1kLUX7gJ3N_"
      },
      "execution_count": null,
      "outputs": []
    },
    {
      "cell_type": "code",
      "source": [
        "from sklearn.datasets import make_classification\n",
        "from sklearn.utils import class_weight\n",
        "from sklearn.metrics import classification_report , roc_auc_score"
      ],
      "metadata": {
        "id": "ChhnE7UCbGLA"
      },
      "execution_count": null,
      "outputs": []
    },
    {
      "cell_type": "code",
      "source": [
        "import os\n",
        "github_raw_link=\"https://raw.githubusercontent.com/Aryansh085/LAP/main/858417d1-7d54-4115-a01b-fdda5e03ada3_testing_combined_rows4035_disc_1_0p9_MULTIPLY_preproces_155cols.csv\"\n",
        "df1=pd.read_csv((github_raw_link),header = None)\n",
        "dftemp=np.array(df1)\n",
        "dftemp.shape\n",
        "dftemp2=dftemp[:,5:]\n",
        "dftemp2=np.array(dftemp2)\n",
        "print(dftemp2.shape)"
      ],
      "metadata": {
        "id": "3UWvhrydJ8hA",
        "colab": {
          "base_uri": "https://localhost:8080/"
        },
        "outputId": "00a0d0e0-06df-48b8-d294-2a298db2e617"
      },
      "execution_count": null,
      "outputs": [
        {
          "output_type": "stream",
          "name": "stdout",
          "text": [
            "(4035, 150)\n"
          ]
        }
      ]
    },
    {
      "cell_type": "code",
      "source": [
        "dftemp2"
      ],
      "metadata": {
        "colab": {
          "base_uri": "https://localhost:8080/"
        },
        "id": "h00YSxPn8rUk",
        "outputId": "3a68f71b-e9c1-40d3-c817-e3c5aea63da0"
      },
      "execution_count": null,
      "outputs": [
        {
          "output_type": "execute_result",
          "data": {
            "text/plain": [
              "array([[ 5928.83335518,   796.35823886, -2237.60161204, ...,\n",
              "          -15.699306  ,  -114.85299429,  -125.04863114],\n",
              "       [ -861.30872747,  2307.82893916,  1422.32841779, ...,\n",
              "           13.9362878 ,   261.75236954,    15.2645003 ],\n",
              "       [-1851.18887014, -1823.48970586, -1483.76235541, ...,\n",
              "          -63.85885517,   -79.85176543,   -36.49683727],\n",
              "       ...,\n",
              "       [ 7523.64392668, -1346.51804904,  -437.24597374, ...,\n",
              "         -357.30718089,  -178.38042189,    75.12132205],\n",
              "       [-1639.43181652,  3837.66082759,  -218.35057395, ...,\n",
              "         -194.79629389,  -248.0217652 ,  -117.95138105],\n",
              "       [-1687.91842227, -1416.74591555,  1508.833009  , ...,\n",
              "         -174.86338979,   158.6163271 ,    23.58951279]])"
            ]
          },
          "metadata": {},
          "execution_count": 125
        }
      ]
    },
    {
      "cell_type": "markdown",
      "source": [
        "--> muliply the reward of that instance into the loss of that instance to give weight"
      ],
      "metadata": {
        "id": "pPfqIsthYP2X"
      }
    },
    {
      "cell_type": "code",
      "source": [
        "# df.dropna()"
      ],
      "metadata": {
        "id": "m5HGYJWIKB5x"
      },
      "execution_count": null,
      "outputs": []
    },
    {
      "cell_type": "code",
      "source": [
        "dftemp2.shape"
      ],
      "metadata": {
        "colab": {
          "base_uri": "https://localhost:8080/"
        },
        "id": "A1ZL96Z_P2mm",
        "outputId": "b7d63e16-e763-4a7a-b7e8-4e2a06e82cb6"
      },
      "execution_count": null,
      "outputs": [
        {
          "output_type": "execute_result",
          "data": {
            "text/plain": [
              "(4035, 150)"
            ]
          },
          "metadata": {},
          "execution_count": 127
        }
      ]
    },
    {
      "cell_type": "code",
      "source": [
        "from sklearn.preprocessing import StandardScaler\n",
        "\n",
        "\n",
        "slr=StandardScaler()\n",
        "slr.fit(dftemp2)\n",
        "dftemp2 = slr.transform(dftemp2)"
      ],
      "metadata": {
        "id": "kWYAqDfnO_1i"
      },
      "execution_count": null,
      "outputs": []
    },
    {
      "cell_type": "code",
      "source": [
        "\n",
        "dftemp2=pd.DataFrame(dftemp2)\n",
        "dftemp2.head()\n"
      ],
      "metadata": {
        "colab": {
          "base_uri": "https://localhost:8080/",
          "height": 279
        },
        "id": "iMZo_JvyPKWe",
        "outputId": "5711c44b-e720-464f-8be2-f1789ed2c5c9"
      },
      "execution_count": null,
      "outputs": [
        {
          "output_type": "execute_result",
          "data": {
            "text/plain": [
              "        0         1         2         3         4         5         6    \\\n",
              "0  1.750036  0.350342 -1.341973 -2.795068  0.432952  0.474938 -1.574554   \n",
              "1 -0.254578  1.008169  0.819884 -1.666252 -0.495354 -0.246320 -0.306173   \n",
              "2 -0.546815 -0.789877 -0.896693  0.609252 -1.785813  0.671458 -1.346309   \n",
              "3  1.129433  1.576726 -1.089738 -0.159556 -0.237411 -0.771867  1.524618   \n",
              "4 -0.692797 -0.435498 -1.673149  0.045856  0.292185 -1.561811  0.780544   \n",
              "\n",
              "        7         8         9    ...       140       141       142       143  \\\n",
              "0 -0.439485 -1.486932 -1.585869  ... -1.015021 -0.795066 -1.952407 -0.866407   \n",
              "1 -0.182138  0.162858 -0.850303  ...  1.485140 -0.294316  1.076433 -0.578114   \n",
              "2  0.051911  1.257504  0.635510  ...  1.064428  0.506085 -0.692270  0.803917   \n",
              "3 -0.068071 -0.171521  0.341681  ... -0.958503 -0.795708 -0.132790  0.018378   \n",
              "4 -0.000231 -1.402506  0.866888  ...  0.353773 -1.160216 -0.357106  0.220035   \n",
              "\n",
              "        144       145       146       147       148       149  \n",
              "0 -3.145759  3.099274 -0.818265 -0.095863 -0.652975 -0.693894  \n",
              "1  0.625668  0.116021  1.182070  0.071192  1.467883  0.099011  \n",
              "2  0.736296 -0.473514  0.512632 -0.367337 -0.455865 -0.193491  \n",
              "3 -0.432966 -0.066116 -0.006371 -0.472373  0.181778  0.074862  \n",
              "4  0.144812 -0.401812  0.585473 -0.644445  0.811905 -0.621054  \n",
              "\n",
              "[5 rows x 150 columns]"
            ],
            "text/html": [
              "\n",
              "  <div id=\"df-d187ba66-a5c7-4901-b797-73c99c094ab4\">\n",
              "    <div class=\"colab-df-container\">\n",
              "      <div>\n",
              "<style scoped>\n",
              "    .dataframe tbody tr th:only-of-type {\n",
              "        vertical-align: middle;\n",
              "    }\n",
              "\n",
              "    .dataframe tbody tr th {\n",
              "        vertical-align: top;\n",
              "    }\n",
              "\n",
              "    .dataframe thead th {\n",
              "        text-align: right;\n",
              "    }\n",
              "</style>\n",
              "<table border=\"1\" class=\"dataframe\">\n",
              "  <thead>\n",
              "    <tr style=\"text-align: right;\">\n",
              "      <th></th>\n",
              "      <th>0</th>\n",
              "      <th>1</th>\n",
              "      <th>2</th>\n",
              "      <th>3</th>\n",
              "      <th>4</th>\n",
              "      <th>5</th>\n",
              "      <th>6</th>\n",
              "      <th>7</th>\n",
              "      <th>8</th>\n",
              "      <th>9</th>\n",
              "      <th>...</th>\n",
              "      <th>140</th>\n",
              "      <th>141</th>\n",
              "      <th>142</th>\n",
              "      <th>143</th>\n",
              "      <th>144</th>\n",
              "      <th>145</th>\n",
              "      <th>146</th>\n",
              "      <th>147</th>\n",
              "      <th>148</th>\n",
              "      <th>149</th>\n",
              "    </tr>\n",
              "  </thead>\n",
              "  <tbody>\n",
              "    <tr>\n",
              "      <th>0</th>\n",
              "      <td>1.750036</td>\n",
              "      <td>0.350342</td>\n",
              "      <td>-1.341973</td>\n",
              "      <td>-2.795068</td>\n",
              "      <td>0.432952</td>\n",
              "      <td>0.474938</td>\n",
              "      <td>-1.574554</td>\n",
              "      <td>-0.439485</td>\n",
              "      <td>-1.486932</td>\n",
              "      <td>-1.585869</td>\n",
              "      <td>...</td>\n",
              "      <td>-1.015021</td>\n",
              "      <td>-0.795066</td>\n",
              "      <td>-1.952407</td>\n",
              "      <td>-0.866407</td>\n",
              "      <td>-3.145759</td>\n",
              "      <td>3.099274</td>\n",
              "      <td>-0.818265</td>\n",
              "      <td>-0.095863</td>\n",
              "      <td>-0.652975</td>\n",
              "      <td>-0.693894</td>\n",
              "    </tr>\n",
              "    <tr>\n",
              "      <th>1</th>\n",
              "      <td>-0.254578</td>\n",
              "      <td>1.008169</td>\n",
              "      <td>0.819884</td>\n",
              "      <td>-1.666252</td>\n",
              "      <td>-0.495354</td>\n",
              "      <td>-0.246320</td>\n",
              "      <td>-0.306173</td>\n",
              "      <td>-0.182138</td>\n",
              "      <td>0.162858</td>\n",
              "      <td>-0.850303</td>\n",
              "      <td>...</td>\n",
              "      <td>1.485140</td>\n",
              "      <td>-0.294316</td>\n",
              "      <td>1.076433</td>\n",
              "      <td>-0.578114</td>\n",
              "      <td>0.625668</td>\n",
              "      <td>0.116021</td>\n",
              "      <td>1.182070</td>\n",
              "      <td>0.071192</td>\n",
              "      <td>1.467883</td>\n",
              "      <td>0.099011</td>\n",
              "    </tr>\n",
              "    <tr>\n",
              "      <th>2</th>\n",
              "      <td>-0.546815</td>\n",
              "      <td>-0.789877</td>\n",
              "      <td>-0.896693</td>\n",
              "      <td>0.609252</td>\n",
              "      <td>-1.785813</td>\n",
              "      <td>0.671458</td>\n",
              "      <td>-1.346309</td>\n",
              "      <td>0.051911</td>\n",
              "      <td>1.257504</td>\n",
              "      <td>0.635510</td>\n",
              "      <td>...</td>\n",
              "      <td>1.064428</td>\n",
              "      <td>0.506085</td>\n",
              "      <td>-0.692270</td>\n",
              "      <td>0.803917</td>\n",
              "      <td>0.736296</td>\n",
              "      <td>-0.473514</td>\n",
              "      <td>0.512632</td>\n",
              "      <td>-0.367337</td>\n",
              "      <td>-0.455865</td>\n",
              "      <td>-0.193491</td>\n",
              "    </tr>\n",
              "    <tr>\n",
              "      <th>3</th>\n",
              "      <td>1.129433</td>\n",
              "      <td>1.576726</td>\n",
              "      <td>-1.089738</td>\n",
              "      <td>-0.159556</td>\n",
              "      <td>-0.237411</td>\n",
              "      <td>-0.771867</td>\n",
              "      <td>1.524618</td>\n",
              "      <td>-0.068071</td>\n",
              "      <td>-0.171521</td>\n",
              "      <td>0.341681</td>\n",
              "      <td>...</td>\n",
              "      <td>-0.958503</td>\n",
              "      <td>-0.795708</td>\n",
              "      <td>-0.132790</td>\n",
              "      <td>0.018378</td>\n",
              "      <td>-0.432966</td>\n",
              "      <td>-0.066116</td>\n",
              "      <td>-0.006371</td>\n",
              "      <td>-0.472373</td>\n",
              "      <td>0.181778</td>\n",
              "      <td>0.074862</td>\n",
              "    </tr>\n",
              "    <tr>\n",
              "      <th>4</th>\n",
              "      <td>-0.692797</td>\n",
              "      <td>-0.435498</td>\n",
              "      <td>-1.673149</td>\n",
              "      <td>0.045856</td>\n",
              "      <td>0.292185</td>\n",
              "      <td>-1.561811</td>\n",
              "      <td>0.780544</td>\n",
              "      <td>-0.000231</td>\n",
              "      <td>-1.402506</td>\n",
              "      <td>0.866888</td>\n",
              "      <td>...</td>\n",
              "      <td>0.353773</td>\n",
              "      <td>-1.160216</td>\n",
              "      <td>-0.357106</td>\n",
              "      <td>0.220035</td>\n",
              "      <td>0.144812</td>\n",
              "      <td>-0.401812</td>\n",
              "      <td>0.585473</td>\n",
              "      <td>-0.644445</td>\n",
              "      <td>0.811905</td>\n",
              "      <td>-0.621054</td>\n",
              "    </tr>\n",
              "  </tbody>\n",
              "</table>\n",
              "<p>5 rows × 150 columns</p>\n",
              "</div>\n",
              "      <button class=\"colab-df-convert\" onclick=\"convertToInteractive('df-d187ba66-a5c7-4901-b797-73c99c094ab4')\"\n",
              "              title=\"Convert this dataframe to an interactive table.\"\n",
              "              style=\"display:none;\">\n",
              "        \n",
              "  <svg xmlns=\"http://www.w3.org/2000/svg\" height=\"24px\"viewBox=\"0 0 24 24\"\n",
              "       width=\"24px\">\n",
              "    <path d=\"M0 0h24v24H0V0z\" fill=\"none\"/>\n",
              "    <path d=\"M18.56 5.44l.94 2.06.94-2.06 2.06-.94-2.06-.94-.94-2.06-.94 2.06-2.06.94zm-11 1L8.5 8.5l.94-2.06 2.06-.94-2.06-.94L8.5 2.5l-.94 2.06-2.06.94zm10 10l.94 2.06.94-2.06 2.06-.94-2.06-.94-.94-2.06-.94 2.06-2.06.94z\"/><path d=\"M17.41 7.96l-1.37-1.37c-.4-.4-.92-.59-1.43-.59-.52 0-1.04.2-1.43.59L10.3 9.45l-7.72 7.72c-.78.78-.78 2.05 0 2.83L4 21.41c.39.39.9.59 1.41.59.51 0 1.02-.2 1.41-.59l7.78-7.78 2.81-2.81c.8-.78.8-2.07 0-2.86zM5.41 20L4 18.59l7.72-7.72 1.47 1.35L5.41 20z\"/>\n",
              "  </svg>\n",
              "      </button>\n",
              "      \n",
              "  <style>\n",
              "    .colab-df-container {\n",
              "      display:flex;\n",
              "      flex-wrap:wrap;\n",
              "      gap: 12px;\n",
              "    }\n",
              "\n",
              "    .colab-df-convert {\n",
              "      background-color: #E8F0FE;\n",
              "      border: none;\n",
              "      border-radius: 50%;\n",
              "      cursor: pointer;\n",
              "      display: none;\n",
              "      fill: #1967D2;\n",
              "      height: 32px;\n",
              "      padding: 0 0 0 0;\n",
              "      width: 32px;\n",
              "    }\n",
              "\n",
              "    .colab-df-convert:hover {\n",
              "      background-color: #E2EBFA;\n",
              "      box-shadow: 0px 1px 2px rgba(60, 64, 67, 0.3), 0px 1px 3px 1px rgba(60, 64, 67, 0.15);\n",
              "      fill: #174EA6;\n",
              "    }\n",
              "\n",
              "    [theme=dark] .colab-df-convert {\n",
              "      background-color: #3B4455;\n",
              "      fill: #D2E3FC;\n",
              "    }\n",
              "\n",
              "    [theme=dark] .colab-df-convert:hover {\n",
              "      background-color: #434B5C;\n",
              "      box-shadow: 0px 1px 3px 1px rgba(0, 0, 0, 0.15);\n",
              "      filter: drop-shadow(0px 1px 2px rgba(0, 0, 0, 0.3));\n",
              "      fill: #FFFFFF;\n",
              "    }\n",
              "  </style>\n",
              "\n",
              "      <script>\n",
              "        const buttonEl =\n",
              "          document.querySelector('#df-d187ba66-a5c7-4901-b797-73c99c094ab4 button.colab-df-convert');\n",
              "        buttonEl.style.display =\n",
              "          google.colab.kernel.accessAllowed ? 'block' : 'none';\n",
              "\n",
              "        async function convertToInteractive(key) {\n",
              "          const element = document.querySelector('#df-d187ba66-a5c7-4901-b797-73c99c094ab4');\n",
              "          const dataTable =\n",
              "            await google.colab.kernel.invokeFunction('convertToInteractive',\n",
              "                                                     [key], {});\n",
              "          if (!dataTable) return;\n",
              "\n",
              "          const docLinkHtml = 'Like what you see? Visit the ' +\n",
              "            '<a target=\"_blank\" href=https://colab.research.google.com/notebooks/data_table.ipynb>data table notebook</a>'\n",
              "            + ' to learn more about interactive tables.';\n",
              "          element.innerHTML = '';\n",
              "          dataTable['output_type'] = 'display_data';\n",
              "          await google.colab.output.renderOutput(dataTable, element);\n",
              "          const docLink = document.createElement('div');\n",
              "          docLink.innerHTML = docLinkHtml;\n",
              "          element.appendChild(docLink);\n",
              "        }\n",
              "      </script>\n",
              "    </div>\n",
              "  </div>\n",
              "  "
            ]
          },
          "metadata": {},
          "execution_count": 129
        }
      ]
    },
    {
      "cell_type": "code",
      "source": [
        "t=1"
      ],
      "metadata": {
        "id": "83zizsyvKHzh"
      },
      "execution_count": null,
      "outputs": []
    },
    {
      "cell_type": "code",
      "source": [],
      "metadata": {
        "id": "-Vf_kU7EIZMB"
      },
      "execution_count": null,
      "outputs": []
    },
    {
      "cell_type": "code",
      "source": [
        "y=np.array(dftemp[:,0])\n",
        "print(y)\n",
        "y_new=y[t:]\n",
        "y_new.shape\n"
      ],
      "metadata": {
        "colab": {
          "base_uri": "https://localhost:8080/"
        },
        "id": "XmXnkjOiKIGQ",
        "outputId": "0b26002c-6cb1-405a-bb3e-5650f96c726b"
      },
      "execution_count": null,
      "outputs": [
        {
          "output_type": "stream",
          "name": "stdout",
          "text": [
            "[2. 0. 0. ... 0. 2. 2.]\n"
          ]
        },
        {
          "output_type": "execute_result",
          "data": {
            "text/plain": [
              "(4034,)"
            ]
          },
          "metadata": {},
          "execution_count": 131
        }
      ]
    },
    {
      "cell_type": "code",
      "source": [
        "# x=np.array([df[:,i] for i in range(5,155)])\n",
        "# print(x)\n",
        "# print(x.shape)"
      ],
      "metadata": {
        "id": "o7_wCM7xKIQr"
      },
      "execution_count": null,
      "outputs": []
    },
    {
      "cell_type": "code",
      "source": [
        "x=np.array(dftemp2)\n",
        "print(x)\n",
        "\n",
        "print(x.shape)\n",
        "# x_new=[list(i) for i in x[t-1:-1,:]]\n",
        "# print(x_new)\n"
      ],
      "metadata": {
        "colab": {
          "base_uri": "https://localhost:8080/"
        },
        "id": "3JPzLQQmKhZk",
        "outputId": "9471de26-d36d-4387-d6c0-4523cfc9db11"
      },
      "execution_count": null,
      "outputs": [
        {
          "output_type": "stream",
          "name": "stdout",
          "text": [
            "[[ 1.75003587  0.35034195 -1.34197268 ... -0.09586277 -0.65297501\n",
            "  -0.69389439]\n",
            " [-0.25457839  1.0081691   0.81988383 ...  0.07119234  1.46788294\n",
            "   0.09901143]\n",
            " [-0.54681497 -0.78987671 -0.89669304 ... -0.36733697 -0.45586514\n",
            "  -0.19349053]\n",
            " ...\n",
            " [ 2.22086255 -0.58228757 -0.27853416 ... -2.02149798 -1.01073053\n",
            "   0.43726076]\n",
            " [-0.48429916  1.67398747 -0.14923649 ... -1.1054281  -1.40291665\n",
            "  -0.65378801]\n",
            " [-0.49861358 -0.61285237  0.87098058 ... -0.99306681  0.88707099\n",
            "   0.14605586]]\n",
            "(4035, 150)\n"
          ]
        }
      ]
    },
    {
      "cell_type": "code",
      "source": [
        "# for i in range(len(x_new)):\n",
        "#   for j in range(i,i+t):\n",
        "#     x_new[:,i].append(y[j])"
      ],
      "metadata": {
        "id": "dRtOl1p-KhcT"
      },
      "execution_count": null,
      "outputs": []
    },
    {
      "cell_type": "code",
      "source": [
        "x=np.array(x)\n",
        "x.shape,y_new.shape"
      ],
      "metadata": {
        "colab": {
          "base_uri": "https://localhost:8080/"
        },
        "id": "YJ095DSVKhfb",
        "outputId": "8206db14-216c-43eb-f44e-7449e18d1c0e"
      },
      "execution_count": null,
      "outputs": [
        {
          "output_type": "execute_result",
          "data": {
            "text/plain": [
              "((4035, 150), (4034,))"
            ]
          },
          "metadata": {},
          "execution_count": 135
        }
      ]
    },
    {
      "cell_type": "code",
      "source": [
        "x_3d=[]\n",
        "for i in range(4035-t):\n",
        "  tmp=[]\n",
        "  for j in range(t):\n",
        "    tmp.append(x[j+i])\n",
        "  x_3d.append(tmp)\n",
        "x_3d= np.array(x_3d)\n",
        "x_3d.shape"
      ],
      "metadata": {
        "colab": {
          "base_uri": "https://localhost:8080/"
        },
        "id": "hdDY6fhENZ2-",
        "outputId": "c3e5d8b0-248d-46ec-d238-e3545771e532"
      },
      "execution_count": null,
      "outputs": [
        {
          "output_type": "execute_result",
          "data": {
            "text/plain": [
              "(4034, 1, 150)"
            ]
          },
          "metadata": {},
          "execution_count": 136
        }
      ]
    },
    {
      "cell_type": "code",
      "source": [
        "train_test_ratio=0.8\n",
        "x_train=x_3d[:int(x_3d.shape[0]*train_test_ratio)]\n",
        "x_test=x_3d[int(x_3d.shape[0]*train_test_ratio):]\n",
        "y_train=y_new[:int(x_3d.shape[0]*train_test_ratio)]\n",
        "y_test=y_new[int(x_3d.shape[0]*train_test_ratio):]\n",
        "x_train.shape,y_train.shape,x_test.shape,y_test.shape"
      ],
      "metadata": {
        "colab": {
          "base_uri": "https://localhost:8080/"
        },
        "id": "AwnZ3Mh1Khi8",
        "outputId": "9b7df9ae-dd17-4cc7-e079-529d945f49ea"
      },
      "execution_count": null,
      "outputs": [
        {
          "output_type": "execute_result",
          "data": {
            "text/plain": [
              "((3227, 1, 150), (3227,), (807, 1, 150), (807,))"
            ]
          },
          "metadata": {},
          "execution_count": 137
        }
      ]
    },
    {
      "cell_type": "code",
      "source": [
        "cnt0=0\n",
        "cnt1=0\n",
        "cnt2=0\n",
        "for i in range(3224):\n",
        "  if(y_train[i]==0):\n",
        "    cnt0+=1\n",
        "  elif(y_train[i]==1):\n",
        "    cnt1+=1\n",
        "  elif(y_train[i]==2):\n",
        "    cnt2+=1\n",
        "print(cnt0)\n",
        "print(cnt1)\n",
        "print(cnt2)  "
      ],
      "metadata": {
        "colab": {
          "base_uri": "https://localhost:8080/"
        },
        "id": "xlijLVYecmcq",
        "outputId": "5a793381-5a0c-47dd-e519-a42247437eab"
      },
      "execution_count": null,
      "outputs": [
        {
          "output_type": "stream",
          "name": "stdout",
          "text": [
            "1489\n",
            "873\n",
            "862\n"
          ]
        }
      ]
    },
    {
      "cell_type": "code",
      "source": [
        "# x_train1=[]\n",
        "# y_train1=[]\n",
        "# cntt0=0\n",
        "# cntt1=0\n",
        "# cntt2=0\n",
        "\n",
        "# for i in range(3224):\n",
        "#   if(y_train[i]==0 and cntt0<862):\n",
        "#     x_train1.append(x_train[i])\n",
        "#     y_train1.append(0)\n",
        "#     cntt0+=1\n",
        "#   elif(y_train[i]==0 and cntt0>=862):\n",
        "#     continue\n",
        "#   elif(y_train[i]==1 and cntt1<862):\n",
        "#     x_train1.append(x_train[i])\n",
        "#     y_train1.append(1)\n",
        "#     cntt1+=1\n",
        "#   elif(y_train[i]==1 and cntt1>=862):\n",
        "#     continue\n",
        "#   elif(y_train[i]==2 and cntt2<862):\n",
        "#     x_train1.append(x_train[i])\n",
        "#     y_train1.append(2)\n",
        "#     cntt2+=1\n",
        "#   elif(y_train[i]==2 and cntt2>=862):\n",
        "#     continue\n",
        "# y_train=[]\n",
        "# y_train=y_train1\n",
        "# x_train=[]\n",
        "# x_train=x_train1\n",
        "# x_train=np.array(x_train)\n",
        "# y_train=np.array(y_train)"
      ],
      "metadata": {
        "id": "PqOHcbhQcuo8"
      },
      "execution_count": null,
      "outputs": []
    },
    {
      "cell_type": "code",
      "source": [],
      "metadata": {
        "id": "7xaH5sg5bELx"
      },
      "execution_count": null,
      "outputs": []
    },
    {
      "cell_type": "code",
      "source": [],
      "metadata": {
        "id": "fMbhzCEnbEG2"
      },
      "execution_count": null,
      "outputs": []
    },
    {
      "cell_type": "code",
      "source": [],
      "metadata": {
        "id": "nYGfB6dAbECe"
      },
      "execution_count": null,
      "outputs": []
    },
    {
      "cell_type": "code",
      "source": [],
      "metadata": {
        "id": "8oVQvQNgbD9X"
      },
      "execution_count": null,
      "outputs": []
    },
    {
      "cell_type": "code",
      "source": [],
      "metadata": {
        "id": "H8NDWRw3bD5l"
      },
      "execution_count": null,
      "outputs": []
    },
    {
      "cell_type": "code",
      "source": [
        "sklearn_weights=class_weight.compute_class_weight(class_weight='balanced',classes=np.unique(y_train),y=y_train)\n",
        "sklearn_weights=dict(zip(np.unique(y_train),sklearn_weights))\n",
        "sklearn_weights"
      ],
      "metadata": {
        "colab": {
          "base_uri": "https://localhost:8080/"
        },
        "id": "EYzwuCcAbDKT",
        "outputId": "356198d7-39ba-477c-8ffe-daeb7d8ae30a"
      },
      "execution_count": null,
      "outputs": [
        {
          "output_type": "execute_result",
          "data": {
            "text/plain": [
              "{0.0: 0.7224087754645175, 1.0: 1.2279299847793, 2.0: 1.2478731631863882}"
            ]
          },
          "metadata": {},
          "execution_count": 140
        }
      ]
    },
    {
      "cell_type": "code",
      "source": [
        "# cnt0=0\n",
        "# cnt1=0\n",
        "# cnt2=0\n",
        "# for i in range(3*862):\n",
        "#   if(y_train[i]==0):\n",
        "#     cnt0+=1\n",
        "#   elif(y_train[i]==1):\n",
        "#     cnt1+=1\n",
        "#   elif(y_train[i]==2):\n",
        "#     cnt2+=1\n",
        "# print(cnt0)\n",
        "# print(cnt1)\n",
        "# print(cnt2)  "
      ],
      "metadata": {
        "id": "Dc0EfN4HUL1d"
      },
      "execution_count": null,
      "outputs": []
    },
    {
      "cell_type": "code",
      "source": [
        "\n",
        "# model = Sequential()\n",
        "# model.add(LSTM(200, activation='relu', return_sequences=True, input_shape=( t,150,)))\n",
        "# model.add(LSTM(100, activation='relu', return_sequences=True))\n",
        "# model.add(LSTM(50, activation='relu', return_sequences=True))\n",
        "# model.add(LSTM(25, activation='relu'))\n",
        "# model.add(Dense(20, activation='relu'))\n",
        "# model.add(Dense(10, activation='relu'))\n",
        "# model.add(Dense(3))\n",
        "# model.compile(optimizer='SGD', loss='sparse_categorical_crossentropy',metrics=['accuracy'])\n",
        "# history = model.fit(x_train, y_train, epochs=10, validation_split=0.2, verbose=1)\n",
        "# test_output = model.predict(x_test, verbose=1)\n",
        "# # history = model.fit(X, Y, epochs=1000, validation_split=0.2, verbose=1)\n",
        "# # test_output = model.predict(x=, verbose=0)\n",
        "# # print(test_output)"
      ],
      "metadata": {
        "id": "rhgsSos1KIbA"
      },
      "execution_count": null,
      "outputs": []
    },
    {
      "cell_type": "code",
      "source": [
        "import keras \n",
        "sklearn_weights={0:1738,1:2348,2:2362}\n",
        "model = Sequential()\n",
        "model.add(LSTM(200, activation='relu', return_sequences=True, input_shape=( t,150,)))\n",
        "model.add(LSTM(400, activation='relu', return_sequences=True))\n",
        "model.add(LSTM(800, activation='relu', return_sequences=True))\n",
        "model.add(LSTM(150, activation='relu'))\n",
        "model.add(Dense(100, activation='relu'))\n",
        "model.add(Dense(10, activation='relu'))\n",
        "model.add(Dense(3,activation='sigmoid'))\n",
        "optimi=keras.optimizers.Adam()\n",
        "model.compile(optimizer=optimi, loss='sparse_categorical_crossentropy',metrics=['accuracy'])\n",
        "history = model.fit(x_train, y_train, epochs=30, validation_split=0.2, verbose=1)\n",
        "\n",
        "# history = model.fit(x_train, y_train, epochs=5, validation_split=0.2, verbose=1,class_weight=sklearn_weights)\n",
        "test_output = model.predict(x_test, verbose=1)\n",
        "# history = model.fit(X, Y, epochs=1000, validation_split=0.2, verbose=1)\n",
        "# test_output = model.predict(x=, verbose=0)\n",
        "# print(test_output)"
      ],
      "metadata": {
        "colab": {
          "base_uri": "https://localhost:8080/"
        },
        "id": "lwHPGS2iXMXc",
        "outputId": "f5365083-f110-494c-f85d-5030cbc71047"
      },
      "execution_count": null,
      "outputs": [
        {
          "output_type": "stream",
          "name": "stderr",
          "text": [
            "WARNING:tensorflow:Layer lstm_52 will not use cuDNN kernels since it doesn't meet the criteria. It will use a generic GPU kernel as fallback when running on GPU.\n",
            "WARNING:tensorflow:Layer lstm_53 will not use cuDNN kernels since it doesn't meet the criteria. It will use a generic GPU kernel as fallback when running on GPU.\n",
            "WARNING:tensorflow:Layer lstm_54 will not use cuDNN kernels since it doesn't meet the criteria. It will use a generic GPU kernel as fallback when running on GPU.\n",
            "WARNING:tensorflow:Layer lstm_55 will not use cuDNN kernels since it doesn't meet the criteria. It will use a generic GPU kernel as fallback when running on GPU.\n"
          ]
        },
        {
          "output_type": "stream",
          "name": "stdout",
          "text": [
            "Epoch 1/30\n",
            "81/81 [==============================] - 6s 24ms/step - loss: 1.0817 - accuracy: 0.4374 - val_loss: 1.0183 - val_accuracy: 0.5573\n",
            "Epoch 2/30\n",
            "81/81 [==============================] - 1s 17ms/step - loss: 1.0642 - accuracy: 0.4374 - val_loss: 1.0573 - val_accuracy: 0.5573\n",
            "Epoch 3/30\n",
            "81/81 [==============================] - 1s 17ms/step - loss: 0.9909 - accuracy: 0.4533 - val_loss: 1.1116 - val_accuracy: 0.4056\n",
            "Epoch 4/30\n",
            "81/81 [==============================] - 1s 17ms/step - loss: 0.8462 - accuracy: 0.5680 - val_loss: 1.3416 - val_accuracy: 0.3839\n",
            "Epoch 5/30\n",
            "81/81 [==============================] - 1s 16ms/step - loss: 0.7024 - accuracy: 0.6114 - val_loss: 1.4914 - val_accuracy: 0.3529\n",
            "Epoch 6/30\n",
            "81/81 [==============================] - 1s 18ms/step - loss: 0.5952 - accuracy: 0.6672 - val_loss: 2.1482 - val_accuracy: 0.3839\n",
            "Epoch 7/30\n",
            "81/81 [==============================] - 1s 16ms/step - loss: 0.5264 - accuracy: 0.6815 - val_loss: 2.7766 - val_accuracy: 0.3545\n",
            "Epoch 8/30\n",
            "81/81 [==============================] - 1s 16ms/step - loss: 0.4993 - accuracy: 0.6951 - val_loss: 2.7885 - val_accuracy: 0.3808\n",
            "Epoch 9/30\n",
            "81/81 [==============================] - 1s 17ms/step - loss: 0.4685 - accuracy: 0.7021 - val_loss: 3.3973 - val_accuracy: 0.3684\n",
            "Epoch 10/30\n",
            "81/81 [==============================] - 1s 17ms/step - loss: 0.4260 - accuracy: 0.7269 - val_loss: 5.5268 - val_accuracy: 0.3978\n",
            "Epoch 11/30\n",
            "81/81 [==============================] - 1s 17ms/step - loss: 0.4571 - accuracy: 0.7412 - val_loss: 2.9314 - val_accuracy: 0.3421\n",
            "Epoch 12/30\n",
            "81/81 [==============================] - 1s 16ms/step - loss: 0.4199 - accuracy: 0.7660 - val_loss: 4.5002 - val_accuracy: 0.3669\n",
            "Epoch 13/30\n",
            "81/81 [==============================] - 1s 16ms/step - loss: 0.4170 - accuracy: 0.7935 - val_loss: 3.2007 - val_accuracy: 0.3282\n",
            "Epoch 14/30\n",
            "81/81 [==============================] - 1s 17ms/step - loss: 0.3570 - accuracy: 0.8272 - val_loss: 4.4683 - val_accuracy: 0.3142\n",
            "Epoch 15/30\n",
            "81/81 [==============================] - 1s 18ms/step - loss: 0.3187 - accuracy: 0.8656 - val_loss: 4.1669 - val_accuracy: 0.3576\n",
            "Epoch 16/30\n",
            "81/81 [==============================] - 1s 17ms/step - loss: 0.2945 - accuracy: 0.8900 - val_loss: 3.0958 - val_accuracy: 0.3111\n",
            "Epoch 17/30\n",
            "81/81 [==============================] - 1s 18ms/step - loss: 0.2147 - accuracy: 0.9202 - val_loss: 3.2216 - val_accuracy: 0.3390\n",
            "Epoch 18/30\n",
            "81/81 [==============================] - 1s 17ms/step - loss: 0.1603 - accuracy: 0.9461 - val_loss: 4.2515 - val_accuracy: 0.3591\n",
            "Epoch 19/30\n",
            "81/81 [==============================] - 1s 17ms/step - loss: 0.1096 - accuracy: 0.9613 - val_loss: 4.7993 - val_accuracy: 0.3266\n",
            "Epoch 20/30\n",
            "81/81 [==============================] - 1s 17ms/step - loss: 0.1071 - accuracy: 0.9632 - val_loss: 5.2746 - val_accuracy: 0.3545\n",
            "Epoch 21/30\n",
            "81/81 [==============================] - 1s 16ms/step - loss: 0.0862 - accuracy: 0.9702 - val_loss: 4.8527 - val_accuracy: 0.3591\n",
            "Epoch 22/30\n",
            "81/81 [==============================] - 1s 16ms/step - loss: 0.0428 - accuracy: 0.9837 - val_loss: 6.0790 - val_accuracy: 0.3390\n",
            "Epoch 23/30\n",
            "81/81 [==============================] - 1s 17ms/step - loss: 0.0521 - accuracy: 0.9837 - val_loss: 5.3367 - val_accuracy: 0.3529\n",
            "Epoch 24/30\n",
            "81/81 [==============================] - 1s 18ms/step - loss: 0.0861 - accuracy: 0.9768 - val_loss: 3.0206 - val_accuracy: 0.3715\n",
            "Epoch 25/30\n",
            "81/81 [==============================] - 1s 17ms/step - loss: 0.0747 - accuracy: 0.9748 - val_loss: 4.9800 - val_accuracy: 0.3560\n",
            "Epoch 26/30\n",
            "81/81 [==============================] - 1s 18ms/step - loss: 0.0380 - accuracy: 0.9880 - val_loss: 5.1781 - val_accuracy: 0.3344\n",
            "Epoch 27/30\n",
            "81/81 [==============================] - 1s 17ms/step - loss: 0.0383 - accuracy: 0.9892 - val_loss: 5.2801 - val_accuracy: 0.3406\n",
            "Epoch 28/30\n",
            "81/81 [==============================] - 1s 17ms/step - loss: 0.0464 - accuracy: 0.9849 - val_loss: 5.2878 - val_accuracy: 0.3529\n",
            "Epoch 29/30\n",
            "81/81 [==============================] - 1s 17ms/step - loss: 0.0770 - accuracy: 0.9795 - val_loss: 4.6606 - val_accuracy: 0.3406\n",
            "Epoch 30/30\n",
            "81/81 [==============================] - 1s 17ms/step - loss: 0.0346 - accuracy: 0.9880 - val_loss: 5.6676 - val_accuracy: 0.3576\n",
            "26/26 [==============================] - 1s 3ms/step\n"
          ]
        }
      ]
    },
    {
      "cell_type": "code",
      "source": [
        "\n",
        "\n",
        "test_output_1=np.array([np.argmax(i)  for i in test_output])\n",
        "\n",
        "from sklearn.metrics import confusion_matrix,accuracy_score\n",
        "print(confusion_matrix(y_test,test_output_1))\n",
        "test_output=pd.DataFrame(test_output)\n",
        "print(accuracy_score(y_test,test_output_1))\n"
      ],
      "metadata": {
        "id": "Q_hmR6MK_Bq5",
        "colab": {
          "base_uri": "https://localhost:8080/"
        },
        "outputId": "73d67ac2-7bf0-43f7-b518-645dd0c14820"
      },
      "execution_count": null,
      "outputs": [
        {
          "output_type": "stream",
          "name": "stdout",
          "text": [
            "[[132 131  75]\n",
            " [ 70  66  43]\n",
            " [125 101  64]]\n",
            "0.3246592317224288\n"
          ]
        }
      ]
    },
    {
      "cell_type": "code",
      "source": [],
      "metadata": {
        "id": "genF5ZX3ZtTE"
      },
      "execution_count": null,
      "outputs": []
    },
    {
      "cell_type": "code",
      "source": [
        "y_train.shape"
      ],
      "metadata": {
        "colab": {
          "base_uri": "https://localhost:8080/"
        },
        "id": "2cmiOMk2aL1u",
        "outputId": "736a7a8a-1f0c-4f7f-e886-8e7f0f8fd591"
      },
      "execution_count": null,
      "outputs": [
        {
          "output_type": "execute_result",
          "data": {
            "text/plain": [
              "(3227,)"
            ]
          },
          "metadata": {},
          "execution_count": 145
        }
      ]
    },
    {
      "cell_type": "code",
      "source": [
        "\n"
      ],
      "metadata": {
        "id": "8qCGjF98ZZQd"
      },
      "execution_count": null,
      "outputs": []
    },
    {
      "cell_type": "code",
      "source": [],
      "metadata": {
        "id": "nJQRVSUfZZNH"
      },
      "execution_count": null,
      "outputs": []
    },
    {
      "cell_type": "code",
      "source": [
        "# # print(confusion_matrix(y_test,test_output))\n",
        "# y_test\n",
        "test_output_1"
      ],
      "metadata": {
        "id": "tGDVHfcH_Fwt",
        "colab": {
          "base_uri": "https://localhost:8080/"
        },
        "outputId": "14a50421-6ea2-47d1-b7b9-47b1be82f714"
      },
      "execution_count": null,
      "outputs": [
        {
          "output_type": "execute_result",
          "data": {
            "text/plain": [
              "array([2, 1, 2, 0, 0, 2, 0, 0, 2, 1, 0, 1, 0, 1, 1, 0, 2, 1, 2, 0, 0, 0,\n",
              "       0, 0, 1, 0, 1, 1, 2, 0, 2, 1, 0, 0, 1, 1, 0, 1, 0, 0, 0, 0, 1, 1,\n",
              "       0, 0, 0, 1, 2, 0, 0, 0, 0, 0, 0, 1, 0, 1, 0, 2, 1, 2, 0, 0, 2, 0,\n",
              "       1, 1, 1, 0, 1, 0, 2, 0, 0, 0, 1, 0, 0, 1, 2, 0, 0, 0, 2, 1, 0, 0,\n",
              "       1, 0, 0, 1, 0, 0, 2, 1, 0, 1, 0, 2, 2, 2, 0, 0, 1, 2, 1, 0, 2, 1,\n",
              "       2, 2, 1, 2, 1, 0, 0, 1, 1, 2, 0, 1, 1, 2, 0, 0, 1, 2, 1, 0, 2, 0,\n",
              "       0, 0, 2, 0, 0, 0, 1, 0, 1, 0, 2, 0, 1, 2, 0, 0, 0, 0, 2, 1, 0, 1,\n",
              "       1, 1, 1, 1, 2, 2, 2, 2, 0, 0, 1, 0, 0, 1, 2, 2, 1, 1, 1, 0, 2, 0,\n",
              "       2, 0, 1, 2, 0, 0, 2, 1, 0, 0, 0, 1, 1, 2, 0, 0, 0, 0, 1, 1, 2, 2,\n",
              "       0, 2, 0, 2, 2, 1, 2, 1, 0, 0, 0, 0, 2, 1, 0, 1, 0, 1, 0, 0, 1, 1,\n",
              "       0, 2, 1, 1, 2, 0, 1, 0, 0, 1, 1, 2, 1, 2, 2, 2, 0, 1, 0, 0, 1, 0,\n",
              "       2, 1, 1, 1, 1, 2, 1, 0, 2, 0, 1, 2, 0, 0, 1, 2, 1, 0, 1, 1, 2, 2,\n",
              "       0, 2, 1, 2, 0, 0, 0, 0, 0, 0, 1, 0, 1, 0, 1, 0, 0, 1, 0, 1, 2, 0,\n",
              "       1, 1, 0, 2, 0, 0, 1, 2, 1, 2, 0, 0, 2, 2, 0, 1, 0, 1, 1, 2, 2, 1,\n",
              "       2, 2, 2, 0, 0, 0, 1, 1, 0, 0, 0, 2, 0, 1, 0, 0, 0, 0, 2, 0, 0, 1,\n",
              "       1, 1, 0, 0, 0, 1, 0, 0, 2, 0, 0, 2, 1, 1, 1, 2, 2, 0, 1, 0, 2, 1,\n",
              "       1, 2, 1, 0, 0, 0, 0, 0, 1, 1, 1, 0, 2, 2, 2, 0, 1, 0, 2, 1, 0, 2,\n",
              "       1, 0, 0, 0, 1, 1, 0, 0, 1, 2, 0, 1, 1, 1, 1, 0, 2, 1, 2, 1, 0, 2,\n",
              "       1, 0, 1, 1, 1, 0, 0, 1, 1, 2, 0, 0, 0, 0, 0, 1, 0, 0, 0, 1, 1, 1,\n",
              "       1, 0, 2, 0, 0, 1, 0, 1, 1, 1, 1, 1, 0, 0, 1, 1, 0, 1, 2, 0, 0, 0,\n",
              "       1, 0, 1, 1, 1, 2, 1, 1, 1, 2, 1, 1, 1, 0, 1, 2, 0, 0, 1, 0, 0, 0,\n",
              "       1, 1, 0, 0, 2, 1, 2, 1, 0, 0, 2, 0, 0, 1, 0, 0, 0, 1, 1, 2, 0, 2,\n",
              "       2, 2, 2, 2, 1, 0, 0, 2, 1, 0, 0, 2, 1, 0, 2, 2, 1, 0, 0, 1, 0, 1,\n",
              "       2, 2, 1, 1, 0, 1, 1, 0, 1, 2, 1, 1, 0, 1, 1, 0, 1, 0, 1, 1, 0, 2,\n",
              "       2, 2, 1, 2, 1, 1, 1, 2, 0, 1, 1, 0, 0, 0, 0, 0, 1, 2, 1, 2, 1, 1,\n",
              "       0, 2, 1, 0, 1, 0, 2, 1, 1, 1, 0, 1, 0, 2, 0, 0, 0, 2, 0, 1, 1, 2,\n",
              "       0, 2, 1, 1, 1, 1, 2, 1, 2, 2, 0, 2, 2, 2, 1, 1, 0, 2, 1, 0, 1, 2,\n",
              "       2, 2, 1, 0, 2, 1, 0, 1, 0, 1, 0, 0, 0, 2, 2, 0, 0, 2, 1, 0, 0, 0,\n",
              "       0, 0, 1, 2, 0, 1, 2, 2, 0, 1, 1, 0, 1, 0, 1, 1, 1, 1, 0, 1, 2, 2,\n",
              "       2, 1, 2, 1, 0, 2, 1, 1, 0, 0, 0, 0, 1, 1, 0, 0, 0, 0, 2, 0, 0, 1,\n",
              "       0, 0, 1, 2, 0, 2, 2, 0, 0, 0, 0, 1, 0, 2, 1, 0, 1, 1, 0, 1, 0, 1,\n",
              "       2, 1, 2, 2, 2, 1, 0, 1, 1, 1, 1, 0, 1, 2, 0, 1, 0, 1, 1, 2, 2, 0,\n",
              "       2, 0, 0, 0, 1, 1, 1, 2, 2, 0, 1, 1, 0, 0, 1, 2, 0, 0, 0, 0, 1, 1,\n",
              "       1, 2, 2, 1, 0, 1, 2, 1, 0, 1, 0, 0, 1, 1, 0, 0, 0, 1, 1, 2, 1, 0,\n",
              "       1, 0, 1, 2, 0, 0, 1, 1, 1, 0, 1, 1, 1, 2, 2, 1, 1, 0, 0, 2, 1, 2,\n",
              "       0, 0, 1, 1, 0, 0, 1, 1, 2, 2, 2, 0, 1, 1, 0, 2, 0, 1, 2, 0, 1, 0,\n",
              "       2, 0, 0, 1, 1, 1, 1, 0, 0, 1, 1, 1, 1, 1, 2])"
            ]
          },
          "metadata": {},
          "execution_count": 146
        }
      ]
    }
  ]
}