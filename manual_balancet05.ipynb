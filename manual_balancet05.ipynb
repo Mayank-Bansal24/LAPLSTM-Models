{
  "nbformat": 4,
  "nbformat_minor": 0,
  "metadata": {
    "colab": {
      "provenance": [],
      "include_colab_link": true
    },
    "kernelspec": {
      "name": "python3",
      "display_name": "Python 3"
    },
    "language_info": {
      "name": "python"
    },
    "accelerator": "GPU",
    "gpuClass": "standard"
  },
  "cells": [
    {
      "cell_type": "markdown",
      "metadata": {
        "id": "view-in-github",
        "colab_type": "text"
      },
      "source": [
        "<a href=\"https://colab.research.google.com/github/Mayank-Bansal24/LAPLSTM-Models/blob/main/manual_balancet05.ipynb\" target=\"_parent\"><img src=\"https://colab.research.google.com/assets/colab-badge.svg\" alt=\"Open In Colab\"/></a>"
      ]
    },
    {
      "cell_type": "code",
      "source": [
        "import numpy as np\n",
        "import tensorflow as tf\n",
        "from tensorflow.keras import losses as lo_ss\n",
        "from tensorflow.keras.models import Sequential\n",
        "from tensorflow.keras.layers import LSTM\n",
        "from tensorflow.keras.layers import Dense, Dropout\n",
        "import string\n",
        "import pandas as pd\n",
        "from matplotlib import pyplot as plt\n",
        "from sklearn.preprocessing import StandardScaler\n",
        "import seaborn as sns\n",
        "from sklearn import model_selection\n",
        "from sklearn.datasets import make_classification\n",
        "from sklearn.utils import class_weight\n",
        "from sklearn.metrics import classification_report , roc_auc_score\n",
        "import keras \n",
        "import keras.backend as K\n",
        "from google.colab import drive\n",
        "from numpy import savetxt\n",
        "import os"
      ],
      "metadata": {
        "id": "V1kLUX7gJ3N_"
      },
      "execution_count": 134,
      "outputs": []
    },
    {
      "cell_type": "code",
      "source": [
        "drive.mount('/content/gdrive')\n"
      ],
      "metadata": {
        "colab": {
          "base_uri": "https://localhost:8080/"
        },
        "id": "HXmXAIAJArT2",
        "outputId": "d24d2605-4a2c-4e62-d2f0-2bf143953759"
      },
      "execution_count": 135,
      "outputs": [
        {
          "output_type": "stream",
          "name": "stdout",
          "text": [
            "Drive already mounted at /content/gdrive; to attempt to forcibly remount, call drive.mount(\"/content/gdrive\", force_remount=True).\n"
          ]
        }
      ]
    },
    {
      "cell_type": "code",
      "source": [
        "t=5"
      ],
      "metadata": {
        "id": "uLTug-YJDW8D"
      },
      "execution_count": 136,
      "outputs": []
    },
    {
      "cell_type": "code",
      "source": [
        "os.chdir('/content/gdrive/MyDrive/laplstm/manual_balance/t'+str(t))"
      ],
      "metadata": {
        "id": "ubPkwGQnA8Wx"
      },
      "execution_count": 137,
      "outputs": []
    },
    {
      "cell_type": "code",
      "source": [
        "import os\n",
        "github_raw_link=\"https://raw.githubusercontent.com/Aryansh085/LAP/main/858417d1-7d54-4115-a01b-fdda5e03ada3_testing_combined_rows4035_disc_1_0p9_MULTIPLY_preproces_155cols.csv\"\n",
        "df1=pd.read_csv((github_raw_link),header = None)\n",
        "dftemp=np.array(df1)\n",
        "dftemp.shape\n",
        "dftemp2=dftemp[:,5:]\n",
        "dftemp2=np.array(dftemp2)\n",
        "print(dftemp2.shape)"
      ],
      "metadata": {
        "id": "3UWvhrydJ8hA",
        "colab": {
          "base_uri": "https://localhost:8080/"
        },
        "outputId": "895bfebb-d548-4774-857c-66785f9b60bc"
      },
      "execution_count": 138,
      "outputs": [
        {
          "output_type": "stream",
          "name": "stdout",
          "text": [
            "(4035, 150)\n"
          ]
        }
      ]
    },
    {
      "cell_type": "code",
      "source": [
        "# dftemp2\n",
        "dftemp2.shape\n",
        "# dftemp2=pd.DataFrame(dftemp2)\n",
        "# dftemp2.head()"
      ],
      "metadata": {
        "colab": {
          "base_uri": "https://localhost:8080/"
        },
        "id": "h00YSxPn8rUk",
        "outputId": "7b3b1d29-83d1-4998-a850-848f6c223b5f"
      },
      "execution_count": 139,
      "outputs": [
        {
          "output_type": "execute_result",
          "data": {
            "text/plain": [
              "(4035, 150)"
            ]
          },
          "metadata": {},
          "execution_count": 139
        }
      ]
    },
    {
      "cell_type": "markdown",
      "source": [
        "--> muliply the reward of that instance into the loss of that instance to give weight"
      ],
      "metadata": {
        "id": "pPfqIsthYP2X"
      }
    },
    {
      "cell_type": "code",
      "source": [
        "from sklearn.preprocessing import StandardScaler\n",
        "\n",
        "slr=StandardScaler()\n",
        "slr.fit(dftemp2)\n",
        "dftemp2 = slr.transform(dftemp2)"
      ],
      "metadata": {
        "id": "kWYAqDfnO_1i"
      },
      "execution_count": 140,
      "outputs": []
    },
    {
      "cell_type": "code",
      "source": [
        "# f1-score function\n",
        "def get_f1(y_true, y_pred): #taken from old keras source code\n",
        "    true_positives = K.sum(K.round(K.clip(y_true * y_pred, 0, 1)))\n",
        "    possible_positives = K.sum(K.round(K.clip(y_true, 0, 1)))\n",
        "    predicted_positives = K.sum(K.round(K.clip(y_pred, 0, 1)))\n",
        "    precision = true_positives / (predicted_positives + K.epsilon())\n",
        "    recall = true_positives / (possible_positives + K.epsilon())\n",
        "    f1_val = 2*(precision*recall)/(precision+recall+K.epsilon())\n",
        "    return f1_val\n",
        "    "
      ],
      "metadata": {
        "id": "4i-6LDL58GyW"
      },
      "execution_count": 141,
      "outputs": []
    },
    {
      "cell_type": "code",
      "source": [],
      "metadata": {
        "id": "83zizsyvKHzh"
      },
      "execution_count": 141,
      "outputs": []
    },
    {
      "cell_type": "code",
      "source": [
        "y=np.array(dftemp[:,0])\n",
        "print(y)\n",
        "y_new=y[t:]\n",
        "y_new.shape\n"
      ],
      "metadata": {
        "colab": {
          "base_uri": "https://localhost:8080/"
        },
        "id": "XmXnkjOiKIGQ",
        "outputId": "38b3d6fc-4d84-476f-f2df-38456048a883"
      },
      "execution_count": 142,
      "outputs": [
        {
          "output_type": "stream",
          "name": "stdout",
          "text": [
            "[2. 0. 0. ... 0. 2. 2.]\n"
          ]
        },
        {
          "output_type": "execute_result",
          "data": {
            "text/plain": [
              "(4030,)"
            ]
          },
          "metadata": {},
          "execution_count": 142
        }
      ]
    },
    {
      "cell_type": "code",
      "source": [
        "x=np.array(dftemp2)\n",
        "# print(x)\n",
        "# print(x.shape)\n",
        "x.shape,y_new.shape"
      ],
      "metadata": {
        "colab": {
          "base_uri": "https://localhost:8080/"
        },
        "id": "3JPzLQQmKhZk",
        "outputId": "f618c28e-3e4f-4218-a6c0-d220fba04fbc"
      },
      "execution_count": 143,
      "outputs": [
        {
          "output_type": "execute_result",
          "data": {
            "text/plain": [
              "((4035, 150), (4030,))"
            ]
          },
          "metadata": {},
          "execution_count": 143
        }
      ]
    },
    {
      "cell_type": "code",
      "source": [
        "x_3d=[]\n",
        "for i in range(4035-t):\n",
        "  tmp=[]\n",
        "  for j in range(t):\n",
        "    tmp.append(x[j+i])\n",
        "  x_3d.append(tmp)\n",
        "x_3d= np.array(x_3d)\n",
        "x_3d.shape"
      ],
      "metadata": {
        "colab": {
          "base_uri": "https://localhost:8080/"
        },
        "id": "hdDY6fhENZ2-",
        "outputId": "c300288c-2c8a-46fb-9496-ef4c075784c3"
      },
      "execution_count": 144,
      "outputs": [
        {
          "output_type": "execute_result",
          "data": {
            "text/plain": [
              "(4030, 5, 150)"
            ]
          },
          "metadata": {},
          "execution_count": 144
        }
      ]
    },
    {
      "cell_type": "code",
      "source": [
        "train_test_ratio=0.8\n",
        "print(x_3d.shape[0])\n",
        "x_train=[]\n",
        "y_train=[]\n",
        "x_test=[]\n",
        "y_test=[]\n",
        "for i in range(x_3d.shape[0]):\n",
        "  l=[]\n",
        "  ly=[]\n",
        "  no=np.random.randint(100)\n",
        "  if(no<80):\n",
        "    l=x_3d[i]\n",
        "    ly=y_new[i]\n",
        "    x_train.append(l)\n",
        "    y_train.append(ly)\n",
        "  else:\n",
        "    l=x_3d[i]\n",
        "    ly=y_new[i]\n",
        "    x_test.append(l)\n",
        "    y_test.append(ly)\n",
        "\n",
        "\n",
        "x_train=np.array(x_train)\n",
        "y_train=np.array(y_train)\n",
        "x_test=np.array(x_test)\n",
        "y_test=np.array(y_test)\n",
        "x_train.shape,y_train.shape,x_test.shape,y_test.shape"
      ],
      "metadata": {
        "colab": {
          "base_uri": "https://localhost:8080/"
        },
        "id": "AwnZ3Mh1Khi8",
        "outputId": "fa340dd7-ba17-4900-ec52-f9dc2ec73ca7"
      },
      "execution_count": 145,
      "outputs": [
        {
          "output_type": "stream",
          "name": "stdout",
          "text": [
            "4030\n"
          ]
        },
        {
          "output_type": "execute_result",
          "data": {
            "text/plain": [
              "((3245, 5, 150), (3245,), (785, 5, 150), (785,))"
            ]
          },
          "metadata": {},
          "execution_count": 145
        }
      ]
    },
    {
      "cell_type": "code",
      "source": [
        "cnt0=0\n",
        "cnt1=0\n",
        "cnt2=0\n",
        "for i in range(x_train.shape[0]):\n",
        "  if(y_train[i]==0):\n",
        "    cnt0+=1\n",
        "  elif(y_train[i]==1):\n",
        "    cnt1+=1\n",
        "  elif(y_train[i]==2):\n",
        "    cnt2+=1\n",
        "print(cnt0)\n",
        "print(cnt1)\n",
        "print(cnt2)  "
      ],
      "metadata": {
        "colab": {
          "base_uri": "https://localhost:8080/"
        },
        "id": "xlijLVYecmcq",
        "outputId": "20b2e06e-8279-43d5-f3fc-0ca50f7bb6cb"
      },
      "execution_count": 146,
      "outputs": [
        {
          "output_type": "stream",
          "name": "stdout",
          "text": [
            "1463\n",
            "846\n",
            "936\n"
          ]
        }
      ]
    },
    {
      "cell_type": "code",
      "source": [
        "x_train_1=[]\n",
        "y_train_1=[]\n",
        "c1=0\n",
        "c2=0\n",
        "c3=0\n",
        "for i in range(x_train.shape[0]):\n",
        "  if(y_train[i]==0):\n",
        "    x_train_1.append(x_train[i])\n",
        "    y_train_1.append(0)\n",
        "    c1+=1\n",
        "  elif(y_train[i]==1):\n",
        "    x_train_1.append(x_train[i])\n",
        "    y_train_1.append(1)\n",
        "    c2+=1\n",
        "  elif(y_train[i]==2 ):\n",
        "    x_train_1.append(x_train[i])\n",
        "    y_train_1.append(2)\n",
        "    c3=c3+1\n",
        "for i in range(x_train.shape[0]):\n",
        "  if(y_train[i]==1):\n",
        "    no=np.random.randint(100)\n",
        "    if(no>=30):\n",
        "      x_train_1.append(x_train[i])\n",
        "      y_train_1.append(1)\n",
        "      c2+=1\n",
        "  elif(y_train[i]==2 ):\n",
        "    no=np.random.randint(100)\n",
        "    if(no>=27):\n",
        "      x_train_1.append(x_train[i])\n",
        "      y_train_1.append(2)\n",
        "      c3+=1\n",
        "\n",
        "y_train=[]\n",
        "y_train=y_train_1\n",
        "x_train=[]\n",
        "x_train=x_train_1\n",
        "x_train=np.array(x_train)\n",
        "y_train=np.array(y_train)\n",
        "print(c1)\n",
        "print(c2)\n",
        "print(c3)"
      ],
      "metadata": {
        "id": "PqOHcbhQcuo8",
        "colab": {
          "base_uri": "https://localhost:8080/"
        },
        "outputId": "28bd15f5-ef16-4789-8b37-55d62a3b82e7"
      },
      "execution_count": 147,
      "outputs": [
        {
          "output_type": "stream",
          "name": "stdout",
          "text": [
            "1463\n",
            "1444\n",
            "1614\n"
          ]
        }
      ]
    },
    {
      "cell_type": "code",
      "source": [
        "\n",
        "# model = Sequential()\n",
        "# model.add(LSTM(200, activation='relu', return_sequences=True, input_shape=( t,150,)))\n",
        "# model.add(LSTM(100, activation='relu', return_sequences=True))\n",
        "# model.add(LSTM(50, activation='relu', return_sequences=True))\n",
        "# model.add(LSTM(25, activation='relu'))\n",
        "# model.add(Dense(20, activation='relu'))\n",
        "# model.add(Dense(10, activation='relu'))\n",
        "# model.add(Dense(3))\n",
        "# model.compile(optimizer='SGD', loss='sparse_categorical_crossentropy',metrics=['accuracy'])\n",
        "# history = model.fit(x_train, y_train, epochs=10, validation_split=0.2, verbose=1)\n",
        "# test_output = model.predict(x_test, verbose=1)\n",
        "# # history = model.fit(X, Y, epochs=1000, validation_split=0.2, verbose=1)\n",
        "# # test_output = model.predict(x=, verbose=0)\n",
        "# # print(test_output)"
      ],
      "metadata": {
        "id": "rhgsSos1KIbA"
      },
      "execution_count": 148,
      "outputs": []
    },
    {
      "cell_type": "code",
      "source": [
        "# sklearn_weights={0:1738,1:2348,2:2362}\n",
        "model = Sequential()\n",
        "model.add(LSTM(200, activation='relu', return_sequences=True, input_shape=( t,150,)))\n",
        "model.add(LSTM(400, activation='relu', return_sequences=True))\n",
        "model.add(LSTM(800, activation='relu', return_sequences=True))\n",
        "model.add(LSTM(150, activation='relu'))\n",
        "model.add(Dense(100, activation='relu'))\n",
        "model.add(Dense(64, activation='relu'))\n",
        "model.add(Dense(10, activation='relu'))\n",
        "model.add(Dense(3,activation='sigmoid'))\n",
        "optimi=keras.optimizers.Adam()\n",
        "model.compile(optimizer=optimi, loss='sparse_categorical_crossentropy',metrics=['accuracy',get_f1])\n",
        "\n",
        "history = model.fit(x_train, y_train, epochs=25, validation_split=0.2, verbose=1)\n",
        "# history = model.fit(x_train, y_train, epochs=25, validation_split=0.2, verbose=1,class_weight=sklearn_weights)\n",
        "test_output = model.predict(x_test, verbose=1)\n"
      ],
      "metadata": {
        "colab": {
          "base_uri": "https://localhost:8080/"
        },
        "id": "lwHPGS2iXMXc",
        "outputId": "47201ed1-384c-4f40-bbd9-fadca26c3a1b"
      },
      "execution_count": 149,
      "outputs": [
        {
          "output_type": "stream",
          "name": "stderr",
          "text": [
            "WARNING:tensorflow:Layer lstm_24 will not use cuDNN kernels since it doesn't meet the criteria. It will use a generic GPU kernel as fallback when running on GPU.\n",
            "WARNING:tensorflow:Layer lstm_25 will not use cuDNN kernels since it doesn't meet the criteria. It will use a generic GPU kernel as fallback when running on GPU.\n",
            "WARNING:tensorflow:Layer lstm_26 will not use cuDNN kernels since it doesn't meet the criteria. It will use a generic GPU kernel as fallback when running on GPU.\n",
            "WARNING:tensorflow:Layer lstm_27 will not use cuDNN kernels since it doesn't meet the criteria. It will use a generic GPU kernel as fallback when running on GPU.\n"
          ]
        },
        {
          "output_type": "stream",
          "name": "stdout",
          "text": [
            "Epoch 1/25\n",
            "113/113 [==============================] - 7s 41ms/step - loss: 1.0870 - accuracy: 0.3844 - get_f1: 1.2665 - val_loss: 1.1773 - val_accuracy: 0.0000e+00 - val_get_f1: 1.7738\n",
            "Epoch 2/25\n",
            "113/113 [==============================] - 3s 25ms/step - loss: 0.9538 - accuracy: 0.5061 - get_f1: 1.1170 - val_loss: 1.0341 - val_accuracy: 0.2619 - val_get_f1: 1.4227\n",
            "Epoch 3/25\n",
            "113/113 [==============================] - 3s 26ms/step - loss: 0.7217 - accuracy: 0.6048 - get_f1: 0.9048 - val_loss: 0.5279 - val_accuracy: 0.9061 - val_get_f1: 1.3982\n",
            "Epoch 4/25\n",
            "113/113 [==============================] - 3s 24ms/step - loss: 0.6129 - accuracy: 0.6524 - get_f1: 0.8956 - val_loss: 0.6549 - val_accuracy: 0.6133 - val_get_f1: 1.3350\n",
            "Epoch 5/25\n",
            "113/113 [==============================] - 3s 24ms/step - loss: 0.5221 - accuracy: 0.7478 - get_f1: 0.9065 - val_loss: 0.3636 - val_accuracy: 0.8508 - val_get_f1: 1.2391\n",
            "Epoch 6/25\n",
            "113/113 [==============================] - 3s 24ms/step - loss: 0.3860 - accuracy: 0.8360 - get_f1: 0.8692 - val_loss: 0.2815 - val_accuracy: 0.8807 - val_get_f1: 1.2705\n",
            "Epoch 7/25\n",
            "113/113 [==============================] - 3s 24ms/step - loss: 0.2535 - accuracy: 0.9051 - get_f1: 0.8543 - val_loss: 0.1062 - val_accuracy: 0.9680 - val_get_f1: 1.2261\n",
            "Epoch 8/25\n",
            "113/113 [==============================] - 3s 24ms/step - loss: 0.1792 - accuracy: 0.9383 - get_f1: 0.9454 - val_loss: 0.1216 - val_accuracy: 0.9481 - val_get_f1: 1.3343\n",
            "Epoch 9/25\n",
            "113/113 [==============================] - 3s 23ms/step - loss: 0.1309 - accuracy: 0.9527 - get_f1: 0.9666 - val_loss: 0.1012 - val_accuracy: 0.9657 - val_get_f1: 1.3302\n",
            "Epoch 10/25\n",
            "113/113 [==============================] - 3s 23ms/step - loss: 0.1116 - accuracy: 0.9591 - get_f1: 1.0448 - val_loss: 0.0708 - val_accuracy: 0.9856 - val_get_f1: 1.3336\n",
            "Epoch 11/25\n",
            "113/113 [==============================] - 3s 24ms/step - loss: 0.0962 - accuracy: 0.9685 - get_f1: 0.9753 - val_loss: 0.0254 - val_accuracy: 0.9945 - val_get_f1: 1.2451\n",
            "Epoch 12/25\n",
            "113/113 [==============================] - 3s 24ms/step - loss: 0.0597 - accuracy: 0.9829 - get_f1: 1.0397 - val_loss: 0.0363 - val_accuracy: 0.9912 - val_get_f1: 1.3053\n",
            "Epoch 13/25\n",
            "113/113 [==============================] - 3s 24ms/step - loss: 0.0452 - accuracy: 0.9845 - get_f1: 1.0204 - val_loss: 0.0553 - val_accuracy: 0.9823 - val_get_f1: 1.3321\n",
            "Epoch 14/25\n",
            "113/113 [==============================] - 3s 24ms/step - loss: 0.0423 - accuracy: 0.9887 - get_f1: 1.0561 - val_loss: 0.0289 - val_accuracy: 0.9923 - val_get_f1: 1.3338\n",
            "Epoch 15/25\n",
            "113/113 [==============================] - 3s 23ms/step - loss: 0.0367 - accuracy: 0.9917 - get_f1: 1.0702 - val_loss: 0.0231 - val_accuracy: 0.9956 - val_get_f1: 1.3336\n",
            "Epoch 16/25\n",
            "113/113 [==============================] - 3s 23ms/step - loss: 0.0359 - accuracy: 0.9923 - get_f1: 1.0508 - val_loss: 0.0208 - val_accuracy: 0.9912 - val_get_f1: 1.2153\n",
            "Epoch 17/25\n",
            "113/113 [==============================] - 3s 23ms/step - loss: 0.0475 - accuracy: 0.9864 - get_f1: 1.0515 - val_loss: 0.0509 - val_accuracy: 0.9834 - val_get_f1: 1.3341\n",
            "Epoch 18/25\n",
            "113/113 [==============================] - 3s 23ms/step - loss: 0.0502 - accuracy: 0.9862 - get_f1: 1.0642 - val_loss: 0.0146 - val_accuracy: 0.9967 - val_get_f1: 1.3338\n",
            "Epoch 19/25\n",
            "113/113 [==============================] - 3s 23ms/step - loss: 0.0427 - accuracy: 0.9884 - get_f1: 1.0703 - val_loss: 0.0227 - val_accuracy: 0.9956 - val_get_f1: 1.3336\n",
            "Epoch 20/25\n",
            "113/113 [==============================] - 3s 24ms/step - loss: 0.0483 - accuracy: 0.9895 - get_f1: 1.0690 - val_loss: 0.0440 - val_accuracy: 0.9878 - val_get_f1: 1.3336\n",
            "Epoch 21/25\n",
            "113/113 [==============================] - 4s 32ms/step - loss: 0.0445 - accuracy: 0.9870 - get_f1: 1.0451 - val_loss: 0.0398 - val_accuracy: 0.9901 - val_get_f1: 1.3326\n",
            "Epoch 22/25\n",
            "113/113 [==============================] - 3s 25ms/step - loss: 0.0409 - accuracy: 0.9876 - get_f1: 1.0723 - val_loss: 0.0097 - val_accuracy: 0.9945 - val_get_f1: 1.3331\n",
            "Epoch 23/25\n",
            "113/113 [==============================] - 3s 24ms/step - loss: 0.0380 - accuracy: 0.9887 - get_f1: 1.0716 - val_loss: 0.0011 - val_accuracy: 0.9956 - val_get_f1: 1.3333\n",
            "Epoch 24/25\n",
            "113/113 [==============================] - 3s 24ms/step - loss: 0.0446 - accuracy: 0.9889 - get_f1: 1.0730 - val_loss: 0.0273 - val_accuracy: 0.9956 - val_get_f1: 1.3336\n",
            "Epoch 25/25\n",
            "113/113 [==============================] - 3s 24ms/step - loss: 0.0317 - accuracy: 0.9912 - get_f1: 1.0659 - val_loss: 0.0660 - val_accuracy: 0.9923 - val_get_f1: 1.3328\n",
            "25/25 [==============================] - 1s 5ms/step\n"
          ]
        }
      ]
    },
    {
      "cell_type": "code",
      "source": [
        "test_output_1=np.array([np.argmax(i)  for i in test_output])\n",
        "from sklearn.metrics import confusion_matrix,accuracy_score\n",
        "print(confusion_matrix(y_test,test_output_1))\n",
        "test_output=pd.DataFrame(test_output)\n",
        "print(accuracy_score(y_test,test_output_1))\n"
      ],
      "metadata": {
        "id": "Q_hmR6MK_Bq5",
        "colab": {
          "base_uri": "https://localhost:8080/"
        },
        "outputId": "a256bc0c-1413-42db-f04a-265c48f48756"
      },
      "execution_count": 150,
      "outputs": [
        {
          "output_type": "stream",
          "name": "stdout",
          "text": [
            "[[278  38  44]\n",
            " [ 94 110   5]\n",
            " [ 72   1 143]]\n",
            "0.6764331210191082\n"
          ]
        }
      ]
    },
    {
      "cell_type": "code",
      "source": [
        "print(get_f1(y_test.astype('float32'), test_output_1.astype('float32')))"
      ],
      "metadata": {
        "colab": {
          "base_uri": "https://localhost:8080/"
        },
        "id": "ZsHojwC3G8gQ",
        "outputId": "80ae600d-e925-4d66-8746-88a7e734d09c"
      },
      "execution_count": 151,
      "outputs": [
        {
          "output_type": "stream",
          "name": "stdout",
          "text": [
            "tf.Tensor(0.67624015, shape=(), dtype=float32)\n"
          ]
        }
      ]
    },
    {
      "cell_type": "code",
      "source": [
        "x_train_reshaped = x_train.reshape(x_train.shape[0], -1)\n",
        "x_test_reshaped = x_test.reshape(x_test.shape[0], -1)\n",
        "savetxt('arrxtrain.csv', x_train_reshaped, delimiter=',')\n",
        "savetxt('arrytrain.csv', y_train, delimiter=',')\n",
        "savetxt('arrxtest.csv', x_test_reshaped, delimiter=',')\n",
        "savetxt('arrytest.csv', y_test, delimiter=',')"
      ],
      "metadata": {
        "id": "oxhtZHtkBWOe"
      },
      "execution_count": 152,
      "outputs": []
    },
    {
      "cell_type": "code",
      "source": [
        "t"
      ],
      "metadata": {
        "colab": {
          "base_uri": "https://localhost:8080/"
        },
        "id": "xWbsHW9BQp4w",
        "outputId": "ac07a12a-812a-4d3e-8f79-b46bbec6b8c0"
      },
      "execution_count": 153,
      "outputs": [
        {
          "output_type": "execute_result",
          "data": {
            "text/plain": [
              "5"
            ]
          },
          "metadata": {},
          "execution_count": 153
        }
      ]
    }
  ]
}