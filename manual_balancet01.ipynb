{
  "nbformat": 4,
  "nbformat_minor": 0,
  "metadata": {
    "colab": {
      "provenance": [],
      "include_colab_link": true
    },
    "kernelspec": {
      "name": "python3",
      "display_name": "Python 3"
    },
    "language_info": {
      "name": "python"
    },
    "accelerator": "GPU",
    "gpuClass": "standard"
  },
  "cells": [
    {
      "cell_type": "markdown",
      "metadata": {
        "id": "view-in-github",
        "colab_type": "text"
      },
      "source": [
        "<a href=\"https://colab.research.google.com/github/Mayank-Bansal24/LAPLSTM-Models/blob/main/manual_balancet01.ipynb\" target=\"_parent\"><img src=\"https://colab.research.google.com/assets/colab-badge.svg\" alt=\"Open In Colab\"/></a>"
      ]
    },
    {
      "cell_type": "code",
      "source": [
        "import numpy as np\n",
        "import tensorflow as tf\n",
        "from tensorflow.keras import losses as lo_ss\n",
        "from tensorflow.keras.models import Sequential\n",
        "from tensorflow.keras.layers import LSTM\n",
        "from tensorflow.keras.layers import Dense, Dropout\n",
        "import string\n",
        "import pandas as pd\n",
        "from matplotlib import pyplot as plt\n",
        "from sklearn.preprocessing import StandardScaler\n",
        "import seaborn as sns\n",
        "from sklearn import model_selection\n",
        "from sklearn.datasets import make_classification\n",
        "from sklearn.utils import class_weight\n",
        "from sklearn.metrics import classification_report , roc_auc_score\n",
        "import keras \n",
        "import keras.backend as K\n",
        "from google.colab import drive\n",
        "from numpy import savetxt\n",
        "import os"
      ],
      "metadata": {
        "id": "V1kLUX7gJ3N_"
      },
      "execution_count": 56,
      "outputs": []
    },
    {
      "cell_type": "code",
      "source": [
        "drive.mount('/content/gdrive')\n"
      ],
      "metadata": {
        "colab": {
          "base_uri": "https://localhost:8080/"
        },
        "id": "HXmXAIAJArT2",
        "outputId": "6419fee8-2853-4d18-f6f4-2ae0bd87e4a8"
      },
      "execution_count": 57,
      "outputs": [
        {
          "output_type": "stream",
          "name": "stdout",
          "text": [
            "Drive already mounted at /content/gdrive; to attempt to forcibly remount, call drive.mount(\"/content/gdrive\", force_remount=True).\n"
          ]
        }
      ]
    },
    {
      "cell_type": "code",
      "source": [
        "t=1"
      ],
      "metadata": {
        "id": "uLTug-YJDW8D"
      },
      "execution_count": 58,
      "outputs": []
    },
    {
      "cell_type": "code",
      "source": [
        "os.chdir('/content/gdrive/MyDrive/laplstm/manual_balance/t'+str(t))"
      ],
      "metadata": {
        "id": "ubPkwGQnA8Wx"
      },
      "execution_count": 59,
      "outputs": []
    },
    {
      "cell_type": "code",
      "source": [
        "import os\n",
        "github_raw_link=\"https://raw.githubusercontent.com/Aryansh085/LAP/main/858417d1-7d54-4115-a01b-fdda5e03ada3_testing_combined_rows4035_disc_1_0p9_MULTIPLY_preproces_155cols.csv\"\n",
        "df1=pd.read_csv((github_raw_link),header = None)\n",
        "dftemp=np.array(df1)\n",
        "dftemp.shape\n",
        "dftemp2=dftemp[:,5:]\n",
        "dftemp2=np.array(dftemp2)\n",
        "print(dftemp2.shape)"
      ],
      "metadata": {
        "id": "3UWvhrydJ8hA",
        "colab": {
          "base_uri": "https://localhost:8080/"
        },
        "outputId": "e2ca9ff2-b54b-42c9-9b82-a02ab51455e6"
      },
      "execution_count": 60,
      "outputs": [
        {
          "output_type": "stream",
          "name": "stdout",
          "text": [
            "(4035, 150)\n"
          ]
        }
      ]
    },
    {
      "cell_type": "code",
      "source": [
        "# dftemp2\n",
        "dftemp2.shape\n",
        "# dftemp2=pd.DataFrame(dftemp2)\n",
        "# dftemp2.head()"
      ],
      "metadata": {
        "colab": {
          "base_uri": "https://localhost:8080/"
        },
        "id": "h00YSxPn8rUk",
        "outputId": "2cf352bf-6306-4a90-e659-990cd980e1a9"
      },
      "execution_count": 61,
      "outputs": [
        {
          "output_type": "execute_result",
          "data": {
            "text/plain": [
              "(4035, 150)"
            ]
          },
          "metadata": {},
          "execution_count": 61
        }
      ]
    },
    {
      "cell_type": "markdown",
      "source": [
        "--> muliply the reward of that instance into the loss of that instance to give weight"
      ],
      "metadata": {
        "id": "pPfqIsthYP2X"
      }
    },
    {
      "cell_type": "code",
      "source": [
        "from sklearn.preprocessing import StandardScaler\n",
        "\n",
        "slr=StandardScaler()\n",
        "slr.fit(dftemp2)\n",
        "dftemp2 = slr.transform(dftemp2)"
      ],
      "metadata": {
        "id": "kWYAqDfnO_1i"
      },
      "execution_count": 62,
      "outputs": []
    },
    {
      "cell_type": "code",
      "source": [
        "# f1-score function\n",
        "def get_f1(y_true, y_pred): #taken from old keras source code\n",
        "    true_positives = K.sum(K.round(K.clip(y_true * y_pred, 0, 1)))\n",
        "    possible_positives = K.sum(K.round(K.clip(y_true, 0, 1)))\n",
        "    predicted_positives = K.sum(K.round(K.clip(y_pred, 0, 1)))\n",
        "    precision = true_positives / (predicted_positives + K.epsilon())\n",
        "    recall = true_positives / (possible_positives + K.epsilon())\n",
        "    f1_val = 2*(precision*recall)/(precision+recall+K.epsilon())\n",
        "    return f1_val\n",
        "    "
      ],
      "metadata": {
        "id": "4i-6LDL58GyW"
      },
      "execution_count": 63,
      "outputs": []
    },
    {
      "cell_type": "code",
      "source": [],
      "metadata": {
        "id": "83zizsyvKHzh"
      },
      "execution_count": 63,
      "outputs": []
    },
    {
      "cell_type": "code",
      "source": [
        "y=np.array(dftemp[:,0])\n",
        "print(y)\n",
        "y_new=y[t:]\n",
        "y_new.shape\n"
      ],
      "metadata": {
        "colab": {
          "base_uri": "https://localhost:8080/"
        },
        "id": "XmXnkjOiKIGQ",
        "outputId": "25fee7cd-1d78-47c2-89d6-d5a9d447be89"
      },
      "execution_count": 64,
      "outputs": [
        {
          "output_type": "stream",
          "name": "stdout",
          "text": [
            "[2. 0. 0. ... 0. 2. 2.]\n"
          ]
        },
        {
          "output_type": "execute_result",
          "data": {
            "text/plain": [
              "(4034,)"
            ]
          },
          "metadata": {},
          "execution_count": 64
        }
      ]
    },
    {
      "cell_type": "code",
      "source": [
        "x=np.array(dftemp2)\n",
        "# print(x)\n",
        "# print(x.shape)\n",
        "x.shape,y_new.shape"
      ],
      "metadata": {
        "colab": {
          "base_uri": "https://localhost:8080/"
        },
        "id": "3JPzLQQmKhZk",
        "outputId": "1727028e-6ff4-4181-b415-7202c9c0b6d4"
      },
      "execution_count": 65,
      "outputs": [
        {
          "output_type": "execute_result",
          "data": {
            "text/plain": [
              "((4035, 150), (4034,))"
            ]
          },
          "metadata": {},
          "execution_count": 65
        }
      ]
    },
    {
      "cell_type": "code",
      "source": [
        "x_3d=[]\n",
        "for i in range(4035-t):\n",
        "  tmp=[]\n",
        "  for j in range(t):\n",
        "    tmp.append(x[j+i])\n",
        "  x_3d.append(tmp)\n",
        "x_3d= np.array(x_3d)\n",
        "x_3d.shape"
      ],
      "metadata": {
        "colab": {
          "base_uri": "https://localhost:8080/"
        },
        "id": "hdDY6fhENZ2-",
        "outputId": "579fb2b9-2f54-4741-a5de-8104622ef623"
      },
      "execution_count": 66,
      "outputs": [
        {
          "output_type": "execute_result",
          "data": {
            "text/plain": [
              "(4034, 1, 150)"
            ]
          },
          "metadata": {},
          "execution_count": 66
        }
      ]
    },
    {
      "cell_type": "code",
      "source": [
        "train_test_ratio=0.8\n",
        "print(x_3d.shape[0])\n",
        "x_train=[]\n",
        "y_train=[]\n",
        "x_test=[]\n",
        "y_test=[]\n",
        "for i in range(x_3d.shape[0]):\n",
        "  l=[]\n",
        "  ly=[]\n",
        "  no=np.random.randint(100)\n",
        "  if(no<80):\n",
        "    l=x_3d[i]\n",
        "    ly=y_new[i]\n",
        "    x_train.append(l)\n",
        "    y_train.append(ly)\n",
        "  else:\n",
        "    l=x_3d[i]\n",
        "    ly=y_new[i]\n",
        "    x_test.append(l)\n",
        "    y_test.append(ly)\n",
        "\n",
        "\n",
        "x_train=np.array(x_train)\n",
        "y_train=np.array(y_train)\n",
        "x_test=np.array(x_test)\n",
        "y_test=np.array(y_test)\n",
        "x_train.shape,y_train.shape,x_test.shape,y_test.shape"
      ],
      "metadata": {
        "colab": {
          "base_uri": "https://localhost:8080/"
        },
        "id": "AwnZ3Mh1Khi8",
        "outputId": "de3b8d86-7b55-4b93-e2fd-d4afa8b0e214"
      },
      "execution_count": 67,
      "outputs": [
        {
          "output_type": "stream",
          "name": "stdout",
          "text": [
            "4034\n"
          ]
        },
        {
          "output_type": "execute_result",
          "data": {
            "text/plain": [
              "((3219, 1, 150), (3219,), (815, 1, 150), (815,))"
            ]
          },
          "metadata": {},
          "execution_count": 67
        }
      ]
    },
    {
      "cell_type": "code",
      "source": [
        "cnt0=0\n",
        "cnt1=0\n",
        "cnt2=0\n",
        "for i in range(x_train.shape[0]):\n",
        "  if(y_train[i]==0):\n",
        "    cnt0+=1\n",
        "  elif(y_train[i]==1):\n",
        "    cnt1+=1\n",
        "  elif(y_train[i]==2):\n",
        "    cnt2+=1\n",
        "print(cnt0)\n",
        "print(cnt1)\n",
        "print(cnt2)  "
      ],
      "metadata": {
        "colab": {
          "base_uri": "https://localhost:8080/"
        },
        "id": "xlijLVYecmcq",
        "outputId": "0fd29f4f-aba0-49b9-b6d3-e49e756a2ac6"
      },
      "execution_count": 68,
      "outputs": [
        {
          "output_type": "stream",
          "name": "stdout",
          "text": [
            "1448\n",
            "853\n",
            "918\n"
          ]
        }
      ]
    },
    {
      "cell_type": "code",
      "source": [
        "x_train_1=[]\n",
        "y_train_1=[]\n",
        "c1=0\n",
        "c2=0\n",
        "c3=0\n",
        "for i in range(x_train.shape[0]):\n",
        "  if(y_train[i]==0):\n",
        "    x_train_1.append(x_train[i])\n",
        "    y_train_1.append(0)\n",
        "    c1+=1\n",
        "  elif(y_train[i]==1):\n",
        "    x_train_1.append(x_train[i])\n",
        "    y_train_1.append(1)\n",
        "    c2+=1\n",
        "  elif(y_train[i]==2 ):\n",
        "    x_train_1.append(x_train[i])\n",
        "    y_train_1.append(2)\n",
        "    c3=c3+1\n",
        "for i in range(x_train.shape[0]):\n",
        "  if(y_train[i]==1):\n",
        "    no=np.random.randint(100)\n",
        "    if(no>=30):\n",
        "      x_train_1.append(x_train[i])\n",
        "      y_train_1.append(1)\n",
        "      c2+=1\n",
        "  elif(y_train[i]==2 ):\n",
        "    no=np.random.randint(100)\n",
        "    if(no>=27):\n",
        "      x_train_1.append(x_train[i])\n",
        "      y_train_1.append(2)\n",
        "      c3+=1\n",
        "\n",
        "y_train=[]\n",
        "y_train=y_train_1\n",
        "x_train=[]\n",
        "x_train=x_train_1\n",
        "x_train=np.array(x_train)\n",
        "y_train=np.array(y_train)\n",
        "print(c1)\n",
        "print(c2)\n",
        "print(c3)"
      ],
      "metadata": {
        "id": "PqOHcbhQcuo8",
        "colab": {
          "base_uri": "https://localhost:8080/"
        },
        "outputId": "b343bb99-fe5b-481f-9070-ae0d5bb6741c"
      },
      "execution_count": 69,
      "outputs": [
        {
          "output_type": "stream",
          "name": "stdout",
          "text": [
            "1448\n",
            "1448\n",
            "1599\n"
          ]
        }
      ]
    },
    {
      "cell_type": "code",
      "source": [
        "\n",
        "# model = Sequential()\n",
        "# model.add(LSTM(200, activation='relu', return_sequences=True, input_shape=( t,150,)))\n",
        "# model.add(LSTM(100, activation='relu', return_sequences=True))\n",
        "# model.add(LSTM(50, activation='relu', return_sequences=True))\n",
        "# model.add(LSTM(25, activation='relu'))\n",
        "# model.add(Dense(20, activation='relu'))\n",
        "# model.add(Dense(10, activation='relu'))\n",
        "# model.add(Dense(3))\n",
        "# model.compile(optimizer='SGD', loss='sparse_categorical_crossentropy',metrics=['accuracy'])\n",
        "# history = model.fit(x_train, y_train, epochs=10, validation_split=0.2, verbose=1)\n",
        "# test_output = model.predict(x_test, verbose=1)\n",
        "# # history = model.fit(X, Y, epochs=1000, validation_split=0.2, verbose=1)\n",
        "# # test_output = model.predict(x=, verbose=0)\n",
        "# # print(test_output)"
      ],
      "metadata": {
        "id": "rhgsSos1KIbA"
      },
      "execution_count": 70,
      "outputs": []
    },
    {
      "cell_type": "code",
      "source": [
        "# sklearn_weights={0:1738,1:2348,2:2362}\n",
        "model = Sequential()\n",
        "model.add(LSTM(200, activation='relu', return_sequences=True, input_shape=( t,150,)))\n",
        "model.add(LSTM(400, activation='relu', return_sequences=True))\n",
        "model.add(LSTM(800, activation='relu', return_sequences=True))\n",
        "model.add(LSTM(150, activation='relu'))\n",
        "model.add(Dense(100, activation='relu'))\n",
        "model.add(Dense(64, activation='relu'))\n",
        "model.add(Dense(10, activation='relu'))\n",
        "model.add(Dense(3,activation='sigmoid'))\n",
        "optimi=keras.optimizers.Adam()\n",
        "model.compile(optimizer=optimi, loss='sparse_categorical_crossentropy',metrics=['accuracy',get_f1])\n",
        "\n",
        "history = model.fit(x_train, y_train, epochs=25, validation_split=0.2, verbose=1)\n",
        "# history = model.fit(x_train, y_train, epochs=25, validation_split=0.2, verbose=1,class_weight=sklearn_weights)\n",
        "test_output = model.predict(x_test, verbose=1)\n"
      ],
      "metadata": {
        "colab": {
          "base_uri": "https://localhost:8080/"
        },
        "id": "lwHPGS2iXMXc",
        "outputId": "bcf85930-1e24-4ef9-8ceb-8b55bdb9a092"
      },
      "execution_count": 71,
      "outputs": [
        {
          "output_type": "stream",
          "name": "stderr",
          "text": [
            "WARNING:tensorflow:Layer lstm_8 will not use cuDNN kernels since it doesn't meet the criteria. It will use a generic GPU kernel as fallback when running on GPU.\n",
            "WARNING:tensorflow:Layer lstm_9 will not use cuDNN kernels since it doesn't meet the criteria. It will use a generic GPU kernel as fallback when running on GPU.\n",
            "WARNING:tensorflow:Layer lstm_10 will not use cuDNN kernels since it doesn't meet the criteria. It will use a generic GPU kernel as fallback when running on GPU.\n",
            "WARNING:tensorflow:Layer lstm_11 will not use cuDNN kernels since it doesn't meet the criteria. It will use a generic GPU kernel as fallback when running on GPU.\n"
          ]
        },
        {
          "output_type": "stream",
          "name": "stdout",
          "text": [
            "Epoch 1/25\n",
            "113/113 [==============================] - 6s 22ms/step - loss: 1.0940 - accuracy: 0.4002 - get_f1: 1.1078 - val_loss: 1.1700 - val_accuracy: 0.0000e+00 - val_get_f1: 1.5515\n",
            "Epoch 2/25\n",
            "113/113 [==============================] - 2s 17ms/step - loss: 1.0827 - accuracy: 0.4027 - get_f1: 1.1243 - val_loss: 1.2092 - val_accuracy: 0.0000e+00 - val_get_f1: 1.7426\n",
            "Epoch 3/25\n",
            "113/113 [==============================] - 2s 17ms/step - loss: 1.0373 - accuracy: 0.4399 - get_f1: 1.1631 - val_loss: 1.1054 - val_accuracy: 0.2492 - val_get_f1: 1.7077\n",
            "Epoch 4/25\n",
            "113/113 [==============================] - 2s 17ms/step - loss: 0.8933 - accuracy: 0.5412 - get_f1: 1.1086 - val_loss: 0.9769 - val_accuracy: 0.4483 - val_get_f1: 1.6735\n",
            "Epoch 5/25\n",
            "113/113 [==============================] - 2s 17ms/step - loss: 0.7269 - accuracy: 0.6285 - get_f1: 1.0543 - val_loss: 0.8182 - val_accuracy: 0.5028 - val_get_f1: 1.5760\n",
            "Epoch 6/25\n",
            "113/113 [==============================] - 2s 17ms/step - loss: 0.5749 - accuracy: 0.7052 - get_f1: 1.0050 - val_loss: 0.7986 - val_accuracy: 0.5829 - val_get_f1: 1.5040\n",
            "Epoch 7/25\n",
            "113/113 [==============================] - 2s 17ms/step - loss: 0.4772 - accuracy: 0.7720 - get_f1: 0.9748 - val_loss: 0.6879 - val_accuracy: 0.6885 - val_get_f1: 1.4443\n",
            "Epoch 8/25\n",
            "113/113 [==============================] - 2s 17ms/step - loss: 0.4174 - accuracy: 0.8245 - get_f1: 0.9741 - val_loss: 0.5364 - val_accuracy: 0.7653 - val_get_f1: 1.4375\n",
            "Epoch 9/25\n",
            "113/113 [==============================] - 2s 17ms/step - loss: 0.3603 - accuracy: 0.8562 - get_f1: 0.9522 - val_loss: 0.4452 - val_accuracy: 0.8343 - val_get_f1: 1.4435\n",
            "Epoch 10/25\n",
            "113/113 [==============================] - 2s 18ms/step - loss: 0.2824 - accuracy: 0.8991 - get_f1: 0.8512 - val_loss: 0.2874 - val_accuracy: 0.8966 - val_get_f1: 1.4105\n",
            "Epoch 11/25\n",
            "113/113 [==============================] - 2s 18ms/step - loss: 0.2327 - accuracy: 0.9188 - get_f1: 0.8638 - val_loss: 0.2975 - val_accuracy: 0.8888 - val_get_f1: 1.5214\n",
            "Epoch 12/25\n",
            "113/113 [==============================] - 2s 17ms/step - loss: 0.1884 - accuracy: 0.9366 - get_f1: 0.8793 - val_loss: 0.2283 - val_accuracy: 0.9210 - val_get_f1: 1.4478\n",
            "Epoch 13/25\n",
            "113/113 [==============================] - 2s 17ms/step - loss: 0.1298 - accuracy: 0.9583 - get_f1: 0.8398 - val_loss: 0.1773 - val_accuracy: 0.9410 - val_get_f1: 1.5751\n",
            "Epoch 14/25\n",
            "113/113 [==============================] - 2s 17ms/step - loss: 0.1160 - accuracy: 0.9616 - get_f1: 0.8790 - val_loss: 0.1961 - val_accuracy: 0.9422 - val_get_f1: 1.5625\n",
            "Epoch 15/25\n",
            "113/113 [==============================] - 2s 18ms/step - loss: 0.1174 - accuracy: 0.9633 - get_f1: 0.8779 - val_loss: 0.1857 - val_accuracy: 0.9355 - val_get_f1: 1.5113\n",
            "Epoch 16/25\n",
            "113/113 [==============================] - 2s 17ms/step - loss: 0.1221 - accuracy: 0.9586 - get_f1: 0.8607 - val_loss: 0.1346 - val_accuracy: 0.9522 - val_get_f1: 1.5386\n",
            "Epoch 17/25\n",
            "113/113 [==============================] - 2s 17ms/step - loss: 0.0885 - accuracy: 0.9725 - get_f1: 0.8366 - val_loss: 0.0994 - val_accuracy: 0.9689 - val_get_f1: 1.5486\n",
            "Epoch 18/25\n",
            "113/113 [==============================] - 2s 18ms/step - loss: 0.0812 - accuracy: 0.9758 - get_f1: 0.8438 - val_loss: 0.0919 - val_accuracy: 0.9655 - val_get_f1: 1.4676\n",
            "Epoch 19/25\n",
            "113/113 [==============================] - 2s 17ms/step - loss: 0.0903 - accuracy: 0.9716 - get_f1: 0.8339 - val_loss: 0.0780 - val_accuracy: 0.9800 - val_get_f1: 1.4833\n",
            "Epoch 20/25\n",
            "113/113 [==============================] - 2s 17ms/step - loss: 0.0632 - accuracy: 0.9808 - get_f1: 0.8261 - val_loss: 0.0654 - val_accuracy: 0.9711 - val_get_f1: 1.4427\n",
            "Epoch 21/25\n",
            "113/113 [==============================] - 2s 18ms/step - loss: 0.0453 - accuracy: 0.9847 - get_f1: 0.8232 - val_loss: 0.0347 - val_accuracy: 0.9878 - val_get_f1: 1.3957\n",
            "Epoch 22/25\n",
            "113/113 [==============================] - 2s 17ms/step - loss: 0.0181 - accuracy: 0.9947 - get_f1: 0.8138 - val_loss: 0.0165 - val_accuracy: 0.9922 - val_get_f1: 1.2061\n",
            "Epoch 23/25\n",
            "113/113 [==============================] - 2s 18ms/step - loss: 0.0483 - accuracy: 0.9758 - get_f1: 0.8829 - val_loss: 0.0711 - val_accuracy: 0.9433 - val_get_f1: 1.3989\n",
            "Epoch 24/25\n",
            "113/113 [==============================] - 3s 23ms/step - loss: 0.0453 - accuracy: 0.9655 - get_f1: 0.8296 - val_loss: 0.0380 - val_accuracy: 0.9277 - val_get_f1: 1.2951\n",
            "Epoch 25/25\n",
            "113/113 [==============================] - 3s 30ms/step - loss: 0.0236 - accuracy: 0.9561 - get_f1: 0.8467 - val_loss: 0.0386 - val_accuracy: 0.9388 - val_get_f1: 1.3082\n",
            "26/26 [==============================] - 1s 3ms/step\n"
          ]
        }
      ]
    },
    {
      "cell_type": "code",
      "source": [
        "test_output_1=np.array([np.argmax(i)  for i in test_output])\n",
        "from sklearn.metrics import confusion_matrix,accuracy_score\n",
        "print(confusion_matrix(y_test,test_output_1))\n",
        "test_output=pd.DataFrame(test_output)\n",
        "print(accuracy_score(y_test,test_output_1))\n"
      ],
      "metadata": {
        "id": "Q_hmR6MK_Bq5",
        "colab": {
          "base_uri": "https://localhost:8080/"
        },
        "outputId": "182536c8-a27a-40a2-8f6e-bdc2c38e92d9"
      },
      "execution_count": 72,
      "outputs": [
        {
          "output_type": "stream",
          "name": "stdout",
          "text": [
            "[[167 102 110]\n",
            " [ 80  46  76]\n",
            " [ 98  52  84]]\n",
            "0.36441717791411044\n"
          ]
        }
      ]
    },
    {
      "cell_type": "code",
      "source": [
        "print(get_f1(y_test.astype('float32'), test_output_1.astype('float32')))"
      ],
      "metadata": {
        "colab": {
          "base_uri": "https://localhost:8080/"
        },
        "id": "ZsHojwC3G8gQ",
        "outputId": "6d30623f-b725-4b82-d928-78541a766e0c"
      },
      "execution_count": 73,
      "outputs": [
        {
          "output_type": "stream",
          "name": "stdout",
          "text": [
            "tf.Tensor(0.5695364, shape=(), dtype=float32)\n"
          ]
        }
      ]
    },
    {
      "cell_type": "code",
      "source": [
        "x_train_reshaped = x_train.reshape(x_train.shape[0], -1)\n",
        "x_test_reshaped = x_test.reshape(x_test.shape[0], -1)\n",
        "savetxt('arrxtrain.csv', x_train_reshaped, delimiter=',')\n",
        "savetxt('arrytrain.csv', y_train, delimiter=',')\n",
        "savetxt('arrxtest.csv', x_test_reshaped, delimiter=',')\n",
        "savetxt('arrytest.csv', y_test, delimiter=',')"
      ],
      "metadata": {
        "id": "oxhtZHtkBWOe"
      },
      "execution_count": 74,
      "outputs": []
    }
  ]
}