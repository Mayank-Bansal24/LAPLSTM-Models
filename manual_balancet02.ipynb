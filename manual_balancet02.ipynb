{
  "nbformat": 4,
  "nbformat_minor": 0,
  "metadata": {
    "colab": {
      "provenance": [],
      "include_colab_link": true
    },
    "kernelspec": {
      "name": "python3",
      "display_name": "Python 3"
    },
    "language_info": {
      "name": "python"
    },
    "accelerator": "GPU",
    "gpuClass": "standard"
  },
  "cells": [
    {
      "cell_type": "markdown",
      "metadata": {
        "id": "view-in-github",
        "colab_type": "text"
      },
      "source": [
        "<a href=\"https://colab.research.google.com/github/Mayank-Bansal24/LAPLSTM-Models/blob/main/manual_balancet02.ipynb\" target=\"_parent\"><img src=\"https://colab.research.google.com/assets/colab-badge.svg\" alt=\"Open In Colab\"/></a>"
      ]
    },
    {
      "cell_type": "code",
      "source": [
        "import numpy as np\n",
        "import tensorflow as tf\n",
        "from tensorflow.keras import losses as lo_ss\n",
        "from tensorflow.keras.models import Sequential\n",
        "from tensorflow.keras.layers import LSTM\n",
        "from tensorflow.keras.layers import Dense, Dropout\n",
        "import string\n",
        "import pandas as pd\n",
        "from matplotlib import pyplot as plt\n",
        "from sklearn.preprocessing import StandardScaler\n",
        "import seaborn as sns\n",
        "from sklearn import model_selection\n",
        "from sklearn.datasets import make_classification\n",
        "from sklearn.utils import class_weight\n",
        "from sklearn.metrics import classification_report , roc_auc_score\n",
        "import keras \n",
        "import keras.backend as K\n",
        "from google.colab import drive\n",
        "from numpy import savetxt\n",
        "import os"
      ],
      "metadata": {
        "id": "V1kLUX7gJ3N_"
      },
      "execution_count": 75,
      "outputs": []
    },
    {
      "cell_type": "code",
      "source": [
        "drive.mount('/content/gdrive')\n"
      ],
      "metadata": {
        "colab": {
          "base_uri": "https://localhost:8080/"
        },
        "id": "HXmXAIAJArT2",
        "outputId": "7bc0a2e7-5caa-4379-9329-abc5ca4148fd"
      },
      "execution_count": 76,
      "outputs": [
        {
          "output_type": "stream",
          "name": "stdout",
          "text": [
            "Drive already mounted at /content/gdrive; to attempt to forcibly remount, call drive.mount(\"/content/gdrive\", force_remount=True).\n"
          ]
        }
      ]
    },
    {
      "cell_type": "code",
      "source": [
        "t=2"
      ],
      "metadata": {
        "id": "uLTug-YJDW8D"
      },
      "execution_count": 77,
      "outputs": []
    },
    {
      "cell_type": "code",
      "source": [
        "os.chdir('/content/gdrive/MyDrive/laplstm/manual_balance/t'+str(t))"
      ],
      "metadata": {
        "id": "ubPkwGQnA8Wx"
      },
      "execution_count": 78,
      "outputs": []
    },
    {
      "cell_type": "code",
      "source": [
        "import os\n",
        "github_raw_link=\"https://raw.githubusercontent.com/Aryansh085/LAP/main/858417d1-7d54-4115-a01b-fdda5e03ada3_testing_combined_rows4035_disc_1_0p9_MULTIPLY_preproces_155cols.csv\"\n",
        "df1=pd.read_csv((github_raw_link),header = None)\n",
        "dftemp=np.array(df1)\n",
        "dftemp.shape\n",
        "dftemp2=dftemp[:,5:]\n",
        "dftemp2=np.array(dftemp2)\n",
        "print(dftemp2.shape)"
      ],
      "metadata": {
        "id": "3UWvhrydJ8hA",
        "colab": {
          "base_uri": "https://localhost:8080/"
        },
        "outputId": "39609dee-57c6-4b89-9ce2-af2d9e320e91"
      },
      "execution_count": 79,
      "outputs": [
        {
          "output_type": "stream",
          "name": "stdout",
          "text": [
            "(4035, 150)\n"
          ]
        }
      ]
    },
    {
      "cell_type": "code",
      "source": [
        "# dftemp2\n",
        "dftemp2.shape\n",
        "# dftemp2=pd.DataFrame(dftemp2)\n",
        "# dftemp2.head()"
      ],
      "metadata": {
        "colab": {
          "base_uri": "https://localhost:8080/"
        },
        "id": "h00YSxPn8rUk",
        "outputId": "cd98cdb9-1747-4342-9db8-b7dff571c933"
      },
      "execution_count": 80,
      "outputs": [
        {
          "output_type": "execute_result",
          "data": {
            "text/plain": [
              "(4035, 150)"
            ]
          },
          "metadata": {},
          "execution_count": 80
        }
      ]
    },
    {
      "cell_type": "markdown",
      "source": [
        "--> muliply the reward of that instance into the loss of that instance to give weight"
      ],
      "metadata": {
        "id": "pPfqIsthYP2X"
      }
    },
    {
      "cell_type": "code",
      "source": [
        "from sklearn.preprocessing import StandardScaler\n",
        "\n",
        "slr=StandardScaler()\n",
        "slr.fit(dftemp2)\n",
        "dftemp2 = slr.transform(dftemp2)"
      ],
      "metadata": {
        "id": "kWYAqDfnO_1i"
      },
      "execution_count": 81,
      "outputs": []
    },
    {
      "cell_type": "code",
      "source": [
        "# f1-score function\n",
        "def get_f1(y_true, y_pred): #taken from old keras source code\n",
        "    true_positives = K.sum(K.round(K.clip(y_true * y_pred, 0, 1)))\n",
        "    possible_positives = K.sum(K.round(K.clip(y_true, 0, 1)))\n",
        "    predicted_positives = K.sum(K.round(K.clip(y_pred, 0, 1)))\n",
        "    precision = true_positives / (predicted_positives + K.epsilon())\n",
        "    recall = true_positives / (possible_positives + K.epsilon())\n",
        "    f1_val = 2*(precision*recall)/(precision+recall+K.epsilon())\n",
        "    return f1_val\n",
        "    "
      ],
      "metadata": {
        "id": "4i-6LDL58GyW"
      },
      "execution_count": 82,
      "outputs": []
    },
    {
      "cell_type": "code",
      "source": [],
      "metadata": {
        "id": "83zizsyvKHzh"
      },
      "execution_count": 82,
      "outputs": []
    },
    {
      "cell_type": "code",
      "source": [
        "y=np.array(dftemp[:,0])\n",
        "print(y)\n",
        "y_new=y[t:]\n",
        "y_new.shape\n"
      ],
      "metadata": {
        "colab": {
          "base_uri": "https://localhost:8080/"
        },
        "id": "XmXnkjOiKIGQ",
        "outputId": "caf4e854-b389-4710-a606-189ce0ed1b96"
      },
      "execution_count": 83,
      "outputs": [
        {
          "output_type": "stream",
          "name": "stdout",
          "text": [
            "[2. 0. 0. ... 0. 2. 2.]\n"
          ]
        },
        {
          "output_type": "execute_result",
          "data": {
            "text/plain": [
              "(4033,)"
            ]
          },
          "metadata": {},
          "execution_count": 83
        }
      ]
    },
    {
      "cell_type": "code",
      "source": [
        "x=np.array(dftemp2)\n",
        "# print(x)\n",
        "# print(x.shape)\n",
        "x.shape,y_new.shape"
      ],
      "metadata": {
        "colab": {
          "base_uri": "https://localhost:8080/"
        },
        "id": "3JPzLQQmKhZk",
        "outputId": "ae4eae8a-5c31-4aa5-9253-f1d105be7396"
      },
      "execution_count": 84,
      "outputs": [
        {
          "output_type": "execute_result",
          "data": {
            "text/plain": [
              "((4035, 150), (4033,))"
            ]
          },
          "metadata": {},
          "execution_count": 84
        }
      ]
    },
    {
      "cell_type": "code",
      "source": [
        "x_3d=[]\n",
        "for i in range(4035-t):\n",
        "  tmp=[]\n",
        "  for j in range(t):\n",
        "    tmp.append(x[j+i])\n",
        "  x_3d.append(tmp)\n",
        "x_3d= np.array(x_3d)\n",
        "x_3d.shape"
      ],
      "metadata": {
        "colab": {
          "base_uri": "https://localhost:8080/"
        },
        "id": "hdDY6fhENZ2-",
        "outputId": "3b2fca1f-69ff-4e29-c2f2-c6d14bb272ce"
      },
      "execution_count": 85,
      "outputs": [
        {
          "output_type": "execute_result",
          "data": {
            "text/plain": [
              "(4033, 2, 150)"
            ]
          },
          "metadata": {},
          "execution_count": 85
        }
      ]
    },
    {
      "cell_type": "code",
      "source": [
        "train_test_ratio=0.8\n",
        "print(x_3d.shape[0])\n",
        "x_train=[]\n",
        "y_train=[]\n",
        "x_test=[]\n",
        "y_test=[]\n",
        "for i in range(x_3d.shape[0]):\n",
        "  l=[]\n",
        "  ly=[]\n",
        "  no=np.random.randint(100)\n",
        "  if(no<80):\n",
        "    l=x_3d[i]\n",
        "    ly=y_new[i]\n",
        "    x_train.append(l)\n",
        "    y_train.append(ly)\n",
        "  else:\n",
        "    l=x_3d[i]\n",
        "    ly=y_new[i]\n",
        "    x_test.append(l)\n",
        "    y_test.append(ly)\n",
        "\n",
        "\n",
        "x_train=np.array(x_train)\n",
        "y_train=np.array(y_train)\n",
        "x_test=np.array(x_test)\n",
        "y_test=np.array(y_test)\n",
        "x_train.shape,y_train.shape,x_test.shape,y_test.shape"
      ],
      "metadata": {
        "colab": {
          "base_uri": "https://localhost:8080/"
        },
        "id": "AwnZ3Mh1Khi8",
        "outputId": "5c3dcaee-0c6a-4d29-a61e-ed0b03b87e42"
      },
      "execution_count": 86,
      "outputs": [
        {
          "output_type": "stream",
          "name": "stdout",
          "text": [
            "4033\n"
          ]
        },
        {
          "output_type": "execute_result",
          "data": {
            "text/plain": [
              "((3196, 2, 150), (3196,), (837, 2, 150), (837,))"
            ]
          },
          "metadata": {},
          "execution_count": 86
        }
      ]
    },
    {
      "cell_type": "code",
      "source": [
        "cnt0=0\n",
        "cnt1=0\n",
        "cnt2=0\n",
        "for i in range(x_train.shape[0]):\n",
        "  if(y_train[i]==0):\n",
        "    cnt0+=1\n",
        "  elif(y_train[i]==1):\n",
        "    cnt1+=1\n",
        "  elif(y_train[i]==2):\n",
        "    cnt2+=1\n",
        "print(cnt0)\n",
        "print(cnt1)\n",
        "print(cnt2)  "
      ],
      "metadata": {
        "colab": {
          "base_uri": "https://localhost:8080/"
        },
        "id": "xlijLVYecmcq",
        "outputId": "2ce8e2f6-f24c-4a75-f711-3b5f171d7737"
      },
      "execution_count": 87,
      "outputs": [
        {
          "output_type": "stream",
          "name": "stdout",
          "text": [
            "1422\n",
            "828\n",
            "946\n"
          ]
        }
      ]
    },
    {
      "cell_type": "code",
      "source": [
        "x_train_1=[]\n",
        "y_train_1=[]\n",
        "c1=0\n",
        "c2=0\n",
        "c3=0\n",
        "for i in range(x_train.shape[0]):\n",
        "  if(y_train[i]==0):\n",
        "    x_train_1.append(x_train[i])\n",
        "    y_train_1.append(0)\n",
        "    c1+=1\n",
        "  elif(y_train[i]==1):\n",
        "    x_train_1.append(x_train[i])\n",
        "    y_train_1.append(1)\n",
        "    c2+=1\n",
        "  elif(y_train[i]==2 ):\n",
        "    x_train_1.append(x_train[i])\n",
        "    y_train_1.append(2)\n",
        "    c3=c3+1\n",
        "for i in range(x_train.shape[0]):\n",
        "  if(y_train[i]==1):\n",
        "    no=np.random.randint(100)\n",
        "    if(no>=30):\n",
        "      x_train_1.append(x_train[i])\n",
        "      y_train_1.append(1)\n",
        "      c2+=1\n",
        "  elif(y_train[i]==2 ):\n",
        "    no=np.random.randint(100)\n",
        "    if(no>=27):\n",
        "      x_train_1.append(x_train[i])\n",
        "      y_train_1.append(2)\n",
        "      c3+=1\n",
        "\n",
        "y_train=[]\n",
        "y_train=y_train_1\n",
        "x_train=[]\n",
        "x_train=x_train_1\n",
        "x_train=np.array(x_train)\n",
        "y_train=np.array(y_train)\n",
        "print(c1)\n",
        "print(c2)\n",
        "print(c3)"
      ],
      "metadata": {
        "id": "PqOHcbhQcuo8",
        "colab": {
          "base_uri": "https://localhost:8080/"
        },
        "outputId": "62775c54-4f6d-4edf-8bd5-d279aa2ca8cc"
      },
      "execution_count": 88,
      "outputs": [
        {
          "output_type": "stream",
          "name": "stdout",
          "text": [
            "1422\n",
            "1392\n",
            "1638\n"
          ]
        }
      ]
    },
    {
      "cell_type": "code",
      "source": [
        "\n",
        "# model = Sequential()\n",
        "# model.add(LSTM(200, activation='relu', return_sequences=True, input_shape=( t,150,)))\n",
        "# model.add(LSTM(100, activation='relu', return_sequences=True))\n",
        "# model.add(LSTM(50, activation='relu', return_sequences=True))\n",
        "# model.add(LSTM(25, activation='relu'))\n",
        "# model.add(Dense(20, activation='relu'))\n",
        "# model.add(Dense(10, activation='relu'))\n",
        "# model.add(Dense(3))\n",
        "# model.compile(optimizer='SGD', loss='sparse_categorical_crossentropy',metrics=['accuracy'])\n",
        "# history = model.fit(x_train, y_train, epochs=10, validation_split=0.2, verbose=1)\n",
        "# test_output = model.predict(x_test, verbose=1)\n",
        "# # history = model.fit(X, Y, epochs=1000, validation_split=0.2, verbose=1)\n",
        "# # test_output = model.predict(x=, verbose=0)\n",
        "# # print(test_output)"
      ],
      "metadata": {
        "id": "rhgsSos1KIbA"
      },
      "execution_count": 89,
      "outputs": []
    },
    {
      "cell_type": "code",
      "source": [
        "# sklearn_weights={0:1738,1:2348,2:2362}\n",
        "model = Sequential()\n",
        "model.add(LSTM(200, activation='relu', return_sequences=True, input_shape=( t,150,)))\n",
        "model.add(LSTM(400, activation='relu', return_sequences=True))\n",
        "model.add(LSTM(800, activation='relu', return_sequences=True))\n",
        "model.add(LSTM(150, activation='relu'))\n",
        "model.add(Dense(100, activation='relu'))\n",
        "model.add(Dense(64, activation='relu'))\n",
        "model.add(Dense(10, activation='relu'))\n",
        "model.add(Dense(3,activation='sigmoid'))\n",
        "optimi=keras.optimizers.Adam()\n",
        "model.compile(optimizer=optimi, loss='sparse_categorical_crossentropy',metrics=['accuracy',get_f1])\n",
        "\n",
        "history = model.fit(x_train, y_train, epochs=25, validation_split=0.2, verbose=1)\n",
        "# history = model.fit(x_train, y_train, epochs=25, validation_split=0.2, verbose=1,class_weight=sklearn_weights)\n",
        "test_output = model.predict(x_test, verbose=1)\n"
      ],
      "metadata": {
        "colab": {
          "base_uri": "https://localhost:8080/"
        },
        "id": "lwHPGS2iXMXc",
        "outputId": "1b120a44-47e6-4f07-8cfa-44ecc1b5db7e"
      },
      "execution_count": 90,
      "outputs": [
        {
          "output_type": "stream",
          "name": "stderr",
          "text": [
            "WARNING:tensorflow:Layer lstm_12 will not use cuDNN kernels since it doesn't meet the criteria. It will use a generic GPU kernel as fallback when running on GPU.\n",
            "WARNING:tensorflow:Layer lstm_13 will not use cuDNN kernels since it doesn't meet the criteria. It will use a generic GPU kernel as fallback when running on GPU.\n",
            "WARNING:tensorflow:Layer lstm_14 will not use cuDNN kernels since it doesn't meet the criteria. It will use a generic GPU kernel as fallback when running on GPU.\n",
            "WARNING:tensorflow:Layer lstm_15 will not use cuDNN kernels since it doesn't meet the criteria. It will use a generic GPU kernel as fallback when running on GPU.\n"
          ]
        },
        {
          "output_type": "stream",
          "name": "stdout",
          "text": [
            "Epoch 1/25\n",
            "112/112 [==============================] - 8s 32ms/step - loss: 1.0960 - accuracy: 0.3909 - get_f1: 1.5219 - val_loss: 1.1272 - val_accuracy: 0.0000e+00 - val_get_f1: 2.1577\n",
            "Epoch 2/25\n",
            "112/112 [==============================] - 4s 39ms/step - loss: 1.0919 - accuracy: 0.3993 - get_f1: 1.5350 - val_loss: 1.1500 - val_accuracy: 0.0000e+00 - val_get_f1: 2.1577\n",
            "Epoch 3/25\n",
            "112/112 [==============================] - 4s 32ms/step - loss: 1.0899 - accuracy: 0.3993 - get_f1: 1.5309 - val_loss: 1.1655 - val_accuracy: 0.0000e+00 - val_get_f1: 2.1577\n",
            "Epoch 4/25\n",
            "112/112 [==============================] - 3s 26ms/step - loss: 1.0890 - accuracy: 0.3993 - get_f1: 1.5326 - val_loss: 1.1786 - val_accuracy: 0.0000e+00 - val_get_f1: 2.1577\n",
            "Epoch 5/25\n",
            "112/112 [==============================] - 3s 25ms/step - loss: 1.0887 - accuracy: 0.3993 - get_f1: 1.5370 - val_loss: 1.1845 - val_accuracy: 0.0000e+00 - val_get_f1: 2.1577\n",
            "Epoch 6/25\n",
            "112/112 [==============================] - 3s 26ms/step - loss: 1.0885 - accuracy: 0.3993 - get_f1: 1.5316 - val_loss: 1.1904 - val_accuracy: 0.0000e+00 - val_get_f1: 2.1577\n",
            "Epoch 7/25\n",
            "112/112 [==============================] - 3s 27ms/step - loss: 1.0884 - accuracy: 0.3993 - get_f1: 1.5318 - val_loss: 1.1917 - val_accuracy: 0.0000e+00 - val_get_f1: 2.1577\n",
            "Epoch 8/25\n",
            "112/112 [==============================] - 3s 26ms/step - loss: 1.0884 - accuracy: 0.3993 - get_f1: 1.5292 - val_loss: 1.1929 - val_accuracy: 0.0000e+00 - val_get_f1: 2.1577\n",
            "Epoch 9/25\n",
            "112/112 [==============================] - 3s 26ms/step - loss: 1.0884 - accuracy: 0.3993 - get_f1: 1.5300 - val_loss: 1.1949 - val_accuracy: 0.0000e+00 - val_get_f1: 2.1577\n",
            "Epoch 10/25\n",
            "112/112 [==============================] - 3s 27ms/step - loss: 1.0884 - accuracy: 0.3993 - get_f1: 1.5294 - val_loss: 1.1951 - val_accuracy: 0.0000e+00 - val_get_f1: 2.1577\n",
            "Epoch 11/25\n",
            "112/112 [==============================] - 3s 26ms/step - loss: 1.0884 - accuracy: 0.3993 - get_f1: 1.5284 - val_loss: 1.1957 - val_accuracy: 0.0000e+00 - val_get_f1: 2.1577\n",
            "Epoch 12/25\n",
            "112/112 [==============================] - 3s 25ms/step - loss: 1.0884 - accuracy: 0.3993 - get_f1: 1.5331 - val_loss: 1.1973 - val_accuracy: 0.0000e+00 - val_get_f1: 2.1577\n",
            "Epoch 13/25\n",
            "112/112 [==============================] - 3s 25ms/step - loss: 1.0884 - accuracy: 0.3993 - get_f1: 1.5324 - val_loss: 1.1955 - val_accuracy: 0.0000e+00 - val_get_f1: 2.1577\n",
            "Epoch 14/25\n",
            "112/112 [==============================] - 3s 26ms/step - loss: 1.0884 - accuracy: 0.3993 - get_f1: 1.5292 - val_loss: 1.1959 - val_accuracy: 0.0000e+00 - val_get_f1: 2.1577\n",
            "Epoch 15/25\n",
            "112/112 [==============================] - 3s 26ms/step - loss: 1.0884 - accuracy: 0.3993 - get_f1: 1.5295 - val_loss: 1.1966 - val_accuracy: 0.0000e+00 - val_get_f1: 2.1577\n",
            "Epoch 16/25\n",
            "112/112 [==============================] - 3s 26ms/step - loss: 1.0884 - accuracy: 0.3993 - get_f1: 1.5339 - val_loss: 1.1976 - val_accuracy: 0.0000e+00 - val_get_f1: 2.1577\n",
            "Epoch 17/25\n",
            "112/112 [==============================] - 3s 26ms/step - loss: 1.0885 - accuracy: 0.3993 - get_f1: 1.5312 - val_loss: 1.1973 - val_accuracy: 0.0000e+00 - val_get_f1: 2.1577\n",
            "Epoch 18/25\n",
            "112/112 [==============================] - 3s 26ms/step - loss: 1.0884 - accuracy: 0.3993 - get_f1: 1.5338 - val_loss: 1.1958 - val_accuracy: 0.0000e+00 - val_get_f1: 2.1577\n",
            "Epoch 19/25\n",
            "112/112 [==============================] - 3s 26ms/step - loss: 1.0885 - accuracy: 0.3993 - get_f1: 1.5321 - val_loss: 1.1956 - val_accuracy: 0.0000e+00 - val_get_f1: 2.1577\n",
            "Epoch 20/25\n",
            "112/112 [==============================] - 3s 26ms/step - loss: 1.0884 - accuracy: 0.3993 - get_f1: 1.5265 - val_loss: 1.1980 - val_accuracy: 0.0000e+00 - val_get_f1: 2.1577\n",
            "Epoch 21/25\n",
            "112/112 [==============================] - 3s 29ms/step - loss: 1.0884 - accuracy: 0.3993 - get_f1: 1.5280 - val_loss: 1.1970 - val_accuracy: 0.0000e+00 - val_get_f1: 2.1577\n",
            "Epoch 22/25\n",
            "112/112 [==============================] - 4s 39ms/step - loss: 1.0884 - accuracy: 0.3993 - get_f1: 1.5316 - val_loss: 1.1976 - val_accuracy: 0.0000e+00 - val_get_f1: 2.1577\n",
            "Epoch 23/25\n",
            "112/112 [==============================] - 3s 27ms/step - loss: 1.0884 - accuracy: 0.3993 - get_f1: 1.5322 - val_loss: 1.1975 - val_accuracy: 0.0000e+00 - val_get_f1: 2.1577\n",
            "Epoch 24/25\n",
            "112/112 [==============================] - 3s 27ms/step - loss: 1.0884 - accuracy: 0.3993 - get_f1: 1.5315 - val_loss: 1.1968 - val_accuracy: 0.0000e+00 - val_get_f1: 2.1577\n",
            "Epoch 25/25\n",
            "112/112 [==============================] - 3s 27ms/step - loss: 1.0885 - accuracy: 0.3993 - get_f1: 1.5325 - val_loss: 1.1975 - val_accuracy: 0.0000e+00 - val_get_f1: 2.1577\n",
            "27/27 [==============================] - 1s 4ms/step\n"
          ]
        }
      ]
    },
    {
      "cell_type": "code",
      "source": [
        "test_output_1=np.array([np.argmax(i)  for i in test_output])\n",
        "from sklearn.metrics import confusion_matrix,accuracy_score\n",
        "print(confusion_matrix(y_test,test_output_1))\n",
        "test_output=pd.DataFrame(test_output)\n",
        "print(accuracy_score(y_test,test_output_1))\n"
      ],
      "metadata": {
        "id": "Q_hmR6MK_Bq5",
        "colab": {
          "base_uri": "https://localhost:8080/"
        },
        "outputId": "e1aff504-87b5-48a4-b376-4b2340570c3a"
      },
      "execution_count": 91,
      "outputs": [
        {
          "output_type": "stream",
          "name": "stdout",
          "text": [
            "[[404   0   0]\n",
            " [227   0   0]\n",
            " [206   0   0]]\n",
            "0.4826762246117085\n"
          ]
        }
      ]
    },
    {
      "cell_type": "code",
      "source": [
        "print(get_f1(y_test.astype('float32'), test_output_1.astype('float32')))"
      ],
      "metadata": {
        "colab": {
          "base_uri": "https://localhost:8080/"
        },
        "id": "ZsHojwC3G8gQ",
        "outputId": "cd189181-cabf-4517-94e4-c27a139696f6"
      },
      "execution_count": 92,
      "outputs": [
        {
          "output_type": "stream",
          "name": "stdout",
          "text": [
            "tf.Tensor(0.0, shape=(), dtype=float32)\n"
          ]
        }
      ]
    },
    {
      "cell_type": "code",
      "source": [
        "x_train_reshaped = x_train.reshape(x_train.shape[0], -1)\n",
        "x_test_reshaped = x_test.reshape(x_test.shape[0], -1)\n",
        "savetxt('arrxtrain.csv', x_train_reshaped, delimiter=',')\n",
        "savetxt('arrytrain.csv', y_train, delimiter=',')\n",
        "savetxt('arrxtest.csv', x_test_reshaped, delimiter=',')\n",
        "savetxt('arrytest.csv', y_test, delimiter=',')"
      ],
      "metadata": {
        "id": "oxhtZHtkBWOe"
      },
      "execution_count": 93,
      "outputs": []
    }
  ]
}