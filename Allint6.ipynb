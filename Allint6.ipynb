{
  "nbformat": 4,
  "nbformat_minor": 0,
  "metadata": {
    "colab": {
      "provenance": [],
      "include_colab_link": true
    },
    "kernelspec": {
      "name": "python3",
      "display_name": "Python 3"
    },
    "language_info": {
      "name": "python"
    },
    "accelerator": "GPU",
    "gpuClass": "standard"
  },
  "cells": [
    {
      "cell_type": "markdown",
      "metadata": {
        "id": "view-in-github",
        "colab_type": "text"
      },
      "source": [
        "<a href=\"https://colab.research.google.com/github/Mayank-Bansal24/LAPLSTM-Models/blob/main/Allint6.ipynb\" target=\"_parent\"><img src=\"https://colab.research.google.com/assets/colab-badge.svg\" alt=\"Open In Colab\"/></a>"
      ]
    },
    {
      "cell_type": "code",
      "source": [
        "import numpy as np\n",
        "import tensorflow as tf\n",
        "from tensorflow.keras import losses as lo_ss\n",
        "from tensorflow.keras.models import Sequential\n",
        "from tensorflow.keras.layers import LSTM\n",
        "from tensorflow.keras.layers import Dense, Dropout\n",
        "import string\n",
        "import pandas as pd\n",
        "from matplotlib import pyplot as plt\n",
        "from sklearn.preprocessing import StandardScaler\n",
        "import seaborn as sns\n",
        "from sklearn import model_selection\n",
        "from sklearn.datasets import make_classification\n",
        "from sklearn.utils import class_weight\n",
        "from sklearn.metrics import classification_report , roc_auc_score\n",
        "import keras \n",
        "import keras.backend as K\n",
        "from google.colab import drive\n",
        "from numpy import savetxt\n",
        "import os"
      ],
      "metadata": {
        "id": "V1kLUX7gJ3N_"
      },
      "execution_count": 23,
      "outputs": []
    },
    {
      "cell_type": "code",
      "source": [
        "drive.mount('/content/gdrive')\n"
      ],
      "metadata": {
        "colab": {
          "base_uri": "https://localhost:8080/"
        },
        "id": "HXmXAIAJArT2",
        "outputId": "ef67f287-e8cf-44d5-e3c6-f1fc35aa9fb1"
      },
      "execution_count": 24,
      "outputs": [
        {
          "output_type": "stream",
          "name": "stdout",
          "text": [
            "Drive already mounted at /content/gdrive; to attempt to forcibly remount, call drive.mount(\"/content/gdrive\", force_remount=True).\n"
          ]
        }
      ]
    },
    {
      "cell_type": "code",
      "source": [
        "t=6"
      ],
      "metadata": {
        "id": "uLTug-YJDW8D"
      },
      "execution_count": 25,
      "outputs": []
    },
    {
      "cell_type": "code",
      "source": [
        "os.chdir('/content/gdrive/MyDrive/laplstm/allin/t'+str(t))"
      ],
      "metadata": {
        "id": "ubPkwGQnA8Wx"
      },
      "execution_count": 26,
      "outputs": []
    },
    {
      "cell_type": "code",
      "source": [
        "import os\n",
        "github_raw_link=\"https://raw.githubusercontent.com/Aryansh085/LAP/main/858417d1-7d54-4115-a01b-fdda5e03ada3_testing_combined_rows4035_disc_1_0p9_MULTIPLY_preproces_155cols.csv\"\n",
        "df1=pd.read_csv((github_raw_link),header = None)\n",
        "dftemp=np.array(df1)\n",
        "dftemp.shape\n",
        "dftemp2=dftemp[:,5:]\n",
        "dftemp2=np.array(dftemp2)\n",
        "print(dftemp2.shape)"
      ],
      "metadata": {
        "id": "3UWvhrydJ8hA",
        "colab": {
          "base_uri": "https://localhost:8080/"
        },
        "outputId": "95f0d900-2632-41cb-da9d-7cec6ff2c1f1"
      },
      "execution_count": 27,
      "outputs": [
        {
          "output_type": "stream",
          "name": "stdout",
          "text": [
            "(4035, 150)\n"
          ]
        }
      ]
    },
    {
      "cell_type": "code",
      "source": [
        "# dftemp2\n",
        "dftemp2.shape\n",
        "# dftemp2=pd.DataFrame(dftemp2)\n",
        "# dftemp2.head()"
      ],
      "metadata": {
        "colab": {
          "base_uri": "https://localhost:8080/"
        },
        "id": "h00YSxPn8rUk",
        "outputId": "0c8dd671-ee98-48f6-e5f1-d8537f70a6ee"
      },
      "execution_count": 28,
      "outputs": [
        {
          "output_type": "execute_result",
          "data": {
            "text/plain": [
              "(4035, 150)"
            ]
          },
          "metadata": {},
          "execution_count": 28
        }
      ]
    },
    {
      "cell_type": "markdown",
      "source": [
        "--> muliply the reward of that instance into the loss of that instance to give weight"
      ],
      "metadata": {
        "id": "pPfqIsthYP2X"
      }
    },
    {
      "cell_type": "code",
      "source": [
        "from sklearn.preprocessing import StandardScaler\n",
        "\n",
        "slr=StandardScaler()\n",
        "slr.fit(dftemp2)\n",
        "dftemp2 = slr.transform(dftemp2)"
      ],
      "metadata": {
        "id": "kWYAqDfnO_1i"
      },
      "execution_count": 29,
      "outputs": []
    },
    {
      "cell_type": "code",
      "source": [
        "# f1-score function\n",
        "def get_f1(y_true, y_pred): #taken from old keras source code\n",
        "    true_positives = K.sum(K.round(K.clip(y_true * y_pred, 0, 1)))\n",
        "    possible_positives = K.sum(K.round(K.clip(y_true, 0, 1)))\n",
        "    predicted_positives = K.sum(K.round(K.clip(y_pred, 0, 1)))\n",
        "    precision = true_positives / (predicted_positives + K.epsilon())\n",
        "    recall = true_positives / (possible_positives + K.epsilon())\n",
        "    f1_val = 2*(precision*recall)/(precision+recall+K.epsilon())\n",
        "    return f1_val\n",
        "    "
      ],
      "metadata": {
        "id": "4i-6LDL58GyW"
      },
      "execution_count": 30,
      "outputs": []
    },
    {
      "cell_type": "code",
      "source": [
        "y=np.array(dftemp[:,0])\n",
        "print(y)\n",
        "y_new=y[t:]\n",
        "y_new.shape\n"
      ],
      "metadata": {
        "colab": {
          "base_uri": "https://localhost:8080/"
        },
        "id": "XmXnkjOiKIGQ",
        "outputId": "91ed3323-dad5-4c24-9802-bf7beb8a2456"
      },
      "execution_count": 31,
      "outputs": [
        {
          "output_type": "stream",
          "name": "stdout",
          "text": [
            "[2. 0. 0. ... 0. 2. 2.]\n"
          ]
        },
        {
          "output_type": "execute_result",
          "data": {
            "text/plain": [
              "(4029,)"
            ]
          },
          "metadata": {},
          "execution_count": 31
        }
      ]
    },
    {
      "cell_type": "code",
      "source": [
        "x=np.array(dftemp2)\n",
        "# print(x)\n",
        "# print(x.shape)\n",
        "x.shape,y_new.shape"
      ],
      "metadata": {
        "colab": {
          "base_uri": "https://localhost:8080/"
        },
        "id": "3JPzLQQmKhZk",
        "outputId": "28f08182-7315-47c7-e06e-88e1a7f888d0"
      },
      "execution_count": 32,
      "outputs": [
        {
          "output_type": "execute_result",
          "data": {
            "text/plain": [
              "((4035, 150), (4029,))"
            ]
          },
          "metadata": {},
          "execution_count": 32
        }
      ]
    },
    {
      "cell_type": "code",
      "source": [
        "x_3d=[]\n",
        "for i in range(4035-t):\n",
        "  tmp=[]\n",
        "  for j in range(t):\n",
        "    tmp.append(x[j+i])\n",
        "  x_3d.append(tmp)\n",
        "x_3d= np.array(x_3d)\n",
        "x_3d.shape"
      ],
      "metadata": {
        "colab": {
          "base_uri": "https://localhost:8080/"
        },
        "id": "hdDY6fhENZ2-",
        "outputId": "7aa85675-a651-4184-cbbe-d0245e79d22d"
      },
      "execution_count": 33,
      "outputs": [
        {
          "output_type": "execute_result",
          "data": {
            "text/plain": [
              "(4029, 6, 150)"
            ]
          },
          "metadata": {},
          "execution_count": 33
        }
      ]
    },
    {
      "cell_type": "code",
      "source": [
        "train_test_ratio=0.8\n",
        "print(x_3d.shape[0])\n",
        "x_train=[]\n",
        "y_train=[]\n",
        "x_test=[]\n",
        "y_test=[]\n",
        "for i in range(x_3d.shape[0]):\n",
        "  l=[]\n",
        "  ly=[]\n",
        "  no=np.random.randint(100)\n",
        "  if(no<80):\n",
        "    l=x_3d[i]\n",
        "    ly=y_new[i]\n",
        "    x_train.append(l)\n",
        "    y_train.append(ly)\n",
        "  else:\n",
        "    l=x_3d[i]\n",
        "    ly=y_new[i]\n",
        "    x_test.append(l)\n",
        "    y_test.append(ly)\n",
        "\n",
        "\n",
        "x_train=np.array(x_train)\n",
        "y_train=np.array(y_train)\n",
        "x_test=np.array(x_test)\n",
        "y_test=np.array(y_test)\n",
        "x_train.shape,y_train.shape,x_test.shape,y_test.shape"
      ],
      "metadata": {
        "colab": {
          "base_uri": "https://localhost:8080/"
        },
        "id": "AwnZ3Mh1Khi8",
        "outputId": "afac7aec-860e-4344-a03e-9778d14708ca"
      },
      "execution_count": 34,
      "outputs": [
        {
          "output_type": "stream",
          "name": "stdout",
          "text": [
            "4029\n"
          ]
        },
        {
          "output_type": "execute_result",
          "data": {
            "text/plain": [
              "((3205, 6, 150), (3205,), (824, 6, 150), (824,))"
            ]
          },
          "metadata": {},
          "execution_count": 34
        }
      ]
    },
    {
      "cell_type": "code",
      "source": [
        "cnt0=0\n",
        "cnt1=0\n",
        "cnt2=0\n",
        "for i in range(x_train.shape[0]):\n",
        "  if(y_train[i]==0):\n",
        "    cnt0+=1\n",
        "  elif(y_train[i]==1):\n",
        "    cnt1+=1\n",
        "  elif(y_train[i]==2):\n",
        "    cnt2+=1\n",
        "print(cnt0)\n",
        "print(cnt1)\n",
        "print(cnt2)  "
      ],
      "metadata": {
        "colab": {
          "base_uri": "https://localhost:8080/"
        },
        "id": "xlijLVYecmcq",
        "outputId": "c6458db5-e20d-4ff8-ec29-f600bc9d998f"
      },
      "execution_count": 35,
      "outputs": [
        {
          "output_type": "stream",
          "name": "stdout",
          "text": [
            "1444\n",
            "842\n",
            "919\n"
          ]
        }
      ]
    },
    {
      "cell_type": "code",
      "source": [
        "x_train_1=[]\n",
        "y_train_1=[]\n",
        "c1=0\n",
        "c2=0\n",
        "c3=0\n",
        "x1=(cnt1-cnt0)/(cnt1)\n",
        "x1=x1*(-100)\n",
        "x1=int(x1)\n",
        "print(x1)\n",
        "x2=(cnt2-cnt0)/(cnt2)\n",
        "x2=x2*(-100)\n",
        "x2=int(x2)\n",
        "print(x2)\n",
        "for i in range(x_train.shape[0]):\n",
        "  if(y_train[i]==0):\n",
        "    x_train_1.append(x_train[i])\n",
        "    y_train_1.append(0)\n",
        "    c1+=1\n",
        "  elif(y_train[i]==1):\n",
        "    x_train_1.append(x_train[i])\n",
        "    y_train_1.append(1)\n",
        "    c2+=1\n",
        "  elif(y_train[i]==2 ):\n",
        "    x_train_1.append(x_train[i])\n",
        "    y_train_1.append(2)\n",
        "    c3=c3+1\n",
        "for i in range(x_train.shape[0]):\n",
        "  if(y_train[i]==1):\n",
        "    no=np.random.randint(100)\n",
        "    if(no>=100-x1):\n",
        "      x_train_1.append(x_train[i])\n",
        "      y_train_1.append(1)\n",
        "      c2+=1\n",
        "  elif(y_train[i]==2 ):\n",
        "    no=np.random.randint(100)\n",
        "    if(no>=100-x2):\n",
        "      x_train_1.append(x_train[i])\n",
        "      y_train_1.append(2)\n",
        "      c3+=1\n",
        "\n",
        "y_train=[]\n",
        "y_train=y_train_1\n",
        "x_train=[]\n",
        "x_train=x_train_1\n",
        "x_train=np.array(x_train)\n",
        "y_train=np.array(y_train)\n",
        "print(c1)\n",
        "print(c2)\n",
        "print(c3)"
      ],
      "metadata": {
        "id": "PqOHcbhQcuo8",
        "colab": {
          "base_uri": "https://localhost:8080/"
        },
        "outputId": "24aeeb1a-aa29-4321-96c2-cc48858ff18c"
      },
      "execution_count": 36,
      "outputs": [
        {
          "output_type": "stream",
          "name": "stdout",
          "text": [
            "71\n",
            "57\n",
            "1444\n",
            "1437\n",
            "1441\n"
          ]
        }
      ]
    },
    {
      "cell_type": "code",
      "source": [
        "sklearn_weights=class_weight.compute_class_weight(class_weight='balanced',classes=np.unique(y_train),y=y_train)\n",
        "sklearn_weights=dict(zip(np.unique(y_train),sklearn_weights))\n",
        "sklearn_weights"
      ],
      "metadata": {
        "colab": {
          "base_uri": "https://localhost:8080/"
        },
        "id": "EYzwuCcAbDKT",
        "outputId": "b6a279b5-0233-486a-f47a-9816d90d2f0e"
      },
      "execution_count": 37,
      "outputs": [
        {
          "output_type": "execute_result",
          "data": {
            "text/plain": [
              "{0: 0.9976915974145891, 1: 1.0025516121549525, 2: 0.9997686791579922}"
            ]
          },
          "metadata": {},
          "execution_count": 37
        }
      ]
    },
    {
      "cell_type": "code",
      "source": [
        "\n",
        "# model = Sequential()\n",
        "# model.add(LSTM(200, activation='relu', return_sequences=True, input_shape=( t,150,)))\n",
        "# model.add(LSTM(100, activation='relu', return_sequences=True))\n",
        "# model.add(LSTM(50, activation='relu', return_sequences=True))\n",
        "# model.add(LSTM(25, activation='relu'))\n",
        "# model.add(Dense(20, activation='relu'))\n",
        "# model.add(Dense(10, activation='relu'))\n",
        "# model.add(Dense(3))\n",
        "# model.compile(optimizer='SGD', loss='sparse_categorical_crossentropy',metrics=['accuracy'])\n",
        "# history = model.fit(x_train, y_train, epochs=10, validation_split=0.2, verbose=1)\n",
        "# test_output = model.predict(x_test, verbose=1)\n",
        "# # history = model.fit(X, Y, epochs=1000, validation_split=0.2, verbose=1)\n",
        "# # test_output = model.predict(x=, verbose=0)\n",
        "# # print(test_output)"
      ],
      "metadata": {
        "id": "rhgsSos1KIbA"
      },
      "execution_count": 38,
      "outputs": []
    },
    {
      "cell_type": "code",
      "source": [
        "# sklearn_weights={0:1738,1:2348,2:2362}\n",
        "model = Sequential()\n",
        "model.add(LSTM(200, activation='relu', return_sequences=True, input_shape=( t,150,)))\n",
        "model.add(LSTM(400, activation='relu', return_sequences=True))\n",
        "model.add(LSTM(800, activation='relu', return_sequences=True))\n",
        "model.add(LSTM(150, activation='relu'))\n",
        "model.add(Dense(100, activation='relu'))\n",
        "model.add(Dense(64, activation='relu'))\n",
        "model.add(Dense(10, activation='relu'))\n",
        "model.add(Dense(3,activation='sigmoid'))\n",
        "optimi=keras.optimizers.Adam()\n",
        "model.compile(optimizer=optimi, loss='sparse_categorical_crossentropy',metrics=['accuracy',get_f1])\n",
        "\n",
        "# history = model.fit(x_train, y_train, epochs=30, validation_split=0.2, verbose=1)\n",
        "history = model.fit(x_train, y_train, epochs=25, validation_split=0.2, verbose=1,class_weight=sklearn_weights)\n",
        "test_output = model.predict(x_test, verbose=1)\n"
      ],
      "metadata": {
        "colab": {
          "base_uri": "https://localhost:8080/"
        },
        "id": "lwHPGS2iXMXc",
        "outputId": "82d0acae-4d0d-49fe-8205-ea1f230d3f8b"
      },
      "execution_count": 39,
      "outputs": [
        {
          "output_type": "stream",
          "name": "stderr",
          "text": [
            "WARNING:tensorflow:Layer lstm_4 will not use cuDNN kernels since it doesn't meet the criteria. It will use a generic GPU kernel as fallback when running on GPU.\n",
            "WARNING:tensorflow:Layer lstm_5 will not use cuDNN kernels since it doesn't meet the criteria. It will use a generic GPU kernel as fallback when running on GPU.\n",
            "WARNING:tensorflow:Layer lstm_6 will not use cuDNN kernels since it doesn't meet the criteria. It will use a generic GPU kernel as fallback when running on GPU.\n",
            "WARNING:tensorflow:Layer lstm_7 will not use cuDNN kernels since it doesn't meet the criteria. It will use a generic GPU kernel as fallback when running on GPU.\n"
          ]
        },
        {
          "output_type": "stream",
          "name": "stdout",
          "text": [
            "Epoch 1/25\n",
            "109/109 [==============================] - 11s 60ms/step - loss: 1.0854 - accuracy: 0.4142 - get_f1: 1.3518 - val_loss: 1.4880 - val_accuracy: 0.0000e+00 - val_get_f1: 1.8434\n",
            "Epoch 2/25\n",
            "109/109 [==============================] - 7s 60ms/step - loss: 0.9806 - accuracy: 0.5175 - get_f1: 1.2430 - val_loss: 0.9159 - val_accuracy: 0.4185 - val_get_f1: 1.8519\n",
            "Epoch 3/25\n",
            "109/109 [==============================] - 6s 55ms/step - loss: 0.7481 - accuracy: 0.6240 - get_f1: 0.9920 - val_loss: 0.6027 - val_accuracy: 0.8532 - val_get_f1: 1.5260\n",
            "Epoch 4/25\n",
            "109/109 [==============================] - 6s 54ms/step - loss: 0.5975 - accuracy: 0.7035 - get_f1: 0.8796 - val_loss: 0.5034 - val_accuracy: 0.8208 - val_get_f1: 1.2519\n",
            "Epoch 5/25\n",
            "109/109 [==============================] - 6s 56ms/step - loss: 0.4982 - accuracy: 0.7752 - get_f1: 0.8296 - val_loss: 0.3065 - val_accuracy: 0.9445 - val_get_f1: 1.2553\n",
            "Epoch 6/25\n",
            "109/109 [==============================] - 6s 55ms/step - loss: 0.4055 - accuracy: 0.8175 - get_f1: 0.8400 - val_loss: 0.2654 - val_accuracy: 0.9318 - val_get_f1: 1.1779\n",
            "Epoch 7/25\n",
            "109/109 [==============================] - 6s 56ms/step - loss: 0.3876 - accuracy: 0.8496 - get_f1: 0.8762 - val_loss: 0.2147 - val_accuracy: 0.9584 - val_get_f1: 1.2395\n",
            "Epoch 8/25\n",
            "109/109 [==============================] - 6s 57ms/step - loss: 0.2235 - accuracy: 0.9155 - get_f1: 0.7844 - val_loss: 0.2295 - val_accuracy: 0.9526 - val_get_f1: 1.2919\n",
            "Epoch 9/25\n",
            "109/109 [==============================] - 8s 70ms/step - loss: 0.1568 - accuracy: 0.9482 - get_f1: 0.8028 - val_loss: 0.1912 - val_accuracy: 0.9595 - val_get_f1: 1.2113\n",
            "Epoch 10/25\n",
            "109/109 [==============================] - 6s 55ms/step - loss: 0.1529 - accuracy: 0.9508 - get_f1: 0.8685 - val_loss: 0.1042 - val_accuracy: 0.9688 - val_get_f1: 1.1031\n",
            "Epoch 11/25\n",
            "109/109 [==============================] - 6s 56ms/step - loss: 0.2991 - accuracy: 0.9459 - get_f1: 0.8263 - val_loss: 0.2367 - val_accuracy: 0.9410 - val_get_f1: 1.1690\n",
            "Epoch 12/25\n",
            "109/109 [==============================] - 6s 54ms/step - loss: 0.1643 - accuracy: 0.9534 - get_f1: 0.7988 - val_loss: 0.0834 - val_accuracy: 0.9861 - val_get_f1: 1.0685\n",
            "Epoch 13/25\n",
            "109/109 [==============================] - 6s 56ms/step - loss: 0.0857 - accuracy: 0.9722 - get_f1: 0.7604 - val_loss: 0.0912 - val_accuracy: 0.9688 - val_get_f1: 1.0233\n",
            "Epoch 14/25\n",
            "109/109 [==============================] - 6s 55ms/step - loss: 0.0931 - accuracy: 0.9780 - get_f1: 0.7642 - val_loss: 0.0947 - val_accuracy: 0.9896 - val_get_f1: 1.0672\n",
            "Epoch 15/25\n",
            "109/109 [==============================] - 6s 55ms/step - loss: 0.1276 - accuracy: 0.9711 - get_f1: 0.7986 - val_loss: 0.0951 - val_accuracy: 0.9723 - val_get_f1: 1.0467\n",
            "Epoch 16/25\n",
            "109/109 [==============================] - 6s 53ms/step - loss: 0.2210 - accuracy: 0.9456 - get_f1: 0.7940 - val_loss: 0.1809 - val_accuracy: 0.9491 - val_get_f1: 1.0889\n",
            "Epoch 17/25\n",
            "109/109 [==============================] - 7s 68ms/step - loss: 0.1220 - accuracy: 0.9728 - get_f1: 0.7900 - val_loss: 0.0181 - val_accuracy: 0.9942 - val_get_f1: 1.0088\n",
            "Epoch 18/25\n",
            "109/109 [==============================] - 6s 56ms/step - loss: 0.1193 - accuracy: 0.9771 - get_f1: 0.7494 - val_loss: 0.0247 - val_accuracy: 0.9977 - val_get_f1: 1.0072\n",
            "Epoch 19/25\n",
            "109/109 [==============================] - 6s 53ms/step - loss: 0.0439 - accuracy: 0.9876 - get_f1: 0.7439 - val_loss: 0.0179 - val_accuracy: 0.9954 - val_get_f1: 1.0099\n",
            "Epoch 20/25\n",
            "109/109 [==============================] - 6s 56ms/step - loss: 0.0184 - accuracy: 0.9948 - get_f1: 0.7285 - val_loss: 0.0034 - val_accuracy: 1.0000 - val_get_f1: 1.0000\n",
            "Epoch 21/25\n",
            "109/109 [==============================] - 6s 55ms/step - loss: 0.0119 - accuracy: 0.9962 - get_f1: 0.7163 - val_loss: 0.0023 - val_accuracy: 0.9988 - val_get_f1: 1.0113\n",
            "Epoch 22/25\n",
            "109/109 [==============================] - 6s 53ms/step - loss: 0.0110 - accuracy: 0.9965 - get_f1: 0.7653 - val_loss: 0.0090 - val_accuracy: 0.9988 - val_get_f1: 1.0088\n",
            "Epoch 23/25\n",
            "109/109 [==============================] - 6s 53ms/step - loss: 0.0128 - accuracy: 0.9971 - get_f1: 0.7305 - val_loss: 0.0015 - val_accuracy: 1.0000 - val_get_f1: 1.0044\n",
            "Epoch 24/25\n",
            "109/109 [==============================] - 6s 55ms/step - loss: 0.1284 - accuracy: 0.9757 - get_f1: 0.8221 - val_loss: 0.0527 - val_accuracy: 0.9896 - val_get_f1: 1.0608\n",
            "Epoch 25/25\n",
            "109/109 [==============================] - 6s 55ms/step - loss: 0.0316 - accuracy: 0.9936 - get_f1: 0.7442 - val_loss: 0.0319 - val_accuracy: 0.9908 - val_get_f1: 1.0083\n",
            "26/26 [==============================] - 1s 6ms/step\n"
          ]
        }
      ]
    },
    {
      "cell_type": "code",
      "source": [
        "test_output_1=np.array([np.argmax(i)  for i in test_output])\n",
        "from sklearn.metrics import confusion_matrix,accuracy_score\n",
        "print(confusion_matrix(y_test,test_output_1))\n",
        "test_output=pd.DataFrame(test_output)\n",
        "print(accuracy_score(y_test,test_output_1))\n"
      ],
      "metadata": {
        "id": "Q_hmR6MK_Bq5",
        "colab": {
          "base_uri": "https://localhost:8080/"
        },
        "outputId": "f2941664-1a5d-4698-bd7c-6791442d7d88"
      },
      "execution_count": 40,
      "outputs": [
        {
          "output_type": "stream",
          "name": "stdout",
          "text": [
            "[[284  42  53]\n",
            " [ 71 132  10]\n",
            " [ 60  10 162]]\n",
            "0.7014563106796117\n"
          ]
        }
      ]
    },
    {
      "cell_type": "code",
      "source": [
        "print(get_f1(y_test.astype('float32'), test_output_1.astype('float32')))"
      ],
      "metadata": {
        "id": "ZsHojwC3G8gQ",
        "colab": {
          "base_uri": "https://localhost:8080/"
        },
        "outputId": "2768a817-a155-43c2-e735-d212d40e436b"
      },
      "execution_count": 41,
      "outputs": [
        {
          "output_type": "stream",
          "name": "stdout",
          "text": [
            "tf.Tensor(0.735363, shape=(), dtype=float32)\n"
          ]
        }
      ]
    },
    {
      "cell_type": "code",
      "source": [
        "x_train_reshaped = x_train.reshape(x_train.shape[0], -1)\n",
        "x_test_reshaped = x_test.reshape(x_test.shape[0], -1)\n",
        "savetxt('arrxtrain.csv', x_train_reshaped, delimiter=',')\n",
        "savetxt('arrytrain.csv', y_train, delimiter=',')\n",
        "savetxt('arrxtest.csv', x_test_reshaped, delimiter=',')\n",
        "savetxt('arrytest.csv', y_test, delimiter=',')"
      ],
      "metadata": {
        "id": "oxhtZHtkBWOe"
      },
      "execution_count": 42,
      "outputs": []
    }
  ]
}