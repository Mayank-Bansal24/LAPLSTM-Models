{
  "nbformat": 4,
  "nbformat_minor": 0,
  "metadata": {
    "colab": {
      "provenance": [],
      "include_colab_link": true
    },
    "kernelspec": {
      "name": "python3",
      "display_name": "Python 3"
    },
    "language_info": {
      "name": "python"
    },
    "accelerator": "GPU",
    "gpuClass": "standard"
  },
  "cells": [
    {
      "cell_type": "markdown",
      "metadata": {
        "id": "view-in-github",
        "colab_type": "text"
      },
      "source": [
        "<a href=\"https://colab.research.google.com/github/Mayank-Bansal24/LAPLSTM-Models/blob/main/default_weightst03.ipynb\" target=\"_parent\"><img src=\"https://colab.research.google.com/assets/colab-badge.svg\" alt=\"Open In Colab\"/></a>"
      ]
    },
    {
      "cell_type": "code",
      "source": [
        "import numpy as np\n",
        "import tensorflow as tf\n",
        "from tensorflow.keras import losses as lo_ss\n",
        "from tensorflow.keras.models import Sequential\n",
        "from tensorflow.keras.layers import LSTM\n",
        "from tensorflow.keras.layers import Dense, Dropout\n",
        "import string\n",
        "import pandas as pd\n",
        "from matplotlib import pyplot as plt\n",
        "from sklearn.preprocessing import StandardScaler\n",
        "import seaborn as sns\n",
        "from sklearn import model_selection\n",
        "from sklearn.datasets import make_classification\n",
        "from sklearn.utils import class_weight\n",
        "from sklearn.metrics import classification_report , roc_auc_score\n",
        "import keras \n",
        "import keras.backend as K\n",
        "from google.colab import drive\n",
        "from numpy import savetxt"
      ],
      "metadata": {
        "id": "V1kLUX7gJ3N_"
      },
      "execution_count": 45,
      "outputs": []
    },
    {
      "cell_type": "code",
      "source": [
        "drive.mount('/content/gdrive')\n"
      ],
      "metadata": {
        "colab": {
          "base_uri": "https://localhost:8080/"
        },
        "id": "HXmXAIAJArT2",
        "outputId": "dd68ab2d-3983-4ea8-9d39-97ccd8ccd025"
      },
      "execution_count": 46,
      "outputs": [
        {
          "output_type": "stream",
          "name": "stdout",
          "text": [
            "Drive already mounted at /content/gdrive; to attempt to forcibly remount, call drive.mount(\"/content/gdrive\", force_remount=True).\n"
          ]
        }
      ]
    },
    {
      "cell_type": "code",
      "source": [
        "t=3"
      ],
      "metadata": {
        "id": "uLTug-YJDW8D"
      },
      "execution_count": 47,
      "outputs": []
    },
    {
      "cell_type": "code",
      "source": [
        "import os\n",
        "os.chdir('/content/gdrive/MyDrive/laplstm/default class weights/t'+str(t))"
      ],
      "metadata": {
        "id": "ubPkwGQnA8Wx"
      },
      "execution_count": 48,
      "outputs": []
    },
    {
      "cell_type": "code",
      "source": [
        "\n",
        "github_raw_link=\"https://raw.githubusercontent.com/Aryansh085/LAP/main/858417d1-7d54-4115-a01b-fdda5e03ada3_testing_combined_rows4035_disc_1_0p9_MULTIPLY_preproces_155cols.csv\"\n",
        "df1=pd.read_csv((github_raw_link),header = None)\n",
        "dftemp=np.array(df1)\n",
        "dftemp.shape\n",
        "dftemp2=dftemp[:,5:]\n",
        "dftemp2=np.array(dftemp2)\n",
        "print(dftemp2.shape)"
      ],
      "metadata": {
        "id": "3UWvhrydJ8hA",
        "colab": {
          "base_uri": "https://localhost:8080/"
        },
        "outputId": "2eea006d-9699-491e-da6d-486598cccf0d"
      },
      "execution_count": 49,
      "outputs": [
        {
          "output_type": "stream",
          "name": "stdout",
          "text": [
            "(4035, 150)\n"
          ]
        }
      ]
    },
    {
      "cell_type": "code",
      "source": [
        "# dftemp2\n",
        "dftemp2.shape\n",
        "# dftemp2=pd.DataFrame(dftemp2)\n",
        "# dftemp2.head()"
      ],
      "metadata": {
        "colab": {
          "base_uri": "https://localhost:8080/"
        },
        "id": "h00YSxPn8rUk",
        "outputId": "3be70c4d-e369-4aca-e368-9345b8bc4ae4"
      },
      "execution_count": 50,
      "outputs": [
        {
          "output_type": "execute_result",
          "data": {
            "text/plain": [
              "(4035, 150)"
            ]
          },
          "metadata": {},
          "execution_count": 50
        }
      ]
    },
    {
      "cell_type": "markdown",
      "source": [
        "--> muliply the reward of that instance into the loss of that instance to give weight"
      ],
      "metadata": {
        "id": "pPfqIsthYP2X"
      }
    },
    {
      "cell_type": "code",
      "source": [
        "from sklearn.preprocessing import StandardScaler\n",
        "\n",
        "slr=StandardScaler()\n",
        "slr.fit(dftemp2)\n",
        "dftemp2 = slr.transform(dftemp2)"
      ],
      "metadata": {
        "id": "kWYAqDfnO_1i"
      },
      "execution_count": 51,
      "outputs": []
    },
    {
      "cell_type": "code",
      "source": [
        "# f1-score function\n",
        "def get_f1(y_true, y_pred): #taken from old keras source code\n",
        "    true_positives = K.sum(K.round(K.clip(y_true * y_pred, 0, 1)))\n",
        "    possible_positives = K.sum(K.round(K.clip(y_true, 0, 1)))\n",
        "    predicted_positives = K.sum(K.round(K.clip(y_pred, 0, 1)))\n",
        "    precision = true_positives / (predicted_positives + K.epsilon())\n",
        "    recall = true_positives / (possible_positives + K.epsilon())\n",
        "    f1_val = 2*(precision*recall)/(precision+recall+K.epsilon())\n",
        "    return f1_val\n",
        "    "
      ],
      "metadata": {
        "id": "4i-6LDL58GyW"
      },
      "execution_count": 52,
      "outputs": []
    },
    {
      "cell_type": "code",
      "source": [],
      "metadata": {
        "id": "83zizsyvKHzh"
      },
      "execution_count": 52,
      "outputs": []
    },
    {
      "cell_type": "code",
      "source": [
        "y=np.array(dftemp[:,0])\n",
        "print(y)\n",
        "y_new=y[t:]\n",
        "y_new.shape\n"
      ],
      "metadata": {
        "colab": {
          "base_uri": "https://localhost:8080/"
        },
        "id": "XmXnkjOiKIGQ",
        "outputId": "2c71c03b-0982-4bb6-edda-dfbbc1072e39"
      },
      "execution_count": 53,
      "outputs": [
        {
          "output_type": "stream",
          "name": "stdout",
          "text": [
            "[2. 0. 0. ... 0. 2. 2.]\n"
          ]
        },
        {
          "output_type": "execute_result",
          "data": {
            "text/plain": [
              "(4032,)"
            ]
          },
          "metadata": {},
          "execution_count": 53
        }
      ]
    },
    {
      "cell_type": "code",
      "source": [
        "x=np.array(dftemp2)\n",
        "# print(x)\n",
        "# print(x.shape)\n",
        "x.shape,y_new.shape"
      ],
      "metadata": {
        "colab": {
          "base_uri": "https://localhost:8080/"
        },
        "id": "3JPzLQQmKhZk",
        "outputId": "53a215c9-ee23-476d-8ef2-5f601cf30c95"
      },
      "execution_count": 54,
      "outputs": [
        {
          "output_type": "execute_result",
          "data": {
            "text/plain": [
              "((4035, 150), (4032,))"
            ]
          },
          "metadata": {},
          "execution_count": 54
        }
      ]
    },
    {
      "cell_type": "code",
      "source": [
        "x_3d=[]\n",
        "for i in range(4035-t):\n",
        "  tmp=[]\n",
        "  for j in range(t):\n",
        "    tmp.append(x[j+i])\n",
        "  x_3d.append(tmp)\n",
        "x_3d= np.array(x_3d)\n",
        "x_3d.shape"
      ],
      "metadata": {
        "colab": {
          "base_uri": "https://localhost:8080/"
        },
        "id": "hdDY6fhENZ2-",
        "outputId": "0c9fa846-762c-4b8b-a94e-33ee22dc1f7b"
      },
      "execution_count": 55,
      "outputs": [
        {
          "output_type": "execute_result",
          "data": {
            "text/plain": [
              "(4032, 3, 150)"
            ]
          },
          "metadata": {},
          "execution_count": 55
        }
      ]
    },
    {
      "cell_type": "code",
      "source": [
        "train_test_ratio=0.8\n",
        "print(x_3d.shape[0])\n",
        "x_train=[]\n",
        "y_train=[]\n",
        "x_test=[]\n",
        "y_test=[]\n",
        "for i in range(x_3d.shape[0]):\n",
        "  l=[]\n",
        "  ly=[]\n",
        "  no=np.random.randint(100)\n",
        "  if(no<80):\n",
        "    l=x_3d[i]\n",
        "    ly=y_new[i]\n",
        "    x_train.append(l)\n",
        "    y_train.append(ly)\n",
        "  else:\n",
        "    l=x_3d[i]\n",
        "    ly=y_new[i]\n",
        "    x_test.append(l)\n",
        "    y_test.append(ly)\n",
        "\n",
        "\n",
        "x_train=np.array(x_train)\n",
        "y_train=np.array(y_train)\n",
        "x_test=np.array(x_test)\n",
        "y_test=np.array(y_test)\n",
        "x_train.shape,y_train.shape,x_test.shape,y_test.shape"
      ],
      "metadata": {
        "colab": {
          "base_uri": "https://localhost:8080/"
        },
        "id": "AwnZ3Mh1Khi8",
        "outputId": "1655a16c-4d8c-45e9-95bc-d750314b55b3"
      },
      "execution_count": 56,
      "outputs": [
        {
          "output_type": "stream",
          "name": "stdout",
          "text": [
            "4032\n"
          ]
        },
        {
          "output_type": "execute_result",
          "data": {
            "text/plain": [
              "((3261, 3, 150), (3261,), (771, 3, 150), (771,))"
            ]
          },
          "metadata": {},
          "execution_count": 56
        }
      ]
    },
    {
      "cell_type": "code",
      "source": [
        "cnt0=0\n",
        "cnt1=0\n",
        "cnt2=0\n",
        "for i in range(x_train.shape[0]):\n",
        "  if(y_train[i]==0):\n",
        "    cnt0+=1\n",
        "  elif(y_train[i]==1):\n",
        "    cnt1+=1\n",
        "  elif(y_train[i]==2):\n",
        "    cnt2+=1\n",
        "print(cnt0)\n",
        "print(cnt1)\n",
        "print(cnt2)  "
      ],
      "metadata": {
        "colab": {
          "base_uri": "https://localhost:8080/"
        },
        "id": "xlijLVYecmcq",
        "outputId": "5cd0b603-4e32-44a1-cc83-ac6209cd411d"
      },
      "execution_count": 57,
      "outputs": [
        {
          "output_type": "stream",
          "name": "stdout",
          "text": [
            "1479\n",
            "863\n",
            "919\n"
          ]
        }
      ]
    },
    {
      "cell_type": "code",
      "source": [
        "sklearn_weights=class_weight.compute_class_weight(class_weight='balanced',classes=np.unique(y_train),y=y_train)\n",
        "sklearn_weights=dict(zip(np.unique(y_train),sklearn_weights))\n",
        "sklearn_weights"
      ],
      "metadata": {
        "colab": {
          "base_uri": "https://localhost:8080/"
        },
        "id": "EYzwuCcAbDKT",
        "outputId": "6c0cb6fe-5932-405e-8843-21dab819a3eb"
      },
      "execution_count": 58,
      "outputs": [
        {
          "output_type": "execute_result",
          "data": {
            "text/plain": [
              "{0.0: 0.7349560513860717, 1.0: 1.2595596755504055, 2.0: 1.1828073993471164}"
            ]
          },
          "metadata": {},
          "execution_count": 58
        }
      ]
    },
    {
      "cell_type": "code",
      "source": [
        "\n",
        "# model = Sequential()\n",
        "# model.add(LSTM(200, activation='relu', return_sequences=True, input_shape=( t,150,)))\n",
        "# model.add(LSTM(100, activation='relu', return_sequences=True))\n",
        "# model.add(LSTM(50, activation='relu', return_sequences=True))\n",
        "# model.add(LSTM(25, activation='relu'))\n",
        "# model.add(Dense(20, activation='relu'))\n",
        "# model.add(Dense(10, activation='relu'))\n",
        "# model.add(Dense(3))\n",
        "# model.compile(optimizer='SGD', loss='sparse_categorical_crossentropy',metrics=['accuracy'])\n",
        "# history = model.fit(x_train, y_train, epochs=10, validation_split=0.2, verbose=1)\n",
        "# test_output = model.predict(x_test, verbose=1)\n",
        "# # history = model.fit(X, Y, epochs=1000, validation_split=0.2, verbose=1)\n",
        "# # test_output = model.predict(x=, verbose=0)\n",
        "# # print(test_output)"
      ],
      "metadata": {
        "id": "rhgsSos1KIbA"
      },
      "execution_count": 59,
      "outputs": []
    },
    {
      "cell_type": "code",
      "source": [
        "# sklearn_weights={0:1738,1:2348,2:2362}\n",
        "model = Sequential()\n",
        "model.add(LSTM(200, activation='relu', return_sequences=True, input_shape=( t,150,)))\n",
        "model.add(LSTM(400, activation='relu', return_sequences=True))\n",
        "model.add(LSTM(800, activation='relu', return_sequences=True))\n",
        "model.add(LSTM(150, activation='relu'))\n",
        "model.add(Dense(100, activation='relu'))\n",
        "model.add(Dense(64, activation='relu'))\n",
        "model.add(Dense(10, activation='relu'))\n",
        "model.add(Dense(3,activation='sigmoid'))\n",
        "optimi=keras.optimizers.Adam()\n",
        "model.compile(optimizer=optimi, loss='sparse_categorical_crossentropy',metrics=['accuracy',get_f1])\n",
        "\n",
        "# history = model.fit(x_train, y_train, epochs=30, validation_split=0.2, verbose=1)\n",
        "history = model.fit(x_train, y_train, epochs=25, validation_split=0.2, verbose=1,class_weight=sklearn_weights)\n",
        "test_output = model.predict(x_test, verbose=1)\n"
      ],
      "metadata": {
        "colab": {
          "base_uri": "https://localhost:8080/"
        },
        "id": "lwHPGS2iXMXc",
        "outputId": "2644a0e1-7363-423d-b0d2-fd822ca0a9e9"
      },
      "execution_count": 60,
      "outputs": [
        {
          "output_type": "stream",
          "name": "stderr",
          "text": [
            "WARNING:tensorflow:Layer lstm_8 will not use cuDNN kernels since it doesn't meet the criteria. It will use a generic GPU kernel as fallback when running on GPU.\n",
            "WARNING:tensorflow:Layer lstm_9 will not use cuDNN kernels since it doesn't meet the criteria. It will use a generic GPU kernel as fallback when running on GPU.\n",
            "WARNING:tensorflow:Layer lstm_10 will not use cuDNN kernels since it doesn't meet the criteria. It will use a generic GPU kernel as fallback when running on GPU.\n",
            "WARNING:tensorflow:Layer lstm_11 will not use cuDNN kernels since it doesn't meet the criteria. It will use a generic GPU kernel as fallback when running on GPU.\n"
          ]
        },
        {
          "output_type": "stream",
          "name": "stdout",
          "text": [
            "Epoch 1/25\n",
            "82/82 [==============================] - 9s 65ms/step - loss: 1.0954 - accuracy: 0.4413 - get_f1: 0.9975 - val_loss: 1.0974 - val_accuracy: 0.4227 - val_get_f1: 1.1205\n",
            "Epoch 2/25\n",
            "82/82 [==============================] - 3s 33ms/step - loss: 1.0794 - accuracy: 0.4528 - get_f1: 0.9521 - val_loss: 1.1032 - val_accuracy: 0.3170 - val_get_f1: 1.0112\n",
            "Epoch 3/25\n",
            "82/82 [==============================] - 3s 33ms/step - loss: 0.9753 - accuracy: 0.5353 - get_f1: 0.9440 - val_loss: 1.3875 - val_accuracy: 0.3522 - val_get_f1: 0.9869\n",
            "Epoch 4/25\n",
            "82/82 [==============================] - 3s 34ms/step - loss: 0.7711 - accuracy: 0.6384 - get_f1: 0.9570 - val_loss: 1.6955 - val_accuracy: 0.3063 - val_get_f1: 0.9670\n",
            "Epoch 5/25\n",
            "82/82 [==============================] - 3s 34ms/step - loss: 0.5495 - accuracy: 0.7450 - get_f1: 0.9781 - val_loss: 2.2948 - val_accuracy: 0.2757 - val_get_f1: 0.9520\n",
            "Epoch 6/25\n",
            "82/82 [==============================] - 3s 35ms/step - loss: 0.4464 - accuracy: 0.8002 - get_f1: 0.9859 - val_loss: 2.7043 - val_accuracy: 0.3017 - val_get_f1: 0.9589\n",
            "Epoch 7/25\n",
            "82/82 [==============================] - 3s 34ms/step - loss: 0.3353 - accuracy: 0.8608 - get_f1: 1.0038 - val_loss: 3.5739 - val_accuracy: 0.2818 - val_get_f1: 0.9334\n",
            "Epoch 8/25\n",
            "82/82 [==============================] - 3s 33ms/step - loss: 0.2525 - accuracy: 0.8926 - get_f1: 1.0294 - val_loss: 3.9527 - val_accuracy: 0.3017 - val_get_f1: 0.9420\n",
            "Epoch 9/25\n",
            "82/82 [==============================] - 3s 34ms/step - loss: 0.1952 - accuracy: 0.8773 - get_f1: 1.0383 - val_loss: 4.2027 - val_accuracy: 0.3047 - val_get_f1: 0.9414\n",
            "Epoch 10/25\n",
            "82/82 [==============================] - 3s 34ms/step - loss: 0.1405 - accuracy: 0.8405 - get_f1: 1.0866 - val_loss: 4.5185 - val_accuracy: 0.3093 - val_get_f1: 0.9397\n",
            "Epoch 11/25\n",
            "82/82 [==============================] - 3s 35ms/step - loss: 0.1162 - accuracy: 0.8393 - get_f1: 1.0830 - val_loss: 4.5238 - val_accuracy: 0.2879 - val_get_f1: 0.9385\n",
            "Epoch 12/25\n",
            "82/82 [==============================] - 3s 35ms/step - loss: 0.0962 - accuracy: 0.8359 - get_f1: 1.0538 - val_loss: 6.6501 - val_accuracy: 0.3354 - val_get_f1: 0.9383\n",
            "Epoch 13/25\n",
            "82/82 [==============================] - 3s 34ms/step - loss: 0.0621 - accuracy: 0.8608 - get_f1: 1.0975 - val_loss: 7.3785 - val_accuracy: 0.3308 - val_get_f1: 0.9529\n",
            "Epoch 14/25\n",
            "82/82 [==============================] - 3s 34ms/step - loss: 0.0286 - accuracy: 0.7765 - get_f1: 1.1305 - val_loss: 9.5353 - val_accuracy: 0.3492 - val_get_f1: 0.9510\n",
            "Epoch 15/25\n",
            "82/82 [==============================] - 4s 48ms/step - loss: 0.0151 - accuracy: 0.7419 - get_f1: 1.1336 - val_loss: 8.7529 - val_accuracy: 0.3583 - val_get_f1: 0.9635\n",
            "Epoch 16/25\n",
            "82/82 [==============================] - 4s 48ms/step - loss: 0.0299 - accuracy: 0.7400 - get_f1: 1.1171 - val_loss: 7.7028 - val_accuracy: 0.3247 - val_get_f1: 0.9614\n",
            "Epoch 17/25\n",
            "82/82 [==============================] - 6s 69ms/step - loss: 0.0462 - accuracy: 0.7791 - get_f1: 1.1267 - val_loss: 10.4073 - val_accuracy: 0.3583 - val_get_f1: 0.9359\n",
            "Epoch 18/25\n",
            "82/82 [==============================] - 3s 42ms/step - loss: 0.0821 - accuracy: 0.7987 - get_f1: 1.1221 - val_loss: 9.1001 - val_accuracy: 0.3538 - val_get_f1: 0.9309\n",
            "Epoch 19/25\n",
            "82/82 [==============================] - 4s 49ms/step - loss: 0.0783 - accuracy: 0.7975 - get_f1: 1.1360 - val_loss: 4.4042 - val_accuracy: 0.3323 - val_get_f1: 0.9591\n",
            "Epoch 20/25\n",
            "82/82 [==============================] - 3s 34ms/step - loss: 0.0833 - accuracy: 0.8466 - get_f1: 1.1075 - val_loss: 5.4236 - val_accuracy: 0.3155 - val_get_f1: 0.9676\n",
            "Epoch 21/25\n",
            "82/82 [==============================] - 3s 34ms/step - loss: 0.0732 - accuracy: 0.7776 - get_f1: 1.1354 - val_loss: 4.9345 - val_accuracy: 0.3369 - val_get_f1: 0.9587\n",
            "Epoch 22/25\n",
            "82/82 [==============================] - 3s 34ms/step - loss: 0.0293 - accuracy: 0.7400 - get_f1: 1.1375 - val_loss: 7.9100 - val_accuracy: 0.3599 - val_get_f1: 0.9572\n",
            "Epoch 23/25\n",
            "82/82 [==============================] - 3s 33ms/step - loss: 0.0286 - accuracy: 0.7212 - get_f1: 1.1367 - val_loss: 6.9260 - val_accuracy: 0.3247 - val_get_f1: 0.9488\n",
            "Epoch 24/25\n",
            "82/82 [==============================] - 3s 35ms/step - loss: 0.0308 - accuracy: 0.6906 - get_f1: 1.1325 - val_loss: 9.9938 - val_accuracy: 0.3415 - val_get_f1: 0.9335\n",
            "Epoch 25/25\n",
            "82/82 [==============================] - 3s 34ms/step - loss: 0.0295 - accuracy: 0.7228 - get_f1: 1.1148 - val_loss: 8.6215 - val_accuracy: 0.3139 - val_get_f1: 0.9465\n",
            "25/25 [==============================] - 1s 4ms/step\n"
          ]
        }
      ]
    },
    {
      "cell_type": "code",
      "source": [
        "test_output_1=np.array([np.argmax(i)  for i in test_output])\n",
        "from sklearn.metrics import confusion_matrix,accuracy_score\n",
        "print(confusion_matrix(y_test,test_output_1))\n",
        "test_output=pd.DataFrame(test_output)\n",
        "print(accuracy_score(y_test,test_output_1))\n"
      ],
      "metadata": {
        "id": "Q_hmR6MK_Bq5",
        "colab": {
          "base_uri": "https://localhost:8080/"
        },
        "outputId": "05d6f342-d147-4d57-f5ae-d5823b4f2716"
      },
      "execution_count": 61,
      "outputs": [
        {
          "output_type": "stream",
          "name": "stdout",
          "text": [
            "[[214  85  47]\n",
            " [113  58  21]\n",
            " [ 70  55 108]]\n",
            "0.49286640726329445\n"
          ]
        }
      ]
    },
    {
      "cell_type": "code",
      "source": [
        "print(get_f1(y_test.astype('float32'), test_output_1.astype('float32')))"
      ],
      "metadata": {
        "colab": {
          "base_uri": "https://localhost:8080/"
        },
        "id": "ZsHojwC3G8gQ",
        "outputId": "90dff6f7-f54a-41af-c93d-7cfa96b7d1b7"
      },
      "execution_count": 62,
      "outputs": [
        {
          "output_type": "stream",
          "name": "stdout",
          "text": [
            "tf.Tensor(0.6057572, shape=(), dtype=float32)\n"
          ]
        }
      ]
    },
    {
      "cell_type": "code",
      "source": [
        "x_train_reshaped = x_train.reshape(x_train.shape[0], -1)\n",
        "x_test_reshaped = x_test.reshape(x_test.shape[0], -1)\n",
        "savetxt('arrxtrain.csv', x_train_reshaped, delimiter=',')\n",
        "savetxt('arrytrain.csv', y_train, delimiter=',')\n",
        "savetxt('arrxtest.csv', x_test_reshaped, delimiter=',')\n",
        "savetxt('arrytest.csv', y_test, delimiter=',')"
      ],
      "metadata": {
        "id": "oxhtZHtkBWOe"
      },
      "execution_count": 63,
      "outputs": []
    },
    {
      "cell_type": "code",
      "source": [
        "t"
      ],
      "metadata": {
        "colab": {
          "base_uri": "https://localhost:8080/"
        },
        "id": "5dkuklgOU1cy",
        "outputId": "554d81da-702f-4440-e1c6-8838c6ec5f0c"
      },
      "execution_count": 64,
      "outputs": [
        {
          "output_type": "execute_result",
          "data": {
            "text/plain": [
              "3"
            ]
          },
          "metadata": {},
          "execution_count": 64
        }
      ]
    }
  ]
}