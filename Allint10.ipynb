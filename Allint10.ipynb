{
  "nbformat": 4,
  "nbformat_minor": 0,
  "metadata": {
    "colab": {
      "provenance": [],
      "include_colab_link": true
    },
    "kernelspec": {
      "name": "python3",
      "display_name": "Python 3"
    },
    "language_info": {
      "name": "python"
    },
    "accelerator": "GPU",
    "gpuClass": "standard"
  },
  "cells": [
    {
      "cell_type": "markdown",
      "metadata": {
        "id": "view-in-github",
        "colab_type": "text"
      },
      "source": [
        "<a href=\"https://colab.research.google.com/github/Mayank-Bansal24/LAPLSTM-Models/blob/main/Allint10.ipynb\" target=\"_parent\"><img src=\"https://colab.research.google.com/assets/colab-badge.svg\" alt=\"Open In Colab\"/></a>"
      ]
    },
    {
      "cell_type": "code",
      "source": [
        "import numpy as np\n",
        "import tensorflow as tf\n",
        "from tensorflow.keras import losses as lo_ss\n",
        "from tensorflow.keras.models import Sequential\n",
        "from tensorflow.keras.layers import LSTM\n",
        "from tensorflow.keras.layers import Dense, Dropout\n",
        "import string\n",
        "import pandas as pd\n",
        "from matplotlib import pyplot as plt\n",
        "from sklearn.preprocessing import StandardScaler\n",
        "import seaborn as sns\n",
        "from sklearn import model_selection\n",
        "from sklearn.datasets import make_classification\n",
        "from sklearn.utils import class_weight\n",
        "from sklearn.metrics import classification_report , roc_auc_score\n",
        "import keras \n",
        "import keras.backend as K\n",
        "from google.colab import drive\n",
        "from numpy import savetxt"
      ],
      "metadata": {
        "id": "V1kLUX7gJ3N_"
      },
      "execution_count": 205,
      "outputs": []
    },
    {
      "cell_type": "code",
      "source": [
        "drive.mount('/content/gdrive')\n"
      ],
      "metadata": {
        "colab": {
          "base_uri": "https://localhost:8080/"
        },
        "id": "HXmXAIAJArT2",
        "outputId": "2308cd63-4a6f-4ba8-9531-14e88728de73"
      },
      "execution_count": 206,
      "outputs": [
        {
          "output_type": "stream",
          "name": "stdout",
          "text": [
            "Drive already mounted at /content/gdrive; to attempt to forcibly remount, call drive.mount(\"/content/gdrive\", force_remount=True).\n"
          ]
        }
      ]
    },
    {
      "cell_type": "code",
      "source": [
        "t=10"
      ],
      "metadata": {
        "id": "uLTug-YJDW8D"
      },
      "execution_count": 207,
      "outputs": []
    },
    {
      "cell_type": "code",
      "source": [
        "os.chdir('/content/gdrive/MyDrive/laplstm/allin/t'+str(t))"
      ],
      "metadata": {
        "id": "ubPkwGQnA8Wx"
      },
      "execution_count": 208,
      "outputs": []
    },
    {
      "cell_type": "code",
      "source": [
        "import os\n",
        "github_raw_link=\"https://raw.githubusercontent.com/Aryansh085/LAP/main/858417d1-7d54-4115-a01b-fdda5e03ada3_testing_combined_rows4035_disc_1_0p9_MULTIPLY_preproces_155cols.csv\"\n",
        "df1=pd.read_csv((github_raw_link),header = None)\n",
        "dftemp=np.array(df1)\n",
        "dftemp.shape\n",
        "dftemp2=dftemp[:,5:]\n",
        "dftemp2=np.array(dftemp2)\n",
        "print(dftemp2.shape)"
      ],
      "metadata": {
        "id": "3UWvhrydJ8hA",
        "colab": {
          "base_uri": "https://localhost:8080/"
        },
        "outputId": "11f6982c-c9cb-4383-be21-045e6b2b5e25"
      },
      "execution_count": 209,
      "outputs": [
        {
          "output_type": "stream",
          "name": "stdout",
          "text": [
            "(4035, 150)\n"
          ]
        }
      ]
    },
    {
      "cell_type": "code",
      "source": [
        "# dftemp2\n",
        "dftemp2.shape\n",
        "# dftemp2=pd.DataFrame(dftemp2)\n",
        "# dftemp2.head()"
      ],
      "metadata": {
        "colab": {
          "base_uri": "https://localhost:8080/"
        },
        "id": "h00YSxPn8rUk",
        "outputId": "a5a932fa-ba99-4bc3-cdea-d37d37a87f3f"
      },
      "execution_count": 210,
      "outputs": [
        {
          "output_type": "execute_result",
          "data": {
            "text/plain": [
              "(4035, 150)"
            ]
          },
          "metadata": {},
          "execution_count": 210
        }
      ]
    },
    {
      "cell_type": "markdown",
      "source": [
        "--> muliply the reward of that instance into the loss of that instance to give weight"
      ],
      "metadata": {
        "id": "pPfqIsthYP2X"
      }
    },
    {
      "cell_type": "code",
      "source": [
        "from sklearn.preprocessing import StandardScaler\n",
        "\n",
        "slr=StandardScaler()\n",
        "slr.fit(dftemp2)\n",
        "dftemp2 = slr.transform(dftemp2)"
      ],
      "metadata": {
        "id": "kWYAqDfnO_1i"
      },
      "execution_count": 211,
      "outputs": []
    },
    {
      "cell_type": "code",
      "source": [
        "# f1-score function\n",
        "def get_f1(y_true, y_pred): #taken from old keras source code\n",
        "    true_positives = K.sum(K.round(K.clip(y_true * y_pred, 0, 1)))\n",
        "    possible_positives = K.sum(K.round(K.clip(y_true, 0, 1)))\n",
        "    predicted_positives = K.sum(K.round(K.clip(y_pred, 0, 1)))\n",
        "    precision = true_positives / (predicted_positives + K.epsilon())\n",
        "    recall = true_positives / (possible_positives + K.epsilon())\n",
        "    f1_val = 2*(precision*recall)/(precision+recall+K.epsilon())\n",
        "    return f1_val\n",
        "    "
      ],
      "metadata": {
        "id": "4i-6LDL58GyW"
      },
      "execution_count": 212,
      "outputs": []
    },
    {
      "cell_type": "code",
      "source": [],
      "metadata": {
        "id": "83zizsyvKHzh"
      },
      "execution_count": 212,
      "outputs": []
    },
    {
      "cell_type": "code",
      "source": [
        "y=np.array(dftemp[:,0])\n",
        "print(y)\n",
        "y_new=y[t:]\n",
        "y_new.shape\n"
      ],
      "metadata": {
        "colab": {
          "base_uri": "https://localhost:8080/"
        },
        "id": "XmXnkjOiKIGQ",
        "outputId": "3f349243-1b25-4f74-9dca-fa065d4f0492"
      },
      "execution_count": 213,
      "outputs": [
        {
          "output_type": "stream",
          "name": "stdout",
          "text": [
            "[2. 0. 0. ... 0. 2. 2.]\n"
          ]
        },
        {
          "output_type": "execute_result",
          "data": {
            "text/plain": [
              "(4025,)"
            ]
          },
          "metadata": {},
          "execution_count": 213
        }
      ]
    },
    {
      "cell_type": "code",
      "source": [
        "x=np.array(dftemp2)\n",
        "# print(x)\n",
        "# print(x.shape)\n",
        "x.shape,y_new.shape"
      ],
      "metadata": {
        "colab": {
          "base_uri": "https://localhost:8080/"
        },
        "id": "3JPzLQQmKhZk",
        "outputId": "552ca611-28ec-49e5-e0b6-acbbd8e6279b"
      },
      "execution_count": 214,
      "outputs": [
        {
          "output_type": "execute_result",
          "data": {
            "text/plain": [
              "((4035, 150), (4025,))"
            ]
          },
          "metadata": {},
          "execution_count": 214
        }
      ]
    },
    {
      "cell_type": "code",
      "source": [
        "x_3d=[]\n",
        "for i in range(4035-t):\n",
        "  tmp=[]\n",
        "  for j in range(t):\n",
        "    tmp.append(x[j+i])\n",
        "  x_3d.append(tmp)\n",
        "x_3d= np.array(x_3d)\n",
        "x_3d.shape"
      ],
      "metadata": {
        "colab": {
          "base_uri": "https://localhost:8080/"
        },
        "id": "hdDY6fhENZ2-",
        "outputId": "880f315e-b4e0-4b3b-d891-3d82708a3f8f"
      },
      "execution_count": 215,
      "outputs": [
        {
          "output_type": "execute_result",
          "data": {
            "text/plain": [
              "(4025, 10, 150)"
            ]
          },
          "metadata": {},
          "execution_count": 215
        }
      ]
    },
    {
      "cell_type": "code",
      "source": [
        "train_test_ratio=0.8\n",
        "print(x_3d.shape[0])\n",
        "x_train=[]\n",
        "y_train=[]\n",
        "x_test=[]\n",
        "y_test=[]\n",
        "for i in range(x_3d.shape[0]):\n",
        "  l=[]\n",
        "  ly=[]\n",
        "  no=np.random.randint(100)\n",
        "  if(no<80):\n",
        "    l=x_3d[i]\n",
        "    ly=y_new[i]\n",
        "    x_train.append(l)\n",
        "    y_train.append(ly)\n",
        "  else:\n",
        "    l=x_3d[i]\n",
        "    ly=y_new[i]\n",
        "    x_test.append(l)\n",
        "    y_test.append(ly)\n",
        "\n",
        "\n",
        "x_train=np.array(x_train)\n",
        "y_train=np.array(y_train)\n",
        "x_test=np.array(x_test)\n",
        "y_test=np.array(y_test)\n",
        "x_train.shape,y_train.shape,x_test.shape,y_test.shape"
      ],
      "metadata": {
        "colab": {
          "base_uri": "https://localhost:8080/"
        },
        "id": "AwnZ3Mh1Khi8",
        "outputId": "250202fe-729b-4618-bb6b-d15523d10058"
      },
      "execution_count": 216,
      "outputs": [
        {
          "output_type": "stream",
          "name": "stdout",
          "text": [
            "4025\n"
          ]
        },
        {
          "output_type": "execute_result",
          "data": {
            "text/plain": [
              "((3210, 10, 150), (3210,), (815, 10, 150), (815,))"
            ]
          },
          "metadata": {},
          "execution_count": 216
        }
      ]
    },
    {
      "cell_type": "code",
      "source": [
        "cnt0=0\n",
        "cnt1=0\n",
        "cnt2=0\n",
        "for i in range(x_train.shape[0]):\n",
        "  if(y_train[i]==0):\n",
        "    cnt0+=1\n",
        "  elif(y_train[i]==1):\n",
        "    cnt1+=1\n",
        "  elif(y_train[i]==2):\n",
        "    cnt2+=1\n",
        "print(cnt0)\n",
        "print(cnt1)\n",
        "print(cnt2)  "
      ],
      "metadata": {
        "colab": {
          "base_uri": "https://localhost:8080/"
        },
        "id": "xlijLVYecmcq",
        "outputId": "f6f5abb0-8c57-407c-d6c5-f3f497e69339"
      },
      "execution_count": 217,
      "outputs": [
        {
          "output_type": "stream",
          "name": "stdout",
          "text": [
            "1464\n",
            "836\n",
            "910\n"
          ]
        }
      ]
    },
    {
      "cell_type": "code",
      "source": [
        "x_train_1=[]\n",
        "y_train_1=[]\n",
        "c1=0\n",
        "c2=0\n",
        "c3=0\n",
        "for i in range(x_train.shape[0]):\n",
        "  if(y_train[i]==0):\n",
        "    x_train_1.append(x_train[i])\n",
        "    y_train_1.append(0)\n",
        "    c1+=1\n",
        "  elif(y_train[i]==1):\n",
        "    x_train_1.append(x_train[i])\n",
        "    y_train_1.append(1)\n",
        "    c2+=1\n",
        "  elif(y_train[i]==2 ):\n",
        "    x_train_1.append(x_train[i])\n",
        "    y_train_1.append(2)\n",
        "    c3=c3+1\n",
        "for i in range(x_train.shape[0]):\n",
        "  if(y_train[i]==1):\n",
        "    no=np.random.randint(100)\n",
        "    if(no>=30):\n",
        "      x_train_1.append(x_train[i])\n",
        "      y_train_1.append(1)\n",
        "      c2+=1\n",
        "  elif(y_train[i]==2 ):\n",
        "    no=np.random.randint(100)\n",
        "    if(no>=27):\n",
        "      x_train_1.append(x_train[i])\n",
        "      y_train_1.append(2)\n",
        "      c3+=1\n",
        "\n",
        "y_train=[]\n",
        "y_train=y_train_1\n",
        "x_train=[]\n",
        "x_train=x_train_1\n",
        "x_train=np.array(x_train)\n",
        "y_train=np.array(y_train)\n",
        "print(c1)\n",
        "print(c2)\n",
        "print(c3)"
      ],
      "metadata": {
        "id": "PqOHcbhQcuo8",
        "colab": {
          "base_uri": "https://localhost:8080/"
        },
        "outputId": "35d8cc67-d58e-4faf-ae6a-856132727cce"
      },
      "execution_count": 218,
      "outputs": [
        {
          "output_type": "stream",
          "name": "stdout",
          "text": [
            "1464\n",
            "1409\n",
            "1550\n"
          ]
        }
      ]
    },
    {
      "cell_type": "code",
      "source": [
        "sklearn_weights=class_weight.compute_class_weight(class_weight='balanced',classes=np.unique(y_train),y=y_train)\n",
        "sklearn_weights=dict(zip(np.unique(y_train),sklearn_weights))\n",
        "sklearn_weights"
      ],
      "metadata": {
        "colab": {
          "base_uri": "https://localhost:8080/"
        },
        "id": "EYzwuCcAbDKT",
        "outputId": "1c191d5e-c853-48c8-df53-2f148bd6e8ef"
      },
      "execution_count": 219,
      "outputs": [
        {
          "output_type": "execute_result",
          "data": {
            "text/plain": [
              "{0: 1.0070582877959928, 1: 1.046368582919328, 2: 0.9511827956989247}"
            ]
          },
          "metadata": {},
          "execution_count": 219
        }
      ]
    },
    {
      "cell_type": "code",
      "source": [
        "\n",
        "# model = Sequential()\n",
        "# model.add(LSTM(200, activation='relu', return_sequences=True, input_shape=( t,150,)))\n",
        "# model.add(LSTM(100, activation='relu', return_sequences=True))\n",
        "# model.add(LSTM(50, activation='relu', return_sequences=True))\n",
        "# model.add(LSTM(25, activation='relu'))\n",
        "# model.add(Dense(20, activation='relu'))\n",
        "# model.add(Dense(10, activation='relu'))\n",
        "# model.add(Dense(3))\n",
        "# model.compile(optimizer='SGD', loss='sparse_categorical_crossentropy',metrics=['accuracy'])\n",
        "# history = model.fit(x_train, y_train, epochs=10, validation_split=0.2, verbose=1)\n",
        "# test_output = model.predict(x_test, verbose=1)\n",
        "# # history = model.fit(X, Y, epochs=1000, validation_split=0.2, verbose=1)\n",
        "# # test_output = model.predict(x=, verbose=0)\n",
        "# # print(test_output)"
      ],
      "metadata": {
        "id": "rhgsSos1KIbA"
      },
      "execution_count": 220,
      "outputs": []
    },
    {
      "cell_type": "code",
      "source": [
        "# sklearn_weights={0:1738,1:2348,2:2362}\n",
        "model = Sequential()\n",
        "model.add(LSTM(200, activation='relu', return_sequences=True, input_shape=( t,150,)))\n",
        "model.add(LSTM(400, activation='relu', return_sequences=True))\n",
        "model.add(LSTM(800, activation='relu', return_sequences=True))\n",
        "model.add(LSTM(150, activation='relu'))\n",
        "model.add(Dense(100, activation='relu'))\n",
        "model.add(Dense(64, activation='relu'))\n",
        "model.add(Dense(10, activation='relu'))\n",
        "model.add(Dense(3,activation='sigmoid'))\n",
        "optimi=keras.optimizers.Adam()\n",
        "model.compile(optimizer=optimi, loss='sparse_categorical_crossentropy',metrics=['accuracy',get_f1])\n",
        "\n",
        "# history = model.fit(x_train, y_train, epochs=30, validation_split=0.2, verbose=1)\n",
        "history = model.fit(x_train, y_train, epochs=25, validation_split=0.2, verbose=1,class_weight=sklearn_weights)\n",
        "test_output = model.predict(x_test, verbose=1)\n"
      ],
      "metadata": {
        "colab": {
          "base_uri": "https://localhost:8080/"
        },
        "id": "lwHPGS2iXMXc",
        "outputId": "32db4b0e-c2a6-473e-9c81-f8724b2f9148"
      },
      "execution_count": 221,
      "outputs": [
        {
          "output_type": "stream",
          "name": "stderr",
          "text": [
            "WARNING:tensorflow:Layer lstm_32 will not use cuDNN kernels since it doesn't meet the criteria. It will use a generic GPU kernel as fallback when running on GPU.\n",
            "WARNING:tensorflow:Layer lstm_33 will not use cuDNN kernels since it doesn't meet the criteria. It will use a generic GPU kernel as fallback when running on GPU.\n",
            "WARNING:tensorflow:Layer lstm_34 will not use cuDNN kernels since it doesn't meet the criteria. It will use a generic GPU kernel as fallback when running on GPU.\n",
            "WARNING:tensorflow:Layer lstm_35 will not use cuDNN kernels since it doesn't meet the criteria. It will use a generic GPU kernel as fallback when running on GPU.\n"
          ]
        },
        {
          "output_type": "stream",
          "name": "stdout",
          "text": [
            "Epoch 1/25\n",
            "111/111 [==============================] - 15s 101ms/step - loss: 1.0897 - accuracy: 0.4093 - get_f1: 1.2325 - val_loss: 1.1269 - val_accuracy: 0.0825 - val_get_f1: 2.0257\n",
            "Epoch 2/25\n",
            "111/111 [==============================] - 10s 94ms/step - loss: 0.9230 - accuracy: 0.5155 - get_f1: 1.0568 - val_loss: 0.9991 - val_accuracy: 0.4147 - val_get_f1: 1.6244\n",
            "Epoch 3/25\n",
            "111/111 [==============================] - 12s 106ms/step - loss: 0.6234 - accuracy: 0.7275 - get_f1: 1.0305 - val_loss: 0.4139 - val_accuracy: 0.8249 - val_get_f1: 1.4805\n",
            "Epoch 4/25\n",
            "111/111 [==============================] - 11s 94ms/step - loss: 0.4488 - accuracy: 0.8033 - get_f1: 1.0571 - val_loss: 0.3343 - val_accuracy: 0.8814 - val_get_f1: 1.4674\n",
            "Epoch 5/25\n",
            "111/111 [==============================] - 10s 91ms/step - loss: 0.3383 - accuracy: 0.8109 - get_f1: 1.0778 - val_loss: 0.2685 - val_accuracy: 0.8554 - val_get_f1: 1.4765\n",
            "Epoch 6/25\n",
            "111/111 [==============================] - 10s 94ms/step - loss: 0.2891 - accuracy: 0.7993 - get_f1: 1.0884 - val_loss: 0.2682 - val_accuracy: 0.7299 - val_get_f1: 1.4492\n",
            "Epoch 7/25\n",
            "111/111 [==============================] - 12s 107ms/step - loss: 0.2094 - accuracy: 0.7843 - get_f1: 1.1021 - val_loss: 0.1355 - val_accuracy: 0.9311 - val_get_f1: 1.4462\n",
            "Epoch 8/25\n",
            "111/111 [==============================] - 10s 92ms/step - loss: 0.1763 - accuracy: 0.8437 - get_f1: 1.1088 - val_loss: 0.1550 - val_accuracy: 0.6994 - val_get_f1: 1.4459\n",
            "Epoch 9/25\n",
            "111/111 [==============================] - 12s 107ms/step - loss: 0.1271 - accuracy: 0.8493 - get_f1: 1.1333 - val_loss: 0.0476 - val_accuracy: 0.7299 - val_get_f1: 1.4438\n",
            "Epoch 10/25\n",
            "111/111 [==============================] - 10s 88ms/step - loss: 0.1017 - accuracy: 0.8556 - get_f1: 1.1286 - val_loss: 0.1154 - val_accuracy: 0.8463 - val_get_f1: 1.4435\n",
            "Epoch 11/25\n",
            "111/111 [==============================] - 10s 87ms/step - loss: 0.0977 - accuracy: 0.8720 - get_f1: 1.1421 - val_loss: 0.0389 - val_accuracy: 0.8192 - val_get_f1: 1.4390\n",
            "Epoch 12/25\n",
            "111/111 [==============================] - 10s 88ms/step - loss: 0.0652 - accuracy: 0.7962 - get_f1: 1.1528 - val_loss: 0.0182 - val_accuracy: 0.6588 - val_get_f1: 1.4380\n",
            "Epoch 13/25\n",
            "111/111 [==============================] - 10s 87ms/step - loss: 0.0629 - accuracy: 0.8502 - get_f1: 1.1574 - val_loss: 0.0876 - val_accuracy: 0.9435 - val_get_f1: 1.4374\n",
            "Epoch 14/25\n",
            "111/111 [==============================] - 10s 91ms/step - loss: 0.0715 - accuracy: 0.8225 - get_f1: 1.1505 - val_loss: 0.0249 - val_accuracy: 0.8068 - val_get_f1: 1.4376\n",
            "Epoch 15/25\n",
            "111/111 [==============================] - 11s 102ms/step - loss: 0.0512 - accuracy: 0.9180 - get_f1: 1.1501 - val_loss: 0.4522 - val_accuracy: 0.4475 - val_get_f1: 1.4380\n",
            "Epoch 16/25\n",
            "111/111 [==============================] - 10s 87ms/step - loss: 0.0692 - accuracy: 0.8392 - get_f1: 1.1459 - val_loss: 0.0765 - val_accuracy: 0.7864 - val_get_f1: 1.3555\n",
            "Epoch 17/25\n",
            "111/111 [==============================] - 10s 87ms/step - loss: 0.0953 - accuracy: 0.9539 - get_f1: 1.0646 - val_loss: 0.0693 - val_accuracy: 0.9842 - val_get_f1: 1.3628\n",
            "Epoch 18/25\n",
            "111/111 [==============================] - 10s 88ms/step - loss: 0.2345 - accuracy: 0.9324 - get_f1: 1.0632 - val_loss: 0.0377 - val_accuracy: 0.9096 - val_get_f1: 1.4389\n",
            "Epoch 19/25\n",
            "111/111 [==============================] - 10s 87ms/step - loss: 0.1527 - accuracy: 0.9587 - get_f1: 1.1468 - val_loss: 0.0935 - val_accuracy: 0.9684 - val_get_f1: 1.4385\n",
            "Epoch 20/25\n",
            "111/111 [==============================] - 10s 89ms/step - loss: 0.1725 - accuracy: 0.8409 - get_f1: 1.1412 - val_loss: 0.0642 - val_accuracy: 0.5638 - val_get_f1: 1.4399\n",
            "Epoch 21/25\n",
            "111/111 [==============================] - 12s 106ms/step - loss: 0.1039 - accuracy: 0.7761 - get_f1: 1.1564 - val_loss: 0.1012 - val_accuracy: 0.4836 - val_get_f1: 1.4374\n",
            "Epoch 22/25\n",
            "111/111 [==============================] - 10s 88ms/step - loss: 0.0668 - accuracy: 0.7191 - get_f1: 1.1579 - val_loss: 0.0912 - val_accuracy: 0.4384 - val_get_f1: 1.4371\n",
            "Epoch 23/25\n",
            "111/111 [==============================] - 10s 91ms/step - loss: 0.0697 - accuracy: 0.7462 - get_f1: 1.1727 - val_loss: 0.0476 - val_accuracy: 0.5164 - val_get_f1: 1.4363\n",
            "Epoch 24/25\n",
            "111/111 [==============================] - 10s 93ms/step - loss: 0.0232 - accuracy: 0.7227 - get_f1: 1.1798 - val_loss: 0.0037 - val_accuracy: 0.4429 - val_get_f1: 1.4384\n",
            "Epoch 25/25\n",
            "111/111 [==============================] - 10s 91ms/step - loss: 0.0302 - accuracy: 0.7256 - get_f1: 1.1763 - val_loss: 0.0065 - val_accuracy: 0.5130 - val_get_f1: 1.4374\n",
            "26/26 [==============================] - 1s 9ms/step\n"
          ]
        }
      ]
    },
    {
      "cell_type": "code",
      "source": [
        "test_output_1=np.array([np.argmax(i)  for i in test_output])\n",
        "from sklearn.metrics import confusion_matrix,accuracy_score\n",
        "print(confusion_matrix(y_test,test_output_1))\n",
        "test_output=pd.DataFrame(test_output)\n",
        "print(accuracy_score(y_test,test_output_1))\n"
      ],
      "metadata": {
        "id": "Q_hmR6MK_Bq5",
        "colab": {
          "base_uri": "https://localhost:8080/"
        },
        "outputId": "642d8e1f-51e2-4fcd-ed41-9d54a171f3db"
      },
      "execution_count": 222,
      "outputs": [
        {
          "output_type": "stream",
          "name": "stdout",
          "text": [
            "[[278  44  37]\n",
            " [ 70 148   1]\n",
            " [180   7  50]]\n",
            "0.5840490797546012\n"
          ]
        }
      ]
    },
    {
      "cell_type": "code",
      "source": [
        "print(get_f1(y_test.astype('float32'), test_output_1.astype('float32')))"
      ],
      "metadata": {
        "colab": {
          "base_uri": "https://localhost:8080/"
        },
        "id": "ZsHojwC3G8gQ",
        "outputId": "9a50bff7-74c5-4d92-fdd0-27d51c839c71"
      },
      "execution_count": 223,
      "outputs": [
        {
          "output_type": "stream",
          "name": "stdout",
          "text": [
            "tf.Tensor(0.5545087, shape=(), dtype=float32)\n"
          ]
        }
      ]
    },
    {
      "cell_type": "code",
      "source": [
        "x_train_reshaped = x_train.reshape(x_train.shape[0], -1)\n",
        "x_test_reshaped = x_test.reshape(x_test.shape[0], -1)\n",
        "savetxt('arrxtrain.csv', x_train_reshaped, delimiter=',')\n",
        "savetxt('arrytrain.csv', y_train, delimiter=',')\n",
        "savetxt('arrxtest.csv', x_test_reshaped, delimiter=',')\n",
        "savetxt('arrytest.csv', y_test, delimiter=',')"
      ],
      "metadata": {
        "id": "oxhtZHtkBWOe"
      },
      "execution_count": 224,
      "outputs": []
    }
  ]
}