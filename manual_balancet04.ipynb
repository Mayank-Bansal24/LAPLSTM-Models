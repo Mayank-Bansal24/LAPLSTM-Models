{
  "nbformat": 4,
  "nbformat_minor": 0,
  "metadata": {
    "colab": {
      "provenance": [],
      "include_colab_link": true
    },
    "kernelspec": {
      "name": "python3",
      "display_name": "Python 3"
    },
    "language_info": {
      "name": "python"
    },
    "accelerator": "GPU",
    "gpuClass": "standard"
  },
  "cells": [
    {
      "cell_type": "markdown",
      "metadata": {
        "id": "view-in-github",
        "colab_type": "text"
      },
      "source": [
        "<a href=\"https://colab.research.google.com/github/Mayank-Bansal24/LAPLSTM-Models/blob/main/manual_balancet04.ipynb\" target=\"_parent\"><img src=\"https://colab.research.google.com/assets/colab-badge.svg\" alt=\"Open In Colab\"/></a>"
      ]
    },
    {
      "cell_type": "code",
      "source": [
        "import numpy as np\n",
        "import tensorflow as tf\n",
        "from tensorflow.keras import losses as lo_ss\n",
        "from tensorflow.keras.models import Sequential\n",
        "from tensorflow.keras.layers import LSTM\n",
        "from tensorflow.keras.layers import Dense, Dropout\n",
        "import string\n",
        "import pandas as pd\n",
        "from matplotlib import pyplot as plt\n",
        "from sklearn.preprocessing import StandardScaler\n",
        "import seaborn as sns\n",
        "from sklearn import model_selection\n",
        "from sklearn.datasets import make_classification\n",
        "from sklearn.utils import class_weight\n",
        "from sklearn.metrics import classification_report , roc_auc_score\n",
        "import keras \n",
        "import keras.backend as K\n",
        "from google.colab import drive\n",
        "from numpy import savetxt\n",
        "import os"
      ],
      "metadata": {
        "id": "V1kLUX7gJ3N_"
      },
      "execution_count": 114,
      "outputs": []
    },
    {
      "cell_type": "code",
      "source": [
        "drive.mount('/content/gdrive')\n"
      ],
      "metadata": {
        "colab": {
          "base_uri": "https://localhost:8080/"
        },
        "id": "HXmXAIAJArT2",
        "outputId": "d2450529-6b6c-4fd9-f39f-17584ca93d5b"
      },
      "execution_count": 115,
      "outputs": [
        {
          "output_type": "stream",
          "name": "stdout",
          "text": [
            "Drive already mounted at /content/gdrive; to attempt to forcibly remount, call drive.mount(\"/content/gdrive\", force_remount=True).\n"
          ]
        }
      ]
    },
    {
      "cell_type": "code",
      "source": [
        "t=4"
      ],
      "metadata": {
        "id": "uLTug-YJDW8D"
      },
      "execution_count": 116,
      "outputs": []
    },
    {
      "cell_type": "code",
      "source": [
        "os.chdir('/content/gdrive/MyDrive/laplstm/manual_balance/t'+str(t))"
      ],
      "metadata": {
        "id": "ubPkwGQnA8Wx"
      },
      "execution_count": 117,
      "outputs": []
    },
    {
      "cell_type": "code",
      "source": [
        "import os\n",
        "github_raw_link=\"https://raw.githubusercontent.com/Aryansh085/LAP/main/858417d1-7d54-4115-a01b-fdda5e03ada3_testing_combined_rows4035_disc_1_0p9_MULTIPLY_preproces_155cols.csv\"\n",
        "df1=pd.read_csv((github_raw_link),header = None)\n",
        "dftemp=np.array(df1)\n",
        "dftemp.shape\n",
        "dftemp2=dftemp[:,5:]\n",
        "dftemp2=np.array(dftemp2)\n",
        "print(dftemp2.shape)"
      ],
      "metadata": {
        "id": "3UWvhrydJ8hA",
        "colab": {
          "base_uri": "https://localhost:8080/"
        },
        "outputId": "35f2310e-041a-4724-dae0-805fa6e64bfe"
      },
      "execution_count": 118,
      "outputs": [
        {
          "output_type": "stream",
          "name": "stdout",
          "text": [
            "(4035, 150)\n"
          ]
        }
      ]
    },
    {
      "cell_type": "code",
      "source": [
        "# dftemp2\n",
        "dftemp2.shape\n",
        "# dftemp2=pd.DataFrame(dftemp2)\n",
        "# dftemp2.head()"
      ],
      "metadata": {
        "colab": {
          "base_uri": "https://localhost:8080/"
        },
        "id": "h00YSxPn8rUk",
        "outputId": "3136b665-3443-431e-f0e6-24276e2ef56e"
      },
      "execution_count": 119,
      "outputs": [
        {
          "output_type": "execute_result",
          "data": {
            "text/plain": [
              "(4035, 150)"
            ]
          },
          "metadata": {},
          "execution_count": 119
        }
      ]
    },
    {
      "cell_type": "markdown",
      "source": [
        "--> muliply the reward of that instance into the loss of that instance to give weight"
      ],
      "metadata": {
        "id": "pPfqIsthYP2X"
      }
    },
    {
      "cell_type": "code",
      "source": [
        "from sklearn.preprocessing import StandardScaler\n",
        "\n",
        "slr=StandardScaler()\n",
        "slr.fit(dftemp2)\n",
        "dftemp2 = slr.transform(dftemp2)"
      ],
      "metadata": {
        "id": "kWYAqDfnO_1i"
      },
      "execution_count": 120,
      "outputs": []
    },
    {
      "cell_type": "code",
      "source": [
        "# f1-score function\n",
        "def get_f1(y_true, y_pred): #taken from old keras source code\n",
        "    true_positives = K.sum(K.round(K.clip(y_true * y_pred, 0, 1)))\n",
        "    possible_positives = K.sum(K.round(K.clip(y_true, 0, 1)))\n",
        "    predicted_positives = K.sum(K.round(K.clip(y_pred, 0, 1)))\n",
        "    precision = true_positives / (predicted_positives + K.epsilon())\n",
        "    recall = true_positives / (possible_positives + K.epsilon())\n",
        "    f1_val = 2*(precision*recall)/(precision+recall+K.epsilon())\n",
        "    return f1_val\n",
        "    "
      ],
      "metadata": {
        "id": "4i-6LDL58GyW"
      },
      "execution_count": 121,
      "outputs": []
    },
    {
      "cell_type": "code",
      "source": [],
      "metadata": {
        "id": "83zizsyvKHzh"
      },
      "execution_count": 121,
      "outputs": []
    },
    {
      "cell_type": "code",
      "source": [
        "y=np.array(dftemp[:,0])\n",
        "print(y)\n",
        "y_new=y[t:]\n",
        "y_new.shape\n"
      ],
      "metadata": {
        "colab": {
          "base_uri": "https://localhost:8080/"
        },
        "id": "XmXnkjOiKIGQ",
        "outputId": "5f6ccaa4-9bda-466d-a566-aa1fa0711100"
      },
      "execution_count": 122,
      "outputs": [
        {
          "output_type": "stream",
          "name": "stdout",
          "text": [
            "[2. 0. 0. ... 0. 2. 2.]\n"
          ]
        },
        {
          "output_type": "execute_result",
          "data": {
            "text/plain": [
              "(4031,)"
            ]
          },
          "metadata": {},
          "execution_count": 122
        }
      ]
    },
    {
      "cell_type": "code",
      "source": [
        "x=np.array(dftemp2)\n",
        "# print(x)\n",
        "# print(x.shape)\n",
        "x.shape,y_new.shape"
      ],
      "metadata": {
        "colab": {
          "base_uri": "https://localhost:8080/"
        },
        "id": "3JPzLQQmKhZk",
        "outputId": "fd85d7ae-298d-43d8-8f87-c444a33761cc"
      },
      "execution_count": 123,
      "outputs": [
        {
          "output_type": "execute_result",
          "data": {
            "text/plain": [
              "((4035, 150), (4031,))"
            ]
          },
          "metadata": {},
          "execution_count": 123
        }
      ]
    },
    {
      "cell_type": "code",
      "source": [
        "x_3d=[]\n",
        "for i in range(4035-t):\n",
        "  tmp=[]\n",
        "  for j in range(t):\n",
        "    tmp.append(x[j+i])\n",
        "  x_3d.append(tmp)\n",
        "x_3d= np.array(x_3d)\n",
        "x_3d.shape"
      ],
      "metadata": {
        "colab": {
          "base_uri": "https://localhost:8080/"
        },
        "id": "hdDY6fhENZ2-",
        "outputId": "111e8c41-d644-49ef-a53e-4cc651d03ede"
      },
      "execution_count": 124,
      "outputs": [
        {
          "output_type": "execute_result",
          "data": {
            "text/plain": [
              "(4031, 4, 150)"
            ]
          },
          "metadata": {},
          "execution_count": 124
        }
      ]
    },
    {
      "cell_type": "code",
      "source": [
        "train_test_ratio=0.8\n",
        "print(x_3d.shape[0])\n",
        "x_train=[]\n",
        "y_train=[]\n",
        "x_test=[]\n",
        "y_test=[]\n",
        "for i in range(x_3d.shape[0]):\n",
        "  l=[]\n",
        "  ly=[]\n",
        "  no=np.random.randint(100)\n",
        "  if(no<80):\n",
        "    l=x_3d[i]\n",
        "    ly=y_new[i]\n",
        "    x_train.append(l)\n",
        "    y_train.append(ly)\n",
        "  else:\n",
        "    l=x_3d[i]\n",
        "    ly=y_new[i]\n",
        "    x_test.append(l)\n",
        "    y_test.append(ly)\n",
        "\n",
        "\n",
        "x_train=np.array(x_train)\n",
        "y_train=np.array(y_train)\n",
        "x_test=np.array(x_test)\n",
        "y_test=np.array(y_test)\n",
        "x_train.shape,y_train.shape,x_test.shape,y_test.shape"
      ],
      "metadata": {
        "colab": {
          "base_uri": "https://localhost:8080/"
        },
        "id": "AwnZ3Mh1Khi8",
        "outputId": "18391fdf-55d8-42b2-dfec-408326265b01"
      },
      "execution_count": 125,
      "outputs": [
        {
          "output_type": "stream",
          "name": "stdout",
          "text": [
            "4031\n"
          ]
        },
        {
          "output_type": "execute_result",
          "data": {
            "text/plain": [
              "((3198, 4, 150), (3198,), (833, 4, 150), (833,))"
            ]
          },
          "metadata": {},
          "execution_count": 125
        }
      ]
    },
    {
      "cell_type": "code",
      "source": [
        "cnt0=0\n",
        "cnt1=0\n",
        "cnt2=0\n",
        "for i in range(x_train.shape[0]):\n",
        "  if(y_train[i]==0):\n",
        "    cnt0+=1\n",
        "  elif(y_train[i]==1):\n",
        "    cnt1+=1\n",
        "  elif(y_train[i]==2):\n",
        "    cnt2+=1\n",
        "print(cnt0)\n",
        "print(cnt1)\n",
        "print(cnt2)  "
      ],
      "metadata": {
        "colab": {
          "base_uri": "https://localhost:8080/"
        },
        "id": "xlijLVYecmcq",
        "outputId": "839b2868-570a-41eb-a6b6-2d23a42449e9"
      },
      "execution_count": 126,
      "outputs": [
        {
          "output_type": "stream",
          "name": "stdout",
          "text": [
            "1460\n",
            "832\n",
            "906\n"
          ]
        }
      ]
    },
    {
      "cell_type": "code",
      "source": [
        "x_train_1=[]\n",
        "y_train_1=[]\n",
        "c1=0\n",
        "c2=0\n",
        "c3=0\n",
        "for i in range(x_train.shape[0]):\n",
        "  if(y_train[i]==0):\n",
        "    x_train_1.append(x_train[i])\n",
        "    y_train_1.append(0)\n",
        "    c1+=1\n",
        "  elif(y_train[i]==1):\n",
        "    x_train_1.append(x_train[i])\n",
        "    y_train_1.append(1)\n",
        "    c2+=1\n",
        "  elif(y_train[i]==2 ):\n",
        "    x_train_1.append(x_train[i])\n",
        "    y_train_1.append(2)\n",
        "    c3=c3+1\n",
        "for i in range(x_train.shape[0]):\n",
        "  if(y_train[i]==1):\n",
        "    no=np.random.randint(100)\n",
        "    if(no>=30):\n",
        "      x_train_1.append(x_train[i])\n",
        "      y_train_1.append(1)\n",
        "      c2+=1\n",
        "  elif(y_train[i]==2 ):\n",
        "    no=np.random.randint(100)\n",
        "    if(no>=27):\n",
        "      x_train_1.append(x_train[i])\n",
        "      y_train_1.append(2)\n",
        "      c3+=1\n",
        "\n",
        "y_train=[]\n",
        "y_train=y_train_1\n",
        "x_train=[]\n",
        "x_train=x_train_1\n",
        "x_train=np.array(x_train)\n",
        "y_train=np.array(y_train)\n",
        "print(c1)\n",
        "print(c2)\n",
        "print(c3)"
      ],
      "metadata": {
        "id": "PqOHcbhQcuo8",
        "colab": {
          "base_uri": "https://localhost:8080/"
        },
        "outputId": "83e241b8-ef60-4743-e1de-bdaaa0bc0a31"
      },
      "execution_count": 127,
      "outputs": [
        {
          "output_type": "stream",
          "name": "stdout",
          "text": [
            "1460\n",
            "1407\n",
            "1557\n"
          ]
        }
      ]
    },
    {
      "cell_type": "code",
      "source": [
        "\n",
        "# model = Sequential()\n",
        "# model.add(LSTM(200, activation='relu', return_sequences=True, input_shape=( t,150,)))\n",
        "# model.add(LSTM(100, activation='relu', return_sequences=True))\n",
        "# model.add(LSTM(50, activation='relu', return_sequences=True))\n",
        "# model.add(LSTM(25, activation='relu'))\n",
        "# model.add(Dense(20, activation='relu'))\n",
        "# model.add(Dense(10, activation='relu'))\n",
        "# model.add(Dense(3))\n",
        "# model.compile(optimizer='SGD', loss='sparse_categorical_crossentropy',metrics=['accuracy'])\n",
        "# history = model.fit(x_train, y_train, epochs=10, validation_split=0.2, verbose=1)\n",
        "# test_output = model.predict(x_test, verbose=1)\n",
        "# # history = model.fit(X, Y, epochs=1000, validation_split=0.2, verbose=1)\n",
        "# # test_output = model.predict(x=, verbose=0)\n",
        "# # print(test_output)"
      ],
      "metadata": {
        "id": "rhgsSos1KIbA"
      },
      "execution_count": 128,
      "outputs": []
    },
    {
      "cell_type": "code",
      "source": [
        "# sklearn_weights={0:1738,1:2348,2:2362}\n",
        "model = Sequential()\n",
        "model.add(LSTM(200, activation='relu', return_sequences=True, input_shape=( t,150,)))\n",
        "model.add(LSTM(400, activation='relu', return_sequences=True))\n",
        "model.add(LSTM(800, activation='relu', return_sequences=True))\n",
        "model.add(LSTM(150, activation='relu'))\n",
        "model.add(Dense(100, activation='relu'))\n",
        "model.add(Dense(64, activation='relu'))\n",
        "model.add(Dense(10, activation='relu'))\n",
        "model.add(Dense(3,activation='sigmoid'))\n",
        "optimi=keras.optimizers.Adam()\n",
        "model.compile(optimizer=optimi, loss='sparse_categorical_crossentropy',metrics=['accuracy',get_f1])\n",
        "\n",
        "history = model.fit(x_train, y_train, epochs=25, validation_split=0.2, verbose=1)\n",
        "# history = model.fit(x_train, y_train, epochs=25, validation_split=0.2, verbose=1,class_weight=sklearn_weights)\n",
        "test_output = model.predict(x_test, verbose=1)\n"
      ],
      "metadata": {
        "colab": {
          "base_uri": "https://localhost:8080/"
        },
        "id": "lwHPGS2iXMXc",
        "outputId": "6f1118f7-a6ae-4827-86a9-468f59cda963"
      },
      "execution_count": 129,
      "outputs": [
        {
          "output_type": "stream",
          "name": "stderr",
          "text": [
            "WARNING:tensorflow:Layer lstm_20 will not use cuDNN kernels since it doesn't meet the criteria. It will use a generic GPU kernel as fallback when running on GPU.\n",
            "WARNING:tensorflow:Layer lstm_21 will not use cuDNN kernels since it doesn't meet the criteria. It will use a generic GPU kernel as fallback when running on GPU.\n",
            "WARNING:tensorflow:Layer lstm_22 will not use cuDNN kernels since it doesn't meet the criteria. It will use a generic GPU kernel as fallback when running on GPU.\n",
            "WARNING:tensorflow:Layer lstm_23 will not use cuDNN kernels since it doesn't meet the criteria. It will use a generic GPU kernel as fallback when running on GPU.\n"
          ]
        },
        {
          "output_type": "stream",
          "name": "stdout",
          "text": [
            "Epoch 1/25\n",
            "111/111 [==============================] - 9s 47ms/step - loss: 1.0848 - accuracy: 0.4097 - get_f1: 1.0096 - val_loss: 1.1481 - val_accuracy: 0.0000e+00 - val_get_f1: 1.6148\n",
            "Epoch 2/25\n",
            "111/111 [==============================] - 4s 40ms/step - loss: 0.9857 - accuracy: 0.4894 - get_f1: 0.9986 - val_loss: 1.1504 - val_accuracy: 0.3390 - val_get_f1: 1.5891\n",
            "Epoch 3/25\n",
            "111/111 [==============================] - 4s 40ms/step - loss: 0.7758 - accuracy: 0.6146 - get_f1: 0.9921 - val_loss: 0.8205 - val_accuracy: 0.5977 - val_get_f1: 1.6494\n",
            "Epoch 4/25\n",
            "111/111 [==============================] - 5s 41ms/step - loss: 0.6105 - accuracy: 0.7129 - get_f1: 0.9913 - val_loss: 0.6680 - val_accuracy: 0.6949 - val_get_f1: 1.5481\n",
            "Epoch 5/25\n",
            "111/111 [==============================] - 6s 56ms/step - loss: 0.4775 - accuracy: 0.7923 - get_f1: 0.9063 - val_loss: 0.6098 - val_accuracy: 0.7480 - val_get_f1: 1.4544\n",
            "Epoch 6/25\n",
            "111/111 [==============================] - 4s 40ms/step - loss: 0.3864 - accuracy: 0.8562 - get_f1: 0.8414 - val_loss: 0.4624 - val_accuracy: 0.8249 - val_get_f1: 1.3777\n",
            "Epoch 7/25\n",
            "111/111 [==============================] - 4s 39ms/step - loss: 0.2867 - accuracy: 0.9042 - get_f1: 0.7839 - val_loss: 0.3431 - val_accuracy: 0.8847 - val_get_f1: 1.3663\n",
            "Epoch 8/25\n",
            "111/111 [==============================] - 4s 40ms/step - loss: 0.1920 - accuracy: 0.9384 - get_f1: 0.7652 - val_loss: 0.2748 - val_accuracy: 0.9164 - val_get_f1: 1.2925\n",
            "Epoch 9/25\n",
            "111/111 [==============================] - 5s 42ms/step - loss: 0.1738 - accuracy: 0.9480 - get_f1: 0.7340 - val_loss: 0.1916 - val_accuracy: 0.9322 - val_get_f1: 1.2794\n",
            "Epoch 10/25\n",
            "111/111 [==============================] - 5s 42ms/step - loss: 0.1178 - accuracy: 0.9607 - get_f1: 0.7606 - val_loss: 0.1453 - val_accuracy: 0.9503 - val_get_f1: 1.3365\n",
            "Epoch 11/25\n",
            "111/111 [==============================] - 4s 40ms/step - loss: 0.0851 - accuracy: 0.9737 - get_f1: 0.8201 - val_loss: 0.0855 - val_accuracy: 0.9706 - val_get_f1: 1.3239\n",
            "Epoch 12/25\n",
            "111/111 [==============================] - 4s 40ms/step - loss: 0.0451 - accuracy: 0.9856 - get_f1: 0.7627 - val_loss: 0.0883 - val_accuracy: 0.9785 - val_get_f1: 1.3310\n",
            "Epoch 13/25\n",
            "111/111 [==============================] - 4s 40ms/step - loss: 0.0793 - accuracy: 0.9808 - get_f1: 0.8573 - val_loss: 0.0512 - val_accuracy: 0.9887 - val_get_f1: 1.5751\n",
            "Epoch 14/25\n",
            "111/111 [==============================] - 4s 39ms/step - loss: 0.1111 - accuracy: 0.9667 - get_f1: 0.7596 - val_loss: 0.1405 - val_accuracy: 0.9593 - val_get_f1: 1.5226\n",
            "Epoch 15/25\n",
            "111/111 [==============================] - 4s 40ms/step - loss: 0.0585 - accuracy: 0.9839 - get_f1: 0.6288 - val_loss: 0.0590 - val_accuracy: 0.9831 - val_get_f1: 1.4165\n",
            "Epoch 16/25\n",
            "111/111 [==============================] - 4s 40ms/step - loss: 0.0415 - accuracy: 0.9924 - get_f1: 0.5725 - val_loss: 0.0312 - val_accuracy: 0.9932 - val_get_f1: 1.1710\n",
            "Epoch 17/25\n",
            "111/111 [==============================] - 6s 53ms/step - loss: 0.0491 - accuracy: 0.9876 - get_f1: 0.5709 - val_loss: 0.0212 - val_accuracy: 0.9932 - val_get_f1: 1.0513\n",
            "Epoch 18/25\n",
            "111/111 [==============================] - 5s 42ms/step - loss: 0.0705 - accuracy: 0.9845 - get_f1: 0.6417 - val_loss: 0.1767 - val_accuracy: 0.9819 - val_get_f1: 1.0666\n",
            "Epoch 19/25\n",
            "111/111 [==============================] - 4s 40ms/step - loss: 0.0700 - accuracy: 0.9859 - get_f1: 0.6756 - val_loss: 0.1190 - val_accuracy: 0.9808 - val_get_f1: 1.2333\n",
            "Epoch 20/25\n",
            "111/111 [==============================] - 4s 39ms/step - loss: 0.0390 - accuracy: 0.9904 - get_f1: 0.5912 - val_loss: 0.0118 - val_accuracy: 0.9977 - val_get_f1: 1.1218\n",
            "Epoch 21/25\n",
            "111/111 [==============================] - 4s 40ms/step - loss: 0.0379 - accuracy: 0.9927 - get_f1: 0.6124 - val_loss: 0.0650 - val_accuracy: 0.9797 - val_get_f1: 1.1823\n",
            "Epoch 22/25\n",
            "111/111 [==============================] - 4s 39ms/step - loss: 0.1218 - accuracy: 0.9709 - get_f1: 0.6723 - val_loss: 0.0506 - val_accuracy: 0.9831 - val_get_f1: 1.2290\n",
            "Epoch 23/25\n",
            "111/111 [==============================] - 5s 41ms/step - loss: 0.0861 - accuracy: 0.9884 - get_f1: 0.6711 - val_loss: 0.0123 - val_accuracy: 0.9898 - val_get_f1: 1.1873\n",
            "Epoch 24/25\n",
            "111/111 [==============================] - 4s 40ms/step - loss: 0.0098 - accuracy: 0.9839 - get_f1: 0.6538 - val_loss: 0.1091 - val_accuracy: 0.9695 - val_get_f1: 1.1788\n",
            "Epoch 25/25\n",
            "111/111 [==============================] - 5s 41ms/step - loss: 0.0434 - accuracy: 0.9895 - get_f1: 0.6986 - val_loss: 0.0066 - val_accuracy: 0.9989 - val_get_f1: 1.2587\n",
            "27/27 [==============================] - 1s 5ms/step\n"
          ]
        }
      ]
    },
    {
      "cell_type": "code",
      "source": [
        "test_output_1=np.array([np.argmax(i)  for i in test_output])\n",
        "from sklearn.metrics import confusion_matrix,accuracy_score\n",
        "print(confusion_matrix(y_test,test_output_1))\n",
        "test_output=pd.DataFrame(test_output)\n",
        "print(accuracy_score(y_test,test_output_1))\n"
      ],
      "metadata": {
        "id": "Q_hmR6MK_Bq5",
        "colab": {
          "base_uri": "https://localhost:8080/"
        },
        "outputId": "54c5f296-17e3-44f1-8e32-77d02df90365"
      },
      "execution_count": 130,
      "outputs": [
        {
          "output_type": "stream",
          "name": "stdout",
          "text": [
            "[[219  63  82]\n",
            " [ 43 141  39]\n",
            " [ 78  15 153]]\n",
            "0.6158463385354142\n"
          ]
        }
      ]
    },
    {
      "cell_type": "code",
      "source": [
        "print(get_f1(y_test.astype('float32'), test_output_1.astype('float32')))"
      ],
      "metadata": {
        "colab": {
          "base_uri": "https://localhost:8080/"
        },
        "id": "ZsHojwC3G8gQ",
        "outputId": "685f32ab-2141-4531-f89a-973e1f19eb7a"
      },
      "execution_count": 131,
      "outputs": [
        {
          "output_type": "stream",
          "name": "stdout",
          "text": [
            "tf.Tensor(0.7234926, shape=(), dtype=float32)\n"
          ]
        }
      ]
    },
    {
      "cell_type": "code",
      "source": [
        "x_train_reshaped = x_train.reshape(x_train.shape[0], -1)\n",
        "x_test_reshaped = x_test.reshape(x_test.shape[0], -1)\n",
        "savetxt('arrxtrain.csv', x_train_reshaped, delimiter=',')\n",
        "savetxt('arrytrain.csv', y_train, delimiter=',')\n",
        "savetxt('arrxtest.csv', x_test_reshaped, delimiter=',')\n",
        "savetxt('arrytest.csv', y_test, delimiter=',')"
      ],
      "metadata": {
        "id": "oxhtZHtkBWOe"
      },
      "execution_count": 132,
      "outputs": []
    },
    {
      "cell_type": "code",
      "source": [
        "t"
      ],
      "metadata": {
        "colab": {
          "base_uri": "https://localhost:8080/"
        },
        "id": "xWbsHW9BQp4w",
        "outputId": "6fcdb933-22f1-4327-8b82-e5d72f93e982"
      },
      "execution_count": 133,
      "outputs": [
        {
          "output_type": "execute_result",
          "data": {
            "text/plain": [
              "4"
            ]
          },
          "metadata": {},
          "execution_count": 133
        }
      ]
    }
  ]
}